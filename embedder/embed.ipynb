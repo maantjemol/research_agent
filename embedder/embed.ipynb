{
 "cells": [
  {
   "cell_type": "code",
   "execution_count": null,
   "id": "96b777d4",
   "metadata": {},
   "outputs": [],
   "source": [
    "import chromadb\n",
    "import chromadb.utils.embedding_functions as embedding_functions\n",
    "import pandas as pd\n",
    "from google import genai\n",
    "from google.genai import types\n",
    "\n",
    "# import\n",
    "model = \"gemini-2.5-flash-lite-preview-06-17\"\n",
    "api_key = \"your_api_key_here\"\n",
    "\n",
    "# use directly\n",
    "google_ef  = embedding_functions.GoogleGenerativeAiEmbeddingFunction(api_key=api_key, task_type=\"RETRIEVAL_QUERY\", model_name=\"models/text-embedding-004\")\n",
    "client_db = chromadb.HttpClient(host='localhost', port=8000)\n",
    "client_ai = genai.Client(api_key=api_key)\n"
   ]
  },
  {
   "cell_type": "code",
   "execution_count": null,
   "id": "18e28d92",
   "metadata": {},
   "outputs": [],
   "source": [
    "result = client_ai.models.embed_content(\n",
    "        model=\"models/text-embedding-004\",\n",
    "        contents=\"What is the meaning of life?\",\n",
    "        config=types.EmbedContentConfig(task_type=\"RETRIEVAL_DOCUMENT\")\n",
    ")"
   ]
  },
  {
   "cell_type": "code",
   "execution_count": 19,
   "id": "d3fc9ccb",
   "metadata": {},
   "outputs": [],
   "source": [
    "bible_df = pd.read_csv('data/t_web.csv')\n",
    "bible_keys = pd.read_csv('data/key_english.csv')\n",
    "bible_df = pd.merge(bible_df, bible_keys[['b','n']], on='b')\n",
    "book_group = pd.pivot_table(bible_df, index=['n','c'], values='t', \n",
    "                            aggfunc=lambda x: ' '.join(x)).reset_index()"
   ]
  },
  {
   "cell_type": "code",
   "execution_count": 20,
   "id": "28e52e21",
   "metadata": {},
   "outputs": [
    {
     "data": {
      "text/plain": [
       "\"Adam, Seth, Enosh, Kenan, Mahalalel, Jared, Enoch, Methuselah, Lamech, Noah, Shem, Ham, and Japheth. The sons of Japheth: Gomer, and Magog, and Madai, and Javan, and Tubal, and Meshech, and Tiras. The sons of Gomer: Ashkenaz, and Diphath, and Togarmah. The sons of Javan: Elishah, and Tarshish, Kittim, and Rodanim. The sons of Ham: Cush, and Mizraim, Put, and Canaan. The sons of Cush: Seba, and Havilah, and Sabta, and Raama, and Sabteca. The sons of Raamah: Sheba, and Dedan. Cush became the father of Nimrod; he began to be a mighty one in the earth. Mizraim became the father of Ludim, and Anamim, and Lehabim, and Naphtuhim, and Pathrusim, and Casluhim (from whence came the Philistines), and Caphtorim. Canaan became the father of Sidon his firstborn, and Heth, and the Jebusite, and the Amorite, and the Girgashite, and the Hivite, and the Arkite, and the Sinite, and the Arvadite, and the Zemarite, and the Hamathite. The sons of Shem: Elam, and Asshur, and Arpachshad, and Lud, and Aram, and Uz, and Hul, and Gether, and Meshech. Arpachshad became the father of Shelah, and Shelah became the father of Eber. To Eber were born two sons: the name of the one was Peleg; for in his days the earth was divided; and his brother's name was Joktan. Joktan became the father of Almodad, and Sheleph, and Hazarmaveth, and Jerah, and Hadoram, and Uzal, and Diklah, and Ebal, and Abimael, and Sheba, and Ophir, and Havilah, and Jobab. All these were the sons of Joktan. Shem, Arpachshad, Shelah, Eber, Peleg, Reu, Serug, Nahor, Terah, Abram (the same is Abraham). The sons of Abraham: Isaac, and Ishmael. These are their generations: the firstborn of Ishmael, Nebaioth; then Kedar, and Adbeel, and Mibsam, Mishma, and Dumah, Massa, Hadad, and Tema, Jetur, Naphish, and Kedemah. These are the sons of Ishmael. The sons of Keturah, Abraham's concubine: she bore Zimran, and Jokshan, and Medan, and Midian, and Ishbak, and Shuah. The sons of Jokshan: Sheba, and Dedan. The sons of Midian: Ephah, and Epher, and Hanoch, and Abida, and Eldaah. All these were the sons of Keturah. Abraham became the father of Isaac. The sons of Isaac: Esau, and Israel. The sons of Esau: Eliphaz, Reuel, and Jeush, and Jalam, and Korah. The sons of Eliphaz: Teman, and Omar, Zephi, and Gatam, Kenaz, and Timna, and Amalek. The sons of Reuel: Nahath, Zerah, Shammah, and Mizzah. The sons of Seir: Lotan, and Shobal, and Zibeon, and Anah, and Dishon, and Ezer, and Dishan. The sons of Lotan: Hori, and Homam; and Timna was Lotan's sister. The sons of Shobal: Alian, and Manahath, and Ebal, Shephi, and Onam. The sons of Zibeon: Aiah, and Anah. The sons of Anah: Dishon. The sons of Dishon: Hamran, and Eshban, and Ithran, and Cheran. The sons of Ezer: Bilhan, and Zaavan, Jaakan. The sons of Dishan: Uz, and Aran. Now these are the kings who reigned in the land of Edom, before there resigned any king over the children of Israel: Bela the son of Beor; and the name of his city was Dinhabah. Bela died, and Jobab the son of Zerah of Bozrah reigned in his place. Jobab died, and Husham of the land of the Temanites reigned in his place. Husham died, and Hadad the son of Bedad, who struck Midian in the field of Moab, reigned in his place; and the name of his city was Avith. Hadad died, and Samlah of Masrekah reigned in his place. Samlah died, and Shaul of Rehoboth by the River reigned in his place. Shaul died, and Baal Hanan the son of Achbor reigned in his place. Baal Hanan died, and Hadad reigned in his place; and the name of his city was Pai: and his wife's name was Mehetabel, the daughter of Matred, the daughter of Me-zahab. Hadad died. The chiefs of Edom were: chief Timna, chief Aliah, chief Jetheth, chief Oholibamah, chief Elah, chief Pinon, chief Kenaz, chief Teman, chief Mibzar, chief Magdiel, chief Iram. These are the chiefs of Edom.\""
      ]
     },
     "execution_count": 20,
     "metadata": {},
     "output_type": "execute_result"
    }
   ],
   "source": [
    "book_group[\"t\"][0]"
   ]
  },
  {
   "cell_type": "code",
   "execution_count": 13,
   "id": "33dbe6b4",
   "metadata": {},
   "outputs": [
    {
     "name": "stderr",
     "output_type": "stream",
     "text": [
      " 39%|███▉      | 465/1189 [17:01<20:48,  1.72s/it] "
     ]
    },
    {
     "name": "stdout",
     "output_type": "stream",
     "text": [
      "No content or parts found for: Genesis 17\n"
     ]
    },
    {
     "name": "stderr",
     "output_type": "stream",
     "text": [
      "100%|██████████| 1189/1189 [40:54<00:00,  2.06s/it]\n"
     ]
    }
   ],
   "source": [
    "from tqdm import tqdm\n",
    "import time\n",
    "\n",
    "book_group_summary = []\n",
    "\n",
    "for v in tqdm(book_group.to_numpy()):\n",
    "    response = client_ai.models.generate_content(\n",
    "    model=model,\n",
    "    contents=f\"\"\"Summarize below bible chapter. \n",
    "    Detailed information like numbers, names must be accurately preserved.\n",
    "    <CHAPTER>\n",
    "    {v[2]}\n",
    "    </CHAPTER>\n",
    "    \"\"\")\n",
    "    \n",
    "    if not response.candidates:\n",
    "        print(\"No candidates found for:\", v[0], v[1])\n",
    "        continue\n",
    "\n",
    "    rc = response.candidates[0]\n",
    "    \n",
    "    if not rc.content or not rc.content.parts:\n",
    "        print(\"No content or parts found for:\", v[0], v[1])\n",
    "        continue\n",
    "\n",
    "    try:\n",
    "        summary = rc.content.parts[0].text\n",
    "    except:\n",
    "        summary = \"error\"\n",
    "        \n",
    "    book_group_summary.append((v[0], v[1], v[2], summary))\n",
    "    \n",
    "    # there is limit for gemini-2.0-flash\n",
    "    # 15 requests per minute\n",
    "    # 1500 requests per day\n",
    "    time.sleep(0.5) \n",
    "\n"
   ]
  },
  {
   "cell_type": "code",
   "execution_count": 49,
   "id": "0c0676a5",
   "metadata": {},
   "outputs": [
    {
     "data": {
      "application/vnd.microsoft.datawrangler.viewer.v0+json": {
       "columns": [
        {
         "name": "index",
         "rawType": "int64",
         "type": "integer"
        },
        {
         "name": "book",
         "rawType": "object",
         "type": "string"
        },
        {
         "name": "chapter",
         "rawType": "int64",
         "type": "integer"
        },
        {
         "name": "text",
         "rawType": "object",
         "type": "string"
        },
        {
         "name": "summary",
         "rawType": "object",
         "type": "string"
        }
       ],
       "ref": "6ba3aa3b-18d7-45d5-a785-389c673a7056",
       "rows": [
        [
         "0",
         "1 Chronicles",
         "1",
         "Adam, Sheth, Enosh, Kenan, Mahalaleel, Jered, Henoch, Methuselah, Lamech, Noah, Shem, Ham, and Japheth. The sons of Japheth; Gomer, and Magog, and Madai, and Javan, and Tubal, and Meshech, and Tiras. And the sons of Gomer; Ashchenaz, and Riphath, and Togarmah. And the sons of Javan; Elisha, and Tarshish, Kittim, and Dodanim. The sons of Ham; Cush, and Mizraim, Put, and Canaan. And the sons of Cush; Seba, and Havilah, and Sabta, and Raamah, and Sabtecha. And the sons of Raamah; Sheba, and Dedan. And Cush begat Nimrod. He began to be mighty upon the earth. And Mizraim begat Ludim, and Anamim, and Lehabim, and Naphtuhim, And Pathrusim, and Casluhim, (of whom came the Philistines,) and Caphthorim. And Canaan begat Zidon his first-born, and Heth, The Jebusite also, and the Amorite, and the Girgashite, And the Hivite, and the Archite, and the Sinite, And the Arvadite, and the Zemarite, and the Hamathite. The sons of Shem; Elam, and Asshur, and Arphaxad, and Lud, and Aram, and Uz, and Hul, and Gether, and Meshech. And Arphaxad begat Shelah, and Shelah begat Eber. And to Eber were born two sons: the name of the one was Peleg; because in his days the earth was divided: and his brother's name was Joktan. And Joktan begat Almodad, and Sheleph, and Hazarmaveth, and Jerah, Hadoram also, and Uzal, and Diklah, And Ebal, and Abimael, and Sheba, And Ophir, and Havilah, and Jobab. All these were the sons of Joktan. Shem, Arphaxad, Shelah, Eber, Peleg, Reu, Serug, Nahor, Terah, Abram; the same is Abraham. The sons of Abraham; Isaac, and Ishmael. These are their generations. The first-born of Ishmael, Nebaioth; then Kedar, and Adbeel, and Mibsam, Mishma, and Dumah, Massa, Hadad, and Tema, Jetur, Naphish, and Kedemah. These are the sons of Ishmael. Now the sons of Keturah, Abraham's concubine: she bore Zimran, and Jokshan, and Medan, and Midian, and Ishbak, and Shuah. And the sons of Jokshan; Sheba, and Dedan. And the sons of Midian; Ephah, and Epher, and Henoch, and Abida, and Eldaah. All these are the sons of Keturah, And Abraham begat Isaac. The sons of Isaac; Esau and Israel. The sons of Esau; Eliphaz, Reuel, and Jeush, and Jaalam, and Korah. The sons of Eliphaz; Teman, and Omar, Zephi, and Gatam, Kenaz, and Timna, and Amalek. The sons of Reuel; Nahath, Zerah, Shammah, and Mizzah. And the sons of Seir; Lotan, and Shobal, and Zibeon, and Anah, and Dishon, and Ezar, and Dishan. And the sons of Lotan; Hori, and Homam: and Timna was Lotan's sister. The sons of Shobal; Alian, and Manahath, and Ebal, Shephi, and Onam. And the sons of Zibeon; Aiah, and Anah. The sons of Anah; Dishon. And the sons of Dishon; Amram, and Eshban, and Ithran, and Cheran. The sons of Ezer; Bilhan, and Zavan, and Jakan. The sons of Dishan; Uz, and Aran. Now these are the kings that reigned in the land of Edom before any king reigned over the children of Israel; Bela the son of Beor: and the name of his city was Dinhabah. And when Bela was dead Jobab the son of Zera of Bozrah reigned in his stead. And when Jobab was dead, Husham of the land of the Temanites reigned in his stead. And when Husham was dead, Hadad the son of Bedad, who smote Midian in the field of Moab, reigned in his stead: and the name of his city was Avith. And when Hadad was dead, Samlah of Masrekah reigned in his stead. And when Samlah was dead, Shaul of Rehoboth by the river reigned in his stead. And when Shaul was dead, Baal-hanan the son of Achbor reigned in his stead. And when Baal-hanan was dead, Hadad reigned in his stead: and the name of his city was Pai; and his wife's name was Mehetabel, the daughter of Matred, the daughter of Mezahab. Hadad died also. And the dukes of Edom were; duke Timna, duke Aliah, duke Jetheth, Duke Aholibamah, duke Elah, duke Pinon, Duke Kenaz, duke Teman, duke Mibzar, Duke Magdiel, duke Iram. These are the dukes of Edom.",
         "This chapter provides a detailed genealogy, beginning with Adam and continuing through Noah and his sons Shem, Ham, and Japheth.\n\n**The sons of Japheth** are listed as Gomer, Magog, Madai, Javan, Tubal, Meshech, and Tiras. Specific descendants are then named:\n*   **Gomer:** Ashchenaz, Riphath, and Togarmah.\n*   **Javan:** Elisha, Tarshish, Kittim, and Dodanim.\n\n**The sons of Ham** are Cush, Mizraim, Put, and Canaan. Their descendants are:\n*   **Cush:** Seba, Havilah, Sabta, Raamah, and Sabtecha. Raamah's sons were Sheba and Dedan. Cush also begat Nimrod, who became mighty on earth.\n*   **Mizraim:** Ludim, Anamim, Lehabim, Naphtuhim, Pathrusim, Casluhim (from whom came the Philistines), and Caphthorim.\n*   **Canaan:** His firstborn Zidon, Heth, the Jebusite, the Amorite, the Girgashite, the Hivite, the Archite, the Sinite, the Arvadite, the Zemarite, and the Hamathite.\n\n**The sons of Shem** are Elam, Asshur, Arphaxad, Lud, Aram, Uz, Hul, Gether, and Meshech. Arphaxad begat Shelah, and Shelah begat Eber. Eber had two sons: Peleg (in whose days the earth was divided) and Joktan.\n*   **Joktan's** sons are Almodad, Sheleph, Hazarmaveth, Jerah, Hadoram, Uzal, Diklah, Ebal, Abimael, Sheba, Ophir, Havilah, and Jobab.\n\nThe lineage continues through Shem, Arphaxad, Shelah, Eber, Peleg, Reu, Serug, Nahor, Terah, to Abram (also called Abraham).\n\n**The sons of Abraham** are Isaac and Ishmael.\n*   **Ishmael's** sons are Nebaioth (his firstborn), Kedar, Adbeel, Mibsam, Mishma, Dumah, Massa, Hadad, Tema, Jetur, Naphish, and Kedemah.\n*   **Keturah**, Abraham's concubine, bore Zimran, Jokshan, Medan, Midian, Ishbak, and Shuah. Jokshan's sons were Sheba and Dedan. Midian's sons were Ephah, Epher, Henoch, Abida, and Eldaah.\n*   **Isaac** had sons Esau and Israel (Jacob).\n\n**The sons of Esau** are Eliphaz, Reuel, Jeush, Jaalam, and Korah.\n*   **Eliphaz's** sons are Teman, Omar, Zephi, Gatam, Kenaz, Timna, and Amalek.\n*   **Reuel's** sons are Nahath, Zerah, Shammah, and Mizzah.\n*   **Seir's** sons are Lotan, Shobal, Zibeon, Anah, Dishon, Ezer, and Dishan. Lotan's sons were Hori and Homam, and Timna was Lotan's sister. Shobal's sons were Alian, Manahath, Ebal, Shephi, and Onam. Zibeon's sons were Aiah and Anah. Anah's son was Dishon. Dishon's sons were Amram, Eshban, Ithran, and Cheran. Ezer's sons were Bilhan, Zavan, and Jakan. Dishan's sons were Uz and Aran.\n\nThe chapter concludes by listing the **kings who reigned in the land of Edom before any king reigned over the children of Israel**:\n1.  Bela son of Beor (city Dinhabah).\n2.  Jobab son of Zera of Bozrah.\n3.  Husham of the land of the Temanites.\n4.  Hadad son of Bedad (who smote Midian in the field of Moab; city Avith).\n5.  Samlah of Masrekah.\n6.  Shaul of Rehoboth by the river.\n7.  Baal-hanan son of Achbor.\n8.  Hadad (city Pai; wife Mehetabel daughter of Matred, daughter of Mezahab).\n\nFinally, the **dukes of Edom** are listed: duke Timna, duke Aliah, duke Jetheth, duke Aholibamah, duke Elah, duke Pinon, duke Kenaz, duke Teman, duke Mibzar, duke Magdiel, and duke Iram."
        ],
        [
         "1",
         "1 Chronicles",
         "2",
         "These are the sons of Israel; Reuben, Simeon, Levi, and Judah, Issachar, and Zebulun, Dan, Joseph, and Benjamin, Naphtali, Gad, and Asher. The sons of Judah; Er, and Onan, and Shelah: which three were born to him of the daughter of Shua the Canaanitess. And Er, the first-born of Judah, was evil in the sight of the LORD; and he slew him. And Tamar his daughter-in-law bore him Pharez and Zerah. All the sons of Judah were five. The sons of Pharez; Hezron, and Hamul. And the sons of Zerah; Zimri, and Ethan, and Heman, and Calcol, and Dara: five of them in all. And the sons of Carmi; Achar, the troubler of Israel, who transgressed in the thing accursed. And the sons of Ethan; Azariah. The sons also of Hezron, that were born to him; Jerahmeel, and Ram, and Chelubai. And Ram begat Amminadab; and Amminadab begat Nahshon, prince of the children of Judah; And Nahshon begat Salma, and Salma begat Boaz, And Boaz begat Obed, and Obed begat Jesse, And Jesse begat his first-born Eliab, and Abinadab the second, and Shimma the third, Nethaneel the fourth, Raddai the fifth, Ozem the sixth, David the seventh: Whose sisters were Zeruiah, and Abigail. And the sons of Zeruiah; Abishai, and Joab, and Asahel, three. And Abigail bore Amasa: and the father of Amasa was Jether the Ishmaelite. And Caleb the son of Hezron begat children of Azubah his wife, and of Jerioth: her sons are these; Jesher, and Shobab, and Ardon. And when Azubah was dead, Caleb took to him Ephrath, who bore to him Hur, And Hur begat Uri, and Uri begat Bezaleel. And afterward Hezron went in to the daughter of Machir the father of Gilead, whom he married when he was sixty years old; and she bore him Segub. And Segub begat Jair, who had three and twenty cities in the land of Gilead. And he took Geshur, and Aram, with the towns of Jair, from them, with Kenath and its towns, even sixty cities. All these belonged to the sons of Machir, the father of Gilead. And after that Hezron was dead in Caleb-ephratah, then Abiah Hezron's wife bore him Ashur the father of Tekoa. And the sons of Jerahmeel the first-born of Hezron were, Ram the first-born, and Bunah, and Oren, and Ozem, and Ahijah. Jerahmeel had also another wife, whose name was Atarah; she was the mother of Onam. And the sons of Ram the first-born of Jerahmeel were, Maaz, and Jamin, and Eker. And the sons of Onam were, Shammai, and Jada. And the sons of Shammai; Nadab, and Abishur. And the name of the wife of Abishur was Abihail; and she bore him Ahban, and Molid. And the sons of Nadab; Seled, and Appaim: but Seled died without children. And the sons of Appaim; Ishi. And the sons of Ishi; Sheshan. And the children of Sheshan; Ahlai. And the sons of Jada the brother of Shammai; Jether, and Jonathan: and Jether died without children. And the sons of Jonathan; Peleth, and Zaza. These were the sons of Jerahmeel. Now Sheshan had no sons, but daughters. And Sheshan had a servant, an Egyptian, whose name was Jarha. And Sheshan gave his daughter to Jarha his servant for a wife; and she bore him Attai. And Attai begat Nathan, and Nathan begat Zabad, And Zabad begat Ephlal, and Ephlal begat Obed, And Obed begat Jehu, and Jehu begat Azariah, And Azariah begat Helez, and Helez begat Eleasah, And Eleasah begat Sisamai, and Sisamai begat Shallum, And Shallum begat Jekamiah, and Jekamiah begat Elishama. Now the sons of Caleb the brother of Jerahmeel were, Mesha his first-born, who was the father of Ziph; and the sons of Mareshah the father of Hebron. And the sons of Hebron; Korah, and Tappuah, and Rekem, and Shema. And Shema begat Raham, the father of Jorkoam: and Rekem begat Shammai. And the son of Shammai was Maon: and Maon was the father of Beth-zur. And Ephah, Caleb's concubine, bore Haran, and Moza, and Gazez: and Haran begat Gazez. And the sons of Jahdai; Regem, and Jotham, and Geshan, and Pelet, and Ephah, and Shaaph. Maachah, Caleb's concubine, bore Sheber, and Tirhanah. She bore also Shaaph the father of Madmannah, Sheva the father of Machbenah, and the father of Gibea: and the daughter of Caleb was Achsah. These were the sons of Caleb the son of Hur, the first-born of Ephratah; Shobal the father of Kirjath-jearim, Salma the father of Beth-lehem, Hareph the father of Beth-gader. And Shobal the father of Kirjath-jearim had sons; Haroeh, and half of the Manahethites. And the families of Kirjath-jearim; the Ithrites, and the Puhites, and the Shumathites, and the Mishraites; of them came the Zereathites, and the Eshtaulites. The sons of Salma; Beth-lehem, and the Netophathites, Ataroth, the house of Joab, and half of the Menahethites, the Zorites. And the families of the scribes who dwelt at Jabez; the Tirathites, the Shimeathites, and Suchathites. These are the Kenites that came of Hemath, the father of the house of Rechab.",
         "This chapter provides a detailed genealogy of the tribes of Israel, focusing primarily on the tribe of Judah.\n\nIt begins by listing the twelve sons of Israel: Reuben, Simeon, Levi, Judah, Issachar, Zebulun, Dan, Joseph, Benjamin, Naphtali, Gad, and Asher.\n\nThe chapter then delves into the lineage of Judah, listing his sons: Er, Onan, and Shelah, born to the Canaanitess daughter of Shua. It notes that Er, Judah's firstborn, was slain by the LORD. Judah's daughter-in-law, Tamar, bore him Pharez and Zerah.\n\nThe descendants of Judah are then traced:\n*   **Pharez** had sons Hezron and Hamul.\n*   **Zerah** had sons Zimri, Ethan, Heman, Calcol, and Dara.\n*   **Carmi** had a son Achar, who transgressed with the accursed things.\n*   **Ethan** had a son Azariah.\n\nThe lineage of **Hezron** is further detailed:\n*   His sons were Jerahmeel, Ram, and Chelubai.\n*   Ram begat Amminadab, who begat Nahshon, the prince of the children of Judah.\n*   Nahshon begat Salma, who begat Boaz.\n*   Boaz begat Obed, who begat Jesse.\n*   Jesse had seven sons: Eliab (firstborn), Abinadab, Shimma, Nethaneel, Raddai, Ozem, and David (seventh).\n*   Jesse's daughters were Zeruiah and Abigail.\n*   The sons of Zeruiah were Abishai, Joab, and Asahel.\n*   Abigail bore Amasa, whose father was Jether the Ishmaelite.\n\nThe chapter also covers the descendants of **Caleb**, the son of Hezron:\n*   Caleb had children with his wife Azubah, and with Jerioth, whose sons were Jesher, Shobab, and Ardon.\n*   After Azubah's death, Caleb married Ephrath, who bore him Hur.\n*   Hur begat Uri, and Uri begat Bezaleel.\n\nThe narrative returns to **Hezron**, noting that at sixty years old, he married the daughter of Machir the father of Gilead. She bore him Segub, who begat Jair. Jair had twenty-three cities in Gilead and took Geshur, Aram, and Kenath (sixty cities in total) from them. These cities belonged to the sons of Machir. After Hezron's death in Caleb-ephratah, his wife Abiah bore him Ashur, the father of Tekoa.\n\nThe descendants of **Jerahmeel**, Hezron's firstborn, are then listed:\n*   His sons were Ram (firstborn), Bunah, Oren, Ozem, and Ahijah.\n*   His wife Atarah was the mother of Onam.\n*   Ram's sons were Maaz, Jamin, and Eker.\n*   Onam's sons were Shammai and Jada.\n*   Shammai's sons were Nadab and Abishur. Abishur's wife Abihail bore him Ahban and Molid.\n*   Nadab's sons were Seled (who died childless) and Appaim. Appaim's son was Ishi, whose son was Sheshan. Sheshan's child was Ahlai.\n*   Jada, Shammai's brother, had sons Jether (who died childless) and Jonathan. Jonathan's sons were Peleth and Zaza.\n\nThe chapter highlights that Sheshan had no sons but daughters. He gave his daughter to his Egyptian servant, Jarha, for a wife. Jarha's descendants are traced: Attai, Nathan, Zabad, Ephlal, Obed, Jehu, Azariah, Helez, Eleasah, Sisamai, Shallum, Jekamiah, and Elishama.\n\nThe sons of **Caleb**, the brother of Jerahmeel, are also detailed:\n*   Mesha (firstborn) was the father of Ziph.\n*   The sons of Mareshah were the father of Hebron.\n*   Hebron's sons were Korah, Tappuah, Rekem, and Shema.\n*   Shema begat Raham, the father of Jorkoam. Rekem begat Shammai.\n*   Shammai's son was Maon, the father of Beth-zur.\n*   Caleb's concubine Ephah bore Haran, Moza, and Gazez. Haran begat Gazez.\n*   The sons of Jahdai were Regem, Jotham, Geshan, Pelet, Ephah, and Shaaph.\n*   Caleb's concubine Maachah bore Sheber and Tirhanah. She also bore Shaaph (father of Madmannah) and Sheva (father of Machbenah and Gibea). Caleb's daughter was Achsah.\n\nFinally, the descendants of **Caleb son of Hur**, the firstborn of Ephratah, are listed:\n*   Shobal was the father of Kirjath-jearim.\n*   Salma was the father of Beth-lehem.\n*   Hareph was the father of Beth-gader.\n\nThe families of Kirjath-jearim included the Ithrites, Puhites, Shumathites, and Mishraites, from whom came the Zereathites and Eshtaulites.\nThe sons of Salma were Beth-lehem, the Netophathites, Ataroth (the house of Joab), half of the Menahethites, and the Zorites.\nThe families of scribes who dwelt at Jabez were the Tirathites, Shimeathites, and Suchathites.\nThe chapter concludes by identifying the Kenites who came from Hemath, the father of the house of Rechab."
        ],
        [
         "2",
         "1 Chronicles",
         "3",
         "Now these were the sons of David, who were born to him in Hebron; the first-born Amnon, of Ahinoam the Jezreelitess; the second Daniel, of Abigail the Carmelitess: The third, Absalom the son of Maachah the daughter of Talmai king of Geshur: the fourth, Adonijah the son of Haggith: The fifth, Shephatiah of Abital: the sixth, Ithream by Eglah his wife. These six were born to him in Hebron; and there he reigned seven years and six months: and in Jerusalem he reigned thirty and three years. And these were born to him in Jerusalem; Shimea, and Shobab, and Nathan, and Solomon, four, of Bath-shua the daughter of Ammiel: Ibhar also, and Elishama, and Eliphelet, And Nogah, and Nepheg, and Japhia, And Elishama, and Eliada, and Eliphelet, nine. These were all the sons of David, besides the sons of the concubines, and Tamar their sister. And Solomon's son was Rehoboam, Abia his son, Asa his son, Jehoshaphat his son, Joram his son, Ahaziah his son, Joash his son, Amaziah his son, Azariah his son, Jotham his son, Ahaz his son, Hezekiah his son, Manasseh his son, Amon his son, Josiah his son. And the sons of Josiah were, the first-born Johanan, the second Jehoiakim, the third Zedekiah, the fourth Shallum. And the sons of Jehoiakim; Jeconiah his son, Zedekiah his son. And the sons of Jeconiah; Assir, Salathiel his son. Malchiram also, and Pedaiah, and Shenazar, Jecamiah, Hoshama, and Nedabiah. And the sons of Pedaiah were, Zerubbabel, and Shimei: and the sons of Zerubbabel; Meshullam, and Hananiah, and Shelomith their sister: And Hashubah, and Ohel, and Berechiah, and Hasadiah, and Jushab-hesed, five. And the sons of Hananiah; Pelatiah, and Jesaiah: the sons of Rephaiah, the sons of Arnan, the sons of Obadiah, the sons of Shechaniah. And the sons of Shechaniah; Shemaiah; and the sons of Shemaiah; Hattush, and Igeal, and Bariah, and Neariah, and Shaphat, six. And the sons of Neariah; Elioenai, and Hezekiah, and Azrikam, three. And the sons of Elioenai were, Hodaiah, and Eliashib, and Pelaiah, and Akkub, and Johanan, and Delaiah, and Anani, seven.",
         "This chapter lists the sons of King David and provides a genealogy tracing the line of kings from Solomon down to Josiah and his descendants.\n\n**Sons Born in Hebron:**\n*   **Amnon:** First-born, son of Ahinoam the Jezreelitess.\n*   **Daniel:** Second, son of Abigail the Carmelitess.\n*   **Absalom:** Third, son of Maachah, daughter of Talmai king of Geshur.\n*   **Adonijah:** Fourth, son of Haggith.\n*   **Shephatiah:** Fifth, son of Abital.\n*   **Ithream:** Sixth, son of Eglah his wife.\n\nDavid reigned for seven years and six months in Hebron and thirty-three years in Jerusalem.\n\n**Sons Born in Jerusalem:**\n*   Shimea\n*   Shobab\n*   Nathan\n*   Solomon\n    *   These four were born to David by Bath-shua, daughter of Ammiel.\n*   Ibhar\n*   Elishama\n*   Eliphelet\n*   Nogah\n*   Nepheg\n*   Japhia\n*   Elishama (listed again)\n*   Eliada\n*   Eliphelet (listed again)\n    *   These nine were also sons of David.\n\nIn total, David had sixteen sons mentioned by name, plus sons of concubines and his daughter Tamar.\n\n**David's Royal Lineage (Solomon onward):**\n*   Solomon's son: Rehoboam\n*   Abia\n*   Asa\n*   Jehoshaphat\n*   Joram\n*   Ahaziah\n*   Joash\n*   Amaziah\n*   Azariah\n*   Jotham\n*   Ahaz\n*   Hezekiah\n*   Manasseh\n*   Amon\n*   Josiah\n\n**Sons of Josiah:**\n*   Johanan (first-born)\n*   Jehoiakim (second)\n*   Zedekiah (third)\n*   Shallum (fourth)\n\n**Sons of Jehoiakim:**\n*   Jeconiah\n*   Zedekiah\n\n**Sons of Jeconiah:**\n*   Assir\n*   Salathiel\n*   Malchiram\n*   Pedaiah\n*   Shenazar\n*   Jecamiah\n*   Hoshama\n*   Nedabiah\n\n**Sons of Pedaiah:**\n*   Zerubbabel\n*   Shimei\n\n**Sons of Zerubbabel:**\n*   Meshullam\n*   Hananiah\n*   Shelomith (sister)\n*   Hashubah\n*   Ohel\n*   Berechiah\n*   Hasadiah\n*   Jushab-hesed (five sons mentioned collectively with the previous names)\n\n**Sons of Hananiah:**\n*   Pelatiah\n*   Jesaiah\n\nThe chapter then lists further descendants through Rephaiah, Arnan, Obadiah, and Shechaniah.\n\n**Sons of Shechaniah:**\n*   Shemaiah\n\n**Sons of Shemaiah:**\n*   Hattush\n*   Igeal\n*   Bariah\n*   Neariah\n*   Shaphat (six sons mentioned collectively with Shemaiah)\n\n**Sons of Neariah:**\n*   Elioenai\n*   Hezekiah\n*   Azrikam (three sons)\n\n**Sons of Elioenai:**\n*   Hodaiah\n*   Eliashib\n*   Pelaiah\n*   Akkub\n*   Johanan\n*   Delaiah\n*   Anani (seven sons)"
        ],
        [
         "3",
         "1 Chronicles",
         "4",
         "The sons of Judah; Pharez, Hezron, and Carmi, and Hur, and Shobal. And Reaiah the son of Shobal begat Jahath; and Jahath begat Ahumai, and Lahad. These are the families of the Zorathites. And these were of the father of Etam; Jezreel, and Ishma, and Idbash: and the name of their sister was Hazelelponi: And Penuel the father of Gedor, and Ezer the father of Hushah. These are the sons of Hur, the first-born of Ephratah, the father of Beth-lehem. And Ashur the father of Tekoa had two wives, Helah and Naarah. And Naarah bore him Ahuzam, and Hepher, and Temeni, and Haahashtari. These were the sons of Naarah. And the sons of Helah were, Zereth, and Jezoar, and Ethnan. And Coz begat Anub, and Zobebah, and the families of Aharhel the son of Harum. And Jabez was more honorable than his brethren: and his mother called his name Jabez, saying, Because I bore him with sorrow. And Jabez called on the God of Israel, saying, Oh that thou wouldst bless me indeed, and enlarge my border, and that thy hand might be with me, and that thou wouldst keep me from evil, that it may not grieve me! And God granted him that which he requested. And Chelub the brother of Shuah begat Mehir, who was the father of Eshton. And Eshton begat Beth-rapha, and Paseah, and Tehinnah the father of Ir-nahash. These are the men of Rechah. And the sons of Kenaz; Othniel, and Seraiah: and the sons of Othniel; Hathath. And Meonothai begat Ophrah: and Seraiah begat Joab, the father of the valley of Charashim; for they were artificers. And the sons of Caleb the son of Jephunneh; Iru, Elah, and Naam: and the sons of Elah, even Kenaz. And the sons of Jehaleleel; Ziph, and Ziphah, Tiria, and Asareel. And the sons of Ezra were, Jethur, and Mered, and Epher, and Jalon: and she bore Miriam, and Shammai, and Ishbah the father of Eshtemoa. And his wife Jehudijah bore Jered the father of Gedor, and Heber the father of Socho, and Jekuthiel the father of Zanoah. And these are the sons of Bithiah the daughter of Pharaoh whom Mered took. And the sons of his wife Hodiah the sister of Naham, the father of Keilah the Garmite, and Eshtemoa the Maachathite. And the sons of Shimon were, Amnon, and Rinnah, Ben-hanan, and Tilon. And the sons of Ishi were, Zoheth, and Benzoheth. The sons of Shelah the son of Judah were, Er the father of Lecah, and Laadah the father of Mareshah, and the families of the house of them that wrought fine linen, of the house of Ashbea, And Jokim, and the men of Chozeba, and Joash, and Saraph, who had the dominion in Moab, and Jashubi-lehem. And these are ancient things. These were the potters, and those that dwelt among plants and hedges: there they dwelt with the king for his work. The sons of Simeon were Nemuel, and Jamin, Jarib, Zerah, and Shaul: Shallum his son, Mibsam his son, Mishma his son. And the sons of Mishma; Hamuel his son, Zacchur his son, Shimei his son. And Shimei had sixteen sons and six daughters; but his brethren had not many children, neither did all their family multiply, like the children of Judah. And they dwelt at Beer-sheba, and Moladah, and Hazar-shual, And at Bilhah, and at Ezem, and at Tolad, And at Bethuel, and at Hormah, and at Ziklag, And at Beth-marcaboth, and Hazar-susim, and at Beth-birei, and at Shaaraim. These were their cities to the reign of David. And their villages were, Etam, and Ain, Rimmon, and Tochen, and Ashan, five cities: And all their villages that were around the same cities to Baal. These were their habitations, and their genealogy. And Meshobab, and Jamlech, and Joshah the son of Amaziah, And Joel, and Jehu the son of Josibiah, the son of Seraiah, the son of Asiel, And Elioenai, and Jaakobah, and Jeshohaiah, and Asaiah, and Adiel, and Jesimiel, and Benaiah, And Ziza the son of Shiphi, the son of Allon, the son of Jedaiah, the son of Shimri, the son of Shemaiah; These mentioned by their names were princes in their families: and the house of their fathers increased greatly. And they went to the entrance of Gedor, even to the east side of the valley, to seek pasture for their flocks. And they found rich pasture and good, and the land was wide, and quiet, and peaceable; for they of Ham had dwelt there of old. And these written by name came in the days of Hezekiah king of Judah, and smote their tents, and the habitations that were found there, and destroyed them utterly to this day, and dwelt in their room: because there was pasture there for their flocks. And some of them, even of the sons of Simeon, five hundred men, went to mount Seir, having for their captains Pelatiah, and Neariah, and Rephaiah, and Uzziel, the sons of Ishi. And they smote the rest of the Amalekites that had escaped, and have dwelt there to this day.",
         "This chapter details the genealogies of the tribes of Judah and Simeon.\n\n**Judah's Descendants:**\n*   **Pharez, Hezron, Carmi, Hur, and Shobal** are listed as sons of Judah.\n*   **Reaiah** son of Shobal, father of **Jahath**.\n*   **Jahath** father of **Ahumai** and **Lahad** (families of the Zorathites).\n*   **Etam's** father had sons **Jezreel, Ishma, and Idbash**, and a sister named **Hazelelponi**.\n*   **Penuel** was father of **Gedor**, and **Ezer** was father of **Hushah**.\n*   These are sons of **Hur**, first-born of Ephratah, father of Beth-lehem.\n*   **Ashur** father of Tekoa had wives **Helah** and **Naarah**.\n    *   **Naarah** bore **Ahuzam, Hepher, Temeni, and Haahashtari**.\n    *   **Helah** bore **Zereth, Jezoar, and Ethnan**.\n*   **Coz** father of **Anub** and **Zobebah**, and families of **Aharhel** son of Harum.\n*   **Jabez** was honorable, born with sorrow by his mother. He prayed to God for blessings, enlargement, God's hand, and protection from evil, and God granted his requests.\n*   **Chelub** brother of Shuah, father of **Mehir**.\n*   **Mehir** father of **Eshton**.\n*   **Eshton** father of **Beth-rapha, Paseah, and Tehinnah**.\n*   **Tehinnah** father of **Ir-nahash** (men of Rechah).\n*   **Kenaz's** sons were **Othniel** and **Seraiah**.\n    *   **Othniel's** son was **Hathath**.\n*   **Meonothai** father of **Ophrah**.\n*   **Seraiah** father of **Joab**, father of the valley of Charashim (artificers).\n*   **Caleb** son of Jephunneh's sons were **Iru, Elah, and Naam**.\n    *   **Elah's** sons included **Kenaz**.\n*   **Jehaleleel's** sons were **Ziph, Ziphah, Tiria, and Asareel**.\n*   **Ezra's** sons were **Jethur, Mered, Epher, and Jalon**.\n    *   Ezra's wife bore **Miriam, Shammai, and Ishbah**.\n    *   **Ishbah** was father of **Eshtemoa**.\n    *   Ezra's wife **Jehudijah** bore **Jered** (father of Gedor), **Heber** (father of Socho), and **Jekuthiel** (father of Zanoah).\n*   These are sons of **Bithiah**, daughter of Pharaoh, whom Mered took.\n*   Sons of his wife **Hodiah**, sister of Naham, were father of **Keilah** (the Garmite) and **Eshtemoa** (the Maachathite).\n*   **Shimon's** sons were **Amnon, Rinnah, Ben-hanan, and Tilon**.\n*   **Ishi's** sons were **Zoheth and Benzoheth**.\n*   **Shelah** son of Judah's sons were **Er** (father of Lecah) and **Laadah** (father of Mareshah).\n*   Families of the house of **Ashbea** (fine linen workers), **Jokim**, **Chozeba** (men of Chozeba), **Joash**, **Saraph** (who had dominion in Moab), and **Jashubi-lehem** are also mentioned.\n*   These were ancient things, potters dwelling among plants and hedges, working for the king.\n\n**Simeon's Descendants:**\n*   Simeon's sons were **Nemuel, Jamin, Jarib, Zerah, and Shaul**.\n    *   **Shallum** son of Shaul.\n    *   **Mibsam** son of Shallum.\n    *   **Mishma** son of Mibsam.\n        *   **Hamuel** son of Mishma.\n        *   **Zacchur** son of Hamuel.\n        *   **Shimei** son of Zacchur.\n*   **Shimei** had sixteen sons and six daughters. Simeon's brethren did not have as many children as Judah's family multiplied.\n*   **Simeon's** dwelling places were **Beer-sheba, Moladah, Hazar-shual, Bilhah, Ezem, Tolad, Bethuel, Hormah, Ziklag, Beth-marcaboth, Hazar-susim, Beth-birei, and Shaaraim**. These were their cities until the reign of David.\n*   Their villages included **Etam, Ain, Rimmon, Tochen, and Ashan** (five cities), and others around them to Baal.\n*   **Meshobab, Jamlech, Joshah** (son of Amaziah), **Joel**, and **Jehu** (son of Josibiah, son of Seraiah, son of Asiel) are mentioned.\n*   **Elioenai, Jaakobah, Jeshohaiah, Asaiah, Adiel, Jesimiel, and Benaiah** are listed.\n*   **Ziza** son of Shiphi, son of Allon, son of Jedaiah, son of Shimri, son of Shemaiah are also mentioned.\n*   These named individuals were princes in their families, and their fathers' houses increased greatly.\n*   They moved to the entrance of Gedor, east of the valley, for pasture. They found good pasture, and the land was wide, quiet, and peaceful, previously inhabited by the people of Ham.\n*   In the days of Hezekiah, king of Judah, these people took over the tents and habitations found there, destroying them utterly and dwelling in their place due to the available pasture.\n*   Additionally, five hundred men of Simeon went to Mount Seir, led by **Pelatiah, Neariah, Rephaiah, and Uzziel** (sons of Ishi). They smote the remaining Amalekites and have dwelt there to this day."
        ],
        [
         "4",
         "1 Chronicles",
         "5",
         "Now the sons of Reuben the first-born of Israel, (for he was the first-born; but, forasmuch as he defiled his father's bed, his birth-right was given to the sons of Joseph the son of Israel: and the genealogy is not to be reckoned after the birth-right. For Judah prevailed above his brethren, and of him came the chief ruler; but the birth-right was Joseph's:) The sons, I say, of Reuben the first-born of Israel were, Hanoch, and Pallu, Hezron, and Carmi. The sons of Joel; Shemaiah his son, Gog his son, Shimei his son, Micah his son, Reaia his son, Baal his son, Beerah his son, whom Tilgath-pilneser king of Assyria carried away captive: he was prince of the Reubenites. And his brethren by their families, when the genealogy of their generations was reckoned, were the chief, Jeiel, and Zechariah, And Bela the son of Azaz, the son of Shema, the son of Joel, who dwelt in Aroer, even to Nebo, and Baal-meon: And eastward he inhabited to the entrance of the wilderness from the river Euphrates: because their cattle were multiplied in the land of Gilead. And in the days of Saul they made war with the Hagarites, who fell by their hand: and they dwelt in their tents throughout all the east land of Gilead. And the children of Gad dwelt over against them, in the land of Bashan to Salcah: Joel the chief, and Shapham the next, and Jaanai, and Shaphat in Bashan. And their brethren of the house of their fathers were, Michael, and Meshullam, and Sheba, and Jorai, and Jachan, and Zia, and Heber, seven. These are the children of Abihail the son of Huri, the son of Jaroah, the son of Gilead, the son of Michael, the son of Jeshishai, the son of Jahdo, the son of Buz; Ahi the son of Abdiel, the son of Guni, chief of the house of their fathers. And they dwelt in Gilead in Bashan, and in its towns, and in all the suburbs of Sharon, upon their borders. All these were reckoned by genealogies in the days of Jotham king of Judah, and in the days of Jeroboam king of Israel. The sons of Reuben, and the Gadites, and half the tribe of Manasseh, of valiant men, men able to bear buckler and sword, and to shoot with bow, and skillful in war, were four and forty thousand seven hundred and sixty, that went out to the war. And they made war with the Hagarites, with Jetur, and Nephish, and Nodab. And they were helped against them, and the Hagarites were delivered into their hand, and all that were with them: for they cried to God in the battle, and he was entreated by them; because they put their trust in him. And they took away their cattle; of their camels fifty thousand, and of sheep two hundred and fifty thousand, and of asses two thousand, and of men a hundred thousand. For there fell down many slain, because the war was of God. And they dwelt in their steads until the captivity. And the children of the half tribe of Manasseh dwelt in the land: they increased from Bashan to Baal-hermon and Senir, and to mount Hermon. And these were the heads of the house of their fathers, even Epher, and Ishi, and Eliel, and Azriel, and Jeremiah, and Hodaviah, and Jahdiel, mighty men of valor, famous men, and heads of the house of their fathers. And they transgressed against the God of their fathers, and went astray after the gods of the people of the land, whom God destroyed before them. And the God of Israel stirred up the spirit of Pul king of Assyria, and the spirit of Tilgath-pilneser king of Assyria, and he carried them away, even the Reubenites, and the Gadites, and the half tribe of Manasseh, and brought them to Halah, and Habor, and Hara, and to the river Gozan, to this day.",
         "This chapter of the Bible begins by establishing the lineage and birthright within the tribes of Israel, noting that Reuben, the firstborn, lost his birthright due to defiling his father's bed, which was then given to the sons of Joseph. Judah is mentioned as prevailing among his brethren and being the source of the chief ruler, but the birthright ultimately belonged to Joseph.\n\nThe chapter then details the descendants of Reuben. His sons were Hanoch, Pallu, Hezron, and Carmi. Joel, a descendant of Reuben, had sons including Shemaiah, Gog, Shimei, Micah, Reaia, Baal, and Beerah. Beerah is identified as a prince of the Reubenites who was carried away captive by Tilgath-pilneser, king of Assyria. Other notable Reubenites, accounted for by their families, included Jeiel and Zechariah. Bela, son of Azaz, son of Shema, son of Joel, is mentioned as dwelling in Aroer, Nebo, and Baal-meon, extending eastward into the wilderness up to the Euphrates River due to their abundant cattle in Gilead. In the days of Saul, the Reubenites warred against and defeated the Hagarites, settling in their tents throughout eastern Gilead.\n\nThe chapter then shifts to the children of Gad, who dwelt opposite the Reubenites in Bashan, extending to Salcah. Joel was their chief, followed by Shapham, Jaanai, and Shaphat in Bashan. Their brethren from their fathers' houses were Michael, Meshullam, Sheba, Jorai, Jachan, Zia, and Heber (seven in total). These were the children of Abihail, son of Huri, son of Jaroah, son of Gilead, son of Michael, son of Jeshishai, son of Jahdo, son of Buz. Ahi, son of Abdiel, son of Guni, is also mentioned as chief of his fathers' house. The Gadites, along with the Reubenites and the half tribe of Manasseh, dwelt in Gilead, Bashan, its towns, and the suburbs of Sharon.\n\nThe census of these valiant men, skilled in warfare and able to bear weapons, numbered forty-four thousand seven hundred and sixty. They went out to war against the Hagarites, Jetur, Nephish, and Nodab, and through their reliance on God and their prayers, they were victorious, capturing fifty thousand camels, two hundred and fifty thousand sheep, two thousand asses, and one hundred thousand men. Many fell slain in this war, which was described as being \"of God.\" They inhabited their former territories until the captivity.\n\nThe chapter concludes by mentioning that the children of the half tribe of Manasseh dwelt in the land, increasing from Bashan to Baal-hermon and Senir, and Mount Hermon. Their heads of fathers' houses included Epher, Ishi, Eliel, Azriel, Jeremiah, Hodaviah, and Jahdiel, who were mighty and famous men. However, these Manassites transgressed against their fathers' God, straying after the gods of the land's people. In response, God stirred up Pul and Tilgath-pilneser, kings of Assyria, who carried away the Reubenites, Gadites, and the half tribe of Manasseh to Halah, Habor, Hara, and the river Gozan, where they remained until that present time. The entire account of these tribes was reckoned by genealogies during the reigns of Jotham king of Judah and Jeroboam king of Israel."
        ],
        [
         "5",
         "1 Chronicles",
         "6",
         "The sons of Levi; Gershon, Kohath, and Merari. And the sons of Kohath; Amram, Izhar, and Hebron, and Uzziel. And the children of Amram; Aaron, and Moses, and Miriam. The sons also of Aaron; Nadab, and Abihu, Eleazar, and Ithamar. Eleazar begat Phinehas, Phinehas begat Abishua, And Abishua begat Bukki, and Bukki begat Uzzi, And Uzzi begat Zerahiah, and Zerahiah begat Meraioth, Meraioth begat Amariah, and Amariah begat Ahitub, And Ahitub begat Zadok, and Zadok begat Ahimaaz, And Ahimaaz begat Azariah, and Azariah begat Johanan, And Johanan begat Azariah, (he it is that executed the priest's office in the temple that Solomon built in Jerusalem:) And Azariah begat Amariah, and Amariah begat Ahitub, And Ahitub begat Zadok, and Zadok begat Shallum, And Shallum begat Hilkiah, and Hilkiah begat Azariah, And Azariah begat Seraiah, and Seraiah begat Jehozadak, And Jehozadak went into captivity, when the LORD carried away Judah and Jerusalem by the hand of Nebuchadnezzar. The sons of Levi; Gershom, Kohath, and Merari. And these are the names of the sons of Gershom; Libni, and Shimei. And the sons of Kohath were, Amram, and Izhar, and Hebron, and Uzziel. The sons of Merari; Mahli, and Mushi. And these are the families of the Levites according to their fathers. Of Gershom; Libni his son, Jahath his son, Zimmah his son, Joah his son, Iddo his son, Zerah his son, Jeaterai his son. The sons of Kohath; Amminadab his son, Korah his son, Assir his son, Elkanah his son, and Ebiasaph his son, and Assir his son, Tahath his son, Uriel his son, Uzziah his son, and Shaul his son. And the sons of Elkanah; Amasai, and Ahimoth. As for Elkanah: the sons of Elkanah; Zophai his son, and Nahath his son, Eliab his son, Jeroham his son, Elkanah his son. And the sons of Samuel; the first-born Vashni, and Abiah. The sons of Merari; Mahli, Libni his son, Shimei his son, Uzza his son, Shimea his son, Haggiah his son, Asaiah his son. And these are they whom David set over the service of song in the house of the LORD, after that the ark had rest. And they ministered before the dwelling-place of the tabernacle of the congregation with singing, until Solomon had built the house of the LORD in Jerusalem: and then they waited on their office, according to their order. And these are they that waited with their children. Of the sons of the Kohathites: Heman a singer, the son of Joel, the son of Shemuel, The son of Elkanah, the son of Jeroham, the son of Eliel, the son of Toah, The son of Zuph, the son of Elkanah, the son of Mahath, the son of Amasai, The son of Elkanah, the son of Joel, the son of Azariah, the son of Zephaniah, The son of Tahath, the son of Assir, the son of Ebiasaph, the son of Korah, The son of Izhar, the son of Kohath, the son of Levi, the son of Israel. And his brother Asaph, who stood on his right hand, even Asaph the son of Berechiah, the son of Shimea, The son of Michael, the son of Baaseiah, the son of Malchiah, The son of Ethni, the son of Zerah, the son of Adaiah, The son of Ethan, the son of Zimmah, the son of Shimei, The son of Jahath, the son of Gershom, the son of Levi. And their brethren the sons of Merari stood on the left hand: Ethan the son of Kishi, the son of Abdi, the son of Malluch, The son of Hashabiah, the son of Amaziah, the son of Hilkiah, The son of Amzi, the son of Bani, the son of Shamer, The son of Mahli, the son of Mushi, the son of Merari, the son of Levi. Their brethren also the Levites were appointed to all manner of service of the tabernacle of the house of God. But Aaron and his sons offered upon the altar of the burnt-offering, and on the altar of incense, and were appointed for all the work of the place most holy, and to make an atonement for Israel, according to all that Moses the servant of God had commanded. And these are the sons of Aaron; Eleazar his son, Phinehas his son, Abishua his son, Bukki his son, Uzzi his son, Zerahiah his son, Meraioth his son, Amariah his son, Ahitub his son, Zadok his son, Ahimaaz his son. Now these are their dwelling-places throughout their castles in their limits, of the sons of Aaron, of the families of the Kohathites: for theirs was the lot. And they gave them Hebron in the land of Judah, and its suburbs around it. But the fields of the city, and its villages, they gave to Caleb the son of Jephunneh. And to the sons of Aaron they gave the cities of Judah, namely, Hebron, the city of refuge, and Libnah with its suburbs, and Jattir, and Eshtemoa, with their suburbs, And Hilen with its suburbs, Debir with its suburbs, And Ashan with its suburbs, and Beth-shemesh with its suburbs: And out of the tribe of Benjamin; Geba with its suburbs, and Alemeth with its suburbs, and Anathoth with its suburbs. All their cities throughout their families were thirteen cities. And to the sons of Kohath who were left of the family of that tribe, were cities given out of the half tribe, namely, out of the half tribe of Manasseh, by lot, ten cities. And to the sons of Gershom throughout their families were given out of the tribe of Issachar, and out of the tribe of Asher, and out of the tribe of Naphtali, and out of the tribe of Manasseh in Bashan, thirteen cities. To the sons of Merari were given by lot, throughout their families, out of the tribe of Reuben, and out of the tribe of Gad, and out of the tribe of Zebulun, twelve cities. And the children of Israel gave to the Levites these cities with their suburbs. And they gave by lot out of the tribe of the children of Judah, and out of the tribe of the children of Simeon, and out of the tribe of the children of Benjamin, these cities, which are called by their names. And the residue of the families of the sons of Kohath had cities of their borders out of the tribe of Ephraim. And they gave to them, of the cities of refuge, Shechem in mount Ephraim with its suburbs; they gave also Gezer with its suburbs, And Jokmeam with its suburbs, and Beth-horon with its suburbs, And Ajalon with its suburbs, and Gath-rimmon with its suburbs: And out of the half tribe of Manasseh; Aner with its suburbs, and Bileam with its suburbs, for the family of the remnant of the sons of Kohath. To the sons of Gershom were given out of the family of the half tribe of Manasseh, Golan in Bashan with its suburbs, and Ashtaroth with its suburbs: And out of the tribe of Issachar; Kedesh with its suburbs, Daberath with its suburbs, And Ramoth with its suburbs, and Anem with its suburbs: And out of the tribe of Asher; Mashal with its suburbs, and Abdon with its suburbs, And Hukok with its suburbs, and Rehob with its suburbs: And out of the tribe of Naphtali: Kedesh in Galilee with its suburbs, and Hammon with its suburbs, and Kirjathaim with its suburbs. To the rest of the children of Merari were given out of the tribe of Zebulun, Rimmon with its suburbs, Tabor with its suburbs: And on the other side of Jordan by Jericho, on the east side of Jordan, were given them out of the tribe of Reuben, Bezer in the wilderness with its suburbs, and Jahzah with its suburbs, Kedemoth also with its suburbs, and Mephaath with its suburbs: And out of the tribe of Gad; Ramoth in Gilead with its suburbs, and Mahanaim with its suburbs, And Heshbon with its suburbs, and Jazer with its suburbs.",
         "This chapter details the lineage of the Levites and their appointed cities.\n\nThe three sons of Levi were **Gershon, Kohath, and Merari**.\n\n**Kohath's** sons were **Amram, Izhar, Hebron, and Uzziel**.\n**Amram's** children were **Aaron, Moses, and Miriam**.\n**Aaron's** sons were **Nadab, Abihu, Eleazar, and Ithamar**.\n\nThe lineage continues through Aaron's descendants:\n**Eleazar** begat **Phinehas**.\n**Phinehas** begat **Abishua**.\n**Abishua** begat **Bukki** and **Uzzi**.\n**Uzzi** begat **Zerahiah**.\n**Zerahiah** begat **Meraioth**.\n**Meraioth** begat **Amariah**.\n**Amariah** begat **Ahitub**.\n**Ahitub** begat **Zadok**.\n**Zadok** begat **Ahimaaz**.\n**Ahimaaz** begat **Azariah**.\nThis **Azariah** executed the priest's office in Solomon's temple.\n**Azariah** begat **Amariah**.\n**Amariah** begat **Ahitub**.\n**Ahitub** begat **Zadok**.\n**Zadok** begat **Shallum**.\n**Shallum** begat **Hilkiah**.\n**Hilkiah** begat **Azariah**.\n**Azariah** begat **Seraiah**.\n**Seraiah** begat **Jehozadak**, who was taken captive by Nebuchadnezzar.\n\nThe sons of **Gershom** were **Libni** and **Shimei**.\nThe sons of **Merari** were **Mahli** and **Mushi**.\n\nThe chapter then lists further descendants and their roles:\n**Gershom's** family includes **Libni, Jahath, Zimmah, Joah, Iddo, Zerah, and Jeaterai**.\n**Kohath's** family includes **Amminadab, Korah, Assir, Elkanah, Ebiasaph**, and further descendants like **Tahath, Uriel, Uzziah, and Shaul**.\n**Elkanah's** sons were **Amasai** and **Ahimoth**. Another listing of **Elkanah's** sons includes **Zophai, Nahath, Eliab, Jeroham**, and **Elkanah**.\nThe sons of **Samuel** (whose father was Elkanah) were **Vashni** (the firstborn) and **Abiah**.\n**Merari's** family includes **Mahli, Libni, Shimei, Uzza, Shimea, Haggiah, and Asaiah**.\n\n**David** appointed certain Levites to the service of song:\nFrom the sons of **Kohath**: **Heman** (singer), son of **Joel**, son of **Shemuel**, son of **Elkanah**, son of **Jeroham**, son of **Eliel**, son of **Toah**, son of **Zuph**, son of **Elkanah**, son of **Mahath**, son of **Amasai**, son of **Elkanah**, son of **Joel**, son of **Azariah**, son of **Zephaniah**, son of **Tahath**, son of **Assir**, son of **Ebiasaph**, son of **Korah**, son of **Izhar**, son of **Kohath**, son of **Levi**, son of **Israel**.\nHis brother **Asaph** (who stood on the right hand), son of **Berechiah**, son of **Shimea**, son of **Michael**, son of **Baaseiah**, son of **Malchiah**, son of **Ethni**, son of **Zerah**, son of **Adaiah**, son of **Ethan**, son of **Zimmah**, son of **Shimei**, son of **Jahath**, son of **Gershom**, son of **Levi**.\nThe sons of **Merari** (who stood on the left hand) included **Ethan** (son of Kishi), son of **Abdi**, son of **Malluch**, son of **Hashabiah**, son of **Amaziah**, son of **Hilkiah**, son of **Amzi**, son of **Bani**, son of **Shamer**, son of **Mahli**, son of **Mushi**, son of **Merari**, son of **Levi**.\n\n**Aaron and his sons** were appointed to the altar of burnt-offering, altar of incense, and the most holy place, to make atonement for Israel, as commanded by Moses.\nThe sons of **Aaron** are listed again: **Eleazar**, **Phinehas**, **Abishua**, **Bukki**, **Uzzi**, **Zerahiah**, **Meraioth**, **Amariah**, **Ahitub**, **Zadok**, **Ahimaaz**.\n\nThe chapter then details the cities given to the Levites:\n**Aaron's descendants (Kohathites)** were given **Hebron** and its suburbs in Judah, and fields for the city and villages to **Caleb the son of Jephunneh**.\nOther cities given to the **sons of Aaron** from Judah were: **Libnah**, **Jattir**, **Eshtemoa**, **Hilen**, **Debir**, **Ashan**, and **Beth-shemesh**, all with their suburbs.\nFrom the tribe of **Benjamin**, they received: **Geba**, **Alemeth**, and **Anathoth**, all with their suburbs. In total, **thirteen cities** for the families of the sons of Aaron.\n\nThe remaining sons of **Kohath** received **ten cities** by lot from the half tribe of **Manasseh**.\n\nThe sons of **Gershom** were given **thirteen cities** by lot from the tribes of **Issachar**, **Asher**, **Naphtali**, and **Manasseh in Bashan**.\n\nThe sons of **Merari** were given **twelve cities** by lot by their families from the tribes of **Reuben**, **Gad**, and **Zebulun**.\n\nSpecific cities were given out of the tribes of **Judah, Simeon, and Benjamin** to the Levites.\nThe remaining families of the **sons of Kohath** received cities from the tribe of **Ephraim**: **Shechem** (city of refuge), **Gezer**, **Jokmeam**, **Beth-horon**, **Ajalon**, and **Gath-rimmon**, all with their suburbs.\nFrom the half tribe of **Manasseh**, they received **Aner** and **Bileam**, with their suburbs.\n\nTo the **sons of Gershom** were given from the half tribe of **Manasseh**: **Golan** in Bashan and **Ashtaroth**, with their suburbs.\nFrom the tribe of **Issachar**: **Kedesh**, **Daberath**, **Ramoth**, and **Anem**, all with their suburbs.\nFrom the tribe of **Asher**: **Mashal**, **Abdon**, **Hukok**, and **Rehob**, all with their suburbs.\nFrom the tribe of **Naphtali**: **Kedesh in Galilee**, **Hammon**, and **Kirjathaim**, all with their suburbs.\n\nTo the rest of the **children of Merari** were given from the tribe of **Zebulun**: **Rimmon** and **Tabor**, with their suburbs.\nOn the other side of the Jordan, by Jericho, from the tribe of **Reuben**: **Bezer** in the wilderness, **Jahzah**, **Kedemoth**, and **Mephaath**, all with their suburbs.\nFrom the tribe of **Gad**: **Ramoth in Gilead**, **Mahanaim**, **Heshbon**, and **Jazer**, all with their suburbs."
        ],
        [
         "6",
         "1 Chronicles",
         "7",
         "Now the sons of Issachar, were, Tola, and Puah, Jashub, and Shimron, four. And the sons of Tola; Uzzi, and Rephaiah, and Jeriel, and Jahmai, and Jibsam, and Shemuel, heads of their father's house, to wit, of Tola: they were valiant men of might in their generations; whose number was in the days of David two and twenty thousand and six hundred. And the sons of Uzzi; Izrahiah: and the sons of Izrahiah; Michael, and Obadiah, and Joel, Ishaiah, five: all of them chief men. And with them, by their generations, after the house of their fathers, were bands of soldiers for war, six and thirty thousand men: for they had many wives and sons. And their brethren among all the families of Issachar were valiant men of might, reckoned in all by their genealogies eighty and seven thousand. The sons of Benjamin; Bela, and Becher, and Jediael, three. And the sons of Bela; Ezbon, and Uzzi, and Uzziel, and Jerimoth, and Iri, five; heads of the house of their fathers, mighty men of valor; and were reckoned by their genealogies twenty and two thousand and thirty and four. And the sons of Becher; Zemira, and Joash, and Eliezer, and Elioenai, and Omri, and Jerimoth, and Abiah, and Anathoth, and Alameth. All these are the sons of Becher. And the number of them, after their genealogy by their generations, heads of the house of their fathers, mighty men of valor, was twenty thousand and two hundred. The sons also of Jediael; Bilhan: and the sons of Bilhan; Jeush, and Benjamin, and Ehud, and Chenaanah, and Zethan, and Tharshish, and Ahishahar. All these the sons of Jediael, by the heads of their fathers, mighty men of valor, were seventeen thousand and two hundred soldiers, fit to go out for war and battle. Shuppim also, and Huppim, the children of Ir, and Hushim, the sons of Aher. The sons of Naphtali; Jahziel, and Guni, and Jezer, and Shallum, the sons of Bilhah. The sons of Manasseh; Ashriel, whom she bore: (but his concubine the Aramitess bore Machir the father of Gilead: And Machir took for a wife the sister of Huppim and Shuppim, whose sister's name was Maachah;) and the name of the second was Zelophehad: and Zelophehad had daughters. And Maachah the wife of Machir bore a son, and she called his name Peresh; and the name of his brother was Sheresh; and his sons were Ulam, and Rakem. And the sons of Ulam; Bedan. These were the sons of Gilead, the son of Machir, the son of Manasseh. And his sister Hammoleketh bore Ishod, and Abiezer, and Mahalah. And the sons of Shemida were, Ahian, and Shechem, and Likhi, and Aniam. And the sons of Ephraim; Shuthelah, and Bered his son, and Tahath his son, and Eladah his son, and Tahath his son, And Zabad his son, and Shuthelah his son, and Ezer, and Elead, whom the men of Gath that were born in that land slew, because they came down to take away their cattle. And Ephraim their father mourned many days, and his brethren came to comfort him. And when he went in to his wife, she conceived and bore a son, and he called his name Beriah, because it went evil with his house. (And his daughter was Sherah, who built Beth-horon the nether, and the upper, and Uzzen-sherah.) And Rephah was his son, also Resheph, and Telah his son, and Tahan his son, Laadan his son, Ammihud his son, Elishama his son, Non his son, Jehoshua his son. And their possessions and habitations were, Beth-el, and its towns, and eastward Naaram, and westward Gezer, with its towns; Shechem also and its towns, to Gaza and its towns: And by the borders of the children of Manasseh, Beth-shean and its towns, Taanach and its towns, Megiddo and its towns, Dor and its towns. In these dwelt the children of Joseph the son of Israel. The sons of Asher; Imnah, and Isuah, and Ishua, and Beriah, and Serah their sister. And the sons of Beriah; Heber, and Malchiel, who is the father of Birzavith. And Heber begat Japhlet, and Shomer, and Hotham, and Shua their sister. And the sons of Japhlet; Pasach, and Bimhal, and Ashvath. These are the children of Japhlet. And the sons of Shamer; Ahi, and Rohgah, Jehubbah, and Aram. And the sons of his brother Helem; Zophah, and Imna, and Shelesh, and Amal. The sons of Zophah; Suah, and Harnepher, and Shual, and Beri, and Imrah, Bezer, and Hod, and Shamma, and Shilshah, and Ithran, and Beera. And the sons of Jether; Jephunneh, and Pispah, and Ara. And the sons of Ulla; Arah, and Haniel, and Rezia. All these were the children of Asher, heads of their father's house, choice and mighty men of valor, chief of the princes. And the number throughout the genealogy of them that were fit for war and for battle was twenty and six thousand men.",
         "This chapter enumerates the descendants of several Israelite tribes and their numbers.\n\n**Issachar:**\n*   **Sons:** Tola, Puah, Jashub, and Shimron (four).\n*   **Sons of Tola:** Uzzi, Rephaiah, Jeriel, Jahmai, Jibsam, and Shemuel. These were heads of their father's house and valiant men. In the time of David, there were 22,600 of them.\n*   **Sons of Uzzi:** Izrahiah.\n*   **Sons of Izrahiah:** Michael, Obadiah, Joel, and Ishaiah (five), all chief men.\n*   **Soldiers:** Associated with the house of Issachar were 36,000 soldiers, due to their many wives and sons.\n*   **Total in Issachar:** The brethren in all the families of Issachar, reckoned by genealogy, were 87,000 valiant men.\n\n**Benjamin:**\n*   **Sons:** Bela, Becher, and Jediael (three).\n*   **Sons of Bela:** Ezbon, Uzzi, Uzziel, Jerimoth, and Iri (five), heads of their fathers' houses, mighty men of valor. Their genealogy numbered 22,034.\n*   **Sons of Becher:** Zemira, Joash, Eliezer, Elioenai, Omri, Jerimoth, Abiah, Anathoth, and Alameth. The number of these, by genealogy and generation, heads of their fathers' houses, mighty men of valor, was 20,200.\n*   **Sons of Jediael:** Bilhan, and the sons of Bilhan were Jeush, Benjamin, Ehud, Chenaanah, Zethan, Tharshish, and Ahishahar. All these sons of Jediael, by heads of their fathers, mighty men of valor, were 17,200 soldiers fit for war.\n*   **Other sons of Benjamin:** Shuppim and Huppim, children of Ir, and Hushim, sons of Aher.\n\n**Naphtali:**\n*   **Sons:** Jahziel, Guni, Jezer, and Shallum, sons of Bilhah.\n\n**Manasseh:**\n*   **Sons:** Ashriel, whom his wife bore. His concubine the Aramitess bore Machir, the father of Gilead.\n*   **Machir's family:** Machir took to wife the sister of Huppim and Shuppim, named Maachah. Their second son was Zelophehad, who had daughters. Maachah bore Peresh and his brother Sheresh. The sons of Peresh were Ulam and Rakem. The sons of Ulam were Bedan. These were the sons of Gilead, the son of Machir, the son of Manasseh. Hammoleketh, the sister of Gilead, bore Ishod, Abiezer, and Mahalah.\n*   **Sons of Shemida:** Ahian, Shechem, Likhi, and Aniam.\n\n**Ephraim:**\n*   **Sons:** Shuthelah. His sons were Bered, Tahath, Eladah, Tahath, Zabad, Shuthelah.\n*   **Sons of Shuthelah:** Ezer and Elead, whom the men of Gath slew. Ephraim mourned for them.\n*   **Son born after mourning:** Ephraim's wife bore Beriah. His daughter was Sherah, who built Beth-horon the nether and upper, and Uzzen-sherah.\n*   **Descendants of Beriah:** Rephah, his son. Also Resheph, Telah his son, Tahan his son, Laadan his son, Ammihud his son, Elishama his son, Non his son, Jehoshua his son.\n*   **Territories of Joseph (Ephraim and Manasseh):** Beth-el and its towns, Naaram eastward, Gezer westward with its towns, Shechem and its towns, and Gaza with its towns. By the borders of Manasseh were Beth-shean and its towns, Taanach and its towns, Megiddo and its towns, and Dor and its towns.\n\n**Asher:**\n*   **Sons:** Imnah, Isuah, Ishua, Beriah, and Serah their sister.\n*   **Sons of Beriah:** Heber and Malchiel, father of Birzavith.\n*   **Descendants of Heber:** Japhlet, Shomer, Hotham, and Shua their sister.\n*   **Sons of Japhlet:** Pasach, Bimhal, and Ashvath.\n*   **Sons of Shamer:** Ahi, Rohgah, Jehubbah, and Aram.\n*   **Sons of his brother Helem:** Zophah, Imna, Shelesh, and Amal.\n*   **Sons of Zophah:** Suah, Harnepher, Shual, Beri, Imrah, Bezer, Hod, Shamma, Shilshah, Ithran, and Beera.\n*   **Sons of Jether:** Jephunneh, Pispah, and Ara.\n*   **Sons of Ulla:** Arah, Haniel, and Rezia.\n*   **Total in Asher:** All these were children of Asher, heads of their father's house, choice and mighty men of valor, chief of the princes. The number fit for war and battle was 26,000."
        ],
        [
         "7",
         "1 Chronicles",
         "8",
         "Now Benjamin begat Bela his first-born, Ashbel the second, and Aharah the third. Nohah the fourth, and Rapha the fifth. And the sons of Bela were Addar, and Gera, and Abihud, And Abishua, and Naaman, and Ahoah, And Gera, and Shephuphan, and Huram. And these are the sons of Ehud: these are the heads of the fathers of the inhabitants of Geba, and they removed them to Manahath: And Naaman, and Ahiah, and Gera, he removed them, and begat Uzza, and Ahihud. And Shaharaim begat children in the country of Moab, after he had sent them away; Hushim and Baara were his wives. And he begat of Hodesh his wife, Jobab, and Zibia, and Mesha, and Malcham, And Jeuz, and Shachia, and Mirma. These were his sons, heads of the fathers. And of Hushim he begat Ahitub, and Elpaal. The sons of Elpaal; Eber, and Misham, and Shamed, who built Ono, and Lod, with its town: Beriah also, and Shema, who were heads of the fathers of the inhabitants of Ajalon, who drove away the inhabitants of Gath: And Ahio, Shashak, and Jeremoth, And Zebadiah, and Arad, and Ader, And Michael, and Ispah, and Joha, the sons of Beriah; And Zebadiah, and Meshullam, and Hezeki, and Heber, Ishmerai also, and Jezliah, and Jobab, the sons of Elpaal; And Jakim, and Zichri, and Zabdi, And Elienai, and Zilthai, and Eliel, And Adaiah, and Beraiah, and Shimrath, the sons of Shimhi; And Ishpan, and Heber, and Eliel, And  Abdon, and Zichri, and Hanan, And Hananiah, and Elam, and Antothijah, And Iphedeiah, and Penuel, the sons of Shashak; And Shamsherai, and Shehariah, and Athaliah, And Jaresiah, and Eliah, and Zichri, the sons of Jeroham. These were heads of the fathers, by their generations, chief men. These dwelt in Jerusalem. And at Gibeon dwelt the father of Gibeon; whose wife's name was Maachah: And his first-born son Abdon, and Zur, and Kish, and Baal, and Nadab, And Gedor, and Ahio, and Zacher. And Mikloth begat Shimeah. And these also dwelt with their brethren in Jerusalem, over against them. And Ner begat Kish, and Kish begat Saul, and Saul begat Jonathan, and Malchi-shua, and Abinadab, and Esh-baal. And the son of Jonathan was Merib-baal; and Merib-baal begat Micah. And the sons of Micah were, Pithon, and Melech, and Tarea, and Ahaz. And Ahaz begat Jehoadah; and Jehoadah begat Alemeth, and Azmaveth, and Zimri; and Zimri begat Moza, And Moza begat Bineah: Rapha was his son, Eleasah his son, Azel his son: And Azel had six sons, whose names are these, Azrikam, Bocheru, and Ishmael, and Sheariah, and Obadiah, and Hanan. All these were the sons of Azel. And the sons of Eshek his brother were, Ulam his first-born, Jehush the second, and Eliphelet the third. And the sons of Ulam were mighty men of valor, archers, and had many sons, and sons' sons a hundred and fifty. All these are of the sons of Benjamin.",
         "This chapter focuses on the genealogies of the tribe of Benjamin.\n\nIt begins by listing the sons of **Benjamin**: **Bela** (first-born), **Ashbel** (second), **Aharah** (third), **Nohah** (fourth), and **Rapha** (fifth).\n\nThe sons of **Bela** are listed as: **Addar**, **Gera**, **Abihud**, **Abishua**, **Naaman**, **Ahoah**, **Gera** (again), **Shephuphan**, and **Huram**.\n\nThe text then identifies **Gera** as the father of **Ehud**, and states that the heads of the fathers of the inhabitants of **Geba** were removed to **Manahath**. **Naaman**, **Ahiah**, and **Gera** are mentioned as being removed, and **Gera** begat **Uzza** and **Ahihud**.\n\n**Shaharaim** is described as having begotten children in the country of **Moab** after sending them away. His wives were **Hushim** and **Baara**. Of **Hodesh** (his wife), he begat **Jobab**, **Zibia**, **Mesha**, **Malcham**, **Jeuz**, **Shachia**, and **Mirma**. These are identified as his sons, heads of the fathers.\n\n**Hushim** begat **Ahitub** and **Elpaal**. The sons of **Elpaal** were **Eber**, **Misham**, and **Shamed**, who built **Ono** and **Lod** with their towns. **Beriah** and **Shema** are mentioned as heads of the fathers of the inhabitants of **Ajalon**, who drove away the inhabitants of **Gath**.\n\nThe sons of **Beriah** were: **Ahio**, **Shashak**, **Jeremoth**, **Zebadiah**, **Arad**, **Ader**, **Michael**, **Ispah**, and **Joha**.\nThe sons of **Elpaal** were: **Zebadiah**, **Meshullam**, **Hezeki**, **Heber**, **Ishmerai**, **Jezliah**, and **Jobab**.\nThe sons of **Shimhi** were: **Jakim**, **Zichri**, **Zabdi**, **Elienai**, **Zilthai**, and **Eliel**, **Adaiah**, **Beraiah**, and **Shimrath**.\nThe sons of **Shashak** were: **Ishpan**, **Heber**, **Eliel**, **Abdon**, **Zichri**, and **Hanan**, **Hananiah**, **Elam**, **Antothijah**, **Iphedeiah**, and **Penuel**.\nThe sons of **Jeroham** were: **Shamsherai**, **Shehariah**, **Athaliah**, **Jaresiah**, **Eliah**, and **Zichri**. These are stated to be heads of the fathers by their generations, chief men who dwelt in **Jerusalem**.\n\nIn **Gibeon** dwelt the father of **Gibeon**, whose wife's name was **Maachah**. Their sons were: **Abdon** (first-born), **Zur**, **Kish**, **Baal**, **Nadab**, **Gedor**, **Ahio**, and **Zacher**.\n\n**Mikloth** begat **Shimeah**. These also dwelt with their brethren in **Jerusalem**, over against them.\n\nThe lineage from **Benjamin** to **Saul** is traced: **Ner** begat **Kish**, **Kish** begat **Saul**. **Saul** begat **Jonathan**, **Malchi-shua**, **Abinadab**, and **Esh-baal**.\n\nThe son of **Jonathan** was **Merib-baal**, and **Merib-baal** begat **Micah**. The sons of **Micah** were **Pithon**, **Melech**, **Tarea**, and **Ahaz**. **Ahaz** begat **Jehoadah**, and **Jehoadah** begat **Alemeth**, **Azmaveth**, and **Zimri**. **Zimri** begat **Moza**, and **Moza** begat **Bineah**.\n\n**Rapha** was the son of **Bineah**, **Eleasah** was his son, and **Azel** was his son. **Azel** had six sons: **Azrikam**, **Bocheru**, **Ishmael**, **Sheariah**, **Obadiah**, and **Hanan**. All these were the sons of **Azel**.\n\nThe sons of **Eshek** (brother of Azel) were: **Ulam** (first-born), **Jehush** (second), and **Eliphelet** (third). The sons of **Ulam** were mighty men of valor, archers, and had many sons and sons' sons, totaling a hundred and fifty. All these are identified as being from the sons of **Benjamin**."
        ],
        [
         "8",
         "1 Chronicles",
         "9",
         "So all Israel were reckoned by genealogies; and behold, they were written in the book of the kings of Israel and Judah, who were carried away to Babylon for their transgression. Now the first inhabitants that dwelt in their possessions in their cities were, the Israelites, the priests, Levites, and the Nethinims. And in Jerusalem dwelt of the children of Judah, and of the children of Benjamin, and of the children of Ephraim, and Manasseh; Uthai the son of Ammihud, the son of Omri, the son of Imri, the son of Bani, of the children of Pharez the son of Judah. And of the Shilonites; Asaiah the first-born, and his sons. And of the sons of Zerah; Jeuel, and their brethren, six hundred and ninety. And of the sons of Benjamin; Sallu the son of Meshullam, the son of Hodaviah, the son of Hasenuah, And Ibneiah the son of Jeroham, and Elah the son of Uzzi, the son of Michri, and Meshullam the son of Shephatiah, the son of Reuel, the son of Ibnijah; And their brethren, according to their generations, nine hundred and fifty and six. All these men were chief of the fathers in the house of their fathers. And of the priests; Jedaiah, and Jehoiarib, and Jachin, And Azariah the son of Hilkiah, the son of Meshullam, the son of Zadok, the son of Meraioth, the son of Ahitub, the ruler of the house of God; And Adaiah the son of Jeroham, the son of Pashur, the son of Malchijah, and Maasiai the son of Adiel, the son of Jahzerah, the son of Meshullam, the son of Meshillemith, the son of Immer; And their brethren, heads of the house of their fathers, a thousand and seven hundred and sixty; very able men for the work of the service of the house of God. And of the Levites; Shemaiah the son of Hasshub, the son of Azrikam, the son of Hashabiah, of the sons of Merari; And Bakbakkar, Heresh, and Galal, and Mattaniah the son of Micah, the son of Zichri, the son of Asaph; And Obadiah the son of Shemaiah, the son of Galal, the son of Jeduthun, and Berechiah the son of Asa, the son of Elkanah, that dwelt in the villages of the Netophathites. And the porters were Shallum, and Akkub, and Talmon, and Ahiman, and their brethren: Shallum was the chief; Who hitherto waited in the king's gate eastward: they were porters in the companies of the children of Levi. And Shallum the son of Kore, the son of Ebiasaph, the son of Korah, and his brethren of the house of his father, the Korahites, were over the work of the service, keepers of the gates of the tabernacle: and their fathers, being over the host of the LORD, were keepers of the entry. And Phinehas the son of Eleazar was the ruler over them in time past, and the LORD was with him. And Zechariah the son of Meshelemiah was porter of the door of the tabernacle of the congregation. All these who were chosen to be porters in the gates were two hundred and twelve. These were reckoned by their genealogy in their villages, whom David and Samuel the seer ordained in their set office. So they and their children had the oversight of the gates of the house of the LORD, namely, the house of the tabernacle, by wards. In four quarters were the porters, towards the east, west, north and south. And their brethren, who were in their villages, were to come after seven days from time to time with them. For these Levites, the four chief porters, were in their set office, and were over the chambers and treasuries of the house of God. And they lodged about the house of God, because the charge was upon them, and the opening of it every morning pertained to them. And certain of them had the charge of the ministering vessels, that they should bring them in and out by number. Some of them also were appointed to oversee the vessels, and all the instruments of the sanctuary, and the fine flour, and the wine, and the oil, and the frankincense, and the spices. And some of the sons of the priests made the ointment of the spices. And Mattithiah, one of the Levites, who was the first-born of Shallum the Korahite, had the set office over the things that were made in the pans. And others of their brethren, of the sons of the Kohathites, were over the show-bread, to prepare it every sabbath. And these are the singers, chief of the fathers of the Levites, who remaining in the chambers were free: for they were employed in that work day and night. These chief fathers of the Levites were chief throughout their generations; these dwelt at Jerusalem. And in Gibeon dwelt the father of Gibeon, Jehiel, whose wife's name was Maachah: And his first-born son Abdon, then Zur, and Kish, and Baal, and Ner, and Nadab, And Gedor, and Ahio, and Zechariah, and Mikloth. And Mikloth begat Shimeam. And they also dwelt with their brethren at Jerusalem, over against their brethren. And Ner begat Kish; and Kish begat Saul; and Saul begat Jonathan, and Malchi-shua, and Abinadab, and Esh-baal. And the son of Jonathan was Merib-baal: and Merib-baal begat Micah. And the sons of Micah were, Pithon, and Melech, and Tahrea, and Ahaz. And Ahaz begat Jarah; and Jarah begat Alemeth, and Azmaveth, and Zimri; and Zimri begat Moza; And Moza begat Binea; and Rephaiah his son, Eleasah his son, Azel his son. And Azel had six sons, whose names are these, Azrikam, Bocheru, and Ishmael, and Sheariah, and Obadiah, and Hanan: these were the sons of Azel.",
         "This chapter details the genealogies of the Israelites who returned from Babylon, listing the first inhabitants of their cities and those who settled in Jerusalem.\n\n**Initial Settlers:**\n*   Israelites, Priests, Levites, and Nethinims.\n\n**In Jerusalem:**\n*   **Children of Judah, Benjamin, Ephraim, and Manasseh:**\n    *   **Uthai** (son of Ammihud, son of Omri, son of Imri, son of Bani) of the **Pharez** lineage.\n    *   **Shilonites:** Asaiah (first-born) and his sons.\n    *   **Sons of Zerah:** Jeuel and their brethren (690 men).\n*   **Children of Benjamin:**\n    *   **Sallu** (son of Meshullam, son of Hodaviah, son of Hasenuah).\n    *   **Ibneiah** (son of Jeroham).\n    *   **Elah** (son of Uzzi, son of Michri).\n    *   **Meshullam** (son of Shephatiah, son of Reuel, son of Ibnijah).\n    *   Their brethren totaled **956** men, described as chief fathers.\n*   **Priests:**\n    *   **Jedaiah, Jehoiarib, and Jachin.**\n    *   **Azariah** (son of Hilkiah, son of Meshullam, son of Zadok, son of Meraioth, son of Ahitub), ruler of the house of God.\n    *   **Adaiah** (son of Jeroham, son of Pashur, son of Malchijah).\n    *   **Maasiai** (son of Adiel, son of Jahzerah, son of Meshullam, son of Meshillemith, son of Immer).\n    *   Their brethren, heads of fathers' houses, numbered **1,760** able men for service.\n*   **Levites:**\n    *   **Shemaiah** (son of Hasshub, son of Azrikam, son of Hashabiah) of the **Merari** lineage.\n    *   **Bakbakkar, Heresh, Galal, and Mattaniah** (son of Micah, son of Zichri, son of Asaph).\n    *   **Obadiah** (son of Shemaiah, son of Galal, son of Jeduthun).\n    *   **Berechiah** (son of Asa, son of Elkanah) who dwelt in the villages of the **Netophathites**.\n*   **Porters:**\n    *   Shallum, Akkub, Talmon, and Ahiman, and their brethren. Shallum was chief, waiting at the king's gate eastward.\n    *   **Shallum** (son of Kore, son of Ebiasaph, son of Korah) and his brethren, the **Korahites**, were over the work of service and keepers of the gates of the tabernacle. Their fathers were keepers of the entry of the host of the LORD.\n    *   **Phinehas** (son of Eleazar) was a former ruler over them.\n    *   **Zechariah** (son of Meshelemiah) was porter of the door of the tabernacle of the congregation.\n    *   All chosen porters numbered **212**, reckoned by genealogy in their villages, as ordained by **David** and **Samuel** the seer. They oversaw the gates by wards in four quarters (east, west, north, south). Their brethren were to come after seven days.\n    *   These four chief porters were over the chambers and treasuries, lodging about the house of God due to their charge and the daily opening.\n\n**Responsibilities of Levites:**\n*   Some were in charge of ministering vessels, tracking them in and out.\n*   Others oversaw vessels and sanctuary instruments, as well as fine flour, wine, oil, frankincense, and spices.\n*   Some of the sons of priests made the ointment of spices.\n*   **Mattithiah** (a Levite, first-born of Shallum the Korahite) was over the things made in pans.\n*   Other brethren of the **Kohathites** were over the showbread, preparing it every Sabbath.\n\n**Singers:**\n*   Chief fathers of the Levites who remained in chambers were free, employed day and night. These chief fathers lived at Jerusalem and were chief throughout their generations.\n\n**Inhabitants of Gibeon:**\n*   **Jehiel**, father of Gibeon, whose wife was **Maachah**.\n    *   His sons: Abdon, Zur, Kish, Baal, Ner, Nadab, Gedor, Ahio, Zechariah, and Mikloth.\n    *   Mikloth begat Shimeam.\n    *   These also dwelt with their brethren at Jerusalem.\n*   **Ner** begat **Kish**.\n*   **Kish** begat **Saul**, Jonathan, Malchi-shua, Abinadab, and Esh-baal.\n*   **Jonathan's** son was **Merib-baal**.\n*   **Merib-baal** begat **Micah**.\n*   **Micah's** sons: Pithon, Melech, Tahrea, and Ahaz.\n*   **Ahaz** begat Jarah.\n*   **Jarah** begat Alemeth, Azmaveth, and Zimri.\n*   **Zimri** begat Moza.\n*   **Moza** begat Binea.\n*   His son Rephaiah, his son Eleasah, his son Azel.\n*   **Azel's** six sons: Azrikam, Bocheru, Ishmael, Sheariah, Obadiah, and Hanan."
        ],
        [
         "9",
         "1 Chronicles",
         "10",
         "Now the Philistines fought against Israel; and the men of Israel fled from before the Philistines, and fell down slain in mount Gilboa. And the Philistines followed hard after Saul, and after his sons; and the Philistines slew Jonathan, and Abinadab, and Malchi-shua, the sons of Saul. And the battle prevailed against Saul, and the archers hit him, and he was wounded by the archers. Then said Saul to his armor-bearer, Draw thy sword, and thrust me through therewith; lest these uncircumcised come and abuse me. But his armor-bearer would not; for he was greatly afraid. So Saul took a sword, and fell upon it. And when his armor-bearer saw that Saul was dead, he fell likewise on the sword, and died. So Saul died, and his three sons, and all his house died together. And when all the men of Israel that were in the valley saw that they fled, and that Saul and his sons were dead, then they forsook their cities, and fled: and the Philistines came and dwelt in them. And it came to pass on the morrow, when the Philistines came to strip the slain, that they found Saul and his sons fallen in mount Gilboa. And when they had stripped him, they took his head, and his armor, and sent into the land of the Philistines around, to carry tidings to their idols, and to the people. And they put his armor in the house of their gods, and fastened his head in the temple of Dagon. And when all Jabesh-gilead heard all that the Philistines had done to Saul, They arose, all the valiant men, and took away the body of Saul, and the bodies of his sons, and brought them to Jabesh, and buried their bones under the oak in Jabesh, and fasted seven days. So Saul died for his transgression which he committed against the LORD, even against the word of the LORD, which he kept not, and also for asking counsel of one that had a familiar spirit, to inquire of it; And inquired not of the LORD: therefore he slew him, and turned the kingdom to David the son of Jesse.",
         "Here is a summary of the provided Bible chapter, preserving the specified details:\n\nThe Philistines fought against Israel, causing the men of Israel to flee and fall slain on Mount Gilboa. The Philistines pursued Saul and his sons, killing Jonathan, Abinadab, and Malchi-shua, the sons of Saul. The battle turned against Saul, and archers wounded him. Saul asked his armor-bearer to kill him to prevent abuse by the \"uncircumcised,\" but the armor-bearer refused out of fear. Saul then fell on his own sword and died. Upon seeing Saul dead, his armor-bearer also fell on his sword and died. Thus, Saul and his three sons, and their entire household, died. The men of Israel in the valley, witnessing the flight and the deaths of Saul and his sons, abandoned their cities, which the Philistines then occupied.\n\nThe next day, when the Philistines came to strip the slain, they found Saul and his sons dead on Mount Gilboa. After stripping Saul, they took his head and armor, sending them throughout the Philistine land to report to their idols and people. Saul's armor was placed in the house of their gods, and his head was fastened in the temple of Dagon.\n\nWhen the inhabitants of Jabesh-gilead heard what the Philistines had done to Saul, all the valiant men rose up. They took the bodies of Saul and his sons and brought them to Jabesh. There, they buried their bones under the oak tree and fasted for seven days.\n\nThe chapter concludes by stating that Saul died for his transgressions against the LORD, specifically for not keeping the word of the LORD and for seeking counsel from a medium instead of inquiring of the LORD. Because of this, the LORD slew him and turned the kingdom to David, the son of Jesse."
        ],
        [
         "10",
         "1 Chronicles",
         "11",
         "Then all Israel gathered themselves to David to Hebron, saying, Behold, we are thy bone and thy flesh. And moreover in time past, even when Saul was king, thou wast he that leddest out and broughtest in Israel: and the LORD thy God said to thee, Thou shalt feed my people Israel, and thou shalt be ruler over my people Israel. Therefore came all the elders of Israel to the king to Hebron; and David made a covenant with them in Hebron before the LORD; and they anointed David king over Israel, according to the word of the LORD by Samuel. And David and all Israel went to Jerusalem, which is Jebus; where the Jebusites were, the inhabitants of the land. And the inhabitants of Jebus said to David, Thou shalt not come hither. Nevertheless David took the castle of Zion, which is the city of David. And David said, Whoever smiteth the Jebusites first shall be chief and captain. So Joab the son of Zeruiah went up first, and was chief. And David dwelt in the castle; therefore they called it, The city of David. And he built the city around, even from Millo around: and Joab repaired the rest of the city. So David became greater and greater: for the LORD of hosts was with him. These also are the chief of the mighty men whom David had, who strengthened themselves with him in his kingdom, and with all Israel, to make him king according to the word of the LORD concerning Israel. And this is the number of the mighty men whom David had; Jashobeam a Hachmonite, the chief of the captains: he lifted his spear against three hundred slain by him at one time. And after him was Eleazar the son of Dodo, the Ahohite, who was one of the three mighties. He was with David at Pas-dammim, and there the Philistines were gathered to battle, where was a parcel of ground full of barley; and the people fled from before the Philistines. And they set themselves in the midst of that parcel, and delivered it, and slew the Philistines; and the LORD saved them by a great deliverance. Now three of the thirty captains went down to the rock to David, into the cave of Adullam; and the host of the Philistines encamped in the valley of Rephaim. And David was then in the hold, and the Philistines' garrison was then at Beth-lehem. And David longed, and said, Oh that one would give me drink of the water of the well of Beth-lehem, that is at the gate! And the three broke through the host of the Philistines, and drew water out of the well of Beth-lehem, that was by the gate, and took it, and brought it to David: but David would not drink of it, but poured it out to the LORD, And said, My God forbid it me, that I should do this thing: shall I drink the blood of these men that have put their lives in jeopardy? for with the jeopardy of their lives they brought it. Therefore he would not drink it. These things did these three mightiest. And Abishai the brother of Joab, he was chief of the three: for lifting his spear against three hundred, he slew them, and had a name among the three. Of the three, he was more honorable than the two; for he was their captain: but he attained not to the first three. Benaiah the son of Jehoiada, the son of a valiant man of Kabzeel, who had done many acts; he slew two lion-like men of Moab: also he went down and slew a lion in a pit in a snowy day. And he slew an Egyptian, a man of great stature, five cubits high; and in the Egyptian's hand was a spear like a weaver's beam; and he went down to him with a staff, and plucked the spear out of the Egyptian's hand, and slew him with his own spear. These things did Benaiah the son of Jehoiada, and had the name among the three mighties. Behold, he was honorable among the thirty, but attained not to the first three: and David set him over his guard. Also the valiant men of the armies were, Asahel the brother of Joab, Elhanan the son of Dodo of Beth-lehem, Shammoth the Harorite, Helez the Pelonite, Ira the son of Ikkesh the Tekoite, Abiezer the Antothite, Sibbecai the Hushathite, Ilai the Ahohite, Maharai the Netophathite, Heled the son of Baanah the Netophathite, Ithai the son of Ribai of Gibeah, that pertained to the children of Benjamin, Benaiah the Pirathonite, Hurai of the brooks of Gaash, Abiel the Arbathite, Azmaveth the Baharumite, Eliahba the Shaalbonite, The sons of Hashem the Gizonite, Jonathan the son of Shage the Hararite, Ahiam the son of Sacar the Hararite, Eliphel the son of Ur, Hepher the Mecherathite, Ahijah the Pelonite, Hezro the Carmelite, Naarai the son of Ezbai, Joel the brother of Nathan, Mibhar the son of Haggeri, Zelek the Ammonite, Naharai the Berothite, the armor-bearer of Joab the son of Zeruiah, Ira the Ithrite, Gareb the Ithrite, Uriah the Hittite, Zabad the son of Ahlai, Adina the son of Shiza the Reubenite, a captain of the Reubenites, and thirty with him, Hanan the son of Maachah, and Joshaphat the Mithnite, Uzzia the Ashterathite, Shama and Jehiel the sons of Hothan the Aroerite, Jediael the son of Shimri, and Joha his brother, the Tizite, Eliel the Mehavite, and Jeribai, and Joshaviah, the sons of Elnaam, and Ithmah the Moabite, Eliel, and Obed, and Jasiel the Mesobaite.",
         "This chapter details David's ascendance to the kingship of Israel and his subsequent consolidation of power, highlighting his military prowess and the loyalty of his mighty men.\n\nThe chapter begins with all of Israel gathering to David in Hebron. They acknowledge his past leadership during Saul's reign and affirm God's word through Samuel that David would be their ruler. The elders of Israel formally covenant with David in Hebron, and he is anointed king over Israel.\n\nDavid then leads all of Israel to Jerusalem, which was then known as Jebus, and inhabited by the Jebusites. Despite the Jebusites' defiance, David captures the stronghold of Zion, establishing it as the City of David. Joab the son of Zeruiah is appointed chief and captain for being the first to ascend and conquer the city. David builds and expands the city, with Joab repairing the rest. David's power grows as the \"LORD of hosts\" is with him.\n\nThe chapter then lists and describes some of David's most formidable warriors. It begins with Jashobeam, the chief of the captains, who single-handedly slew 300 men. Eleazar the son of Dodo the Ahohite is mentioned as one of the three mightiest. He and his men bravely fought the Philistines in a barley field at Pas-dammim, delivering a great victory.\n\nThe narrative then recounts a moment of intense loyalty from three of the thirty captains. While David was in the stronghold and the Philistines were encamped in the valley of Rephaim, with a garrison in Bethlehem, David expressed a longing for water from Bethlehem's well. These three warriors broke through the Philistine lines, drew water from the well by the gate, and brought it to David. David, however, refused to drink it, pouring it out to the LORD as a libation, considering it the \"blood of these men\" who risked their lives.\n\nAbishai, Joab's brother, is identified as the chief of these three mightiest, having slain 300 men with his spear, earning a prominent name among them. Although more honorable than two of the three, he did not reach the status of the top three.\n\nBenaiah the son of Jehoiada, a valiant man from Kabzeel, is also highlighted for his extraordinary deeds. He slew two \"lion-like men\" of Moab, killed a lion in a pit on a snowy day, and defeated a giant Egyptian with a spear like a weaver's beam by using his own spear. Benaiah was honored among the thirty but not among the top three, and David appointed him over his guard.\n\nThe chapter concludes by listing numerous other valiant men of David's armies, including:\n*   Asahel the brother of Joab\n*   Elhanan the son of Dodo of Bethlehem\n*   Shammoth the Harorite\n*   Helez the Pelonite\n*   Ira the son of Ikkesh the Tekoite\n*   Abiezer the Antothite\n*   Sibbecai the Hushathite\n*   Ilai the Ahohite\n*   Maharai the Netophathite\n*   Heled the son of Baanah the Netophathite\n*   Ithai the son of Ribai of Gibeah\n*   Benaiah the Pirathonite\n*   Hurai of the brooks of Gaash\n*   Abiel the Arbathite\n*   Azmaveth the Baharumite\n*   Eliahba the Shaalbonite\n*   The sons of Hashem the Gizonite\n*   Jonathan the son of Shage the Hararite\n*   Ahiam the son of Sacar the Hararite\n*   Eliphel the son of Ur\n*   Hepher the Mecherathite\n*   Ahijah the Pelonite\n*   Hezro the Carmelite\n*   Naarai the son of Ezbai\n*   Joel the brother of Nathan\n*   Mibhar the son of Haggeri\n*   Zelek the Ammonite\n*   Naharai the Berothite (Joab's armor-bearer)\n*   Ira the Ithrite\n*   Gareb the Ithrite\n*   Uriah the Hittite\n*   Zabad the son of Ahlai\n*   Adina the son of Shiza the Reubenite (a captain of the Reubenites) and thirty men with him\n*   Hanan the son of Maachah\n*   Joshaphat the Mithnite\n*   Uzzia the Ashterathite\n*   Shama and Jehiel the sons of Hothan the Aroerite\n*   Jediael the son of Shimri\n*   Joha his brother, the Tizite\n*   Eliel the Mehavite\n*   Jeribai and Joshaviah, the sons of Elnaam\n*   Ithmah the Moabite\n*   Eliel, Obed, and Jasiel the Mesobaite."
        ],
        [
         "11",
         "1 Chronicles",
         "12",
         "Now these are they that came to David to Ziklag, while he yet kept himself close because of Saul the son of Kish: and they were among the mighty men, helpers of the war. They were armed with bows, and could use both the right hand and the left in hurling stones, and shooting arrows from a bow, even of Saul's brethren of Benjamin. The chief was Ahiezer, then Joash, the sons of Shemaah the Gibeathite; and Jeziel, and Pelet, the sons of Azmaveth; and Berachah, and Jehu the Antothite, And Ismaiah the Gibeonite, a mighty man among the thirty, and over the thirty; and Jeremiah, and Jahaziel, and Johanan, and Josabad the Gederathite, Eluzai, and Jerimoth, and Bealiah, and Shemariah, and Shephatiah the Haruphite, Elkanah, and Jesiah, and Azareel, and Joezer, and Jashobeam, the Korhites. And Joelah, and Zebadiah, the sons of Jeroham of Gedor. And of the Gadites there separated themselves to David in the hold in the wilderness men of might, and men of war fit for the battle, that could handle shield and buckler, whose faces were like the faces of lions, and were as swift as the roes upon the mountains; Ezer the first, Obadiah the second, Eliab the third, Mishmannah the fourth, Jeremiah the fifth, Attai the sixth, Eliel the seventh, Johanan the eighth, Elzabad the ninth, Jeremiah the tenth, Machbanai the eleventh. These were of the sons of Gad, captains of the host: one of the least was over a hundred, and the greatest over a thousand. These are they that went over Jordan in the first month, when it had overflowed all its banks; and they put to flight all them of the valleys, both towards the east, and towards the west. And there came of the children of Benjamin and Judah to the hold to David. And David went out to meet them, and answered and said to them, If ye have come peaceably to me to help me, my heart shall be knit to you: but if ye have come to betray me to my enemies, seeing there is no wrong in my hands, the God of our fathers look on it, and rebuke it. Then the spirit came upon Amasai, who was chief of the captains, and he said, Thine are we, David, and on thy side, thou son of Jesse: peace, peace be to thee, and peace be to thy helpers; for thy God helpeth thee. Then David received them, and made them captains of the band. And there fell some of Manasseh to David, when he came with the Philistines against Saul to battle: but they helped them not: for the lords of the Philistines upon advisement sent him away, saying, He will fall to his master Saul to the jeopardy of our heads. And as he went to Ziklag, there fell to him of Manasseh, Adnah, and Jozabad, and Jediael, and Michael, and Jozabad, and Elihu, and Zilthai, captains of the thousands that were of Manasseh. And they helped David against the band of the rovers: for they were all mighty men of valor, and were captains in the host. For at that time day by day there came to David to help him, until it was a great host, like the host of God. And these are the numbers of the bands that were ready armed to the war, and came to David to Hebron, to turn the kingdom of Saul to him, according to the word of the LORD. The children of Judah that bore shield and spear were six thousand and eight hundred, ready armed for war. Of the children of Simeon, mighty men of valor for war, seven thousand and one hundred. Of the children of Levi four thousand and six hundred. And Jehoiada was the leader of the Aaronites, and with him were three thousand and seven hundred; And Zadok, a young man mighty of valor, and of his father's house twenty and two captains. And of the children of Benjamin, the kindred of Saul, three thousand: for hitherto the greatest part of them had kept the ward of the house of Saul. And of the children of Ephraim twenty thousand and eight hundred, mighty men of valor, famous throughout the house of their fathers. And of the half tribe of Manasseh eighteen thousand, who were expressed by name, to come and make David king. And of the children of Issachar, who were men that had understanding of the times, to know what Israel ought to do; the heads of them were two hundred; and all their brethren were at their command. Of Zebulun, such as went forth to battle, expert in war, with all instruments of war, fifty thousand, who could keep rank: they were not of double heart. And of Naphtali a thousand captains, and with them with shield and spear thirty and seven thousand. And of the Danites expert in war twenty and eight thousand and six hundred. And of Asher, such as went forth to battle, expert in war, forty thousand. And on the other side of Jordan, of the Reubenites, and the Gadites, and of the half tribe of Manasseh, with all manner of instruments of war for the battle, a hundred and twenty thousand. All these men of war, that could keep rank, came with a perfect heart to Hebron, to make David king over all Israel: and all the rest also of Israel were of one heart to make David king. And there they were with David three days, eating and drinking: for their brethren had prepared for them. Moreover, they that were nigh them, even to Issachar, and Zebulun, and Naphtali, brought bread on asses, and on camels, and on mules, and on oxen, and provision, meal, cakes of figs, and bunches of raisins, and wine, and oil, and oxen, and sheep abundantly: for there was joy in Israel.",
         "This chapter details the mighty men who came to David at Ziklag and later at Hebron to support his claim to the throne, while he was still hiding from Saul.\n\nInitially, at Ziklag, warriors joined David, including:\n*   **From Benjamin, brethren of Saul:** Ahiezer, Joash (sons of Shemaah the Gibeathite), Jeziel, Pelet (sons of Azmaveth), Berachah, Jehu (the Antothites), Ismaiah the Gibeonite (chief among the thirty), Jeremiah, Jahaziel, Johanan, Josabad (the Gederathite), Eluzai, Jerimoth, Bealiah, Shemariah, Shephatiah (the Haruphite), Elkanah, Jesiah, Azareel, Joezer, Jashobeam (the Korhites).\n*   **From Gedor, sons of Jeroham:** Joelah, Zebadiah.\n*   **From the Gadites:** Ezer (first), Obadiah (second), Eliab (third), Mishmannah (fourth), Jeremiah (fifth), Attai (sixth), Eliel (seventh), Johanan (eighth), Elzabad (ninth), Jeremiah (tenth), Machbanai (eleventh). These were captains of the host, with one of the least leading a hundred and the greatest a thousand. They were noted for their lion-like faces and swiftness. They crossed the Jordan in the first month when it overflowed its banks, driving out valley dwellers.\n*   **From Benjamin and Judah:** They came to David's stronghold, and David welcomed them after they declared their loyalty, with Amasai, chief of the captains, speaking prophetically.\n*   **From Manasseh:** When David went with the Philistines against Saul, some of Manasseh joined him. Later, as he went to Ziklag, Adnah, Jozabad, Jediael, Michael, Jozabad, Elihu, and Zilthai, captains of thousands from Manasseh, joined him and helped him against rovers.\n\nThe chapter then provides the numbers of armed men who came to Hebron to make David king, according to the LORD's word:\n*   **Judah:** 6,800 armed men with shield and spear.\n*   **Simeon:** 7,100 mighty men of valor.\n*   **Levi:** 4,600.\n*   **Aaronites (led by Jehoiada):** 3,700.\n*   **Zadok (young man, mighty of valor):** with 22 captains from his father's house.\n*   **Benjamin (kindred of Saul):** 3,000.\n*   **Ephraim:** 20,800 mighty men of valor.\n*   **Half tribe of Manasseh:** 18,000, specifically named to make David king.\n*   **Issachar:** 200 heads, with all their brethren at their command, noted for their understanding of the times.\n*   **Zebulun:** 50,000 expert in war, who could keep rank and were not of double heart.\n*   **Naphtali:** 1,000 captains, with 37,000 men bearing shield and spear.\n*   **Danites:** 28,600 expert in war.\n*   **Asher:** 40,000 who went forth to battle, expert in war.\n*   **On the other side of Jordan (Reubenites, Gadites, and half tribe of Manasseh):** 120,000 with all manner of instruments of war.\n\nIn total, these 372,000 men (summing the numbers from Judah to the half tribe of Manasseh on the other side of Jordan) came with a perfect heart to Hebron to make David king. The rest of Israel also had one heart in this endeavor. They celebrated with David for three days, eating and drinking, with provisions supplied by their brethren and those nearby from Issachar, Zebulun, and Naphtali."
        ],
        [
         "12",
         "1 Chronicles",
         "13",
         "And David consulted with the captains of thousands, and of hundreds, and with every leader. And David said to all the congregation of Israel, If it seemeth good to you, and that it is of the LORD our God, let us send abroad to our brethren every where, that are left in all the land of Israel, and with them also to the priests and Levites who are in their cities and suburbs, that they may assemble to us: And let us bring again to us the ark of our God: for we inquired not at it in the days of Saul. And all the congregation said that they would do so: for the thing was right in the eyes of all the people. So David assembled all Israel, from Shihor of Egypt even to the entrance of Hemath, to bring the ark of God from Kirjath-jearim. And David went up, and all Israel, to Baalah, that is, to Kirjath-jearim, which belonged to Judah, to bring up thence the ark of God the LORD, that dwelleth between the cherubim, whose name is called on it. And they carried the ark of God in a new cart out of the house of Abinadab: and Uzza and Ahio drove the cart. And David and all Israel played before God with all their might, and with singing, and with harps, and with psalteries, and with timbrels, and with cymbals, and with trumpets. And when they came to the threshing-floor of Chidon, Uzza put forth his hand to hold the ark; for the oxen stumbled. And the anger of the LORD was kindled against Uzza, and he smote him, because he put his hand to the ark: and there he died before God. And David was displeased, because the LORD had made a breach upon Uzza: wherefore that place is called Perez-uzza to this day. And David was afraid of God that day, saying, How shall I bring the ark of God home to me? So David brought not the ark to himself to the city of David, but carried it aside into the house of Obed-edom the Gittite. And the ark of God remained with the family of Obed-edom in his house three months. And the LORD blessed the house of Obed-edom, and all that he had.",
         "This chapter details David's efforts to bring the Ark of God back to Jerusalem. After consulting with captains, leaders, and the entire congregation of Israel, David proposed to gather all the remaining Israelites, priests, and Levites to retrieve the Ark, which had been neglected during Saul's reign. The people agreed, finding the plan righteous.\n\nDavid then assembled all Israel, from Shihor of Egypt to the entrance of Hamath, to bring the Ark from Kirjath-jearim. David and all Israel went up to Baalah, which is Kirjath-jearim in Judah, to bring up the Ark of the LORD, whose name is called upon it and who dwells between the cherubim.\n\nThe Ark was placed on a new cart driven by Uzza and Ahio out of the house of Abinadab. David and all Israel celebrated with singing, harps, psalteries, timbrels, cymbals, and trumpets. However, when they reached the threshing-floor of Chidon, the oxen stumbled, and Uzza reached out to steady the Ark. The LORD's anger was kindled against Uzza for touching the Ark, and he died there before God.\n\nDavid became displeased and fearful because of the LORD's action against Uzza, and the place was named Perez-uzza. David decided not to bring the Ark to the city of David but instead took it aside into the house of Obed-edom the Gittite. The Ark remained with Obed-edom's family for three months, during which the LORD blessed Obed-edom and all his possessions."
        ],
        [
         "13",
         "1 Chronicles",
         "14",
         "Now Hiram king of Tyre sent messengers to David, and timber of cedars, with masons and carpenters, to build him a house. And David perceived that the LORD had confirmed him king over Israel, for his kingdom was exalted on high, because of his people Israel. And David took more wives at Jerusalem: and David begat more sons and daughters. Now these are the names of his children which he had in Jerusalem; Shammua, and Shobab, Nathan, and Solomon, And Ibhar, and Elishua, and Elpalet, And Nogah, and Nepheg, and Japhia, And Elishama, and Beeliada, and Eliphalet. And when the Philistines heard that David was anointed king over all Israel, all the Philistines went up to seek David. And David heard of it, and went out against them. And the Philistines came and spread themselves in the valley of Rephaim. And David inquired of God, saying, Shall I go up against the Philistines? and wilt thou deliver them into my hand? And the LORD said to him, Go up; for I will deliver them into thy hand. So they came up to Baal-perazim; and David smote them there. Then David said, God hath broken in upon my enemies by my hand like the breaking forth of waters: therefore they called the name of that place Baal-perazim. And when they had left their gods there, David gave a commandment, and they were burned with fire. And the Philistines yet again spread themselves abroad in the valley. Therefore David inquired again of God: and God said to him, Go not up after them; turn away from them, and come upon them over against the mulberry trees. And it shall be, when thou shalt hear a sound of going in the tops of the mulberry trees, then thou shalt go out to battle: for God hath gone forth before thee to smite the host of the Philistines. David therefore did as God commanded him: and they smote the host of the Philistines from Gibeon even to Gazer. And the fame of David went out into all lands; and the LORD brought the fear of him upon all nations.",
         "Here's a summary of the provided Bible chapter, preserving the details accurately:\n\nThe chapter begins with **Hiram, king of Tyre**, sending messengers to **David** with cedar timber, masons, and carpenters to build him a house. David recognized that the **LORD** had confirmed him as king over Israel and that his kingdom was exalted because of his people.\n\nDavid then took more wives in Jerusalem, and fathered more sons and daughters. The names of his children born in Jerusalem are listed: **Shammua, Shobab, Nathan, Solomon, Ibhar, Elishua, Elpalet, Nogah, Nepheg, Japhia, Elishama, Beeliada, and Eliphalet.**\n\nUpon hearing that David was anointed king over all Israel, the **Philistines** came to seek him. David heard of their approach and went out to meet them. The Philistines spread themselves in the **valley of Rephaim**. David inquired of God, asking if he should go up against them and if God would deliver them into his hand. The **LORD** instructed him to go, promising to deliver them. David then went up to **Baal-perazim** and smote the Philistines. He named the place Baal-perazim, stating that God had broken through his enemies by his hand like the breaking forth of waters. David commanded that the gods the Philistines left behind be burned with fire.\n\nThe Philistines spread themselves out again in the valley. David again inquired of God, who told him not to go up directly but to turn away and approach them from opposite the **mulberry trees**. God instructed David that when he heard a sound of going in the tops of the mulberry trees, he should then go out to battle, as God would have gone forth before him to smite the Philistine host. David followed God's command, and they smote the Philistines from **Gibeon** even to **Gazer**. As a result, David's fame spread into all lands, and the LORD brought the fear of him upon all nations."
        ],
        [
         "14",
         "1 Chronicles",
         "15",
         "And David made him houses in the city of David, and prepared a place for the ark of God, and pitched for it a tent. Then David said, None ought to carry the ark of God but the Levites: for them hath the LORD chosen to carry the ark of God, and to minister to him for ever. And David assembled all Israel to Jerusalem, to bring up the ark of the LORD to its place, which he had prepared for it. And David assembled the children of Aaron, and the Levites: Of the sons of Kohath; Uriel the chief, and his brethren a hundred and twenty: Of the sons of Merari; Asaiah the chief, and his brethren two hundred and twenty: Of the sons of Gershom; Joel the chief, and his brethren a hundred and thirty: Of the sons of Elizaphan; Shemaiah the chief, and his brethren two hundred: Of the sons of Hebron; Eliel the chief, and his brethren eighty: Of the sons of Uzziel: Amminadab the chief, and his brethren a hundred and twelve. And David called for Zadok and Abiathar the priests, and for the Levites, for Uriel, Asaiah, and Joel, Shemaiah, and Eliel, and Amminadab, And said to them, Ye are the chief of the fathers of the Levites: sanctify yourselves, both ye and your brethren, that ye may bring up the ark of the LORD God of Israel to the place that I have prepared for it. For because ye did it not at the first, the LORD our God made a breach upon us, for that we sought him not after the due order. So the priests and the Levites sanctified themselves to bring up the ark of the LORD God of Israel. And the children of the Levites bore the ark of God upon their shoulders with the staffs on it, as Moses commanded, according to the word of the LORD. And David spoke to the chief of the Levites to appoint their brethren to be the singers with instruments of music, psalteries, and harps, and cymbals, sounding, by lifting up the voice with joy. So the Levites appointed Heman the son of Joel; and of his brethren, Asaph the son of Berechiah; and of the sons of Merari their brethren, Ethan the son of Kushaiah; And with them their brethren of the second degree, Zechariah, Ben, and Jaaziel, and Shemiramoth, and Jehiel, and Unni, Eliab, and Benaiah, and Maaseiah, and Mattithiah, and Elipheleh, and Mikneiah, and Obed-edom, and Jeiel, the porters. So the singers, Heman, Asaph, and Ethan, were appointed to sound with cymbals of brass; And Zechariah, and Aziel, and Shemiramoth, and Jehiel, and Unni, and Eliab, and Maaseiah, and Benaiah, with psalteries on Alamoth; And Mattithiah, and Elipheleh, and Mikneiah, and Obed-edom, and Jeiel, and Azaziah, with harps on the Sheminith to excel. And Chenaniah, chief of the Levites, was for song: he instructed about the song, because he was skillful. And Berechiah and Elkanah were door-keepers for the ark. And Shebaniah, and Jehoshaphat, and Nethaneel, and Amasai, and Zechariah, and Benaiah, and Eliezer the priests, did blow with the trumpets before the ark of God: and Obed-edom and Jehiah were door-keepers for the ark. So David and the elders of Israel, and the captains over thousands, went to bring up the ark of the covenant of the LORD from the house of Obed-edom with joy. And it came to pass, when God helped the Levites that bore the ark of the covenant of the LORD, that they offered seven bullocks and seven rams. And David was clothed with a robe of fine linen, and all the Levites that bore the ark, and the singers, and Chenaniah the master of the song with the singers: David also had upon him an ephod of linen. Thus all Israel brought up the ark of the covenant of the LORD with shouting, and with sound of the cornet, and with trumpets, and with cymbals, making a noise with psalteries and harps. And it came to pass, as the ark of the covenant of the LORD came to the city of David, that Michal the daughter of Saul, looking out at a window, saw king David dancing and playing: and she despised him in her heart.",
         "David established himself in the city of David, preparing a place and a tent for the Ark of God. He declared that only the Levites, chosen by the LORD, were to carry the Ark and minister to Him forever. David gathered all Israel in Jerusalem to bring up the Ark.\n\nHe assembled the sons of Aaron and the Levites, specifically listing the chiefs and their brethren from various Kohathite, Merarite, and Gershomite families:\n\n*   **Kohathites:** Uriel (chief) and 120 brethren.\n*   **Merarites:** Asaiah (chief) and 220 brethren.\n*   **Gershomites:** Joel (chief) and 130 brethren.\n*   **Elizaphanites:** Shemaiah (chief) and 200 brethren.\n*   **Hebronites:** Eliel (chief) and 80 brethren.\n*   **Uzzielites:** Amminadab (chief) and 112 brethren.\n\nDavid summoned the priests Zadok and Abiathar, along with the Levites Uriel, Asaiah, Joel, Shemaiah, Eliel, and Amminadab. He instructed them to sanctify themselves and their brethren to bring up the Ark, acknowledging their past failure due to not seeking God in the proper order. The priests and Levites sanctified themselves.\n\nThe Levites carried the Ark of God on their shoulders with poles, as Moses had commanded. David then appointed Levites as musicians, with instruments such as psalteries, harps, and cymbals, to lift their voices in joy. The appointed singers were:\n\n*   **Heman** (son of Joel)\n*   **Asaph** (son of Berechiah)\n*   **Ethan** (son of Kushaiah)\n\nWith them were brethren of the second degree: Zechariah, Ben, Jaaziel, Shemiramoth, Jehiel, Unni, Eliab, Benaiah, Maaseiah, Mattithiah, Elipheleh, Mikneiah, Obed-edom, and Jeiel, who were porters.\n\nThe singers were appointed to sound with brass cymbals: Heman, Asaph, and Ethan. Zechariah, Aziel, Shemiramoth, Jehiel, Unni, Eliab, Maaseiah, and Benaiah were assigned psalteries on Alamoth. Mattithiah, Elipheleh, Mikneiah, Obed-edom, Jeiel, and Azaziah were assigned harps on the Sheminith to excel.\n\nChenaniah, the chief of the Levites for song, was skilled and instructed the singers. Berechiah and Elkanah were doorkeepers for the Ark. Priests Shebaniah, Jehoshaphat, Nethaneel, Amasai, Zechariah, Benaiah, and Eliezer blew the trumpets before the Ark, while Obed-edom and Jehiah were also doorkeepers.\n\nDavid, the elders, and captains over thousands joyfully went to bring up the Ark from the house of Obed-edom. When God helped the Levites bearing the Ark, they sacrificed seven bullocks and seven rams. David wore a fine linen robe and an ephod of linen, as did the Levites carrying the Ark, the singers, and Chenaniah. All Israel brought up the Ark with shouting, trumpets, cymbals, psalteries, and harps. As the Ark entered the city of David, Michal, Saul's daughter, saw David dancing and playing, and despised him in her heart."
        ],
        [
         "15",
         "1 Chronicles",
         "16",
         "So they brought the ark of God, and set it in the midst of the tent that David had pitched for it: and they offered burnt-sacrifices and peace-offerings before God. And when David had made an end of offering the burnt-offerings and the peace-offerings, he blessed the people in the name of the LORD. And he dealt to every one of Israel, both man and woman, to every one a loaf of bread, and a good piece of flesh, and a flagon of wine. And he appointed certain of the Levites to minister before the ark of the LORD, and to record, and to thank and praise the LORD God of Israel: Asaph the chief, and next to him Zechariah, Jeiel, and Shemiramoth, and Jehiel, and Mattithiah, and Eliab, and Benaiah, and Obed-edom: and Jeiel with psalteries and with harps; but Asaph made a sound with cymbals; Benaiah also and Jahaziel the priests with trumpets continually before the ark of the covenant of God. Then on that day David delivered first this psalm to thank the LORD into the hand of Asaph and his brethren. Give thanks to the LORD, call upon his name, make known his deeds among the people. Sing to him, sing psalms to him, talk ye of all his wonderous works. Glory ye in his holy name: let the heart of them rejoice that seek the LORD. Seek the LORD and his strength, seek his face continually. Remember his wonderful works that he hath done, his wonders, and the judgments of his mouth; O ye seed of Israel his servant, ye children of Jacob, his chosen ones. He is the LORD our God; his judgments are in all the earth. Be ye mindful always of his covenant; the word which he commanded to a thousand generations; Even of the covenant which he made with Abraham, and of his oath to Isaac; And which he confirmed to Jacob for a law, and to Israel for an everlasting covenant, Saying, To thee will I give the land of Canaan, the lot of your inheritance; When ye were but few, even a few, and strangers in it. And when they went from nation to nation, and from one kingdom to another people; He suffered no man to do them wrong: yea, he reproved kings for their sakes, Saying, Touch not my anointed, and do my prophets no harm. Sing to the LORD, all the earth; show forth from day to day his salvation. Declare his glory among the heathen; his wonderful works among all nations. For great is the LORD, and greatly to be praised: he also is to be feared above all gods. For all the gods of the people are idols: but the LORD made the heavens. Glory and honor are in his presence; strength and gladness are in his place. Give to the LORD, ye kindreds of the people, give to the LORD glory and strength. Give to the LORD the glory due to his name: bring an offering, and come before him: worship the LORD in the beauty of holiness. Fear before him, all the earth: the world also shall be stable, that it be not moved. Let the heavens be glad, and let the earth rejoice: and let men say among the nations, The LORD reigneth. Let the sea roar, and the fullness thereof: let the fields rejoice, and all that is therein. Then shall the trees of the wood sing at the presence of the LORD, because he cometh to judge the earth. O give thanks to the LORD; for he is good; for his mercy endureth for ever. And say ye, Save us, O God of our salvation, and gather us together, and deliver us from the heathen, that we may give thanks to thy holy name, and glory in thy praise. Blessed be the LORD God of Israel for ever and ever. And all the people said, Amen, and praised the LORD. So he left there before the ark of the covenant of the LORD Asaph and his brethren, to minister before the ark continually, as every day's work required: And Obed-edom with their brethren, sixty and eight; Obed-edom also the son of Jeduthun and Hosah to be porters: And Zadok the priest, and his brethren the priests, before the tabernacle of the LORD in the high place that was at Gibeon, To offer burnt-offerings to the LORD upon the altar of the burnt-offering continually morning and evening, and to do according to all that is written in the law of the LORD, which he commanded Israel; And with them Heman and Jeduthun, and the rest that were chosen, who were expressed by name, to give thanks to the LORD, because his mercy endureth for ever; And with them Heman and Jeduthun with trumpets and cymbals for those that should make a sound, and with musical instruments of God. And the sons of Jeduthun were porters. And all the people departed every man to his house: and David returned to bless his house.",
         "The chapter describes the bringing of the ark of God into the tent David had prepared for it. Burnt-sacrifices and peace-offerings were made, and David blessed the people, distributing bread, flesh, and wine to everyone in Israel, man and woman.\n\nDavid appointed Levites to minister before the ark, to record, thank, and praise the LORD God of Israel. The chief among them was Asaph, followed by Zechariah, Jeiel, Shemiramoth, Jehiel, Mattithiah, Eliab, Benaiah, and Obed-edom. Jeiel and others played psalteries and harps, while Asaph used cymbals, and priests Benaiah and Jahaziel continually sounded trumpets before the ark.\n\nDavid then delivered a psalm to Asaph and his brethren for giving thanks, which included instructions to sing, speak of God's works, glory in His holy name, and seek the LORD and His strength. The psalm recalled God's covenant with Abraham, oath to Isaac, and confirmation to Jacob, promising them the land of Canaan. It also spoke of God protecting them as strangers and reproving kings for their sake. The psalm urged all the earth to sing to the LORD, declare His glory, and acknowledge His greatness and fear above all gods, as the LORD made the heavens. It called for kindreds of the people to give glory and strength to the LORD, worship Him in holiness, and recognize His reign. The chapter concludes with the people rejoicing and saying, \"The LORD reigneth.\"\n\nAfter the psalm, the people were urged to give thanks to the LORD for His goodness and mercy, and to pray for salvation and deliverance from the heathen. The chapter states that all the people said \"Amen\" and praised the LORD.\n\nAsaph and his brethren were left to minister continually before the ark. Obed-edom, along with his brethren (sixty and eight in total), and Obed-edom's son Jeduthun and Hosah were appointed as porters. Zadok the priest and his brethren served before the tabernacle of the LORD at Gibeon, offering burnt offerings continually and following the Law. Heman and Jeduthun, along with others chosen by name, were appointed to give thanks to the LORD for His everlasting mercy, and they used trumpets, cymbals, and musical instruments. The sons of Jeduthun served as porters. Finally, the people departed to their homes, and David returned to bless his house."
        ],
        [
         "16",
         "1 Chronicles",
         "17",
         "Now it came to pass, as David sat in his house, that David said to Nathan the prophet, Lo, I dwell in a house of cedars, but the ark of the covenant of the LORD remaineth under curtains. Then Nathan said to David, Do all that is in thy heart; for God is with thee. And it came to pass the same night, that the word of God came to Nathan, saying, Go and tell David my servant, Thus saith the LORD, Thou shalt not build me a house to dwell in: For I have not dwelt in a house since the day that I brought up Israel to this day; but have gone from tent to tent, and from one tabernacle to another. Wherever I have walked with all Israel, have I spoken a word to any of the judges of Israel, whom I commanded to feed my people, saying, Why have ye not built me a house of cedars? Now therefore thus shalt thou say to my servant David, Thus saith the LORD of hosts, I took thee from the sheep-cote, even from following the sheep, that thou shouldst be ruler over my people Israel: And I have been with thee whithersoever thou hast walked, and have cut off all thy enemies from before thee, and have made thee a name like the name of the great men that are in the earth. Also I will ordain a place for my people Israel, and will plant them, and they shall dwell in their place, and shall be moved no more; neither shall the children of wickedness waste them any more, as at the beginning. And since the time that I commanded judges to be over my people Israel. Moreover, I will subdue all thy enemies. Furthermore, I tell thee that the LORD will build thee a house. And it shall come to pass, when thy days shall be ended that thou must go to be with thy fathers, that I will raise up thy seed after thee, who shall be of thy sons; and I will establish his kingdom. He shall build me a house, and I will establish his throne for ever. I will be his father, and he shall be my son: and I will not take my mercy away from him, as I took it from him that was before thee: But I will settle him in my house and in my kingdom for ever: and his throne shall be established for evermore. According to all these words, and according to all this vision, so did Nathan speak to David. And David the king came and sat before the LORD, and said, Who am I, O LORD God, and what is my house, that thou hast brought me hitherto? And yet this was a small thing in thy eyes, O God; for thou hast also spoken of thy servant's house for a great while to come, and hast regarded me according to the estate of a man of high degree, O LORD God. What can David speak more to thee for the honor of thy servant? for thou knowest thy servant. O LORD, for thy servant's sake, and according to thy own heart, hast thou done all this greatness, in making known all these great things. O LORD, there is none like thee, neither is there any God besides thee, according to all that we have heard with our ears. And what one nation in the earth is like thy people Israel, whom God went to redeem to be his own people, to make thee a name of greatness and terribleness, by driving out nations from before thy people, whom thou hast redeemed out of Egypt? For thy people Israel didst thou make thy own people for ever; and thou, LORD, becamest their God. Therefore now, LORD, Let the thing that thou hast spoken concerning thy servant and concerning his house be established for ever, and do as thou hast said. Let it even be established, that thy name may be magnified for ever, saying, The LORD of hosts is the God of Israel, even a God to Israel: and let the house of David thy servant be established before thee. For thou, O my God, hast told thy servant that thou wilt build him a house: therefore thy servant hath found in his heart to pray before thee. And now, LORD, thou art God, and hast promised this goodness to thy servant: Now therefore let it please thee to bless the house of thy servant, that it may be before thee for ever: for thou blessest, O LORD, and it shall be blessed for ever.",
         "This chapter recounts a conversation between King David and the prophet Nathan. David expresses his desire to build a house of cedars for the Ark of the Covenant, while he himself dwells in such a house, and the Ark remains under curtains. Nathan initially encourages David, saying, \"Do all that is in thy heart; for God is with thee.\"\n\nHowever, that same night, God speaks to Nathan, relaying a message for David. God states that David will not build a house for Him, as God has never dwelt in a house since leading Israel out of Egypt, having always moved from tent to tabernacle. God reminds David that He chose him from the sheep-cote to be ruler over Israel, has been with him, cut off his enemies, and made him famous.\n\nGod then makes several promises to David:\n*   He will provide a place for Israel, planting them so they will dwell securely and not be wasted by wickedness.\n*   He will subdue all of David's enemies.\n*   He will build a house for David.\n*   When David dies, God will raise up his son (referring to Solomon) after him, establish his kingdom, and he will build a house for God.\n*   God will establish the throne of David's son forever, stating, \"I will be his father, and he shall be my son,\" and His mercy will not be withdrawn as it was from David's predecessor.\n*   David's son will be settled in God's house and kingdom forever, with his throne established permanently.\n\nNathan relays these words and the vision to David. David then goes before the LORD and prays, expressing humility and awe at God's promises. He marvels at God's attention to his house and his servant, acknowledging that God has done great things and made known these great things according to His own heart and for His servant's sake. David emphasizes that there is no God like Him and that Israel is a unique people whom God redeemed and made His own. He asks God to establish the word He has spoken concerning David and his house, so that His name might be magnified forever, and the house of David be established before Him. David concludes by asking God to bless his house, that it may remain before Him forever, as God blesses and it remains blessed."
        ],
        [
         "17",
         "1 Chronicles",
         "18",
         "Now after this it came to pass that David smote the Philistines, and subdued them, and took Gath and its towns out of the hand of the Philistines. And he smote Moab; and the Moabites became David's servants, and brought gifts. And David smote Hadarezer king of Zobah to Hamath, as he went to establish his dominion by the river Euphrates. And David took from him a thousand chariots, and seven thousand horsemen, and twenty thousand footmen: David also houghed all the chariot-horses, but reserved of them a hundred chariots. And when the Syrians of Damascus came to help Hadarezer king of Zobah, David slew of the Syrians two and twenty thousand men. Then David put garrisons in Syria-damascus; and the Syrians became David's servants, and brought gifts. Thus the LORD preserved David whithersoever he went. And David took the shields of gold that were on the servants of Hadarezer, and brought them to Jerusalem. Likewise from Tibhath, and from Chun, cities of Hadarezer, David brought very much brass, with which Solomon made the brazen sea, and the pillars, and the vessels of brass. Now when Tou king of Hamath heard how David had smitten all the host of Hadarezer king of Zobah; He sent Hadoram his son to king David to inquire of his welfare, and to congratulate him, because he had fought against Hadarezer, and smitten him; (for Hadarezer had warred with Tou;) and with him all manner of vessels of gold, and silver, and brass. Them also king David dedicated to the LORD, with the silver and the gold that he brought from all these nations; from Edom, and from Moab, and from the children of Ammon, and from the Philistines, and from Amalek. Moreover, Abishai the son of Zeruiah slew of the Edomites in the valley of salt eighteen thousand. And he put garrisons in Edom; and all the Edomites became David's servants. Thus the LORD preserved David whithersoever he went. So David reigned over all Israel, and executed judgment and justice among all his people. And Joab the son of Zeruiah was over the host; and Jehoshaphat the son of Ahilud, recorder; And Zadok the son of Ahitub, and Abimelech the son of Abiathar, were the priests; and Shavsha was scribe; And Benaiah the son of Jehoiada was over the Cherethites and the Pelethites; and the sons of David were chief about the king.",
         "This chapter details King David's military victories and administrative appointments. David conquered the Philistines, taking Gath and its towns. He also subdued Moab, making them his servants who brought gifts. David then defeated Hadarezer, king of Zobah, securing one thousand chariots, seven thousand horsemen, and twenty thousand footmen, though he crippled most of the horses. When the Syrians of Damascus came to aid Hadarezer, David killed twenty-two thousand of them and established garrisons in Damascus, making the Syrians his servants who brought gifts. The LORD preserved David in these endeavors. David also captured golden shields from Hadarezer's servants and brought brass from Tibhath and Chun, which Solomon later used for the brazen sea, pillars, and vessels. Tou, king of Hamath, hearing of David's victory over Hadarezer, sent his son Hadoram to congratulate David and present gifts of gold, silver, and brass. David dedicated these, along with spoils from Edom, Moab, Ammon, Philistines, and Amalek, to the LORD. Abishai, son of Zeruiah, killed eighteen thousand Edomites in the valley of salt and established garrisons, making the Edomites David's servants, and the LORD continued to preserve David. David reigned over all Israel, administering justice. Key officials included Joab, son of Zeruiah, as commander of the army; Jehoshaphat, son of Ahilud, as recorder; Zadok, son of Ahitub, and Abimelech, son of Abiathar, as priests; Shavsha as scribe; and Benaiah, son of Jehoiada, over the Cherethites and Pelethites. David's sons served as chief officials around him."
        ],
        [
         "18",
         "1 Chronicles",
         "19",
         "Now it came to pass after this, that Nahash the king of the children of Ammon died, and his son reigned in his stead. And David said, I will show kindness to Hanun the son of Nahash, because his father showed kindness to me. And David sent messengers to comfort him concerning his father. So the servants of David came into the land of the children of Ammon to Hanun, to comfort him. But the princes of the children of Ammon said to Hanun, Thinkest thou that David doth honor thy father, that he hath sent comforters to thee? are not his servants come to thee to search, and to overthrow, and to explore the land? Wherefore Hanun took David's servants, and shaved them, and cut off their garments in the midst hard by their buttocks, and sent them away. Then there went certain, and told David how the men were served. And he sent to meet them: for the men were greatly ashamed. And the king said, Tarry at Jericho until your beards are grown, and then return. And when the children of Ammon saw that they had made themselves odious to David, Hanun and the children of Ammon sent a thousand talents of silver to hire them chariots and horsemen out of Mesopotamia, and out of Syria-maachah, and out of Zobah. So they hired thirty and two thousand chariots, and the king of Maachah and his people, who came and encamped before Medeba. And the children of Ammon assembled from their cities, and came to battle. And when David heard of it, he sent Joab, and all the host of the mighty men. And the children of Ammon came out, and put the battle in array before the gate of the city: and the kings that had come were by themselves in the field. Now when Joab saw that the battle was set against him before and behind, he selected all the choice of Israel, and put them in array against the Syrians. And the rest of the people he delivered to the hand of Abishai his brother, and they set themselves in array against the children of Ammon. And he said, If the Syrians shall be too strong for me, then thou shalt help me: but if the children of Ammon shall be too strong for thee, then I will help thee. Be of good courage, and let us behave ourselves valiantly for our people, and for the cities of our God: and let the LORD do that which is good in his sight. So Joab and the people that were with him drew nigh before the Syrians to the battle; and they fled before him. And when the children of Ammon saw that the Syrians had fled, they likewise fled before Abishai his brother, and entered into the city. Then Joab came to Jerusalem. And when the Syrians saw that they were defeated before Israel, they sent messengers, and drew forth the Syrians that were beyond the river: and Shophach the captain of the host of Hadarezer went before them. And it was told to David; and he gathered all Israel, and passed over Jordan, and came upon them, and set the battle in array against them. So when David had put the battle in array against the Syrians, they fought with him. But the Syrians fled before Israel; and David slew of the Syrians seven thousand men who fought in chariots, and forty thousand footmen, and killed Shophach the captain of the host. And when the servants of Hadarezer saw that they were defeated before Israel, they made peace with David, and became his servants: neither would the Syrians help the children of Ammon any more.",
         "After Nahash, the king of the Ammonites, died, his son Hanun succeeded him. David, remembering the kindness Nahash had shown him, sent messengers to comfort Hanun. However, the Ammonite princes suspected David's motives, believing his messengers were spies. Consequently, Hanun disgraced David's servants by shaving off half their beards and cutting their garments at the buttocks, then sending them away.\n\nUpon hearing this, David instructed his ashamed servants to stay in Jericho until their beards grew back. The Ammonites, realizing they had incurred David's displeasure, hired 32,000 chariots and horsemen from Mesopotamia, Syria-Maachah, and Zobah, paying a thousand talents of silver. The king of Maachah and his forces joined the Ammonites, encamping before Medeba, while the Ammonites gathered from their cities for battle.\n\nDavid dispatched Joab with all the mighty men to confront them. The Ammonites arrayed their forces before the city gate, with their hired allies positioned in the field. Joab, seeing he was to be attacked from both front and rear, deployed his elite Israelite soldiers against the Syrians and entrusted the rest of the army to his brother Abishai, who arrayed them against the Ammonites. Joab instructed Abishai that if the Syrians proved too strong, Abishai would assist them, and if the Ammonites overwhelmed Abishai, Joab would provide aid. He encouraged them to fight bravely for their people and God's cities, trusting in the Lord's will.\n\nJoab's forces engaged the Syrians, who fled. Seeing the Syrians retreat, the Ammonites also fled before Abishai and retreated into the city. Joab then returned to Jerusalem.\n\nThe defeated Syrians, realizing their loss to Israel, gathered reinforcements from beyond the river, led by Shophach, the captain of Hadarezer's host. David was informed of this and assembled all of Israel, crossed the Jordan, and prepared for battle. The Syrians fought against David's forces, but were routed. David slew 7,000 Syrian chariot fighters, 40,000 foot soldiers, and killed Shophach. The remaining servants of Hadarezer, seeing their defeat, made peace with David and became his servants, ending the Syrians' support for the Ammonites."
        ],
        [
         "19",
         "1 Chronicles",
         "20",
         "And it came to pass, that after the year had expired, at the time that kings go out to battle, Joab led forth the power of the army, and wasted the country of the children of Ammon, and came and besieged Rabbah. But David tarried at Jerusalem. And Joab smote Rabbah, and destroyed it. And David took the crown of their king from his head, and found it to weigh a talent of gold, and there were precious stones in it; and it was set upon David's head: and he brought also a great quantity of spoil out of the city. And he brought out the people that were in it, and cut them with saws, and with harrows of iron, and with axes. Even so David dealt with all the cities of the children of Ammon. And David and all the people returned to Jerusalem. And it came to pass after this, that there arose war at Gezer with the Philistines: at which time Sibbechai the Hushathite slew Sippai, that was of the children of the giant: and they were subdued. And there was war again with the Philistines; and Elhanan the son of Jair slew Lahmi the brother of Goliath the Gittite, whose spear-staff was like a weaver's beam. And yet again there was war at Gath, where was a man of great stature, whose fingers and toes were four and twenty, six on each hand, and six on each foot: and he also was the son of the giant. But when he defied Israel, Jonathan the son of Shimea, David's brother, slew him. These were born to the giant in Gath; and they fell by the hand of David, and by the hand of his servants.",
         "After the year expired, at the time kings go out to battle, Joab led the army and ravaged the land of the children of Ammon, then besieged Rabbah. King David remained in Jerusalem. Joab captured and destroyed Rabbah. David took the crown of the Ammonite king, which weighed a talent of gold and was set with precious stones, and placed it on his own head. He also took a large amount of spoil from the city and brought out its people, whom he treated harshly. David subsequently dealt similarly with all the cities of the children of Ammon. David and his people then returned to Jerusalem.\n\nFollowing these events, war broke out with the Philistines at Gezer. During this conflict, Sibbechai the Hushathite killed Sippai, one of the giants, and the Philistines were defeated. Another war with the Philistines occurred, during which Elhanan, son of Jair, slew Lahmi, the brother of Goliath the Gittite. Goliath's spear shaft was described as being like a weaver's beam. Later, at Gath, there was another encounter where a man of great stature, the son of a giant, with twenty-four fingers and toes (six on each hand and foot), defied Israel. Jonathan, son of Shimea, David's brother, killed this man. These individuals were born to a giant in Gath and were killed by David and his servants."
        ],
        [
         "20",
         "1 Chronicles",
         "21",
         "And Satan stood up against Israel, and incited David to number Israel. And David said to Joab and to the rulers of the people, Go, number Israel from Beer-sheba even to Dan; and bring the number of them to me, that I may know it. And Joab answered, the LORD make his people a hundred times more numerous than they are: but, my lord the king, are they not all my lord's servants? why then doth my lord require this thing? why will he be a cause of trespass to Israel? Nevertheless the king's word prevailed against Joab. Wherefore Joab departed, and went throughout all Israel, and came to Jerusalem. And Joab gave the sum of the number of the people to David. And all they of Israel were a thousand thousand and a hundred thousand men that drew sword: and Judah was four hundred and seventy thousand men that drew sword. But Levi and Benjamin he counted not among them: for the king's word was abominable to Joab. And God was displeased with this thing, therefore he smote Israel. And David said to God, I have sinned greatly, because I have done this thing: but now, I beseech thee, do away the iniquity of thy servant; for I have done very foolishly. And the LORD spoke to Gad, David's seer, saying, Go and tell David, saying, Thus saith the LORD, I offer thee three things; choose thee one of them, that I may do it to thee. So Gad came to David, and said to him, Thus saith the LORD, Choose thee Either three years' famine; or three months to be destroyed before thy foes, while the sword of thy enemies overtaketh thee; or else three days the sword of the LORD, even the pestilence, in the land, and the angel of the LORD destroying throughout all the borders of Israel. Now therefore advise thyself what word I shall bring again to him that sent me. And David said to Gad, I am in a great strait: let me fall now into the hand of the LORD; for very great are his mercies: but let me not fall into the hand of man. So the LORD sent pestilence upon Israel: and there fell of Israel seventy thousand men. And God sent an angel to Jerusalem to destroy it: and as he was destroying, the LORD beheld, and he repented of the evil, and said to the angel that destroyed, It is enough, stay now thy hand. And the angel of the LORD stood by the threshing-floor of Ornan the Jebusite. And David lifted up his eyes, and saw the angel of the LORD stand between the earth and the heaven, having a drawn sword in his hand stretched out over Jerusalem. Then David and the elders of Israel, who were clothed in sackcloth, fell upon their faces. And David said to God, Is it not I that commanded the people to be numbered? even I it is that have sinned and done evil indeed; but as for these sheep, what have they done? let thy hand, I pray thee, O LORD my God, be on me, and on my father's house; but not on thy people, that they should be afflicted. Then the angel of the LORD commanded Gad to say to David, that David should go up, and erect an altar to the LORD in the threshing-floor of Ornan the Jebusite. And David went up at the saying of Gad, which he spoke in the name of the LORD. And Ornan turned back, and saw the angel; and his four sons with him hid themselves. Now Ornan was threshing wheat. And as David came to Ornan, Ornan looked, and saw David, and went out of the threshing-floor, and bowed himself to David with his face to the ground. Then David said to Ornan, Grant me the place of this threshing-floor, that I may build an altar in it to the LORD: thou shalt grant it to me for the full price: that the plague may be stayed from the people. And Ornan said to David, Take it to thee, and let my lord the king do that which is good in his eyes: lo, I give thee the oxen also for burnt-offerings, and the threshing instruments for wood, and the wheat for the meat-offering; I give it all. And king David said to Ornan, No; but I will verily buy it for the full price: for I will not take that which is thine for the LORD, nor offer burnt-offerings without cost. So David gave to Ornan for the place six hundred shekels of gold by weight. And David built there an altar to the LORD, and offered burnt-offerings and peace-offerings, and called upon the LORD; and he answered him from heaven by fire upon the altar of burnt-offering. And the LORD commanded the angel; and he put up his sword again into its sheath. At that time when David saw that the LORD had answered him in the threshing-floor of Ornan the Jebusite, then he sacrificed there. For the tabernacle of the LORD, which Moses made in the wilderness, and the altar of the burnt-offering, were at that season in the high place at Gibeon. But David could not go before it to inquire of God: for he was afraid because of the sword of the angel of the LORD.",
         "This chapter recounts David's sin of numbering Israel, incited by Satan. David commanded Joab and the rulers to number the people from Beer-sheba to Dan. Joab questioned the king's request, highlighting that the people were already God's servants, but David's command prevailed.\n\nThe numbering revealed **one thousand thousand and a hundred thousand (1,100,000)** men of Israel who could draw a sword, and **four hundred and seventy thousand (470,000)** men of Judah. Levi and Benjamin were not included in this count.\n\nGod was displeased with this action and sent a plague upon Israel, which resulted in the death of **seventy thousand (70,000)** men. The angel of the LORD was sent to destroy Jerusalem.\n\nThe LORD, seeing the destruction, repented and commanded the angel, who stood by the threshing-floor of **Ornan the Jebusite**, to stay his hand. David and the elders, clothed in sackcloth, fell on their faces. David acknowledged his sin and pleaded for God's hand to be upon him and his father's house, but not on the people.\n\nThe angel, through the seer **Gad**, instructed David to build an altar to the LORD at Ornan's threshing-floor. David went to Ornan, who was threshing wheat. Ornan, having seen the angel, bowed to David and offered his threshing-floor, oxen for burnt offerings, and threshing instruments for wood. David refused to take them freely, insisting on buying the place for its full price. He paid **six hundred shekels of gold by weight** to Ornan for the threshing-floor.\n\nDavid built an altar there, offered burnt and peace offerings, and called upon the LORD. The LORD answered him from heaven with fire on the altar, and the angel was commanded to sheathe his sword. David sacrificed there because he feared to go to the high place at Gibeon, where the tabernacle and altar made by Moses were located, due to the angel's sword."
        ],
        [
         "21",
         "1 Chronicles",
         "22",
         "Then David said, This is the house of the LORD God, and this is the altar of the burnt-offering for Israel. And David commanded to assemble the strangers that were in the land of Israel; and he set masons to hew wrought stones to build the house of God. And David prepared iron in abundance for the nails for the doors of the gates, and for the joinings; and brass in abundance without weight; Also cedar trees in abundance: for the Zidonians and they of Tyre brought much cedar wood to David. And David said, Solomon my son is young and tender, and the house that is to be built for the LORD must be very magnificent, of fame and of glory throughout all countries: I will therefore now make preparation for it. So David made abundant preparation before his death. Then he called for Solomon his son, and charged him to build a house for the LORD God of Israel. And David said to Solomon, My son, as for me, it was in my mind to build a house to the name of the LORD my God: But the word of the LORD came to me, saying, Thou hast shed blood abundantly, and hast made great wars: thou shalt not build a house to my name, because thou hast shed much blood upon the earth in my sight. Behold, a son shall be born to thee, who shall be a man of rest; and I will give him rest from all his enemies around: for his name shall be Solomon, and I will give peace and quietness to Israel in his days. He shall build a house for my name; and he shall be my son, and I will be his father; and I will establish the throne of his kingdom over Israel for ever. Now, my son, the LORD be with thee; and prosper thou, and build the house of the LORD thy God, as he hath said of thee. Only the LORD give thee wisdom and understanding, and give thee charge concerning Israel, that thou mayest keep the law of the LORD thy God. Then shalt thou prosper, if thou shalt take heed to fulfill the statutes and judgments which the LORD charged Moses with concerning Israel: be strong, and of good courage; dread not, nor be dismayed. Now behold, in my trouble I have prepared for the house of the LORD a hundred thousand talents of gold, and a thousand thousand talents of silver; and of brass and iron without weight; for it is in abundance: timber also and stone have I prepared; and thou mayest add to them. Moreover, there are workmen with thee in great numbers, hewers and workers of stone and timber, and all manner of skillful men for every manner of work. Of the gold, the silver, and the brass, and the iron, there is no number. Arise therefore, and be doing, and the LORD be with thee. David also commanded all the princes of Israel to help Solomon his son, saying, Is not the LORD your God with you? and hath he not given you rest on every side? for he hath given the inhabitants of the land into my hand; and the land is subdued before the LORD, and before his people. Now set your heart and your soul to seek the LORD your God; arise, therefore, and build ye the sanctuary of the LORD God, to bring the ark of the covenant of the LORD, and the holy vessels of God, into the house that is to be built to the name of the LORD.",
         "This chapter details King David's preparations and instructions for his son, Solomon, to build the Temple for the LORD God of Israel.\n\nDavid declared the location as the house of the LORD God and the altar of the burnt-offering for Israel. He commanded that strangers in the land of Israel be assembled, and set masons to hew stones for the house. David also prepared abundant iron for nails and joinings, and brass without weight. Cedar trees were also gathered in abundance, brought by the Zidonians and those from Tyre.\n\nDavid explained his decision to have Solomon build the Temple. He stated that while it was his intention to build a house to the name of the LORD his God, the word of the LORD came to him, saying that because David had shed much blood in abundant wars, he would not build the house. Instead, a son named Solomon would be born, who would be a man of rest, and the LORD would give him rest from his enemies. Solomon would build the house for the LORD's name, and the LORD would establish his kingdom over Israel forever.\n\nDavid then charged Solomon to build the house as the LORD had said, praying that the LORD would give him wisdom and understanding concerning Israel and its laws. He encouraged Solomon to be strong and courageous, not to dread or be dismayed. David revealed his personal preparations for the Temple: one hundred thousand talents of gold, one thousand thousand talents of silver, and brass and iron without weight, in addition to timber and stone. He also mentioned that there were numerous skilled workmen available.\n\nFinally, David commanded all the princes of Israel to help Solomon. He reminded them that the LORD their God was with them and had given them rest from their enemies, subduing the land. He urged them to set their hearts and souls to seek the LORD their God and to arise and build the sanctuary of the LORD God, so that the ark of the covenant and the holy vessels could be brought into the house to be built to the name of the LORD."
        ],
        [
         "22",
         "1 Chronicles",
         "23",
         "So when David was old and full of days, he made Solomon his son king over Israel. And he assembled all the princes of Israel, with the priests and the Levites. Now the Levites were numbered from the age of thirty years and upward: and their number by their polls, man by man, was thirty and eight thousand. Of which, twenty and four thousand were to oversee the work of the house of the LORD; and six thousand were officers and judges: Moreover, four thousand were porters; and four thousand praised the LORD with the instruments which I made, said David, to praise with them. And David divided them into courses among the sons of Levi, namely, Gershon, Kohath, and Merari. Of the Gershonites, were, Laadan and Shimei. The sons of Laadan: the chief was Jehiel, and Zetham, and Joel, three. The sons of Shimei; Shelomith, and Haziel, and Haran, three. These were the chief of the fathers of Laadan. And the sons of Shimei were, Jahath, Zina, and Jeush and Beriah. These four were the sons of Shimei. And Jahath was the chief, and Zizah the second: but Jeush and Beriah had not many sons; therefore they were in one reckoning, according to their father's house. The sons of Kohath; Amram, Izhar, Hebron, and Uzziel, four. The sons of Amram; Aaron and Moses: and Aaron was separated, that he should sanctify the most holy things, he and his sons for ever, to burn incense before the LORD, to minister to him, and to bless in his name for ever. Now concerning Moses the man of God, his sons were named of the tribe of Levi. The sons of Moses were, Gershom, and Eliezer. Of the sons of Gershom; Shebuel was the chief. And the sons of Eliezer were, Rehabiah the chief. And Eliezer had no other sons; but the sons of Rehabiah were very many. Of the sons of Izhar; Shelomith the chief. Of the sons of Hebron; Jeriah the first, Amariah the second, Jehaziel the third, and Jekameam the fourth. Of the sons of Uzziel; Micah the first, and Jesiah the second. The sons of Merari; Mahli, and Mushi. The sons of Mahli; Eleazar, and Kish. And Eleazar died, and had no sons, but daughters: and their brethren the sons of Kish took them. The sons of Mushi; Mahli, and Eder, and Jeremoth, three. These were the sons of Levi after the house of their fathers; even the chief of the fathers, as they were counted by number of names by their polls, that did the work for the service of the house of the LORD, from the age of twenty years and upward. For David said, The LORD God of Israel hath given rest to his people, that they may dwell in Jerusalem for ever; And also to the Levites: they shall no more carry the tabernacle, nor any vessels of it for its service. For by the last words of David the Levites were numbered from twenty years old and above: Because their office was to wait on the sons of Aaron for the service of the house of the LORD, in the courts, and in the chambers, and in the purifying of all holy things, and the work of the service of the house of God; Both for the show-bread, and for the fine flour for meat-offering, and for the unleavened cakes, and for that which is baked in the pan, and for that which is fried, and for all manner of measure and size; And to stand every morning to thank and praise the LORD, and likewise at evening; And to offer all burnt-sacrifices to the LORD on the sabbaths, in the new moons, and on the set feasts, by number, according to the order commanded to them, continually before the LORD: And that they should keep the charge of the tabernacle of the congregation, and the charge of the holy place, and the charge of the sons of Aaron their brethren, in the service of the house of the LORD.",
         "This chapter details King David's final arrangements for the organization and service of the Levites in the house of the LORD, made as he was old and full of days. He assembled all the princes of Israel, priests, and Levites.\n\nThe Levites were numbered from thirty years old and upward, totaling **thirty-eight thousand** men. Of these:\n*   **Twenty-four thousand** were assigned to oversee the work of the house of the LORD.\n*   **Six thousand** were officers and judges.\n*   **Four thousand** were porters.\n*   **Four thousand** were appointed to praise the LORD with instruments David had made.\n\nDavid divided them into courses among the sons of Levi: Gershon, Kohath, and Merari.\n\n**Gershonites:**\n*   Sons: Laadan and Shimei.\n*   Sons of Laadan: Jehiel (chief), Zetham, and Joel (three).\n*   Sons of Shimei: Shelomith and Haziel and Haran (three), who were the chief fathers of Laadan. The sons of Shimei were Jahath, Zina, Jeush, and Beriah (four). Jahath was chief, Zizah second. Jeush and Beriah had fewer sons and were counted together by father's house.\n\n**Kohathites:**\n*   Sons: Amram, Izhar, Hebron, and Uzziel (four).\n*   Sons of Amram: Aaron and Moses. Aaron and his sons were set apart for ever to sanctify the most holy things, to burn incense, minister, and bless in the LORD's name.\n*   Sons of Moses: Gershom and Eliezer. Shebuel was chief of Gershom's sons. Rehabiah was chief of Eliezer's sons, who had many descendants and no other sons.\n*   Sons of Izhar: Shelomith (chief).\n*   Sons of Hebron: Jeriah (first), Amariah (second), Jehaziel (third), and Jekameam (fourth).\n*   Sons of Uzziel: Micah (first) and Jesiah (second).\n\n**Merarites:**\n*   Sons: Mahli and Mushi.\n*   Sons of Mahli: Eleazar and Kish. Eleazar died childless, and his daughters were taken by their brethren, the sons of Kish.\n*   Sons of Mushi: Mahli, Eder, and Jeremoth (three).\n\nThese were the sons of Levi counted by number of names, heading their father's houses, who did the work for the service of the house of the LORD from **twenty years old and upward**.\n\nDavid stated that the LORD God of Israel had given rest to His people, allowing them to dwell in Jerusalem forever. He also declared that the Levites would no longer carry the tabernacle or its vessels. By David's last words, the Levites were numbered from **twenty years old and above**, as their new responsibilities were to serve the sons of Aaron in the house of the LORD. Their duties included:\n*   Waiting on the sons of Aaron.\n*   Serving in the courts, chambers, and purification of holy things.\n*   Preparing the show-bread, fine flour for meat-offerings, unleavened cakes, baked goods, fried items, and all measures.\n*   Offering thanks and praise to the LORD morning and evening.\n*   Offering burnt sacrifices on Sabbaths, new moons, and feasts according to commanded order.\n*   Keeping the charge of the tabernacle of the congregation, the holy place, and the charge of the sons of Aaron."
        ],
        [
         "23",
         "1 Chronicles",
         "24",
         "Now these are the divisions of the sons of Aaron. The sons of Aaron; Nadab, and Abihu, Eleazar, and Ithamar. But Nadab and Abihu died before their father, and had no children: therefore Eleazar and Ithamar executed the priests' office. And David distributed them, both Zadok of the sons of Eleazar, and Ahimelech of the sons of Ithamar, according to their offices in their service. And there were more chief men found of the sons of Eleazar than of the sons of Ithamar; and thus were they divided. Among the sons of Eleazar there were sixteen chief men of the house of their fathers, and eight among the sons of Ithamar according to the house of their fathers. Thus were they divided by lot, one sort with another; for the governors of the sanctuary, and governors of the house of God, were of the sons of Eleazar, and of the sons of Ithamar. And Shemaiah the son of Nethaneel the scribe, one of the Levites, wrote them before the king, and the princes, and Zadok the priest, and Ahimelech the son of Abiathar, and before the chief of the fathers of the priests and Levites: one principal household being taken for Eleazar, and one taken for Ithamar. Now the first lot came forth to Jehoiarib, the second to Jedaiah, The third to Harim, the fourth to Seorim, The fifth to Malchijah, the sixth to Mijamin, The seventh to Hakkoz, the eighth to Abijah, The ninth to Jeshuah, the tenth to Shecaniah, The eleventh to Eliashib, the twelfth to Jakim, The thirteenth to Huppah, the fourteenth to Jeshebeab, The fifteenth to Bilgah, the sixteenth to Immer, The seventeenth to Hezer, the eighteenth to Aphses, The nineteenth to Pethahiah, the twentieth to Jehezekel, The one and twentieth to Jachin, the two and twentieth to Gamul, The three and twentieth to Delaiah, the four and twentieth to Maaziah. These were the orderings of them in their service to come into the house of the LORD, according to their manner, under Aaron their father, as the LORD God of Israel had commanded him. And the rest of the sons of Levi were these: Of the sons of Amram; Shubael: of the sons of Shubael; Jehdeiah. Concerning Rehabiah: of the sons of Rehabiah, the first was Isshiah. Of the Izharites; Shelomoth: of the sons of Shelomoth; Jahath. And the sons of Hebron; Jeriah the first, Amariah the second, Jehaziel the third, Jekameam the fourth. Of the sons of Uzziel; Michah: of the sons of Michah; Shamir. The brother of Michah was Isshiah: of the sons of Isshiah; Zechariah. The sons of Merari were Mahli, and Mushi: the sons of Jaaziah; Beno. The sons of Merari by Jaaziah; Beno, and Shoham, and Zaccur, and Ibri. Of Mahli came Eleazar, who had no sons. Concerning Kish: the son of Kish was Jerahmeel. The sons also of Mushi; Mahli, and Eder, and Jerimoth. These were the sons of the Levites after the house of their fathers. These likewise cast lots over against their brethren the sons of Aaron in the presence of David the king, and Zadok, and Ahimelech, and the chief of the fathers of the priests and Levites, even the principal fathers over against their younger brethren.",
         "This chapter details the divisions and assignments of the sons of Aaron and other Levites in their service to the Temple, as organized by King David.\n\n**The Sons of Aaron:**\n\n*   **Aaron's sons:** Nadab, Abihu, Eleazar, and Ithamar.\n*   **Nadab and Abihu:** Died before their father and had no children.\n*   **Eleazar and Ithamar:** Executed the priests' office.\n*   **David's distribution:** Zadok (of the sons of Eleazar) and Ahimelech (of the sons of Ithamar) were appointed according to their service.\n*   **Number of Chief Men:** Sixteen chief men were found among the sons of Eleazar, and eight among the sons of Ithamar.\n*   **Division by Lot:** The divisions were made by lot. The governors of the sanctuary and the house of God were from both Eleazar's and Ithamar's lineage.\n*   **The Scribe:** Shemaiah, son of Nethaneel the Levite, recorded these divisions before the king, princes, Zadok the priest, Ahimelech son of Abiathar, and the chief fathers of the priests and Levites.\n*   **The Twenty-Four Orders of Priests:** The lots for the priestly service were cast, assigning twenty-four orders. The first lot went to **Jehoiarib**, the second to **Jedaiah**, the third to **Harim**, the fourth to **Seorim**, the fifth to **Malchijah**, the sixth to **Mijamin**, the seventh to **Hakkoz**, the eighth to **Abijah**, the ninth to **Jeshuah**, the tenth to **Shecaniah**, the eleventh to **Eliashib**, the twelfth to **Jakim**, the thirteenth to **Huppah**, the fourteenth to **Jeshebeab**, the fifteenth to **Bilgah**, the sixteenth to **Immer**, the seventeenth to **Hezer**, the eighteenth to **Aphses**, the nineteenth to **Pethahiah**, the twentieth to **Jehezekel**, the twenty-first to **Jachin**, the twenty-second to **Gamul**, the twenty-third to **Delaiah**, and the twenty-fourth to **Maaziah**. These were established according to the command of the LORD God of Israel to Aaron.\n\n**The Rest of the Sons of Levi:**\n\n*   **Sons of Amram:** Shubael, and his son Jehdeiah.\n*   **Rehabiah:** His first son was Isshiah.\n*   **Izharites:** Shelomoth, and his son Jahath.\n*   **Sons of Hebron:** Jeriah (first), Amariah (second), Jehaziel (third), Jekameam (fourth).\n*   **Sons of Uzziel:** Michah, and his son Shamir.\n*   **Isshiah (brother of Michah):** His son was Zechariah.\n*   **Sons of Merari:** Mahli and Mushi.\n*   **Sons of Jaaziah:** Beno.\n*   **Sons of Merari by Jaaziah:** Beno, Shoham, Zaccur, and Ibri.\n*   **Mahli:** His son was Eleazar, who had no sons.\n*   **Kish:** His son was Jerahmeel.\n*   **Sons of Mushi:** Mahli, Eder, and Jerimoth.\n\nThese were the sons of the Levites according to their ancestral houses. They also cast lots, opposite their brethren the sons of Aaron, in the presence of King David, Zadok, Ahimelech, and the chief fathers of the priests and Levites."
        ],
        [
         "24",
         "1 Chronicles",
         "25",
         "Moreover David and the captains of the host separated to the service of the sons of Asaph, and of Heman, and of Jeduthun, who should prophesy with harps, with psalteries, and with cymbals: and the number of the workmen according to their service was: Of the sons of Asaph; Zaccur, and Joseph, and Nethaniah, and Asarelah, the sons of Asaph under the hands of Asaph, who prophesied according to the order of the king. Of Jeduthun: the sons of Jeduthun; Gedaliah, and Zeri, and Jeshaiah, Hashabiah, and Mattithiah, six, under the hands of their father Jeduthun, who prophesied with a harp, to give thanks and to praise the LORD. Of Heman: the sons of Heman; Bukkiah, Mattaniah, Uzziel, Shebuel, and Jerimoth, Hananiah, Hanani, Eliathah, Giddalti, and Romamti-ezer, Joshbekashah, Mallothi, Hothir, and Mahazioth: All these were the sons of Heman the king's seer in the words of God, to lift up the horn. And God gave to Heman fourteen sons and three daughters. All these were under the hands of their father for song in the house of the LORD, with cymbals, psalteries, and harps, for the service of the house of God, according to the king's order to Asaph, Jeduthun, and Heman. So the number of them, with their brethren that were instructed in the songs of the LORD, even all that were skillful, was two hundred and eighty eight. And they cast lots, ward against ward, as well the small as the great, the teacher as the scholar. Now the first lot came forth for Asaph to Joseph: the second to Gedaliah, who with his brethren and sons were twelve: The third to Zaccur, he, his sons, and his brethren, were twelve: The fourth to Izri, he, his sons, and his brethren, were twelve: The fifth to Nethaniah, he, his sons, and his brethren, were twelve: The sixth to Bukkiah, he, his sons, and his brethren, were twelve: The seventh to Jesharelah, he, his sons, and his brethren, were twelve: The eighth to Jeshaiah, he, his sons, and his brethren, were twelve: The ninth to Mattaniah, he, his sons, and his brethren, were twelve: The tenth to Shimei, he, his sons, and his brethren, were twelve: The eleventh to Azareel, he, his sons, and his brethren, were twelve: The twelfth to Hashabiah, he, his sons, and his brethren, were twelve: The thirteenth to Shubael, he, his sons, and his brethren, were twelve: The fourteenth to Mattithiah, he, his sons, and his brethren, were twelve: The fifteenth to Jeremoth, he, his sons, and his brethren, were twelve: The sixteenth to Hananiah, he, his sons, and his brethren, were twelve: The seventeenth to Joshbekashah, he, his sons, and his brethren, were twelve: The eighteenth to Hanani, he, his sons, and his brethren, were twelve: The nineteenth to Mallothi, he, his sons, and his brethren, were twelve: The twentieth to Eliathah, he, his sons, and his brethren, were twelve: The one and twentieth to Hothir, he, his sons, and his brethren, were twelve: The two and twentieth to Giddalti, he, his sons, and his brethren, were twelve: The three and twentieth to Mahazioth, he, his sons, and his brethren, were twelve: The four and twentieth to Romamti-ezer, he, his sons, and his brethren, were twelve.",
         "This chapter details the organization and appointment of musicians and singers for the service in the house of the LORD, under the direction of David and the captains of the host. These individuals were tasked with prophesying with harps, psalteries, and cymbals.\n\nThe musicians were divided into three main groups, led by Asaph, Heman, and Jeduthun.\n\n*   **Sons of Asaph:** Zaccur, Joseph, Nethaniah, and Asarelah, all serving under Asaph, who prophesied according to the king's order.\n*   **Sons of Jeduthun:** Gedaliah, Zeri, Jeshaiah, Hashabiah, and Mattithiah (six in total), serving under their father Jeduthun, who prophesied with a harp to give thanks and praise the LORD.\n*   **Sons of Heman:** Bukkiah, Mattaniah, Uzziel, Shebuel, Jerimoth, Hananiah, Hanani, Eliathah, Giddalti, Romamti-ezer, Joshbekashah, Mallothi, Hothir, and Mahazioth. These fourteen sons, along with three daughters, served under Heman, the king's seer in the words of God, to lift up the horn.\n\nAll these musicians served under their respective fathers in the house of the LORD, using cymbals, psalteries, and harps, as per the king's order to Asaph, Jeduthun, and Heman. The total number of skilled musicians, including their brethren who were instructed in the songs of the LORD, was **two hundred and eighty-eight**.\n\nLots were cast to determine their assignments, with wards established for both the small and the great, and the teacher and the scholar. The chapter then lists the results of these lots, with each of the first twenty-four lots assigned to a specific individual and his brethren and sons, totaling **twelve** for each lot. The individuals mentioned in the lot casting are: Joseph (for Asaph), Gedaliah, Zaccur, Izri, Nethaniah, Bukkiah, Jesharelah, Jeshaiah, Mattaniah, Shimei, Azareel, Hashabiah, Shubael, Mattithiah, Jeremoth, Hananiah, Joshbekashah, Hanani, Mallothi, Eliathah, Hothir, Giddalti, Mahazioth, and Romamti-ezer."
        ],
        [
         "25",
         "1 Chronicles",
         "26",
         "Concerning the divisions of the porters: Of the Korhites was Meshelemiah the son of Kore, of the sons of Asaph. And the sons of Meshelemiah were, Zechariah the first-born, Jediael the second, Zebadiah the third, Jathniel the fourth, Elam the fifth, Jehohanan the sixth, Elioenai the seventh. Moreover the sons of Obed-edom were, Shemaiah the first-born, Jehozabad the second, Joah the third, and Sacar the fourth, and Nethaneel the fifth, Ammiel the sixth, Issachar the seventh, Peulthai the eighth: for God blessed him. Also to Shemaiah his son were sons born, that ruled throughout the house of their father: for they were mighty men of valor. The sons of Shemaiah; Othni, and Rephael, and Obed, Elzabad, whose brethren were strong men, Elihu, and Semachiah. All these of the sons of Obed-edom: they and their sons and their brethren, able men for strength for the service, were sixty and two of Obed-edom. And Meshelemiah had sons and brethren, strong men, eighteen. Also Hosah of the children of Merari, had sons; Simri the chief, (for though he was not the first-born, yet his father made him the chief;) Hilkiah the second, Tebaliah the third, Zechariah the fourth: all the sons and brethren of Hosah were thirteen. Among these were the divisions of the porters, even among the chief men, having wards one against another, to minister in the house of the LORD. And they cast lots, as well the small as the great, according to the house of their fathers, for every gate. And the lot eastward fell to Shelemiah. Then for Zechariah his son, a wise counselor, they cast lots; and his lot came out northward. To obed-edom southward; and to his sons the house of Asuppim. To Shuppim and Hosah the lot came forth westward, with the gate Shallecheth, by the way of the ascent, ward against ward. Eastward were six Levites, northward four a day, southward four a day, and towards Asuppim, two and two. At Parbar westward, four at the causey, and two at Parbar. These are the divisions of the porters among the sons of Kore, and among the sons of Merari. And of the Levites, Ahijah was over the treasures of the house of God, and over the treasures of the dedicated things. As concerning the sons of Laadan; the sons of the Gershonite Laadan, chief fathers, even of Laadan the Gershonite, were Jehieli. The sons of Jehieli; Zetham, and Joel his brother, who were over the treasures of the house of the LORD. Of the Amramites, and the Izharites, the Hebronites, and the Uzzielites: And Shebuel the son of Gershom, the son of Moses, was ruler of the treasures. And his brethren by Eliezer; Rehabiah his son, and Jeshaiah his son, and Joram his son, and Zichri his son, and Shelomith his son. Which Shelomith and his brethren were over all the treasures of the dedicated things, which David the king, and the chief fathers, the captains over thousands and hundreds, and the captains of the host, had dedicated. Out of the spoils won in battles did they dedicate to maintain the house of the LORD. And all that Samuel the seer, and Saul the son of Kish, and Abner the son of Ner, and Joab the son of Zeruiah, had dedicated; and whoever had dedicated any thing, it was under the hand of Shelomith, and of his brethren. Of the Izharites, Chenaniah and his sons were for the outward business over Israel, for officers and judges. And of the Hebronites, Hashabiah and his brethren, men of valor, a thousand and seven hundred, were officers among them of Israel on this side of Jordan westward in all the business of the LORD, and in the service of the king. Among the Hebronites was Jerijah the chief, even among the Hebronites, according to the generations of his fathers. In the fortieth year of the reign of David they were sought for, and there were found among them mighty men of valor at Jazer of Gilead. And his brethren, men of valor, were two thousand and seven hundred chief fathers, whom king David made rulers over the Reubenites, the Gadites, and the half-tribe of Manasseh, for every matter pertaining to God, and affairs of the king.",
         "This chapter details the divisions and duties of the Levites, specifically the porters and those in charge of the temple treasures.\n\n**Porters:**\n\n*   **From the Korhites (sons of Asaph):**\n    *   Meshelemiah, son of Kore. His sons were: Zechariah (first-born), Jediael (second), Zebadiah (third), Jathniel (fourth), Elam (fifth), Jehohanan (sixth), Elioenai (seventh).\n    *   Obed-edom. His sons were: Shemaiah (first-born), Jehozabad (second), Joah (third), Sacar (fourth), Nethaneel (fifth), Ammiel (sixth), Issachar (seventh), Peulthai (eighth). God blessed Obed-edom.\n        *   Shemaiah's sons were mighty men of valor and ruled their father's house. His sons included Othni, Rephael, Obed, Elzabad, Elihu, and Semachiah.\n    *   Sixty-two men from Obed-edom's family were able men for service.\n    *   Meshelemiah had eighteen sons and brethren who were strong men.\n\n*   **From the Merarites:**\n    *   Hosah. His sons were: Simri (chief, though not the first-born, appointed by his father), Hilkiah (second), Tebaliah (third), Zechariah (fourth).\n    *   Thirteen men from Hosah's family were sons and brethren.\n\n**Gate Assignments:**\n\nThe porters were divided into divisions, casting lots for each gate.\n\n*   **Eastward:** Shelemiah. His son Zechariah (a wise counselor) was assigned northward.\n*   **Southward:** Obed-edom.\n*   **House of Asuppim:** Sons of Obed-edom.\n*   **Westward:** Shuppim and Hosah, with the gate Shallecheth by the ascent, ward against ward.\n\n**Daily Assignments:**\n\n*   Eastward: Six Levites.\n*   Northward: Four Levites per day.\n*   Southward: Four Levites per day.\n*   Towards Asuppim: Two Levites each.\n*   At Parbar westward: Four at the causeway, and two at Parbar.\n\n**Treasures of the House of God:**\n\n*   **Over the treasures:** Ahijah.\n\n*   **From the Gershonites (sons of Laadan):**\n    *   Chief father: Jehieli. His sons were Zetham and Joel, who were over the treasures of the House of the LORD.\n\n*   **From the Amramites, Izharites, Hebronites, and Uzzielites:**\n    *   Shebuel, son of Gershom, son of Moses, was ruler of the treasures.\n    *   His brethren through Eliezer included: Rehabiah (his son), Jeshaiah (his son), Joram (his son), Zichri (his son), and Shelomith (his son).\n    *   Shelomith and his brethren were over all the dedicated treasures made by King David, the chief fathers, captains over thousands and hundreds, and captains of the host. These treasures were from spoils of war for the maintenance of the House of the LORD.\n    *   All dedications by Samuel the seer, Saul the son of Kish, Abner the son of Ner, and Joab the son of Zeruiah, and anyone else, were under the hand of Shelomith and his brethren.\n\n**Outward Business and Officers:**\n\n*   **Of the Izharites:** Chenaniah and his sons were officers over Israel, handling external business, serving as officers and judges.\n*   **Of the Hebronites:** Hashabiah and his brethren, 1,700 men of valor, were officers in Israel on the west side of Jordan for all the business of the LORD and the king's affairs.\n    *   Jerijah was chief among the Hebronites according to his fathers' generations.\n    *   In the 40th year of David's reign, mighty men of valor were found among them at Jazer of Gilead.\n    *   Their brethren, 2,700 chief fathers, men of valor, were made rulers by King David over the Reubenites, Gadites, and the half-tribe of Manasseh for all matters concerning God and the king."
        ],
        [
         "26",
         "1 Chronicles",
         "27",
         "Now the children of Israel after their number, to wit, the chief fathers, and captains of thousands and hundreds, and their officers that served the king in any matter of the courses, which came in and went out month by month throughout all the months of the year, of every course were twenty and four thousand. Over the first course for the first month was Jashobeam the son of Zabdiel: and in his course were twenty and four thousand. Of the children of Perez, was the chief of all the captains of the host for the first month. And over the course of the second month was Dodai an Ahohite, and of his course was Mikloth also the ruler: in his course likewise were twenty and four thousand. The third captain of the host for the third month was Benaiah the son of Jehoiada, a chief priest: and in his course were twenty and four thousand. This is that Benaiah, who was mighty among the thirty, and above the thirty: and in his course was Ammizabad his son. The fourth captain for the fourth month was Asahel the brother of Joab, and Zebadiah his son after him: and in his course were twenty and four thousand. The fifth captain for the fifth month was Shamhuth the Izrahite: and in his course were twenty and four thousand. The sixth captain for the sixth month was Ira the son of Ikkesh the Tekoite: and in his course were twenty and four thousand. The seventh captain for the seventh month was Helez the Pelonite, of the children of Ephraim: and in his course were twenty and four thousand. The eighth captain for the eighth month was Sibbecai the Hushathite, of the Zarhites: and in his course were twenty and four thousand. The ninth captain for the ninth month was Abiezer the Anetothite, of the Benjaminites: and in his course were twenty and four thousand. The tenth captain for the tenth month was Maharai the Netophathite, of the Zarhites: and in his course were twenty and four thousand. The eleventh captain for the eleventh month was Benaiah the Pirathonite, of the children of Ephraim: and in his course were twenty and four thousand. The twelfth captain for the twelfth month was Heldai the Netophathite, of Othniel: and in his course were twenty and four thousand. Furthermore over the tribes of Israel: the ruler of the Reubenites was Eliezer the son of Zichri: of the Simeonites, Shephatiah the son of Maachah: Of the Levites, Hashabiah the son of Kemuel: of the Aaronites, Zadok: Of Judah, Elihu, one of the brethren of David: of Issachar, Omri the son of Michael: Of Zebulun, Ishmaiah the son of Obadiah: of Naphtali, Jerimoth the son of Azriel: Of the children of Ephraim, Hoshea the son of Azaziah: of the half tribe of Manasseh, Joel the son of Pedaiah: Of the half tribe of Manasseh in Gilead, Iddo the son of Zechariah: of Benjamin, Jaasiel the son of Abner: Of Dan, Azareel the son of Jeroham. These were the princes of the tribes of Israel. But David took not the number of them from twenty years old and under: because the LORD had said he would increase Israel like to the stars of the heavens. Joab the son of Zeruiah began to number, but he finished not, because there fell wrath for it against Israel; neither was the number put in the account of the chronicles of king David. And over the king's treasures was Azmaveth the son of Adiel: and over the store-houses in the fields, in the cities, and in the villages, and in the castles, was Jehonathan the son of Uzziah: And over them that did the work of the field for tillage of the ground was Ezri the son of Chelub: And over the vineyards was Shimei the Ramathite: over the increase of the vineyards for the wine cellars was Zabdi the Shiphmite: And over the olive trees and the sycamore trees that were in the low plains was Baal-hanan the Gederite: and over the cellars of oil was Joash: And over the herds that fed in Sharon was Shitrai the Sharonite: and over the herds that were in the valleys was Shaphat the son of Adlai: Over the camels also was Obil the Ishmaelite: and over the asses was Jehdeiah the Meronothite: And over the flocks was Jaziz the Hagerite. All these were the rulers of the substance which was king David's. Also Jonathan, David's uncle, was a counselor, a wise man, and a scribe: and Jehiel the son of Hachmoni was with the king's sons: And Ahithophel was the king's counselor: and Hushai the Archite was the king's companion: And after Ahithophel was Jehoiada the son of Benaiah, and Abiathar: and the general of the king's army was Joab.",
         "This chapter details the organization of King David's army and his royal administration. It lists the twelve monthly courses of the army, each consisting of twenty-four thousand men. The captains of these courses are named:\n\n*   **First month:** Jashobeam son of Zabdiel, chief of all captains, from the children of Perez.\n*   **Second month:** Dodai the Ahohite, with Mikloth as ruler.\n*   **Third month:** Benaiah son of Jehoiada, a chief priest, mighty among the thirty, with his son Ammizabad in his course.\n*   **Fourth month:** Asahel brother of Joab, with his son Zebadiah.\n*   **Fifth month:** Shamhuth the Izrahite.\n*   **Sixth month:** Ira son of Ikkesh the Tekoite.\n*   **Seventh month:** Helez the Pelonite, of the children of Ephraim.\n*   **Eighth month:** Sibbecai the Hushathite, of the Zarhites.\n*   **Ninth month:** Abiezer the Anetothite, of the Benjaminites.\n*   **Tenth month:** Maharai the Netophathite, of the Zarhites.\n*   **Eleventh month:** Benaiah the Pirathonite, of the children of Ephraim.\n*   **Twelfth month:** Heldai the Netophathite, of Othniel.\n\nThe chapter also lists the rulers over the tribes of Israel:\n\n*   **Reubenites:** Eliezer son of Zichri.\n*   **Simeonites:** Shephatiah son of Maachah.\n*   **Levites:** Hashabiah son of Kemuel.\n*   **Aaronites:** Zadok.\n*   **Judah:** Elihu, a brother of David.\n*   **Issachar:** Omri son of Michael.\n*   **Zebulun:** Ishmaiah son of Obadiah.\n*   **Naphtali:** Jerimoth son of Azriel.\n*   **Children of Ephraim:** Hoshea son of Azaziah.\n*   **Half tribe of Manasseh:** Joel son of Pedaiah.\n*   **Half tribe of Manasseh in Gilead:** Iddo son of Zechariah.\n*   **Benjamin:** Jaasiel son of Abner.\n*   **Dan:** Azareel son of Jeroham.\n\nDavid did not number men twenty years old and under, as the LORD intended to increase Israel. Joab began the numbering but did not finish due to divine wrath.\n\nThe chapter then details the officials responsible for King David's possessions:\n\n*   **Treasures:** Azmaveth son of Adiel.\n*   **Store-houses:** Jehonathan son of Uzziah.\n*   **Field work:** Ezri son of Chelub.\n*   **Vineyards:** Shimei the Ramathite.\n*   **Increase of vineyards:** Zabdi the Shiphmite.\n*   **Olive trees and sycamore trees:** Baal-hanan the Gederite.\n*   **Oil cellars:** Joash.\n*   **Herds in Sharon:** Shitrai the Sharonite.\n*   **Herds in valleys:** Shaphat son of Adlai.\n*   **Camels:** Obil the Ishmaelite.\n*   **Asses:** Jehdeiah the Meronothite.\n*   **Flocks:** Jaziz the Hagerite.\n\nFinally, it mentions key counselors: Jonathan, David's uncle, was a wise counselor and scribe. Jehiel son of Hachmoni was with the king's sons. Ahithophel was the king's counselor, and Hushai the Archite was his companion. After Ahithophel, Jehoiada son of Benaiah and Abiathar served. Joab was the general of the king's army."
        ],
        [
         "27",
         "1 Chronicles",
         "28",
         "And David assembled all the princes of Israel, the princes of the tribes, and the captains of the companies that ministered to the king by course, and the captains over the thousands, and captains over the hundreds, and the stewards over all the substance and possession of the king, and of his sons, with the officers, and with the mighty men, and with all the valiant men to Jerusalem. Then David the king stood upon his feet, and said, Hear me, my brethren, and my people: As for me, I had in my heart to build a house of rest for the ark of the covenant of the LORD, and for the footstool of our God, and had made ready for the building: But God said to me, Thou shalt not build a house for my name, because thou hast been a man of war, and hast shed blood. However the LORD God of Israel chose me before all the house of my father to be king over Israel for ever: for he hath chosen Judah to be the ruler; and of the house of Judah, the house of my father; and among the sons of my father he approved me to make me king over all Israel: And of all my sons, (for the LORD hath given me many sons,) he hath chosen Solomon my son to sit upon the throne of the kingdom of the LORD over Israel. And he said to me, Solomon thy son, he shall build my house and my courts: for I have chosen him to be my son, and I will be his father. Moreover I will establish his kingdom for ever, if he shall be constant to do my commandments and my judgments, as at this day. Now therefore in the sight of all Israel the congregation of the LORD, and in the audience of our God, keep and seek for all the commandments of the LORD your God: that ye may possess this good land, and leave it for an inheritance for your children after you for ever. And thou, Solomon my son, know thou the God of thy father, and serve him with a perfect heart, and with a willing mind: for the LORD searcheth all hearts and understandeth all the imaginations of the thoughts: if thou shalt seek him, he will be found of thee; but if thou shalt forsake him, he will cast thee off for ever. Take heed now; for the LORD hath chosen thee to build a house for the sanctuary: be strong, and do it. Then David gave to Solomon his son the pattern of the porch, and of the houses of it, and of its treasuries, and of its upper chambers, and of its inner parlors, and of the place of the mercy-seat, And the pattern of all that he had by the spirit, of the courts of the house of the LORD, and of all the chambers around, of the treasuries of the house of God, and of the treasuries of the dedicated things: Also for the courses of the priests and the Levites, and for all the work of the service of the house of the LORD, and for all the vessels of service in the house of the LORD. He gave of gold by weight for things of gold, for all instruments of all manner of service; silver also for all instruments of silver by weight, for all instruments of every kind of service: Even the weight for the candlesticks of gold, and for their lamps of gold, by weight for every candlestick, and for its lamps: and for the candlesticks of silver by weight, both for the candlestick, and also for its lamps, according to the use of every candlestick. And by weight he gave gold for the tables of show-bread, for every table; and likewise silver for the tables of silver: Also pure gold for the flesh-hooks, and the bowls, and the cups: and for the golden basins he gave gold by weight for every basin; and likewise silver by weight for every basin of silver: And for the altar of incense refined gold by weight; and gold for the pattern of the chariot of the cherubim, that spread out their wings, and covered the ark of the covenant of the LORD. All this, said David, the LORD made me understand in writing by his hand upon me, even all the works of this pattern. And David said to Solomon his son, Be strong, and of good courage, and do it: fear not, nor be dismayed, for the LORD God, even my God, will be with thee; he will not fail thee, nor forsake thee, until thou hast finished all the work for the service of the house of the LORD. And behold, the courses of the priests and the Levites, even they shall be with thee for all the service of the house of God: and there shall be with thee for all manner of workmanship every willing skillful man, for any manner of service: also the princes and all the people will be wholly at thy command.",
         "King David assembled all the princes of Israel, captains of companies, captains of thousands and hundreds, stewards, officers, mighty men, and valiant men in Jerusalem. David declared his intention to build a house for the Ark of the Covenant of the LORD, but God had told him he could not, as he was a man of war who had shed blood.\n\nDavid explained that the LORD God of Israel had chosen him as king forever, and specifically chose Judah as the ruling tribe, his own father's house, and himself amongst his father's sons to rule over all Israel. He then announced that the LORD had chosen his son, Solomon, to sit on the throne of the LORD over Israel. God had further revealed to David that Solomon would build the house for God's name, as God had chosen him to be His son, and He would be his Father. God promised to establish Solomon's kingdom forever if he remained constant in doing God's commandments and judgments.\n\nDavid exhorted all Israel, the congregation of the LORD, to keep and seek all the commandments of the LORD their God so they could possess the good land and leave it as an inheritance for their children forever. He then addressed Solomon directly, urging him to know and serve the God of his father with a perfect heart and willing mind, for the LORD searches all hearts and understands all thoughts. He warned Solomon that seeking God would result in finding Him, but forsaking Him would lead to eternal casting off. David encouraged Solomon to be strong and do the work of building the house for the sanctuary, as the LORD had chosen him.\n\nDavid then gave Solomon the detailed plans and patterns, received by the spirit from the LORD, for the house, its porch, treasuries, upper chambers, inner parlors, the mercy-seat, the courts, the treasuries of dedicated things, and the courses of the priests and Levites for the service of the house of the LORD. He also provided substantial amounts of gold and silver by weight for all the instruments and vessels of service, including gold for the tables of show-bread, flesh-hooks, bowls, cups, golden basins, and the altar of incense. He also provided gold for the pattern of the chariot of the cherubim that covered the Ark of the Covenant. David stated that the LORD had made him understand all these patterns in writing by His hand upon him.\n\nFinally, David encouraged Solomon again to be strong, of good courage, and to do the work without fear or dismay, assuring him that the LORD God, his God, would be with him, would not fail him, nor forsake him until all the work for the service of the house of the LORD was finished. He also informed Solomon that the priests and Levites would be with him for all the service of the house of God, and that every willing, skillful man for any manner of workmanship, as well as the princes and all the people, would be at his command."
        ],
        [
         "28",
         "1 Chronicles",
         "29",
         "Furthermore David the king said to all the congregation, Solomon my son, whom alone God hath chosen, is yet young and tender, and the work is great: for the palace is not for man, but for the LORD God. Now I have prepared with all my might for the house of my God the gold for things to he made of gold, and the silver for things of silver, and the brass for things of brass, the iron for things of iron, and wood for things of wood; onyx-stones, and stones to be set, glittering stones, and of divers colors, and all manner of precious stones, and marble stones in abundance. Moreover, because I have set my affection to the house of my God, I have of my own possessions, of gold and silver, which I have given to the house of my God, over and above all that I have prepared for the holy house, Even three thousand talents of gold, of the gold of Ophir, and seven thousand talents of refined silver, to overlay the walls of the houses: The gold for things of gold, and the silver for things of silver, and for all manner of work to be made by the hands of artificers. And who then is willing to consecrate his service this day to the LORD? Then the chief of the fathers and princes of the tribes of Israel, and the captains of thousands and of hundreds, with the rulers over the king's work, offered willingly, And gave for the service of the house of God of gold five thousand talents and ten thousand drams, and of silver ten thousand talents, and of brass eighteen thousand talents, and one hundred thousand talents of iron. And they with whom precious stones were found gave them to the treasure of the house of the LORD, by the hand of Jehiel the Gershonite. Then the people rejoiced, for that they offered willingly, because with perfect heart they offered willingly to the LORD: and David the king also rejoiced with great joy. Wherefore David blessed the LORD before all the congregation: and David said, Blessed be thou, LORD God of Israel our father, for ever and ever. Thine, O LORD, is the greatness, and the power, and the glory, and the victory, and the majesty: for all that is in the heaven and on the earth is thine; thine is the kingdom, O LORD, and thou art exalted as head above all. Both riches and honor come from thee, and thou reignest over all; and in thy hand is power and might; and in thy hand it is to make great, and to give strength to all. Now therefore, our God, we thank thee, and praise thy glorious name. But who am I, and what is my people, that we should be able to offer so willingly after this sort? for all things come from thee, and of thy own have we given thee. For we are strangers before thee, and sojourners, as were all our fathers: our days on the earth are as a shadow, and there is no abiding. O LORD our God, all this store that we have prepared to build thee a house for thy holy name cometh from thy hand, and is all thy own. I know also, my God, that thou triest the heart, and hast pleasure in uprightness. As for me, in the uprightness of my heart I have willingly offered all these things: and now have I seen with joy thy people, who are present here, to offer willingly to thee. O LORD God of Abraham, Isaac, and of Israel, our fathers, keep this for ever in the imagination of the thoughts of the heart of thy people, and prepare their heart to thee: And give to Solomon my son a perfect heart, to keep thy commandments, thy testimonies, and thy statutes, and to do all these things, and to build the palace, for which I have made provision. And David said to all the congregation, Now bless the LORD your God. And all the congregation blessed the LORD God of their fathers, and bowed their heads, and worshiped the LORD, and the king. And they sacrificed sacrifices to the LORD, and offered burnt-offerings to the LORD, on the morrow after that day, even a thousand bullocks, a thousand rams, and a thousand lambs, with their drink-offerings, and sacrifices in abundance for all Israel: And ate and drank before the LORD on that day with great gladness. And they made Solomon the son of David king the second time, and anointed him to the LORD to be the chief governor, and Zadok to be priest. Then Solomon sat on the throne of the LORD as king instead of David his father, and prospered; and all Israel obeyed him. And all the princes, and the mighty men, and all the sons likewise of king David, submitted themselves to Solomon the king. And the LORD magnified Solomon exceedingly in the sight of all Israel, and bestowed upon him such royal majesty as had not been on any king before him in Israel. Thus David the son of Jesse reigned over all Israel. And the time that he reigned over Israel was forty years; seven years he reigned in Hebron, and thirty and three years he reigned in Jerusalem. And he died in a good old age, full of days, riches, and honor: and Solomon his son reigned in his stead. Now the acts of David the king, first and last, behold, they are written in the book of Samuel the seer, and in the book of Nathan the prophet, and in the book of Gad the seer, With all his reign and his might, and the times that went over him, and over Israel, and over all the kingdoms of the countries.",
         "David the king addressed the congregation, explaining that his son Solomon, chosen by God, was young and the task of building the palace for the LORD God was great. David had personally prepared a vast amount of gold, silver, brass, iron, wood, onyx-stones, glittering stones, precious stones, and marble for the house of God. He specified that he had contributed **three thousand talents of gold from Ophir and seven thousand talents of refined silver** from his own possessions for overlaying the walls.\n\nHe then asked who was willing to consecrate their service to the LORD. The chief fathers, tribal princes, captains, and rulers of the king's work responded willingly. They contributed **five thousand talents and ten thousand drams of gold, ten thousand talents of silver, eighteen thousand talents of brass, and one hundred thousand talents of iron**. Precious stones found by individuals were given to the treasure of the house of the LORD by Jehiel the Gershonite. The people rejoiced because they offered willingly with perfect hearts, and King David also rejoiced greatly.\n\nDavid blessed the LORD before all the congregation, acknowledging God's greatness, power, glory, victory, and majesty, and affirming that all things in heaven and on earth belong to Him. He expressed gratitude for God's provision and praised His glorious name, recognizing that all they had offered came from God. David prayed that God would preserve this offering in the hearts of his people and prepare their hearts towards Him. He also prayed for Solomon, asking God to give him a perfect heart to keep His commandments and to build the palace for which David had made provision.\n\nThe congregation then blessed the LORD God of their fathers, bowed their heads, worshiped the LORD, and the king. The following day, they sacrificed **a thousand bullocks, a thousand rams, and a thousand lambs**, along with their drink-offerings and abundant sacrifices for all Israel, eating and drinking with great gladness before the LORD.\n\nThey then made **Solomon the son of David** king for the second time, anointing him to the LORD as chief governor, and **Zadok** as priest. Solomon ascended the throne of the LORD in place of David and prospered, with all Israel obeying him. The princes, mighty men, and all the sons of King David submitted to Solomon. The LORD magnified Solomon exceedingly in the sight of all Israel, bestowing upon him royal majesty unparalleled in Israel's history.\n\nThe chapter concludes by stating that **David the son of Jesse** reigned over all Israel for **forty years**, with **seven years in Hebron** and **thirty-three years in Jerusalem**. He died in a good old age, full of days, riches, and honor, and was succeeded by his son Solomon. His reign and deeds are recorded in the books of Samuel the seer, Nathan the prophet, and Gad the seer."
        ],
        [
         "29",
         "1 Corinthians",
         "1",
         "Paul, called to be an apostle of Jesus Christ through the will of God, and Sosthenes our brother, To the church of God which is at Corinth, to them that are sanctified in Christ Jesus, called to be saints, with all that in every place call upon the name of Jesus Christ our Lord, both theirs and ours. Grace be to you, and peace from God our Father, and from the Lord Jesus Christ. I thank my God always on your behalf, for the grace of God which is given you by Jesus Christ; That in every thing ye are enriched by him, in all utterance, and in all knowledge; Even as the testimony of Christ was confirmed in you: So that ye come behind in no gift; waiting for the coming of our Lord Jesus Christ: Who will also confirm you to the end, that ye may be blameless in the day of our Lord Jesus Christ. God is faithful, by whom ye were called to the fellowship of his Son Jesus Christ our Lord. Now I beseech you, brethren, by the name of our Lord Jesus Christ, that ye all speak the same thing, and that there be no divisions among you; but that ye be perfectly joined together in the same mind, and in the same judgment. For it hath been declared to me concerning you, my brethren, by them who are of the house of Chloe, that there are contentions among you. Now this I say, that every one of you saith, I am of Paul; and I of Apollos; and I of Cephas; and I of Christ. Is Christ divided? was Paul crucified for you? or were ye baptized in the name of Paul? I thank God that I baptized none of you, but Crispus and Gaius; Lest any should say that I had baptized in my own name. And I baptized also the household of Stephanas; besides, I know not whether I baptized any other. For Christ hath not sent me to baptize, but to preach the gospel: not with wisdom of words, lest the cross of Christ should be made of no effect. For the preaching of the cross is to them that perish, foolishness; but to us who are saved, it is the power of God. For it is written, I will destroy the wisdom of the wise, and will bring to nothing the understanding of the prudent. Where is the wise? where is the scribe? where is the disputer of this world? hath not God made foolish the wisdom of this world? For when in the wisdom of God the world by wisdom knew not God, it pleased God by the foolishness of preaching to save them that believe. For the Jews require a sign, and the Greeks seek wisdom: But we preach Christ crucified, to the Jews a stumbling-block, and to the Greeks foolishness; But to them who are called, both Jews and Greeks, Christ the power of God, and the wisdom of God. Because the foolishness of God is wiser than men; and the weakness of God is stronger than men. For ye see your calling, brethren, that not many wise men after the flesh, not many mighty, not many noble are called: But God hath chosen the foolish things of the world to confound the wise; and God hath chosen the weak things of the world to confound the things which are mighty; And base things of the world, and things which are despised, hath God chosen, and things which are not, to bring to naught things that are: That no flesh should glory in his presence. But of him are ye in Christ Jesus, who from God is made to us wisdom, and righteousness, and sanctification, and redemption: That, according as it is written, He that glorieth, let him glory in the Lord.",
         "This chapter, the first chapter of 1 Corinthians, is a letter from **Paul**, called to be an apostle by the will of God, and **Sosthenes** our brother.\n\nIt is addressed to the **church of God which is at Corinth**, specifically to those sanctified in Christ Jesus and called to be saints, along with all who call on the name of Jesus Christ their Lord everywhere. Paul extends grace and peace from God our Father and the Lord Jesus Christ.\n\nPaul thanks God for the grace given to the Corinthians through Jesus Christ, noting their enrichment in all utterance and knowledge, and that they are not lacking in any gift as they await the coming of our Lord Jesus Christ, who will confirm them to the end, blameless. He emphasizes that God is faithful and by Him they were called into fellowship with His Son, Jesus Christ.\n\nPaul then beseeches them, by the name of Jesus Christ, to speak the same thing and to have no divisions, but to be perfectly joined together in mind and judgment. He has learned from **them who are of the house of Chloe** that there are contentions among them. Specifically, people are saying, \"I am of Paul,\" \"I of Apollos,\" \"I of Cephas,\" and \"I of Christ.\" Paul questions if Christ is divided, if he was crucified for them, or if they were baptized in his name.\n\nHe expresses thanks to God that he baptized only **Crispus** and **Gaius**, and also the **household of Stephanas**, to prevent anyone from claiming to be baptized in his own name. He states that Christ did not send him to baptize but to preach the gospel, not with persuasive words lest the cross of Christ be made ineffective.\n\nPaul explains that the preaching of the cross is foolishness to those perishing but the power of God to those saved. He quotes scripture about God destroying the wisdom of the wise and bringing to nothing the understanding of the prudent, asking where the wise, scribes, and disputers of this world are, as God has made their wisdom foolish. He states that the world by its wisdom did not know God, and it pleased God to save believers through the \"foolishness\" of preaching.\n\nHe contrasts the Jewish desire for signs and the Greek pursuit of wisdom with their preaching of Christ crucified, which is a stumbling-block to Jews and foolishness to Greeks. However, to those called, both Jews and Greeks, Christ is the power of God and the wisdom of God. Paul concludes that the foolishness and weakness of God are wiser and stronger than men. He points out that not many wise, mighty, or noble are called, but God has chosen the foolish, weak, base, and despised things of the world to confound the wise, mighty, and bring things that are to naught, so that no flesh should glory in God's presence.\n\nFinally, Paul declares that they are in Christ Jesus, who is made by God to them wisdom, righteousness, sanctification, and redemption, so that, as it is written, whoever glories should glory in the Lord."
        ],
        [
         "30",
         "1 Corinthians",
         "2",
         "And I, brethren, when I came to you, came not with excellence of speech, or of wisdom, declaring to you the testimony of God. For I determined not to know any thing among you, save Jesus Christ, and him crucified. And I was with you in weakness, and in fear, and in much trembling. And my speech and my preaching was not with enticing words of man's wisdom, but in demonstration of the Spirit, and of power: That your faith should not stand in the wisdom of men, but in the power of God. However, we speak wisdom among them that are perfect: yet not the wisdom of this world, nor of the princes of this world, that come to naught: But we speak the wisdom of God in a mystery, even the hidden wisdom which God ordained before the world to our glory: Which none of the princes of this world knew: for had they known it, they would not have crucified the Lord of glory. But as it is written, Eye hath not seen, nor ear heard, neither have entered into the heart of man, the things which God hath prepared for them that love him. But God hath revealed them to us by his Spirit; for the Spirit searcheth all things, even the deep things of God. For what man knoweth the things of a man, save the spirit of man which is in him? even so the things of God knoweth no man, but the Spirit of God. Now we have received, not the spirit of the world, but the spirit which is from God; that we may know the things that are freely given to us by God. Which things also we speak, not in the words which man's wisdom teacheth, but which the Holy Spirit teacheth; comparing spiritual things with spiritual. But the natural man receiveth not the things of the Spirit of God: for they are foolishness to him: neither can he know them, because they are spiritually discerned. But he that is spiritual judgeth all things, yet he himself is judged by no man. For who hath known the mind of the Lord, that he may instruct him? But we have the mind of Christ.",
         "This chapter, attributed to the Apostle Paul, describes his approach to preaching the Gospel. He states that when he came to the Corinthians, he did not rely on eloquent speech or human wisdom but focused solely on Jesus Christ and His crucifixion. Paul emphasizes that his preaching was not in persuasive words of human wisdom but in the power and demonstration of the Holy Spirit, so that the faith of the Corinthians would rest on God's power, not human wisdom.\n\nHe contrasts the wisdom spoken among \"perfect\" believers with the wisdom of the world and its rulers, which ultimately fails. Instead, he speaks of a hidden, divine wisdom ordained by God before the world, a wisdom that the rulers of this world did not know, otherwise they would not have crucified the Lord of glory.\n\nPaul quotes Isaiah, stating that what God has prepared for those who love Him is beyond human perception. He explains that God has revealed these things through His Spirit, which searches even the deep things of God. Just as a man's spirit knows his own thoughts, only the Spirit of God knows the things of God.\n\nHe clarifies that believers have received the Spirit from God, not the spirit of the world, enabling them to understand the gifts God has bestowed. Paul reiterates that he speaks these things using words taught by the Holy Spirit, aligning spiritual truths with spiritual understanding.\n\nThe chapter concludes by explaining that the \"natural\" person, lacking the Spirit, does not accept the things of the Spirit of God, considering them foolishness and unable to know them because they require spiritual discernment. Conversely, the spiritual person discerns all things, yet is not judged by others. Paul then poses the rhetorical question of who knows the mind of the Lord to instruct Him, concluding that believers have the mind of Christ."
        ],
        [
         "31",
         "1 Corinthians",
         "3",
         "And I, brethren, could not speak to you as to spiritual, but as to carnal, even as to babes in Christ. I have fed you with milk, and not with meat: for hitherto ye were not able to bear it, neither yet now are ye able. For ye are yet carnal: for whereas there is among you envying, and strife, and divisions, are ye not carnal, and walk as men? For while one saith, I am of Paul; and another, I am of Apollos; are ye not carnal? Who then is Paul, and who is Apollos, but ministers by whom ye believed, even as the Lord gave to every man? I have planted, Apollos watered: but God hath given the increase. So then, neither is he that planteth any thing, neither he that watereth: but God that giveth the increase. Now he that planteth and he that watereth are one: and every man shall receive his own reward, according to his own labor. For we are laborers together with God: ye are God's husbandry, ye are God's building. According to the grace of God which is given to me, as a wise master-builder, I have laid the foundation, and another buildeth upon it. But let every man take heed how he buildeth upon it. For other foundation can no man lay than that which is laid, which is Jesus Christ. Now if any man buildeth upon this foundation, gold, silver, precious stones, wood, hay, stubble; Every man's work will be made manifest: for the day will declare it, because it will be revealed by fire; and the fire will try every man's work, of what sort it is. If any man's work abideth which he hath built upon it, he shall receive a reward. If any man's work shall be burned, he will suffer loss: but he himself shall be saved; yet so as by fire. Know ye not that ye are the temple of God, and that the Spirit of God dwelleth in you? If any man defileth the temple of God, him will God destroy: for the temple of God is holy, which temple ye are. Let no man deceive himself. If any man among you seemeth to be wise in this world, let him become a fool, that he may be wise. For the wisdom of this world is foolishness with God. For it is written, He taketh the wise in their own craftiness. And again, The Lord knoweth the thoughts of the wise, that they are vain. Therefore let no man glory in men: for all things are yours: Whether Paul, or Apollos, or Cephas, or the world, or life, or death, or things present, or things to come; all are yours; And ye are Christ's; and Christ is God's.",
         "This chapter of the Bible, addressed by the author (implied to be Paul) to the Corinthians, discusses their immaturity and divisions.\n\nThe author explains that he had to speak to them as spiritual infants, feeding them with milk rather than solid food because they were not yet ready to receive it. He points out their carnality, evidenced by envy, strife, and divisions, exemplified by their factions: \"I am of Paul,\" \"I am of Apollos.\"\n\nHe then clarifies the roles of ministers like Paul and Apollos, stating they are merely servants through whom the Corinthians believed, and that their work is dependent on God's enablement. Paul planted and Apollos watered, but it was God who gave the increase. Therefore, neither the planter nor the waterer is important in themselves, but rather God who gives the increase. They are all fellow laborers with God, God's field, and God's building.\n\nThe author emphasizes that he, as a wise master-builder, laid the foundation, which is Jesus Christ. He warns others to build carefully upon this foundation, using materials like gold, silver, precious stones, wood, hay, or stubble. Each person's work will be revealed and tested by fire on the day of judgment. Works that endure will be rewarded, while those that are burned will result in loss for the builder, though he himself will still be saved, but as if through fire.\n\nThe text then reminds them that they are the temple of God, indwelt by the Spirit of God, and that defiling this temple will lead to destruction, as it is holy. The author advises against worldly wisdom, stating that anyone who appears wise in this world should become a fool in order to be truly wise, as worldly wisdom is foolishness to God. He cites scripture about God capturing the wise in their own craftiness and knowing their thoughts to be vain.\n\nFinally, the author urges them not to boast in men, because all things are theirs, including Paul, Apollos, Cephas, the world, life, death, present things, and future things. They, in turn, belong to Christ, and Christ belongs to God."
        ],
        [
         "32",
         "1 Corinthians",
         "4",
         "Let a man so account of us, as of the ministers of Christ, and stewards of the mysteries of God. Moreover, it is required in stewards that a man be found faithful. But with me it is a very small thing that I should be judged by you, or by man's judgment: yes, I judge not my own self. For I know nothing against myself; yet am I not hereby justified: but he that judgeth me is the Lord. Therefore judge nothing before the time, until the Lord shall come, who will both bring to light the hidden things of darkness, and will make manifest the counsels of the hearts: and then shall every man have praise from God. And these things, brethren, I have in a figure transferred to myself, and to Apollos, for your sakes; that ye may learn in us not to think of men above that which is written, that no one of you on account of one, may be puffed up against another. For who maketh thee to differ from another? and what hast thou that thou didst not receive? now if thou didst receive it, why dost thou glory, as if thou hadst not received it? Now ye are full, now ye are rich, ye have reigned as kings without us: and I wish ye did reign, that we also might reign with you. For I think that God hath set forth us the apostles last, as it were appointed to death: for we are made a spectacle to the world, and to angels, and to men. We are fools for Christ's sake, but ye are wise in Christ; we are weak, but ye are strong; ye are honorable, but we are despised. Even to this present hour we both hunger, and thirst, and are naked, and are buffeted, and have no certain dwelling-place; And labor, working with our own hands. Being reviled, we bless; being persecuted, we suffer it; Being defamed, we entreat: we are made as the filth of the world, the offscouring of all things to this day. I write not these things to shame you, but as my beloved sons I warn you. For though ye have ten thousand instructors in Christ, yet have ye not many fathers: for in Christ Jesus I have begotten you through the gospel. Wherefore I beseech you, be ye followers of me. For this cause have I sent to you Timothy, who is my beloved son, and faithful in the Lord, who will bring you into remembrance of my ways which are in Christ, as I teach every where in every church. Now some are puffed up, as though I would not come to you. But I will come to you shortly, if the Lord will, and will know, not the speech of them who are puffed up, but the power. For the kingdom of God is not in word, but in power. What will ye? shall I come to you with a rod, or in love, and in the spirit of meekness?",
         "This chapter, likely 1 Corinthians 4, discusses the role and conduct of ministers, specifically Paul and Apollos, and addresses divisions within the Corinthian church.\n\nPaul begins by stating that ministers should be considered servants of Christ and stewards of God's mysteries. Faithfulness is the essential quality required of a steward. Paul dismisses the importance of human judgment, even his own, as only the Lord can truly judge and reveal hidden motives and thoughts when He returns. He emphasizes that ultimate praise comes from God.\n\nHe uses himself and Apollos as examples to prevent the Corinthians from exalting one leader over another. He reminds them that any distinctions they possess are from God and that boasting is unwarranted. He notes that the Corinthians have become self-sufficient, feeling full and wealthy as if they had already begun to reign, and wishes they could reign with the apostles.\n\nPaul then contrasts the apostles' suffering with the Corinthians' perceived wisdom and strength. He describes the apostles as being set forth last, like those appointed to death, a spectacle to the world, angels, and men. They are considered fools, weak, and despised, enduring hunger, thirst, nakedness, buffeting, homelessness, and laboring with their own hands. They respond to revilement with blessings, persecution with patient suffering, and defamation with entreaties, being treated as the \"filth of the world\" and \"offscouring.\"\n\nPaul clarifies that he writes this not to shame them but to admonish them as beloved sons. He highlights that while they may have many instructors, they have few fathers, as he has fathered them through the gospel in Christ Jesus. He urges them to imitate him.\n\nTo further guide them, he has sent Timothy, his beloved and faithful son in the Lord, who will remind them of Paul's ways in Christ, which he teaches in every church.\n\nFinally, Paul addresses some in Corinth who are arrogant, assuming he will not come. He declares his intention to visit soon, if the Lord permits, and to assess the \"power\" of those who are puffed up, not just their words, as the kingdom of God is based on power, not mere speech. He asks whether they would prefer him to come with a disciplinary rod or with love and a spirit of meekness."
        ],
        [
         "33",
         "1 Corinthians",
         "5",
         "It is reported commonly that there is lewdness among you, and such lewdness as is not so much as named among the Gentiles, that one should have his father's wife. And ye are puffed up, and have not rather mourned, that he who hath done this deed might be taken away from among you. For I verily, as absent in body, but present in spirit, have judged already as though I were present, concerning him that hath so done this deed, In the name of our Lord Jesus Christ, when ye are assembled, and my spirit, with the power of our Lord Jesus Christ, To deliver such one to Satan for the destruction of the flesh, that the spirit may be saved in the day of the Lord Jesus. Your boasting is not good. Know ye not, that a little leaven leaveneth the whole lump? Cleanse out therefore the old leaven, that ye may be a new lump, as ye are unleavened. For even Christ our passover is sacrificed for us: Therefore let us keep the feast, not with old leaven, neither with the leaven of malice and wickedness; but with the unleavened bread of sincerity and truth. I have written to you in this epistle, not to associate with persons guilty of lewdness: Yet not altogether with lewd persons of this world, or with the covetous, or extortioners, or with idolaters: for then ye must needs go out of the world. But now I have written to you not to keep company, if any man that is called a brother is a lewd person, or covetous, or an idolater, or a railer, or a drunkard, or an extortioner: with such person no not to eat. For what have I to do to judge them also that are without? do ye not judge them that are within? But them that are without God judgeth. Therefore put away from among yourselves that wicked person.",
         "This chapter addresses a severe case of sexual immorality within the Corinthian church, specifically that a man is having relations with his father's wife. The Apostle Paul, though absent in body, declares that he has already judged this person. He instructs the church to assemble in the name of Jesus Christ and, with his spirit and the power of the Lord Jesus, to deliver the offender to Satan for the destruction of the flesh, so that his spirit may be saved on the day of the Lord.\n\nPaul rebukes their pride, comparing the corrupting influence of this sin to a little leaven that leavens the whole lump. He urges them to cleanse out the \"old leaven\" (representing wickedness) and become a \"new lump\" of unleavened bread, symbolizing sincerity and truth, just as Christ, their Passover, has been sacrificed for them.\n\nHe clarifies his earlier instruction, stating that he did not mean to avoid all immoral people in the world (such as the lewd, covetous, extortioners, or idolaters). Instead, he commands them not to associate with anyone within the church who identifies as a brother but is sexually immoral, covetous, an idolater, a reviler, a drunkard, or an extortioner, not even to eat with such individuals. Paul emphasizes that judging those outside the church is not their responsibility, as God will judge them, but they are to judge those within. Therefore, they are to remove this wicked person from their midst."
        ],
        [
         "34",
         "1 Corinthians",
         "6",
         "Dare any of you, having a matter against another, go to law before the unjust, and not before the saints? Do ye not know that the saints will judge the world? and if the world shall be judged by you, are ye unworthy to judge the smallest matters? Know ye not that we shall judge angels? how much more, things that pertain to this life? If then ye have judgments of things pertaining to this life, set them to judge who are least esteemed in the church. I speak to your shame. Is it so, that there is not a wise man among you? no, not one that will be able to judge between his brethren? But brother goeth to law with brother, and that before unbelievers. Now therefore there is utterly a fault among you, because ye go to law one with another. Why do ye not rather take wrong? why do ye not rather suffer yourselves to be defrauded? But ye do wrong, and defraud, and that your brethren. Know ye not that the unrighteous shall not inherit the kingdom of God? Be not deceived; neither fornicators, nor idolaters, nor adulterers, nor effeminate, nor abusers of themselves with mankind, Nor thieves, nor covetous, nor drunkards, nor revilers, nor extortioners, shall inherit the kingdom of God. And such were some of you: but ye are washed, but ye are sanctified, but ye are justified in the name of the Lord Jesus, and by the Spirit of our God. All things are lawful to me, but all things are not expedient: all things are lawful for me, but I will not be brought under the power of any. Meats for the belly, and the belly for meats: but God will destroy both it and them. Now the body is not for lewdness, but for the Lord; and the Lord for the body. And God hath both raised up the Lord, and will also raise up us by his own power. Know ye not, that your bodies are the members of Christ? shall I then take the members of Christ, and make them the members of a harlot? By no means. What? know ye not that he who is joined to a harlot is one body? for two, saith he, shall be one flesh. But he that is joined to the Lord is one spirit. Flee lewdness. Every sin that a man doeth, is without the body; but he that committeth lewdness, sinneth against his own body. What, know ye not that your body is the temple of the Holy Spirit which is in you, which ye have from God, and ye are not your own? For ye are bought with a price: therefore glorify God in your body, and in your spirit, which are God's.",
         "This chapter addresses the Corinthians' practice of taking legal disputes among themselves to pagan, or \"unjust,\" courts rather than settling them within the church, before \"the saints.\" The Apostle Paul expresses his shame at this, questioning if there isn't a wise person among them capable of judging such \"smallest matters\" of this life. He points out that the saints will eventually judge the world and even angels, making them more than qualified to handle internal disputes.\n\nPaul rebukes them for causing fault by going to law with one another before unbelievers. He urges them to accept wrong and suffer defraudment rather than perpetrating it against their brethren.\n\nThe chapter then lists various unrighteous behaviors – fornicators, idolaters, adulterers, effeminate, abusers of themselves with mankind, thieves, covetous, drunkards, revilers, and extortioners – stating that these will not inherit the kingdom of God. He reminds them that while some of them were once like this, they have been washed, sanctified, and justified in the name of the Lord Jesus and by the Spirit of God.\n\nPaul then shifts to the matter of food and the body. He asserts that while \"all things are lawful\" for him, not all are expedient, and he will not be brought under the power of any. He states that food is for the stomach and the stomach for food, but God will destroy both. More importantly, he emphasizes that the body is not for sexual immorality but for the Lord, and the Lord is for the body. God raised the Lord and will also raise believers by His power.\n\nHe further questions whether they know that their bodies are members of Christ, and asks if they would take members of Christ and make them members of a harlot, stating emphatically, \"By no means.\" He reminds them that he who joins himself to a harlot becomes one body, but he who joins himself to the Lord becomes one spirit.\n\nPaul strongly urges them to \"flee sexual immorality\" (lewdness). He explains that every other sin a person commits is outside the body, but the one who commits sexual immorality sins against his own body. He concludes by reminding them that their bodies are the temple of the Holy Spirit who is in them, whom they have from God, and that they are not their own. They have been bought with a price, and therefore, they should glorify God in their bodies and in their spirits, which belong to God."
        ],
        [
         "35",
         "1 Corinthians",
         "7",
         "Now concerning the things of which ye wrote to me: It is good for a man not to touch a woman. Nevertheless, to avoid lewdness, let every man have his own wife, and let every woman have her own husband. Let the husband render to the wife due benevolence: and likewise also the wife to the husband. The wife hath not power of her own body, but the husband: and likewise also the husband hath not power of his own body, but the wife. Defraud ye not one the other, except with consent for a time, that ye may give yourselves to fasting and prayer; and come together again, that Satan may not tempt you for your incontinence. But I speak this by permission, and not as a commandment. For I would that all men were as I myself. But every man hath his proper gift from God, one after this manner, and another after that. I say therefore to the unmarried and widows, It is good for them if they remain even as I. But if they cannot contain, let them marry: for it is better to marry than to burn. And to the married I command, yet not I, but the Lord, Let not the wife depart from her husband: But if she shall depart, let her remain unmarried, or be reconciled to her husband: and let not the husband put away his wife. But to the rest I speak, not the Lord, if any brother hath a wife that believeth not, and she is pleased to dwell with him, let him not put her away. And the woman who hath a husband that believeth not, and if he is pleased to dwell with her, let her not leave him. For the unbelieving husband is sanctified by the wife, and the unbelieving wife is sanctified by the husband: else were your children unclean; but now are they holy. But if the unbelieving departeth, let him depart. A brother or a sister is not under bondage in such cases; but God hath called us to peace. For how knowest thou, O wife, whether thou shalt save thy husband? or how knowest thou, O man, whether thou shalt save thy wife? But as God hath distributed to every man, as the Lord hath called every one, so let him walk. And so I ordain in all churches. Is any man called being circumcised? let him not become uncircumcised. Is any called in uncircumcision? let him not become circumcised. Circumcision is nothing, and uncircumcision is nothing, but the keeping of the commandments of God. Let every man continue in the same calling in which he was called. Art thou called being a servant? care not for it; but if thou mayest be made free, use it rather. For he that is called in the Lord, being a servant, is the Lord's free-man: likewise also he that is called, being free, is Christ's servant. Ye are bought with a price; be not ye the servants of men. Brethren, let every man in the state in which he is called, continue in it with God. Now concerning virgins, I have no commandment of the Lord: yet I give my judgment as one that hath obtained mercy from the Lord to be faithful. I suppose therefore that this is good for the present distress, I say, that it is good for a man so to be. Art thou bound to a wife? seek not to be loosed. Art thou loosed from a wife? seek not a wife. But if thou marry, thou hast not sinned: and if a virgin marry, she hath not sinned. Nevertheless, such will have trouble in the flesh; but I spare you. But this I say, brethren, The time is short. It remaineth, that both they that have wives, be as though they had none; And they that weep, as though they wept not; and they that rejoice, as though they rejoiced not; and they that buy, as though they possessed not; And they that use this world, as not abusing it. For the fashion of this world passeth away. But I would have you without anxious care. He that is unmarried, is anxious for the things that belong to the Lord, how he may please the Lord: But he that is married, is anxious for the things that are of the world, how he may please his wife. There is a difference also between a wife and a virgin. The unmarried woman is anxious for the things of the Lord, that she may be holy, both in body and in spirit: but she that is married, is anxious for the things of the world, how she may please her husband. And this I speak for your own profit; not that I may cast a snare upon you, but for that which is comely, and that ye may attend upon the Lord without distraction. But if any man thinketh that he behaveth himself uncomely towards his virgin, if she hath passed the flower of her age, and need so requireth, let him do what he will, he sinneth not: let them marry. Nevertheless, he that standeth steadfast in his heart, having no necessity, but hath power over his own will, and hath so decreed in his heart that he will keep his virgin, doeth well. So then he that giveth her in marriage doeth well; but he that giveth her not in marriage doeth better. The wife is bound by the law as long as her husband liveth; but if her husband is dead, she is at liberty to be married to whom she will; only in the Lord. But she is happier if she so remain, after my judgment; and I think also that I have the Spirit of God.",
         "This chapter, addressed by the Apostle Paul, discusses marriage, singleness, and the circumstances surrounding them, with a focus on avoiding sin and pleasing God.\n\nPaul begins by stating it is good for a man not to touch a woman, but to avoid sexual immorality, every man should have his own wife and every woman her own husband. He emphasizes mutual conjugal rights and responsibilities between husband and wife, stating neither has power over their own body, but each other's. He advises against defrauding each other of these rights, except with mutual consent for a limited time for prayer and fasting, to avoid temptation due to lack of self-control. Paul clarifies this is a permission, not a commandment, and he wishes all men were like himself (single).\n\nHe then addresses the unmarried and widows, suggesting it is good for them to remain as he is. However, if they cannot exercise self-control, it is better to marry than to be consumed by passion. For those who are married, Paul relays a commandment from the Lord: a wife should not leave her husband. If she does depart, she should remain unmarried or be reconciled. Likewise, a husband should not divorce his wife.\n\nFor other situations not directly covered by the Lord's commandment, Paul advises: if a brother has an unbelieving wife who is willing to live with him, he should not divorce her. Similarly, if a woman has an unbelieving husband who is willing to live with her, she should not leave him. The unbelieving spouse is sanctified by the believing spouse, making their children holy rather than unclean. If the unbelieving spouse chooses to depart, the believing spouse should let them go, as a brother or sister is not bound in such cases, because God has called them to peace. Paul questions whether a spouse can save the other, and reiterates that each should live according to the state in which they were called by God.\n\nPaul then addresses the matter of social status and calling. He states that if a man is called as circumcised, he should not seek to become uncircumcised; if called in uncircumcision, he should not be circumcised. Circumcision and uncircumcision are insignificant; what matters is keeping God's commandments. Everyone should remain in the calling in which they were called. If a servant is called, he should not worry about it, but if he can become free, he should do so. However, a servant called by the Lord is the Lord's freedman, and a free person called is Christ's servant. Believers are bought with a price and should not be servants of men. Paul exhorts every man to continue in the state in which he is called, with God.\n\nRegarding virgins, Paul states he has no commandment from the Lord but offers his judgment as one who has obtained mercy. He believes it is good for the present distress for a man to remain as he is (single). If married, one should not seek to be loosed; if loosed, one should not seek a wife. Marrying is not a sin, nor is a virgin marrying. However, married individuals will face worldly troubles, and Paul wishes to spare them this. He emphasizes that the time is short, and urges believers to live as if they had no wives, weep not, rejoice not, buy not, and use the world without becoming absorbed in it, as the fashion of this world is passing away.\n\nPaul desires believers to be without anxious care. The unmarried person is concerned with pleasing the Lord, while the married person is concerned with pleasing their spouse and worldly matters. An unmarried woman is concerned with pleasing the Lord and being holy in body and spirit, while a married woman is concerned with pleasing her husband and worldly matters. This advice is for their profit, not to ensnare them, but for seemliness and to attend the Lord without distraction.\n\nPaul then addresses the situation where a man feels he is not behaving properly towards his virgin daughter who is past the age of marriage, stating that if it is necessary, he can permit her to marry, and this is not a sin. However, he who stands firm in his heart, having no need, and has power over his will to keep his virgin, does well. Giving her in marriage is good, but not giving her in marriage is better.\n\nFinally, Paul states that a wife is bound by law to her husband as long as he lives. If he dies, she is free to marry whomever she wishes, but only in the Lord. In Paul's judgment, she is happier remaining unmarried, and he believes he has the Spirit of God."
        ],
        [
         "36",
         "1 Corinthians",
         "8",
         "Now as concerning things offered to idols, we know that we all have knowledge. Knowledge puffeth up, but charity edifieth. And if any man thinketh that he knoweth any thing, he knoweth nothing yet as he ought to know. But if any man loveth God, the same is known by him. Therefore as concerning the eating of those things that are offered in sacrifice to idols, we know that an idol is nothing in the world, and that there is no other God but one. For though there are that are called gods, whether in heaven or upon earth, (as there are gods many, and lords many) Yet to us there is but one God, the Father, from whom are all things, and we in him; and one Lord Jesus Christ, by whom are all things, and we by him. But there is not in every man that knowledge: for some with conscience of the idol to this hour eat it as a thing offered to an idol; and their conscience, being weak, is defiled. But food commendeth us not to God: for neither if we eat, are we the better; neither if we eat not, are we the worse. But take heed lest by any means this liberty of yours should become a stumbling-block to them that are weak. For if any man shall see thee, who hast knowledge, sit eating in the idol's temple, will not the conscience of him who is weak be emboldened to eat those things which are offered to idols; And through thy knowledge shall the weak brother perish, for whom Christ died? But when ye thus sin against the brethren, and wound their weak conscience, ye sin against Christ. Wherefore, if food maketh my brother to fall into sin, I will eat no flesh while the world standeth, lest I make my brother to fall into sin.",
         "This chapter, from 1 Corinthians chapter 8, discusses the issue of eating food sacrificed to idols. The author acknowledges that believers possess \"knowledge,\" understanding that an idol is nothing and there is only one God, the Father, and one Lord, Jesus Christ. However, this knowledge can lead to pride. True spiritual growth comes from \"charity\" (love).\n\nThe author points out that not all believers have this full knowledge. Some, with a weak conscience regarding idols, still consider such food defiled. While food itself doesn't bring one closer to God, the exercise of one's \"liberty\" in eating food sacrificed to idols can be a \"stumbling-block\" to these weaker brethren.\n\nIf a knowledgeable believer is seen eating in an idol's temple, it can embolden the weak brother to act against his conscience. This act, done out of knowledge, can lead to the destruction of the weak brother for whom Christ died. Sinning against a brother's weak conscience is sinning against Christ.\n\nTherefore, the author concludes that if eating meat causes his brother to stumble, he will abstain from eating meat entirely as long as the world lasts, to avoid causing his brother to sin."
        ],
        [
         "37",
         "1 Corinthians",
         "9",
         "Am I not an apostle? am I not free? have I not seen Jesus Christ our Lord? are ye not my work in the Lord? If I am not an apostle to others, yet doubtless I am to you: for ye are the seal of my apostleship in the Lord. My answer to them that examine me is this, Have we not power to eat and to drink? Have we not power to lead about a sister, a wife, as well as other apostles, and as the brethren of the Lord, and Cephas? Or I only and Barnabas, have we not power to forbear working? Who goeth a warfare at any time at his own charges? who planteth a vineyard, and eateth not of its fruit? or who feedeth a flock, and eateth not of the milk of the flock? Do I say these things as a man? or saith not the law the same also? For it is written in the law of Moses, Thou shalt not muzzle the mouth of the ox that treadeth out the corn. Doth God take care for oxen? Or saith he this altogether for our sakes? for our sakes, no doubt, this is written: that he that ploweth should plow in hope; and that he that thresheth in hope should be partaker of his hope. If we have sown to you spiritual things, is it a great thing if we shall reap your carnal things? If others are partakers of this power over you, are not we rather? Nevertheless we have not used this power; but suffer all things, lest we should hinder the gospel of Christ. Do ye not know that they who minister about holy things live from the things of the temple, and they who wait at the altar are partakers with the altar? Even so hath the Lord ordained that they who preach the gospel should live by the gospel. But I have used none of these things: neither have I written these things, that it should be so done to me: for it were better for me to die, than that any man should make my glorying void. For though I preach the gospel, I have nothing to boast of: for necessity is laid upon me; and woe is to me, if I preach not the gospel! For if I do this thing willingly, I have a reward: but if against my will, a dispensation of the gospel is committed to me. What is my reward then? Verily that, when I preach the gospel, I may make the gospel of Christ without charge, that I may not abuse my power in the gospel. For though I am free from all men, yet I have made myself servant to all, that I might gain the more. And to the Jews I became as a Jew, that I might gain the Jews; to them that are under the law, as under the law, that I might gain them that are under the law; To them that are without law, as without law, (being not without law to God, but under the law to Christ,) that I might gain them that are without law. To the weak I became as weak, that I might gain the weak: I have become all things to all men, that I might by all means save some. And this I do for the gospel's sake, that I may be partaker of it with you. Know ye not, that they who run in a race, all run, but one receiveth the prize? So run, that ye may obtain. And every man that striveth for the mastery is temperate in all things. Now they do it to obtain a corruptible crown; but we an incorruptible. I therefore so run, not as uncertainly; so I fight, not as one that beateth the air: But I keep under my body, and bring it into subjection: lest by any means when I have preached to others, I myself should be a cast-away.",
         "This chapter of the Bible, likely 1 Corinthians 9, is a defense of the Apostle Paul's ministry and his rights as an apostle.\n\nPaul begins by asserting his apostleship, questioning if he hasn't seen Jesus Christ and if the recipients of his letter (likely the church at Corinth) are not his work in the Lord, the seal of his apostleship. He addresses those who question him by highlighting the rights of apostles, such as the power to eat and drink, to take a believing wife along with them (like other apostles, the brethren of the Lord, and Cephas), and to forbear working. He uses analogies from warfare and agriculture to illustrate that those who labor deserve to be supported. He quotes from the law of Moses, specifically Deuteronomy 25:4, \"Thou shalt not muzzle the mouth of the ox that treadeth out the corn,\" to show that God's principle supports those who labor in His service.\n\nPaul argues that if he has \"sown spiritual things\" among them, it's not too much to reap \"carnal things\" from them. He notes that others partake of this power over them, implying he and Barnabas have an even greater right. However, he states that they have not used this power, choosing to suffer all things to avoid hindering the gospel of Christ. He reminds them that those who minister about holy things live from the temple, and those who wait at the altar partake with the altar, thus establishing that the Lord ordained that gospel preachers should live by the gospel.\n\nPaul emphasizes that he has used none of these rights, nor is this his reason for writing. He declares that it would be better for him to die than for anyone to invalidate his boasting. He explains that while he preaches the gospel, he has nothing to boast of because he is compelled by necessity; \"woe to me, if I preach not the gospel!\" He states that if he does this willingly, he has a reward, but if not, it is a \"dispensation of the gospel\" committed to him. His reward, he explains, is to preach the gospel without charge, so as not to abuse his power in the gospel.\n\nHe then describes his ministry philosophy: though he is free from all men, he has made himself a servant to all to gain more. He became \"all things to all men\" – a Jew to the Jews, under the law to those under the law, and without law to those without law (while being under the law to Christ) – to gain them. He became weak to the weak to gain the weak. His ultimate goal in doing this is for the gospel's sake, so that he might be a partaker of it with them.\n\nFinally, Paul uses the analogy of a footrace and athletic striving. He urges the Corinthians to run and strive with the same intensity, aiming for an incorruptible crown, unlike the athletes who strive for a corruptible one. He declares that he runs and fights with purpose, not uncertainly or aimlessly. He disciplines his own body and brings it into subjection, lest after preaching to others, he himself should be disqualified or \"a cast-away.\""
        ],
        [
         "38",
         "1 Corinthians",
         "10",
         "Moreover, brethren, I would not that ye should be ignorant, that all our fathers were under the cloud, and all passed through the sea; And were all baptized to Moses in the cloud and in the sea; And all ate the same spiritual food; And all drank the same spiritual drink: (for they drank of that spiritual Rock that followed them: and that Rock was Christ.) But with many of them God was not well pleased: for they were overthrown in the wilderness. Now these things were our examples, to the intent we should not lust after evil things, as they also lusted. Neither be ye idolaters, as were some of them: as it is written, The people sat down to eat and drink, and rose up to play. Neither let us commit lewdness, as some of them committed, and fell in one day three and twenty thousand. Neither let us tempt Christ, as some of them also tempted, and were destroyed by serpents. Neither murmur ye, as some of them also murmured, and were destroyed by the destroyer. Now all these things happened to them for examples: and they are written for our admonition, upon whom the ends of the world are come. Wherefore let him that thinketh he standeth, take heed lest he fall. There hath no temptation taken you but such as is common to man: but God is faithful, who will not suffer you to be tempted above what ye are able; but will with the temptation also make a way to escape, that ye may be able to bear it. Wherefore, my dearly beloved, flee from idolatry. I speak as to wise men; judge ye what I say. The cup of blessing which we bless, is it not the communion of the blood of Christ? The bread which we break, is it not the communion of the body of Christ? For we being many are one bread, and one body: for we are all partakers of that one bread. Behold Israel after the flesh: are not they who eat of the sacrifices, partakers of the altar? What then do I say? that the idol is any thing, or that which is offered in sacrifice to idols is any thing? But I say, that the things which the Gentiles sacrifice, they sacrifice to demons, and not to God: and I would not that ye should have fellowship with demons. Ye cannot drink the cup of the Lord, and the cup of demons: ye cannot be partakers of the Lord's table, and of the table of demons. Do we provoke the Lord to jealousy? are we stronger than he? All things are lawful for me, but all things are not expedient: all things are lawful for me, but all things edify not. Let no man seek his own, but every man another's wealth. Whatever is sold in the provision market, that eat, asking no question for conscience' sake: For the earth is the Lord's, and its fullness. If any of them that believe not invites you to a feast, and ye are disposed to go; whatever is set before you, eat, asking no question on account of conscience. But if any man shall say to you, This is offered in sacrifice to idols, eat not for his sake that showed it, and for conscience' sake: for the earth is the Lord's, and its fullness: Conscience, I say, not thy own, but of the other: for why is my liberty judged by another man's conscience? For if I by grace am a partaker, why am I evil spoken of for that for which I give thanks? Whether therefore ye eat or drink, or whatever ye do, do all to the glory of God. Give no offense, neither to the Jews, nor to the Gentiles, nor to the church of God: Even as I please all men in all things, not seeking my own profit, but the profit of many, that they may be saved.",
         "This chapter, from 1 Corinthians, serves as a warning and instruction to believers about avoiding idolatry and living a life that honors God. The Apostle Paul draws parallels between the experiences of the Israelites in the wilderness and the current challenges faced by the Corinthian church.\n\nPaul reminds the Corinthians that their spiritual fathers, under Moses, were all baptized in the cloud and the sea, and all ate the same spiritual food and drank the same spiritual drink from the Rock, which was Christ. However, he notes that despite these blessings, many Israelites were not well-pleasing to God and were overthrown in the wilderness. He emphasizes that these events served as examples for them, to prevent them from lusting after evil things, being idolaters, committing lewdness (citing that **twenty-three thousand** fell in one day), tempting Christ, or murmuring. Paul stresses that these occurrences were written for their admonition, especially as they live in the \"ends of the world.\" He warns that those who think they are standing should take heed lest they fall, but reassures them that God is faithful and will not allow them to be tempted beyond their ability, always providing a way of escape.\n\nThe chapter then shifts to the significance of the Lord's Supper. Paul asks if the cup of blessing they bless is not a communion of the blood of Christ and if the bread they break is not a communion of the body of Christ. He explains that because they are many, they are one bread and one body, as they are all partakers of that one bread. He contrasts this with eating of sacrifices offered to idols, stating that while the idol itself is nothing, the things sacrificed are offered to demons, not to God. He warns against having fellowship with demons and declares that believers cannot drink the cup of the Lord and the cup of demons, nor be partakers of the Lord's table and the table of demons.\n\nPaul then addresses the issue of eating food sold in the market or offered at pagan feasts. He states that all things are lawful but not all are expedient or edifying. He encourages them to seek another's welfare rather than their own. He advises eating whatever is sold in the market without questioning for conscience' sake, as the earth and its fullness belong to the Lord. Similarly, if invited to a feast by a non-believer, they should eat whatever is set before them. However, if told that food was offered to idols, they should abstain for the sake of the one who informed them and for conscience' sake. Paul clarifies that conscience should be the conscience of the other person, not just one's own, and that one's liberty should not be judged by another's conscience.\n\nFinally, Paul concludes by urging them to do all things to the glory of God, giving no offense to Jews, Gentiles, or the church of God. He states his own practice of pleasing all men in all things, not seeking his own profit but the profit of many, so that they may be saved."
        ],
        [
         "39",
         "1 Corinthians",
         "11",
         "Be ye followers of me, even as I also am of Christ. Now I praise you, brethren, that ye remember me in all things, and keep the ordinances, as I delivered them to you. But I would have you know, that the head of every man is Christ; and the head of the woman is the man; and the head of Christ is God. Every man praying or prophesying, having his head covered, dishonoreth his head. But every woman that prayeth or prophesieth with her head uncovered, dishonoreth her head: for that is even all one as if she were shaved. For if the woman is not covered, let her also be shorn: but if it is a shame for a woman to be shorn or shaved, let her be covered. For a man indeed ought not to cover his head, forasmuch as he is the image and glory of God: but the woman is the glory of the man. For the man is not from the woman, but the woman from the man. Neither was the man created for the woman, but the woman for the man. For this cause ought the woman to have power on her head, because of the angels. Nevertheless, neither is the man without the woman, neither the woman without the man in the Lord. For as the woman is from the man, even so is the man also by the woman; but all things from God. Judge in yourselves: Is it comely that a woman should pray to God uncovered? Doth not even nature itself teach you, that if a man hath long hair, it is a shame to him? But if a woman hath long hair, it is a glory to her: for her hair is given her for a covering. But if any man seemeth to be contentious, we have no such custom, neither the churches of God. Now in this that I declare to you, I praise you not, that ye come together not for the better, but for the worse. For first of all, when ye come together in the church, I hear that there are divisions among you; and I partly believe it. For there must be also heresies among you, that they who are approved may be made manifest among you. When therefore ye come together in one place, this is not to eat the Lord's supper. For in eating every one taketh before another his own supper: and one is hungry, and another is drunken. What? have ye not houses to eat and to drink in? or despise ye the church of God, and shame them that have not? What shall I say to you? shall I praise you in this? I praise you not. For I have received from the Lord, that which also I delivered to you, That the Lord Jesus, the same night in which he was betrayed, took bread: And when he had given thanks, he broke it, and said, Take, eat: this is my body, which is broken for you: this do in remembrance of me. After the same manner also he took the cup, when he had supped, saying, This cup is the new testament in my blood: this do ye, as often as ye drink it, in remembrance of me. For as often as ye eat this bread, and drink this cup, ye do show the Lord's death till he shall come. Wherefore, whoever shall eat this bread, and drink this cup of the Lord unworthily, shall be guilty of the body and blood of the Lord. But let a man examine himself, and so let him eat of that bread, and drink of that cup. For he that eateth and drinketh unworthily, eateth and drinketh condemnation to himself, not discerning the Lord's body. For this cause many are weak and sickly among you, and many sleep. For if we would judge ourselves, we should not be judged. But when we are judged, we are chastened by the Lord, that we should not be condemned with the world. Wherefore, my brethren, when ye come together to eat, tarry one for another. And if any man hungereth, let him eat at home; that ye come not together to condemnation. And the rest will I set in order when I come.",
         "This chapter, which is from 1 Corinthians, begins with the Apostle Paul encouraging the believers to follow him as he follows Christ. He praises them for remembering him and keeping his teachings.\n\nPaul then addresses the proper order and appearance during prayer and prophecy, particularly concerning head coverings. He states that the head of every man is Christ, the head of the woman is the man, and the head of Christ is God. A man praying or prophesying with his head covered dishonors Christ, who is his head. Conversely, a woman praying or prophesying with her head uncovered dishonors her head (the man), and it is equivalent to having her head shaved. Paul explains that if a woman is not covered, she should also be shorn or shaved. However, since it is considered shameful for a woman to be shorn or shaved, she ought to be covered. He reasons that a man should not cover his head because he is the image and glory of God, while the woman is the glory of the man. The man was not created from the woman, but the woman from the man. Furthermore, the woman ought to have a covering on her head because of the angels. Paul clarifies that in the Lord, neither man nor woman is independent of the other; just as the woman is from the man, so the man is by the woman, and all things are from God. He asks if it is fitting for a woman to pray to God uncovered and points out that nature itself teaches that long hair is a shame for a man but a glory for a woman, with her hair given to her as a covering. If anyone is contentious about this, Paul states that they have no such custom, nor do the churches of God.\n\nThe chapter then shifts to Paul's disapproval of the way the Corinthian church conducts their gatherings, stating they come together not for the better but for the worse. He has heard of divisions among them and partly believes it, noting that heresies must exist so that the genuine believers may be revealed.\n\nPaul then addresses the Lord's Supper, stating that when they come together in one place, it is not to eat the Lord's Supper. He describes how, in their gatherings, everyone takes his own supper before another, leading to some being hungry and others drunk. He questions if they do not have houses to eat and drink in and asks if they despise the church of God and shame those who have nothing. He explicitly states he does not praise them for this.\n\nPaul then recounts the institution of the Lord's Supper as he received it from the Lord: on the night Jesus was betrayed, He took bread, gave thanks, broke it, and said, \"This is my body, which is broken for you: this do in remembrance of me.\" Similarly, after supper, He took the cup, saying, \"This cup is the new testament in my blood: this do ye, as often as ye drink it, in remembrance of me.\" He emphasizes that as often as they eat the bread and drink the cup, they proclaim the Lord's death until He comes.\n\nHe warns that whoever eats the bread and drinks the cup of the Lord unworthily will be guilty of the body and blood of the Lord. He urges individuals to examine themselves before eating the bread and drinking the cup. He explains that eating and drinking unworthily brings condemnation to oneself, because the person does not discern the Lord's body. As a consequence, many among them are weak and sick, and many have died (\"sleep\"). Paul concludes that if they would judge themselves, they would not be judged by the Lord. When they are judged, it is a chastening by the Lord to prevent them from being condemned with the world. Therefore, he advises that when they come together to eat, they should wait for one another, and if anyone is hungry, they should eat at home, so that their gatherings do not lead to condemnation. He promises to set the rest in order when he comes."
        ],
        [
         "40",
         "1 Corinthians",
         "12",
         "Now concerning spiritual gifts, brethren, I would not have you ignorant. Ye know that ye were Gentiles, carried away to these dumb idols, even as ye were led. Wherefore I give you to understand, that no man speaking by the Spirit of God, calleth Jesus accursed: and that no man can say that Jesus is the Lord, but by the Holy Spirit. Now there are diversities of gifts, but the same Spirit. And there are differences of administrations, but the same Lord. And there are diversities of operations, but it is the same God who worketh all in all. But the manifestation of the Spirit is given to every man for profit. For to one is given by the Spirit the word of wisdom; to another, the word of knowledge by the same Spirit; To another, faith by the same Spirit; to another, the gifts of healing by the same Spirit; To another, the working of miracles; to another, prophecy; to another, discerning of spirits; to another, divers kinds of languages; to another, the interpretation of languages: But all these worketh that one and the same Spirit, dividing to every man severally as he will. For as the body is one, and hath many members, and all the members of that one body, being many, are one body: so also is Christ. For by one Spirit are we all baptized into one body, whether Jews or Gentiles, whether bond or free; and have been all made to drink into one Spirit. For the body is not one member, but many. If the foot shall say, Because I am not the hand, I am not of the body; is it therefore not of the body? And if the ear shall say, Because I am not the eye, I am not of the body; is it therefore not of the body? If the whole body were an eye, where were the hearing? If the whole were hearing, where were the smelling? But now hath God set the members every one of them in the body, as it hath pleased him. And if they were all one member, where were the body? But now are they many members, yet but one body. And the eye cannot say to the hand, I have no need of thee: nor again the head to the feet, I have no need of you. Nay, much more those members of the body, which seem to be more feeble, are necessary: And those members of the body, which we think to be less honorable, upon these we bestow more abundant honor; and our uncomely parts have more abundant comeliness. For our comely parts have no need: but God hath tempered the body together, having given more abundant honor to that part which lacked: That there should be no schism in the body; but that the members should have the same care one for another. And thus if one member suffers all the members suffer with it; or, if one member is honored, all the members rejoice with it. Now ye are the body of Christ, and members in particular. And God hath set some in the church, first apostles, secondly prophets, thirdly teachers, next miracles, then gifts of healings, helps, governments, diversities of languages. Are all apostles? are all prophets? are all teachers? are all workers of miracles? Have all the gifts of healing? do all speak in languages? do all interpret? But covet earnestly the best gifts. And yet I show to you a more excellent way.",
         "This chapter, from 1 Corinthians 12, addresses spiritual gifts within the church. The Apostle Paul begins by contrasting the Corinthian believers' past ignorance as Gentiles, led to \"dumb idols,\" with their current understanding through the Spirit. He emphasizes that no one speaking by the Spirit of God can curse Jesus, and conversely, no one can confess Jesus as Lord except by the Holy Spirit.\n\nPaul then explains that while there are \"diversities of gifts,\" they all originate from the \"same Spirit.\" Similarly, there are \"differences of administrations\" but the \"same Lord,\" and \"diversities of operations\" but the \"same God\" who works all things. The \"manifestation of the Spirit\" is given to everyone for the common good.\n\nSpecifically, the gifts mentioned are:\n*   The word of wisdom\n*   The word of knowledge\n*   Faith\n*   The gifts of healing\n*   The working of miracles\n*   Prophecy\n*   Discerning of spirits\n*   Divers kinds of languages\n*   Interpretation of languages\n\nAll these are the work of the one Spirit, distributed individually as He wills.\n\nTo illustrate the unity in diversity of these gifts, Paul uses the analogy of the human body. Just as a single body has many members, all forming one body, so too is Christ. All believers are baptized into one body by one Spirit, regardless of their background (Jews or Gentiles, bond or free), and have all been made to drink into one Spirit. The body is not made of just one member, but many. Paul argues that if a foot or ear were to say they are not part of the body because they are not a hand or eye, that would be incorrect. He highlights that if the whole body were an eye, or hearing, or smelling, it wouldn't function as a body. God has placed the members in the body as He pleased, and if all were one member, there would be no body.\n\nThe interdependence of the body's members is stressed. The eye cannot say to the hand, \"I have no need of you,\" nor the head to the feet. Even the \"more feeble\" and \"less honorable\" members are necessary and are given \"more abundant honor.\" This \"tempering\" by God ensures there is \"no schism\" in the body, but rather that the members have \"the same care one for another.\" If one member suffers, all suffer; if one is honored, all rejoice.\n\nFinally, Paul states that believers are the \"body of Christ, and members in particular.\" He lists some of the roles God has placed in the church: apostles, prophets, teachers, those who perform miracles, those with gifts of healings, helps, governments, and diversities of languages. He then poses rhetorical questions, asking if all are apostles, prophets, teachers, miracle workers, have gifts of healing, speak in languages, or interpret. The implication is that they are not all the same. The chapter concludes with an exhortation to \"covet earnestly the best gifts\" and a promise to show \"a more excellent way,\" which will be elaborated on in the following chapter."
        ],
        [
         "41",
         "1 Corinthians",
         "13",
         "Though I speak with the tongues of men and of angels, and have not charity, I am become as sounding brass, or a tinkling cymbal. And though I have the gift of prophecy, and understand all mysteries, and all knowledge; and though I have all faith, so that I could remove mountains, and have not charity, I am nothing. And though I bestow all my goods to feed the poor, and though I give my body to be burned, and have not charity, it profiteth me nothing. Charity suffereth long, and is kind; charity envieth not; charity vaunteth not itself, is not puffed up, Doth not behave itself unseemly, seeketh not its own, is not easily provoked, thinketh no evil; Rejoiceth not in iniquity, but rejoiceth in the truth; Beareth all things, believeth all things, hopeth all things, endureth all things. Charity never faileth: but whether there are prophecies, they shall fail; whether there are languages, they shall cease; whether there is knowledge, it shall vanish away. For we know in part, and we prophesy in part. But when that which is perfect is come, then that which is in part shall be done away. When I was a child, I spoke as a child, I understood as a child, I thought as a child: but when I became a man, I put away childish things. For now we see through a glass darkly; but then face to face: now I know in part; but then shall I know even as also I am known. And now abideth faith, hope, charity, these three; but the greatest of these is charity.",
         "This chapter, 1 Corinthians 13, emphasizes the supreme importance of \"charity\" (often translated as love). The author, Paul, states that even possessing extraordinary spiritual gifts like speaking in the tongues of men and angels, having the gift of prophecy, understanding all mysteries and knowledge, and possessing faith strong enough to move mountains are worthless without charity. Similarly, giving away all possessions to feed the poor or even giving one's body to be burned brings no profit if charity is absent.\n\nThe chapter then provides a detailed description of what charity is and is not:\n\n*   **Charity suffers long and is kind.**\n*   **Charity envies not.**\n*   **Charity vaunteth not itself, is not puffed up.**\n*   **Charity does not behave itself unseemly, seeketh not its own.**\n*   **Charity is not easily provoked, thinketh no evil.**\n*   **Charity rejoiceth not in iniquity, but rejoiceth in the truth.**\n*   **Charity beareth all things, believeth all things, hopeth all things, endureth all things.**\n\nPaul asserts that charity never fails, while other spiritual gifts like prophecies, languages, and knowledge will eventually cease and vanish away. He explains that these gifts are partial and temporary, and will be done away when \"that which is perfect\" comes. He uses an analogy of childhood versus adulthood to illustrate this transition, moving from childish understanding to mature understanding. Currently, our knowledge is like seeing \"through a glass darkly,\" but in the future, it will be \"face to face.\"\n\nThe chapter concludes by stating that \"faith, hope, charity, these three\" abide, but the greatest of these is charity."
        ],
        [
         "42",
         "1 Corinthians",
         "14",
         "Follow after charity, and desire spiritual gifts, but rather that ye may prophesy. For he that speaketh in an unknown language, speaketh not to men, but to God: for no man understandeth him; yet in the spirit he speaketh mysteries. But he that prophesieth, speaketh to men to edification, and exhortation, and comfort. He that speaketh in an unknown language edifieth himself; but he that prophesieth edifieth the church. I would that ye all spoke in languages, but rather that ye prophesied: for greater is he that prophesieth than he that speaketh in languages, except he interpret, that the church may receive edifying. Now, brethren, if I come to you speaking in languages, what shall I profit you, except I shall speak to you either by revelation, or by knowledge, or by prophesying, or by doctrine? And even things without life giving sound, whether pipe or harp, except they give a distinction in the sounds, how shall it be known what is piped or harped? For if the trumpet shall give an uncertain sound, who will prepare himself for battle? So likewise ye, except ye utter by the tongue words easy to be understood, how shall it be known what is spoken? for ye will speak into the air. There are, it may be, so many kinds of voices in the world, and none of them is without signification. Therefore, if I know not the meaning of the voice, I shall be to him that speaketh a barbarian, and he that speaketh will be a barbarian to me. Even so ye, forasmuch as ye are zealous of spiritual gifts, seek that ye may excel to the edifying of the church. Wherefore, let him that speaketh in an unknown language, pray that he may interpret. For if I pray in an unknown language, my spirit prayeth, but my understanding is unfruitful. What is it then? I will pray with the spirit, and I will pray with the understanding also: I will sing with the spirit, and I will sing with the understanding also. Else, when thou shalt bless with the spirit, how shall he that occupieth the room of the unlearned say Amen at thy giving of thanks, seeing he understandeth not what thou sayest? For thou verily givest thanks well, but the other is not edified. I thank my God, I speak in languages more than ye all: Yet in the church I had rather speak five words with my understanding, that by my voice I may teach others also, than ten thousand words in an unknown language. Brethren, be not children in understanding: yet in malice be ye children, but in understanding be men. In the law it is written, With men of other tongues and other lips will I speak to this people; and yet for all that will they not hear me, saith the Lord. Wherefore languages are for a sign, not to them that believe, but to them that believe not: but prophesying serveth not for them that believe not, but for them who believe. If therefore the whole church is assembled in one place, and all speak in languages, and there come in those that are unlearned, or unbelievers, will they not say that ye are insane? But if all prophesy, and there come in one that believeth not, or one unlearned, he is convinced by all, he is judged by all: And thus are the secrets of his heart made manifest; and so falling down on his face, he will worship God, and report that God is in you in truth. How is it then, brethren? when ye are assembled, every one of you hath a psalm, hath a doctrine, hath a language, hath a revelation, hath an interpretation. Let all things be done to edification. If any man speaketh in an unknown language, let it be by two, or at the most by three, and that by course; and let one interpret. But if there is no interpreter, let him keep silence in the church; and let him speak to himself, and to God. Let the prophets speak two or three, and let the others judge. If any thing is revealed to another that sitteth by, let the first hold his peace. For ye may all prophesy one by one, that all may learn, and all may be comforted. And the spirits of the prophets are subject to the prophets. For God is not the author of confusion, but of peace, as in all churches of the saints. Let your women keep silence in the churches; for it is not permitted to them to speak: but they are commanded to be under obedience, as also saith the law. And if they will learn any thing, let them ask their husbands at home; for it is a shame for women to speak in the church. What? came the word of God out from you? or came it to you only? If any man thinketh himself to be a prophet, or spiritual, let him acknowledge that the things that I write to you are the commandments of the Lord. But if any man is ignorant, let him be ignorant. Wherefore, brethren, covet to prophesy, and forbid not to speak in languages. Let all things be done decently, and in order.",
         "This chapter of the Bible, attributed to Paul the Apostle, focuses on the proper use of spiritual gifts within the church, particularly the gifts of speaking in unknown languages (glossolalia) and prophecy.\n\nPaul begins by urging believers to \"follow after charity\" and \"desire spiritual gifts, but rather that ye may prophesy.\" He explains that speaking in an unknown language is primarily speaking to God, not to men, as it is not understood. While it can edify the speaker himself, prophecy edifies the entire church. He emphasizes that prophecy is more beneficial than speaking in tongues unless the latter is accompanied by interpretation so the church can be edified.\n\nUsing analogies of musical instruments and trumpets, Paul illustrates the importance of clear and understandable communication. He states that a voice without meaning is like speaking into the air, making the speaker a \"barbarian\" to the listener. Therefore, those who speak in unknown languages should pray for the gift of interpretation. Paul contrasts praying with the spirit, which can be unfruitful to the understanding, with praying with both spirit and understanding. He expresses his personal desire to speak five understandable words in the church for the edification of others over ten thousand words in an unknown language.\n\nPaul then addresses the immature understanding of some believers, urging them to be mature in understanding while childlike in malice. He references a prophecy from Isaiah about God speaking through \"other tongues and other lips,\" indicating that speaking in languages is a sign for unbelievers, while prophecy is for believers. He warns that if the entire church speaks in unknown languages when unbelievers are present, they will think the believers are \"mad.\" However, if all prophesy, an unbeliever will be convinced and convicted by the message, leading him to worship God.\n\nThe chapter provides guidelines for church gatherings:\n*   When assembling, ensure all contributions (psalm, doctrine, language, revelation, interpretation) are for edification.\n*   If speaking in an unknown language, it should be by two or at most three, in turn, with an interpreter. If no interpreter is available, the speaker should remain silent in the church and speak to himself and God.\n*   Prophets should speak by two or three, and others should discern. If a revelation comes to another, the first should be silent.\n*   All can prophesy one by one so all may learn and be comforted.\n*   The spirits of prophets are subject to prophets, and God is a God of peace, not confusion, as seen in all churches.\n\nFinally, Paul addresses women, instructing them to \"keep silence in the churches\" as it is not permitted for them to speak, but to be under obedience as the law states. If they wish to learn, they should ask their husbands at home. He rebukes the idea that the word of God originated from them. He concludes by stating that those who claim to be prophets or spiritual should recognize his writings as the commandments of the Lord. He urges believers to \"covet to prophesy, and forbid not to speak in languages,\" but insists that all things be done \"decently, and in order.\""
        ],
        [
         "43",
         "1 Corinthians",
         "15",
         "Moreover, brethren, I declare to you the gospel which I preached to you, which also ye have received, and in which ye stand; By which also ye are saved, if ye keep in memory what I preached to you, unless ye have believed in vain. For I delivered to you first of all, that which I also received, that Christ died for our sins, according to the scriptures; And that he was buried, and that he rose again the third day according to the scriptures: And that he was seen by Cephas, then by the twelve: After that he was seen by above five hundred brethren at once; of whom the greater part remain to this present, but some have fallen asleep. After that he was seen by James; then by all the apostles. And last of all he was seen by me also, as by one born out of due time. For I am the least of the apostles, who am not worthy to be called an apostle, because I persecuted the church of God. But by the grace of God I am what I am: and his grace which was bestowed upon me, was not in vain; but I labored more abundantly than they all: yet not I, but the grace of God which was with me. Therefore whether it was I or they, so we preach, and so ye believed. Now if Christ is preached that he rose from the dead, how say some among you that there is no resurrection of the dead? But if there is no resurrection of the dead, then is Christ not raised. And if Christ is not raised, then is our preaching vain, and your faith is also vain. And indeed we are found false witnesses of God; because we have testified concerning God that he raised up Christ: whom he raised not, if in truth the dead rise not. For if the dead rise not, then is not Christ raised: And if Christ is not raised, your faith is vain; ye are yet in your sins. Then they also who have fallen asleep in Christ have perished. If in this life only we have hope in Christ, we are of all men most miserable. But now is Christ raised from the dead, and become the first-fruits of them that slept. For since by man came death, by man came also the resurrection of the dead. For as in Adam all die, even so in Christ shall all be made alive. But every man in his own order: Christ the first-fruits; afterward they that are Christ's at his coming. Then cometh the end, when he shall have delivered up the kingdom to God, even the Father; when he shall have put down all rule, and all authority, and power. For he must reign, till he hath put all enemies under his feet. The last enemy that shall be destroyed is death. For he hath put all things under his feet. But when he saith, all things are put under him, it is manifest that he is excepted who did put all things under him. And when all things shall be subdued to him, then shall the Son also himself be subject to him that put all things under him, that God may be all in all. Else what will they do, who are baptized for the dead, if the dead rise not at all? why are they then baptized for the dead? And why stand we in jeopardy every hour? I protest by your rejoicing which I have in Christ Jesus our Lord, I die daily. If after the manner of men I have fought with beasts at Ephesus, what advantage is it to me, if the dead rise not? let us eat and drink; for to-morrow we die. Be not deceived: Evil communications corrupt good manners. Awake to righteousness, and sin not; for some have not the knowledge of God. I speak this to your shame. But some man will say, How are the dead raised? and with what body do they come? Thou fool, that which thou sowest is not vivified except it die: And that which thou sowest, thou sowest not that body that shall be, but bare grain; it may be of wheat, or of some other grain: But God giveth it a body as it hath pleased him, and to every seed its own body. All flesh is not the same flesh; but there is one kind of flesh of men, another flesh of beasts, another of fishes, and another of fowls. There are also celestial bodies, and bodies terrestrial: but the glory of the celestial is one, and the glory of the terrestrial is another. There is one glory of the sun, and another glory of the moon, and another glory of the stars; for one star differeth from another star in glory. So also is the resurrection of the dead. It is sown in corruption, it is raised in incorruption: It is sown in dishonor, it is raised in glory: it is sown in weakness, it is raised in power: It is sown a natural body, it is raised a spiritual body. There is a natural body, and there is a spiritual body. And so it is written, The first man Adam was made a living soul, the last Adam was made a vivifying spirit. However, that was not first which is spiritual, but that which is natural; and afterward that which is spiritual. The first man is from the earth, earthy: the second man is the Lord from heaven. As is the earthy, such are they also that are earthy: and as is the heavenly, such are they also that are heavenly. And as we have borne the image of the earthy, we shall also bear the image of the heavenly. Now this I say, brethren, that flesh and blood cannot inherit the kingdom of God; neither doth corruption inherit incorruption. Behold, I show you a mystery; We shall not all sleep, but we shall all be changed, In a moment, in the twinkling of an eye, at the last trumpet; for the trumpet shall sound, and the dead shall be raised incorruptible, and we shall be changed. For this corruptible must put on incorruption, and this mortal must put on immortality. So when this corruptible shall have put on incorruption, and this mortal shall have put on immortality, then shall be brought to pass the saying that is written, Death is swallowed up in victory. O death, where is thy sting? O grave, where is thy victory? The sting of death is sin; and the strength of sin is the law. But thanks be to God, who giveth us the victory, through our Lord Jesus Christ. Therefore, my beloved brethren, be ye steadfast, immovable, always abounding in the work of the Lord, forasmuch as ye know that your labor is not in vain in the Lord.",
         "This chapter, from the Apostle Paul, begins with a declaration of the gospel he preached, emphasizing that salvation is received through faith and adherence to his teachings. He reminds them that Christ died for sins, was buried, and rose again on the third day, according to the scriptures. Paul recounts the various appearances of the risen Christ: first to Cephas, then to the twelve, later to over five hundred brethren at once, after that to James, then to all the apostles, and finally to himself, who describes himself as the \"least of the apostles\" and not worthy to be called an apostle due to his past persecution of the church. He attributes his ministry to the grace of God, which empowered him to labor more abundantly than others.\n\nPaul then addresses the skepticism some in Corinth had regarding the resurrection of the dead. He argues that if Christ is not raised, then their preaching and faith are in vain, and they are still in their sins. He further contends that if there is no resurrection, then those who have died in Christ have perished, and their hope in Christ is only for this life, making them the most miserable of all people.\n\nHe then explains that Christ's resurrection is the \"first-fruits\" of those who slept, establishing a parallel between Adam, through whom death entered, and Christ, through whom the resurrection of the dead occurs. Just as all die in Adam, all will be made alive in Christ, but in their own order: Christ first, then believers at his coming. This leads to the end, when Christ will deliver the kingdom to God the Father, having put down all opposition. Death, the last enemy, will be destroyed.\n\nPaul addresses the practical implications of the resurrection, questioning the purpose of baptism for the dead if the dead do not rise. He speaks of the constant danger he faces, \"dying daily,\" and uses the analogy of fighting beasts at Ephesus to illustrate the struggles he endures. He rebukes those who would advocate for a life of pleasure and indulgence if there is no resurrection, quoting the saying, \"let us eat and drink; for to-morrow we die.\" He warns against \"evil communications\" corrupting good manners and urges them to \"awake to righteousness, and sin not.\"\n\nIn response to the question of how the dead are raised and with what body, Paul uses the analogy of sowing seed. He explains that a seed dies to be vivified, and the sown grain becomes a plant as God wills. He highlights the diversity of flesh, celestial bodies, and terrestrial bodies, and the varying glories of the sun, moon, and stars. Similarly, he states, the resurrection is about being sown in corruption, dishonor, and weakness, and being raised in incorruption, glory, and power, as a spiritual body rather than a natural one. He reiterates that Adam, the first man, was made a living soul, while Christ, the last Adam, is a vivifying spirit, and that the natural precedes the spiritual.\n\nPaul concludes by explaining that flesh and blood cannot inherit the kingdom of God. He reveals a \"mystery\": believers will not all sleep, but will all be changed \"in a moment, in the twinkling of an eye, at the last trumpet.\" At this time, the dead will be raised incorruptible, and the living will be changed, putting on incorruption and immortality. This leads to the ultimate victory over death. Paul then encourages the brethren to be steadfast and immovable, always abounding in the work of the Lord, knowing their labor is not in vain."
        ],
        [
         "44",
         "1 Corinthians",
         "16",
         "Now concerning the collection for the saints, as I have given order to the churches of Galatia, even so do ye. Upon the first day of the week, let every one of you lay by him in store, as God hath prospered him, that there be no collections when I come. And when I come, whomsoever ye shall approve by your letters, them will I send to bring your liberality to Jerusalem. And if it be proper that I should go also, they shall go with me. Now I will come to you, when I shall pass through Macedonia: for I am to pass through Macedonia. And it may be that I shall abide, and even winter with you, that ye may bring me on my journey whithersoever I go. For I will not see you now by the way; but I trust to tarry a while with you, if the Lord permit. But I shall tarry at Ephesus until Pentecost. For a great door and effectual is opened to me, and there are many adversaries. Now if Timothy come, see that he may be with you without fear: for he worketh the work of the Lord, as I also do. Let no man therefore despise him: but conduct him forth in peace, that he may come to me: for I look for him with the brethren. As concerning our brother Apollos, I greatly desired him to come to you with the brethren: but his will was not at all to come at this time; but he will come when he shall have convenient time. Watch ye, stand fast in the faith, acquit yourselves like men, be strong. Let all your things be done with charity. I beseech you, brethren, (ye know the house of Stephanas, that it is the first fruits of Achaia, and that they have addicted themselves to the ministry of the saints,) That ye submit yourselves to such, and to every one that helpeth with us, and laboreth. I am glad of the coming of Stephanas, and Fortunatus, and Achaicus: for that which was lacking on your part, they have supplied. For they have refreshed my spirit and yours: therefore acknowledge ye them that are such. The churches of Asia salute you. Aquila and Priscilla salute you much in the Lord, with the church that is in their house. All the brethren greet you. Greet ye one another with a holy kiss. The salutation of me Paul with my own hand. If any man loveth not the Lord Jesus Christ, let him be Anathema, Maran-atha. The grace of our Lord Jesus Christ be with you. My love be with you all in Christ Jesus. Amen.",
         "This chapter, from 1 Corinthians 16, outlines instructions from Paul regarding a collection for the saints.\n\nPaul directs the Corinthians to set aside money on the **first day of the week** as God has prospered them, so that no collections are needed when he arrives. He will then send approved individuals, chosen by letters, to carry their contributions to Jerusalem. If it is proper, Paul will also travel with them.\n\nHe plans to come to them after passing through **Macedonia**, and he might even winter with them, allowing them to help him on his journey. However, he will not see them \"now by the way\" but trusts to tarry with them if the Lord permits.\n\nPaul states he will be staying in **Ephesus** until Pentecost, as a \"great door and effectual\" opportunity has opened to him, despite many adversaries.\n\nHe gives instructions concerning **Timothy**, asking the Corinthians to receive him without fear as he works the Lord's work, just as Paul does. He urges them not to despise Timothy but to send him away in peace to join Paul and the brethren.\n\nRegarding **Apollos**, Paul expresses his desire for him to come to Corinth with the brethren, but Apollos was unwilling at that time, stating he will come when it is convenient.\n\nPaul then exhorts the Corinthians to \"Watch ye, stand fast in the faith, acquit yourselves like men, be strong,\" and to do all things with **charity**.\n\nHe specifically mentions the **house of Stephanas**, identifying them as the \"first fruits of Achaia\" who have dedicated themselves to the ministry of the saints. He urges the Corinthians to submit to them and to everyone who helps and labors with them.\n\nPaul expresses joy at the arrival of **Stephanas, Fortunatus, and Achaicus**, who have supplied what was lacking and refreshed his spirit and theirs. He encourages the Corinthians to acknowledge such people.\n\nThe **churches of Asia** send their salutations. **Aquila and Priscilla**, along with the **church in their house**, send greetings. All the brethren send greetings.\n\nPaul concludes with instructions to greet one another with a **holy kiss**, and a personal salutation written in his own hand. He declares that if anyone does not love the Lord Jesus Christ, let them be **Anathema, Maran-atha**. The chapter ends with blessings for the grace of the Lord Jesus Christ and Paul's love to be with them."
        ],
        [
         "45",
         "1 John",
         "1",
         "That which was from the beginning, which we have heard, which we have seen with our eyes, which we have looked upon, and our hands have handled, of the word of life; (For the life was manifested, and we have seen it, and testify, and show to you that eternal life which was with the Father, and was manifested to us;) That which we have seen and heard we declare to you, that ye also may have fellowship with us: and truly our fellowship is with the Father, and with his Son Jesus Christ. And these things we write to you, that your joy may be full. This then is the message which we have heard from him, and declare to you, that God is light, and in him is no darkness at all. If we say that we have fellowship with him, and walk in darkness, we lie, and do not the truth: But if we walk in the light, as he is in the light, we have fellowship one with another, and the blood of Jesus Christ his Son cleanseth us from all sin. If we say that we have no sin, we deceive ourselves, and the truth is not in us. If we confess our sins, he is faithful and just to forgive us our sins, and to cleanse us from all unrighteousness. If we say that we have not sinned, we make him a liar, and his word is not in us.",
         "This chapter, from the beginning, declares the reality of the \"word of life,\" Jesus Christ, whom the author and others have personally experienced: heard, seen, gazed upon, and touched. This eternal life, which was with the Father, has been revealed. The author shares this experience with the readers so they may also have fellowship with them, and this fellowship is ultimately with God the Father and His Son, Jesus Christ. The purpose of these writings is to ensure the readers' joy is complete.\n\nThe core message is that God is light, with no darkness in Him. Therefore, if believers claim to have fellowship with God but walk in darkness, they are lying and not living by the truth. Conversely, if they walk in the light, as God is in the light, they have fellowship with each other, and the blood of Jesus Christ, God's Son, cleanses them from all sin.\n\nThe chapter also addresses the issue of sin. It states that if anyone claims to have no sin, they deceive themselves and lack the truth. However, if they confess their sins, God is faithful and just to forgive those sins and cleanse them from all unrighteousness. To claim not to have sinned is to make God a liar, meaning His word is not within them."
        ],
        [
         "46",
         "1 John",
         "2",
         "My little children, these things I write to you, that ye sin not. And if any man sinneth, we have an advocate with the Father, Jesus Christ the righteous: And he is the propitiation for our sins: and not for ours only, but also for the sins of the whole world. And by this we do know that we know him, if we keep his commandments. He that saith, I know him, and keepeth not his commandments, is a liar, and the truth is not in him. But whoever keepeth his word, in him verily is the love of God perfected: by this we know that we are in him. He that saith he abideth in him, ought himself also so to walk, even as he walked. Brethren, I write no new commandment to you, but an old commandment which ye had from the beginning: The old commandment is the word which ye have heard from the beginning. Again, a new commandment I write to you, which thing is true in him and in you: because the darkness is past, and the true light now shineth. He that saith he is in the light, and hateth his brother, is in darkness even until now. He that loveth his brother abideth in the light, and there is no occasion of stumbling in him. But he that hateth his brother is in darkness, and walketh in darkness, and knoweth not whither he goeth, because darkness hath blinded his eyes. I write to you, little children, because your sins are forgiven you for his name's sake. I write to you, fathers, because ye have known him that is from the beginning. I write to you, young men, because ye have overcome the wicked one. I write to you, little children, because ye have known the Father. I have written to you, fathers, because ye have known him that is from the beginning. I have written to you, young men, because ye are strong, and the word of God abideth in you, and ye have overcome the wicked one. Love not the world, neither the things that are in the world. If any man loveth the world, the love of the Father is not in him. For all that is in the world, the lust of the flesh, and the lust of the eyes, and the pride of life, is not from the Father, but is from the world. And the world passeth away, and the lust of it: but he that doeth the will of God abideth for ever. Little children, it is the last time: and as ye have heard that antichrist cometh, even now are there many antichrists; by which we know that it is the last time. They went out from us, but they were not of us; for if they had been of us, they would no doubt have continued with us: but they went out, that they might be made manifest that they were not all of us. But ye have an unction from the Holy One, and ye know all things. I have not written to you because ye know not the truth, but because ye know it, and that no lie is of the truth. Who is a liar but he that denieth that Jesus is the Christ? He is antichrist, that denieth the Father and the Son. Whoever denieth the Son, the same hath not the Father: but he that acknowledgeth the Son hath the Father also. Let that therefore abide in you, which ye have heard from the beginning. If that which ye have heard from the beginning shall remain in you, ye also shall continue in the Son, and in the Father. And this is the promise that he hath promised us, even eternal life. These things have I written to you concerning them that seduce you. But the anointing which ye have received from him abideth in you, and ye need not that any man should teach you: but as the same anointing teacheth you concerning all things, and is truth, and is no lie, and even as it hath taught you, ye shall abide in him. And now, little children, abide in him; that when he shall appear, we may have confidence, and not be ashamed before him at his coming. If ye know that he is righteous ye know that every one that doeth righteousness is born of him.",
         "This chapter, written by John, addresses different groups: \"little children,\" \"fathers,\" and \"young men.\"\n\nJohn's primary purpose is to prevent sin. He assures believers that if they sin, they have an advocate with the Father, Jesus Christ the righteous, who is the propitiation for sins for the whole world. Knowledge of God is demonstrated by keeping His commandments; those who claim to know Him but do not keep His commandments are liars. Keeping God's word perfects His love in believers, and this is how they know they are in Him. Those who claim to abide in Him should walk as He walked.\n\nJohn reiterates that the commandment to love is not new but an old one, the word heard from the beginning. He then presents a \"new commandment\" that is true in Christ and in believers because the darkness has passed and the true light shines. Hating a brother means being in darkness, while loving a brother means abiding in the light with no occasion for stumbling. Those who walk in darkness are blind and do not know where they are going.\n\nJohn writes to \"little children\" because their sins are forgiven in Jesus' name, to \"fathers\" because they have known Him from the beginning, and to \"young men\" because they are strong, have the word of God abiding in them, and have overcome the wicked one.\n\nBelievers are warned against loving the world or its things, as this indicates the absence of the Father's love. The world's desires – lust of the flesh, lust of the eyes, and pride of life – are not from the Father but from the world, which will pass away. Those who do God's will abide forever.\n\nJohn identifies \"antichrists\" who have gone out from them but were not truly part of them. This is a sign of the last times. Believers have an anointing from the Holy One and know all things. They have been written to not because they are ignorant of the truth, but because they know it, and that no lie is of the truth.\n\nAn antichrist is defined as one who denies that Jesus is the Christ, and who denies the Father and the Son. Denying the Son means not having the Father, but acknowledging the Son means having the Father. Therefore, believers should let what they have heard from the beginning abide in them to continue in the Son and the Father. The promise associated with this is eternal life.\n\nJohn reassures them that the anointing they received from Christ abides in them, teaching them all things, and it is truth without lie. They should abide in Him as the anointing has taught them. Finally, he urges the \"little children\" to abide in Him so they can have confidence and not be ashamed at His appearing. Knowing Christ is righteous means knowing that those who do righteousness are born of Him."
        ],
        [
         "47",
         "1 John",
         "3",
         "Behold, what manner of love the Father hath bestowed upon us, that we should be called the sons of God: therefore the world knoweth us not, because it knew him not. Beloved, now are we the sons of God, and it doth not yet appear what we shall be: but we know that, when he shall appear, we shall be like him; for we shall see him as he is. And every man that hath this hope in him purifieth himself, even as he is pure. Whoever committeth sin transgresseth also the law; for sin is the transgression of the law. And ye know that he was manifested to take away our sins; and in him is no sin. Whoever abideth in him sinneth not: whoever sinneth hath not seen him, neither known him. Little children, let no man deceive you: he that doeth righteousness is righteous, even as he is righteous. He that committeth sin is of the devil; for the devil sinneth from the beginning. For this purpose the Son of God was manifested, that he might destroy the works of the devil. Whoever is born of God doth not commit sin; for his seed remaineth in him: and he cannot sin, because he is born of God. In this the children of God are manifest, and the children of the devil: whoever doeth not righteousness is not of God, neither he that loveth not his brother. For this is the message that ye have heard from the beginning, that we should love one another. Not as Cain, who was of that wicked one, and slew his brother. And why did he slay him? Because his own works were evil, and his brother's righteous. Marvel not, my brethren, if the world hate you. We know that we have passed from death to life, because we love the brethren. He that loveth not his brother, abideth in death. Whoever hateth his brother, is a murderer: and ye know that no murderer hath eternal life abiding in him. By this we perceive the love of God, because he laid down his life for us: and we ought to lay down our lives for the brethren. But he who hath this world's good, and seeth his brother have need, and shutteth up his bowels of compassion from him, how dwelleth the love of God in him? My little children, let us not love in word, neither in tongue, but in deed and in truth. And by this we know that we are of the truth, and shall assure our hearts before him. For if our heart condemneth us, God is greater than our heart, and knoweth all things. Beloved, if our heart doth not condemn us, then have we confidence towards God. And whatever we ask, we receive from him, because we keep his commandments, and do those things that are pleasing in his sight. And this is his commandment; That we should believe on the name of his Son Jesus Christ, and love one another, as he gave us commandment. And he that keepeth his commandments, dwelleth in him, and he in him. And by this we know that he abideth in us, by the Spirit which he hath given us.",
         "This chapter, which appears to be 1 John 3, focuses on the profound love the Father has shown by allowing believers to be called His sons. Because the world did not know God, it does not recognize these sons. While their future transformed likeness to God isn't fully apparent yet, believers know that when Christ appears, they will be like Him, seeing Him as He truly is. This hope motivates them to purify themselves, just as He is pure.\n\nThe chapter emphasizes that sin is the transgression of the law, and Jesus was manifested to take away sins, being Himself without sin. Those who remain in Him do not sin, and those who sin have not truly seen or known Him. Righteous living is a sign of being of God, just as Jesus is righteous. Conversely, sin originates from the devil, and Jesus' purpose was to destroy the devil's works. Children of God do not commit sin because His seed remains in them, making them unable to sin as they are born of God.\n\nThe text distinguishes between the children of God and the children of the devil. Those who don't practice righteousness or love their brothers are not of God. The core message from the beginning is to love one another, unlike Cain, who was of the wicked one and murdered his brother Abel because his own works were evil and Abel's were righteous.\n\nBelievers are not to be surprised if the world hates them. They know they have transitioned from death to life because they love their brothers; not loving a brother means abiding in death. Hating a brother is akin to murder, and murderers do not possess eternal life.\n\nThe love of God is evident because Christ laid down His life for believers, and they are called to lay down their lives for their brethren. If someone has worldly possessions and sees their brother in need but withholds compassion, the love of God does not dwell in them. Believers are urged to love not just in words or speech, but in deed and truth. This genuine love assures their hearts before God.\n\nIf their hearts condemn them, God is greater and knows all things. If their hearts do not condemn them, they have confidence toward God. They receive from God because they keep His commandments and do what pleases Him. His commandment is to believe in Jesus Christ and to love one another, as Jesus commanded. Keeping these commandments means dwelling in God and Him dwelling in them, which is known by the Spirit God has given."
        ],
        [
         "48",
         "1 John",
         "4",
         "Beloved, believe not every spirit, but try the spirits whether they are of God: because many false prophets have gone out into the world. By this ye know the Spirit of God: Every spirit that confesseth that Jesus Christ hath come in the flesh, is from God: And every spirit that confesseth not that Jesus Christ is come in the flesh, is not from God. And this is that spirit of antichrist, of which ye have heard that it should come; and even now already it is in the world. Ye are of God, little children, and have overcome them: because greater is he that is in you, than he that is in the world. They are of the world: therefore they speak from the world, and the world heareth them. We are of God. He that knoweth God, heareth us; he that is not of God, heareth not us. By this we know the spirit of truth, and the spirit of error. Beloved, let us love one another: for love is from God; and every one that loveth is born of God, and knoweth God. He that loveth not, knoweth not God; for God is love. In this was manifested the love of God towards us, because that God sent his only begotten Son into the world, that we might live through him. In this is love, not that we loved God, but that he loved us, and sent his Son to be the propitiation for our sins. Beloved, if God so loved us, we ought also to love one another. No man hath seen God at any time. If we love one another, God dwelleth in us, and his love is perfected in us. By this we know that we dwell in him, and he in us, because he hath given us of his Spirit. And we have seen and do testify, that the Father sent the Son to be the Savior of the world. Whoever shall confess that Jesus is the Son of God, God dwelleth in him, and he in God. And we have known and believed the love that God hath to us. God is love: and he that dwelleth in love, dwelleth in God, and God in him. In this is our love made perfect, that we may have boldness in the day of judgment: because as he is, so are we in this world. There is no fear in love; but perfect love casteth out fear: because fear hath torment. He that feareth, is not made perfect in love. We love him, because he first loved us. If a man sayeth, I love God, and hateth his brother, he is a liar. For he that loveth not his brother, whom he hath seen, how can he love God, whom he hath not seen? And this commandment have we from him, That he who loveth God, love his brother also.",
         "This chapter of the Bible, from the book of 1 John, is a comprehensive guide on discerning true spiritual teachings and understanding the nature of love and God.\n\nThe author, identified as \"Beloved,\" instructs believers to **\"try the spirits whether they are of God\"** because **\"many false prophets have gone out into the world.\"** The primary test for discerning the Spirit of God is whether a spirit **\"confesseth that Jesus Christ hath come in the flesh.\"** Those who do not confess this are identified as the **\"spirit of antichrist.\"** The author assures the readers, referred to as **\"little children,\"** that they have **\"overcome them\"** because **\"greater is he that is in you, than he that is in the world.\"** Believers are distinguished from those of the world by their connection to God: **\"We are of God. He that knoweth God, heareth us; he that is not of God, heareth not us.\"** This leads to knowing the **\"spirit of truth, and the spirit of error.\"**\n\nThe chapter then shifts to the importance of love. It states that **\"love is from God; and every one that loveth is born of God, and knoweth God.\"** Conversely, **\"He that loveth not, knoweth not God; for God is love.\"** God's love is exemplified by His sending of **\"his only begotten Son into the world, that we might live through him.\"** The author clarifies that God's love for humanity was demonstrated not by our loving Him first, but by **\"that he loved us, and sent his Son to be the propitiation for our sins.\"**\n\nGiven this profound love from God, believers are encouraged: **\"if God so loved us, we ought also to love one another.\"** The author notes that **\"No man hath seen God at any time.\"** However, **\"If we love one another, God dwelleth in us, and his love is perfected in us.\"** This dwelling in God is evidenced by **\"he hath given us of his Spirit.\"** The author and his companions testify that **\"the Father sent the Son to be the Savior of the world.\"**\n\nThe chapter reiterates that **\"Whoever shall confess that Jesus is the Son of God, God dwelleth in him, and he in God.\"** The foundation of this understanding is that **\"God is love: and he that dwelleth in love, dwelleth in God, and God in him.\"** Perfect love fosters **\"boldness in the day of judgment\"** because believers are **\"as he is, so are we in this world.\"** Crucially, **\"There is no fear in love; but perfect love casteth out fear: because fear hath torment.\"** Those who fear are **\"not made perfect in love.\"**\n\nThe chapter concludes by emphasizing that believers love God **\"because he first loved us.\"** It then provides a clear commandment: **\"If a man sayeth, I love God, and hateth his brother, he is a liar. For he that loveth not his brother, whom he hath seen, how can he love God, whom he hath not seen? And this commandment have we from him, That he who loveth God, love his brother also.\"**"
        ],
        [
         "49",
         "1 John",
         "5",
         "Whoever believeth that Jesus is the Christ, is born of God: and every one that loveth him that begat, loveth him also that is begotten by him. By this we know that we love the children of God, when we love God, and keep his commandments. For this is the love of God, that we keep his commandments; and his commandments are not grievous. For whatever is born of God, overcometh the world: and this is the victory that overcometh the world, even our faith. Who is he that overcometh the world, but he that believeth that Jesus is the Son of God? This is he that came by water and blood, even Jesus Christ; not by water only, but by water and blood. And it is the Spirit that beareth testimony, because the Spirit is truth. For there are three that bear testimony in heaven, the Father, the Word, and the Holy Spirit, and these three are one. And there are three that bear testimony on earth, the spirit, and the water, and the blood: and these three agree in one. If we receive the testimony of men, the testimony of God is greater: for this is the testimony of God which he hath testified of his Son. He that believeth on the Son of God hath the witness in himself: he that believeth not God, hath made him a liar, because he hath not believed the testimony that God gave of his Son. And this is the testimony, that God hath given to us eternal life: and this life is in his Son. He that hath the Son, hath life; and he that hath not the Son of God, hath not life. These things have I written to you that believe on the name of the Son of God; that ye may know that ye have eternal life, and that ye may believe on the name of the Son of God. And this is the confidence that we have in him, that if we ask any thing according to his will, he heareth us: And if we know that he heareth us, whatever we ask, we know that we have the petitions that we desired from him. If any man shall see his brother sin a sin which is not to death, he shall ask, and he will give him life for them that sin not to death. There is a sin to death: I do not say that he shall pray for it. All unrighteousness is sin: and there is a sin not to death. We know that whoever is born of God, sinneth not; but he that is begotten of God, keepeth himself, and that wicked one toucheth him not. And we know that we are of God, and the whole world lieth in wickedness. And we know that the Son of God hath come, and hath given us an understanding, that we may know him that is true, and we are in him that is true, even in his Son Jesus Christ. This is the true God, and eternal life. Little children, keep yourselves from idols. Amen.",
         "This chapter of the Bible, attributed to John, focuses on the nature of true belief and its consequences. It states that anyone who believes Jesus is the Christ is born of God and also loves God and His begotten Son. Love for God is demonstrated by keeping His commandments, which are described as not burdensome.\n\nThe core of overcoming the world is identified as faith, specifically the faith of those who believe Jesus is the Son of God. Jesus is presented as having come by water and blood, and the Spirit, water, and blood are stated as testifying to this truth. The chapter mentions three witnesses in heaven: the Father, the Word, and the Holy Spirit, who are one. On earth, the spirit, water, and blood bear testimony and agree in one.\n\nThe author emphasizes that God's testimony of His Son is greater than any human testimony. Those who believe in the Son of God possess an inner witness and have eternal life, which is found in Him. Conversely, those who do not believe God have made Him a liar by rejecting His testimony about His Son.\n\nThe chapter reassures believers that they have eternal life and encourages them to continue believing in the Son of God. It offers confidence that if believers ask anything according to God's will, He hears them, and they will receive their petitions. The text also distinguishes between sins that are \"not to death\" and a \"sin to death.\" For sins not leading to death, believers are instructed to ask for life for their brothers. However, for a \"sin to death,\" the author explicitly states not to pray.\n\nThe chapter concludes by asserting that those born of God do not sin, and the begotten of God keeps himself, so the evil one cannot touch him. It acknowledges that the whole world lies in wickedness but affirms that the Son of God has come and granted understanding to know the true God, who is in His Son Jesus Christ. Jesus Christ is identified as the true God and eternal life, and believers are urged to keep themselves from idols."
        ]
       ],
       "shape": {
        "columns": 4,
        "rows": 1188
       }
      },
      "text/html": [
       "<div>\n",
       "<style scoped>\n",
       "    .dataframe tbody tr th:only-of-type {\n",
       "        vertical-align: middle;\n",
       "    }\n",
       "\n",
       "    .dataframe tbody tr th {\n",
       "        vertical-align: top;\n",
       "    }\n",
       "\n",
       "    .dataframe thead th {\n",
       "        text-align: right;\n",
       "    }\n",
       "</style>\n",
       "<table border=\"1\" class=\"dataframe\">\n",
       "  <thead>\n",
       "    <tr style=\"text-align: right;\">\n",
       "      <th></th>\n",
       "      <th>book</th>\n",
       "      <th>chapter</th>\n",
       "      <th>text</th>\n",
       "      <th>summary</th>\n",
       "    </tr>\n",
       "  </thead>\n",
       "  <tbody>\n",
       "    <tr>\n",
       "      <th>0</th>\n",
       "      <td>1 Chronicles</td>\n",
       "      <td>1</td>\n",
       "      <td>Adam, Sheth, Enosh, Kenan, Mahalaleel, Jered, ...</td>\n",
       "      <td>This chapter provides a detailed genealogy, be...</td>\n",
       "    </tr>\n",
       "    <tr>\n",
       "      <th>1</th>\n",
       "      <td>1 Chronicles</td>\n",
       "      <td>2</td>\n",
       "      <td>These are the sons of Israel; Reuben, Simeon, ...</td>\n",
       "      <td>This chapter provides a detailed genealogy of ...</td>\n",
       "    </tr>\n",
       "    <tr>\n",
       "      <th>2</th>\n",
       "      <td>1 Chronicles</td>\n",
       "      <td>3</td>\n",
       "      <td>Now these were the sons of David, who were bor...</td>\n",
       "      <td>This chapter lists the sons of King David and ...</td>\n",
       "    </tr>\n",
       "    <tr>\n",
       "      <th>3</th>\n",
       "      <td>1 Chronicles</td>\n",
       "      <td>4</td>\n",
       "      <td>The sons of Judah; Pharez, Hezron, and Carmi, ...</td>\n",
       "      <td>This chapter details the genealogies of the tr...</td>\n",
       "    </tr>\n",
       "    <tr>\n",
       "      <th>4</th>\n",
       "      <td>1 Chronicles</td>\n",
       "      <td>5</td>\n",
       "      <td>Now the sons of Reuben the first-born of Israe...</td>\n",
       "      <td>This chapter of the Bible begins by establishi...</td>\n",
       "    </tr>\n",
       "    <tr>\n",
       "      <th>...</th>\n",
       "      <td>...</td>\n",
       "      <td>...</td>\n",
       "      <td>...</td>\n",
       "      <td>...</td>\n",
       "    </tr>\n",
       "    <tr>\n",
       "      <th>1183</th>\n",
       "      <td>Zechariah</td>\n",
       "      <td>13</td>\n",
       "      <td>In that day there shall be a fountain opened t...</td>\n",
       "      <td>This chapter describes a future day of cleansi...</td>\n",
       "    </tr>\n",
       "    <tr>\n",
       "      <th>1184</th>\n",
       "      <td>Zechariah</td>\n",
       "      <td>14</td>\n",
       "      <td>Behold, the day of the LORD cometh, and thy sp...</td>\n",
       "      <td>This chapter describes the Day of the LORD, wh...</td>\n",
       "    </tr>\n",
       "    <tr>\n",
       "      <th>1185</th>\n",
       "      <td>Zephaniah</td>\n",
       "      <td>1</td>\n",
       "      <td>The word of the LORD which came to Zephaniah t...</td>\n",
       "      <td>The first chapter of Zephaniah begins with the...</td>\n",
       "    </tr>\n",
       "    <tr>\n",
       "      <th>1186</th>\n",
       "      <td>Zephaniah</td>\n",
       "      <td>2</td>\n",
       "      <td>Assemble yourselves, yes, assemble, O nation n...</td>\n",
       "      <td>This chapter of the Bible, attributed to Zepha...</td>\n",
       "    </tr>\n",
       "    <tr>\n",
       "      <th>1187</th>\n",
       "      <td>Zephaniah</td>\n",
       "      <td>3</td>\n",
       "      <td>Woe to her that is filthy and polluted, to the...</td>\n",
       "      <td>This chapter, identified as Zephaniah chapter ...</td>\n",
       "    </tr>\n",
       "  </tbody>\n",
       "</table>\n",
       "<p>1188 rows × 4 columns</p>\n",
       "</div>"
      ],
      "text/plain": [
       "              book  chapter  \\\n",
       "0     1 Chronicles        1   \n",
       "1     1 Chronicles        2   \n",
       "2     1 Chronicles        3   \n",
       "3     1 Chronicles        4   \n",
       "4     1 Chronicles        5   \n",
       "...            ...      ...   \n",
       "1183     Zechariah       13   \n",
       "1184     Zechariah       14   \n",
       "1185     Zephaniah        1   \n",
       "1186     Zephaniah        2   \n",
       "1187     Zephaniah        3   \n",
       "\n",
       "                                                   text  \\\n",
       "0     Adam, Sheth, Enosh, Kenan, Mahalaleel, Jered, ...   \n",
       "1     These are the sons of Israel; Reuben, Simeon, ...   \n",
       "2     Now these were the sons of David, who were bor...   \n",
       "3     The sons of Judah; Pharez, Hezron, and Carmi, ...   \n",
       "4     Now the sons of Reuben the first-born of Israe...   \n",
       "...                                                 ...   \n",
       "1183  In that day there shall be a fountain opened t...   \n",
       "1184  Behold, the day of the LORD cometh, and thy sp...   \n",
       "1185  The word of the LORD which came to Zephaniah t...   \n",
       "1186  Assemble yourselves, yes, assemble, O nation n...   \n",
       "1187  Woe to her that is filthy and polluted, to the...   \n",
       "\n",
       "                                                summary  \n",
       "0     This chapter provides a detailed genealogy, be...  \n",
       "1     This chapter provides a detailed genealogy of ...  \n",
       "2     This chapter lists the sons of King David and ...  \n",
       "3     This chapter details the genealogies of the tr...  \n",
       "4     This chapter of the Bible begins by establishi...  \n",
       "...                                                 ...  \n",
       "1183  This chapter describes a future day of cleansi...  \n",
       "1184  This chapter describes the Day of the LORD, wh...  \n",
       "1185  The first chapter of Zephaniah begins with the...  \n",
       "1186  This chapter of the Bible, attributed to Zepha...  \n",
       "1187  This chapter, identified as Zephaniah chapter ...  \n",
       "\n",
       "[1188 rows x 4 columns]"
      ]
     },
     "execution_count": 49,
     "metadata": {},
     "output_type": "execute_result"
    }
   ],
   "source": [
    "book_summary_df = pd.DataFrame(book_group_summary, columns=['book', 'chapter', 'text', 'summary'\n",
    "])\n",
    "book_summary_df.to_csv('data/bible_summary.csv', index=False)\n",
    "book_summary_df"
   ]
  },
  {
   "cell_type": "code",
   "execution_count": null,
   "id": "579d0d18",
   "metadata": {},
   "outputs": [],
   "source": []
  },
  {
   "cell_type": "code",
   "execution_count": 50,
   "id": "d46b35c0",
   "metadata": {},
   "outputs": [],
   "source": [
    "client_db.delete_collection(name=\"bible_wbt\")\n",
    "collection = client_db.create_collection(name=\"bible_wbt\", embedding_function=google_ef)"
   ]
  },
  {
   "cell_type": "code",
   "execution_count": 51,
   "id": "35efc266",
   "metadata": {},
   "outputs": [
    {
     "name": "stderr",
     "output_type": "stream",
     "text": [
      "  1%|          | 182/31102 [00:02<07:08, 72.22it/s]"
     ]
    },
    {
     "name": "stdout",
     "output_type": "stream",
     "text": [
      "Added batch of 100 documents\n"
     ]
    },
    {
     "name": "stderr",
     "output_type": "stream",
     "text": [
      "  1%|          | 276/31102 [00:04<08:19, 61.77it/s]"
     ]
    },
    {
     "name": "stdout",
     "output_type": "stream",
     "text": [
      "Added batch of 100 documents\n"
     ]
    },
    {
     "name": "stderr",
     "output_type": "stream",
     "text": [
      "  1%|          | 369/31102 [00:06<07:23, 69.31it/s]"
     ]
    },
    {
     "name": "stdout",
     "output_type": "stream",
     "text": [
      "Added batch of 100 documents\n"
     ]
    },
    {
     "name": "stderr",
     "output_type": "stream",
     "text": [
      "  1%|▏         | 447/31102 [00:07<07:31, 67.89it/s]"
     ]
    },
    {
     "name": "stdout",
     "output_type": "stream",
     "text": [
      "Added batch of 100 documents\n"
     ]
    },
    {
     "name": "stderr",
     "output_type": "stream",
     "text": [
      "  2%|▏         | 561/31102 [00:09<07:10, 70.90it/s]"
     ]
    },
    {
     "name": "stdout",
     "output_type": "stream",
     "text": [
      "Added batch of 100 documents\n"
     ]
    },
    {
     "name": "stderr",
     "output_type": "stream",
     "text": [
      "  2%|▏         | 652/31102 [00:10<06:50, 74.21it/s]"
     ]
    },
    {
     "name": "stdout",
     "output_type": "stream",
     "text": [
      "Added batch of 100 documents\n"
     ]
    },
    {
     "name": "stderr",
     "output_type": "stream",
     "text": [
      "  2%|▏         | 750/31102 [00:11<06:20, 79.72it/s]"
     ]
    },
    {
     "name": "stdout",
     "output_type": "stream",
     "text": [
      "Added batch of 100 documents\n"
     ]
    },
    {
     "name": "stderr",
     "output_type": "stream",
     "text": [
      "  3%|▎         | 851/31102 [00:13<06:08, 82.07it/s]"
     ]
    },
    {
     "name": "stdout",
     "output_type": "stream",
     "text": [
      "Added batch of 100 documents\n"
     ]
    },
    {
     "name": "stderr",
     "output_type": "stream",
     "text": [
      "  3%|▎         | 933/31102 [00:14<06:53, 72.92it/s]"
     ]
    },
    {
     "name": "stdout",
     "output_type": "stream",
     "text": [
      "Added batch of 100 documents\n"
     ]
    },
    {
     "name": "stderr",
     "output_type": "stream",
     "text": [
      "  3%|▎         | 1045/31102 [00:16<06:32, 76.57it/s]"
     ]
    },
    {
     "name": "stdout",
     "output_type": "stream",
     "text": [
      "Added batch of 100 documents\n"
     ]
    },
    {
     "name": "stderr",
     "output_type": "stream",
     "text": [
      "  4%|▎         | 1152/31102 [00:17<05:54, 84.55it/s]"
     ]
    },
    {
     "name": "stdout",
     "output_type": "stream",
     "text": [
      "Added batch of 100 documents\n"
     ]
    },
    {
     "name": "stderr",
     "output_type": "stream",
     "text": [
      "  4%|▍         | 1258/31102 [00:19<05:33, 89.57it/s]"
     ]
    },
    {
     "name": "stdout",
     "output_type": "stream",
     "text": [
      "Added batch of 100 documents\n"
     ]
    },
    {
     "name": "stderr",
     "output_type": "stream",
     "text": [
      "  4%|▍         | 1344/31102 [00:20<06:21, 78.01it/s]"
     ]
    },
    {
     "name": "stdout",
     "output_type": "stream",
     "text": [
      "Added batch of 100 documents\n"
     ]
    },
    {
     "name": "stderr",
     "output_type": "stream",
     "text": [
      "  5%|▍         | 1448/31102 [00:21<05:55, 83.53it/s]"
     ]
    },
    {
     "name": "stdout",
     "output_type": "stream",
     "text": [
      "Added batch of 100 documents\n"
     ]
    },
    {
     "name": "stderr",
     "output_type": "stream",
     "text": [
      "  5%|▌         | 1556/31102 [00:23<05:56, 82.79it/s]"
     ]
    },
    {
     "name": "stdout",
     "output_type": "stream",
     "text": [
      "Added batch of 100 documents\n"
     ]
    },
    {
     "name": "stderr",
     "output_type": "stream",
     "text": [
      "  5%|▌         | 1652/31102 [00:25<06:25, 76.40it/s]"
     ]
    },
    {
     "name": "stdout",
     "output_type": "stream",
     "text": [
      "Added batch of 100 documents\n"
     ]
    },
    {
     "name": "stderr",
     "output_type": "stream",
     "text": [
      "  6%|▌         | 1768/31102 [00:26<06:08, 79.71it/s]"
     ]
    },
    {
     "name": "stdout",
     "output_type": "stream",
     "text": [
      "Added batch of 100 documents\n"
     ]
    },
    {
     "name": "stderr",
     "output_type": "stream",
     "text": [
      "  6%|▌         | 1843/31102 [00:28<06:40, 73.12it/s]"
     ]
    },
    {
     "name": "stdout",
     "output_type": "stream",
     "text": [
      "Added batch of 100 documents\n"
     ]
    },
    {
     "name": "stderr",
     "output_type": "stream",
     "text": [
      "  6%|▌         | 1943/31102 [00:29<06:12, 78.25it/s]"
     ]
    },
    {
     "name": "stdout",
     "output_type": "stream",
     "text": [
      "Added batch of 100 documents\n"
     ]
    },
    {
     "name": "stderr",
     "output_type": "stream",
     "text": [
      "  7%|▋         | 2050/31102 [00:30<05:52, 82.44it/s]"
     ]
    },
    {
     "name": "stdout",
     "output_type": "stream",
     "text": [
      "Added batch of 100 documents\n"
     ]
    },
    {
     "name": "stderr",
     "output_type": "stream",
     "text": [
      "  7%|▋         | 2155/31102 [00:32<05:24, 89.29it/s]"
     ]
    },
    {
     "name": "stdout",
     "output_type": "stream",
     "text": [
      "Added batch of 100 documents\n"
     ]
    },
    {
     "name": "stderr",
     "output_type": "stream",
     "text": [
      "  7%|▋         | 2236/31102 [00:33<06:14, 77.07it/s]"
     ]
    },
    {
     "name": "stdout",
     "output_type": "stream",
     "text": [
      "Added batch of 100 documents\n"
     ]
    },
    {
     "name": "stderr",
     "output_type": "stream",
     "text": [
      "  8%|▊         | 2354/31102 [00:35<05:32, 86.52it/s]"
     ]
    },
    {
     "name": "stdout",
     "output_type": "stream",
     "text": [
      "Added batch of 100 documents\n"
     ]
    },
    {
     "name": "stderr",
     "output_type": "stream",
     "text": [
      "  8%|▊         | 2423/31102 [00:36<06:43, 71.16it/s]"
     ]
    },
    {
     "name": "stdout",
     "output_type": "stream",
     "text": [
      "Added batch of 100 documents\n"
     ]
    },
    {
     "name": "stderr",
     "output_type": "stream",
     "text": [
      "  8%|▊         | 2586/31102 [00:37<04:49, 98.57it/s] "
     ]
    },
    {
     "name": "stdout",
     "output_type": "stream",
     "text": [
      "Added batch of 100 documents\n"
     ]
    },
    {
     "name": "stderr",
     "output_type": "stream",
     "text": [
      "  9%|▊         | 2683/31102 [00:39<05:07, 92.45it/s]"
     ]
    },
    {
     "name": "stdout",
     "output_type": "stream",
     "text": [
      "Added batch of 100 documents\n"
     ]
    },
    {
     "name": "stderr",
     "output_type": "stream",
     "text": [
      "  9%|▉         | 2784/31102 [00:40<05:14, 89.92it/s]"
     ]
    },
    {
     "name": "stdout",
     "output_type": "stream",
     "text": [
      "Added batch of 100 documents\n"
     ]
    },
    {
     "name": "stderr",
     "output_type": "stream",
     "text": [
      "  9%|▉         | 2876/31102 [00:42<05:36, 83.81it/s]"
     ]
    },
    {
     "name": "stdout",
     "output_type": "stream",
     "text": [
      "Added batch of 100 documents\n"
     ]
    },
    {
     "name": "stderr",
     "output_type": "stream",
     "text": [
      " 10%|▉         | 2957/31102 [00:43<06:10, 76.01it/s]"
     ]
    },
    {
     "name": "stdout",
     "output_type": "stream",
     "text": [
      "Added batch of 100 documents\n"
     ]
    },
    {
     "name": "stderr",
     "output_type": "stream",
     "text": [
      " 10%|▉         | 3054/31102 [00:44<05:51, 79.78it/s]"
     ]
    },
    {
     "name": "stdout",
     "output_type": "stream",
     "text": [
      "Added batch of 100 documents\n"
     ]
    },
    {
     "name": "stderr",
     "output_type": "stream",
     "text": [
      " 10%|█         | 3155/31102 [00:46<05:45, 80.95it/s]"
     ]
    },
    {
     "name": "stdout",
     "output_type": "stream",
     "text": [
      "Added batch of 100 documents\n"
     ]
    },
    {
     "name": "stderr",
     "output_type": "stream",
     "text": [
      " 10%|█         | 3253/31102 [00:47<05:45, 80.52it/s]"
     ]
    },
    {
     "name": "stdout",
     "output_type": "stream",
     "text": [
      "Added batch of 100 documents\n"
     ]
    },
    {
     "name": "stderr",
     "output_type": "stream",
     "text": [
      " 11%|█         | 3359/31102 [00:49<05:13, 88.60it/s]"
     ]
    },
    {
     "name": "stdout",
     "output_type": "stream",
     "text": [
      "Added batch of 100 documents\n"
     ]
    },
    {
     "name": "stderr",
     "output_type": "stream",
     "text": [
      " 11%|█         | 3456/31102 [00:50<05:16, 87.32it/s]"
     ]
    },
    {
     "name": "stdout",
     "output_type": "stream",
     "text": [
      "Added batch of 100 documents\n"
     ]
    },
    {
     "name": "stderr",
     "output_type": "stream",
     "text": [
      " 11%|█▏        | 3543/31102 [00:51<05:45, 79.73it/s]"
     ]
    },
    {
     "name": "stdout",
     "output_type": "stream",
     "text": [
      "Added batch of 100 documents\n"
     ]
    },
    {
     "name": "stderr",
     "output_type": "stream",
     "text": [
      " 12%|█▏        | 3650/31102 [00:53<05:57, 76.70it/s]"
     ]
    },
    {
     "name": "stdout",
     "output_type": "stream",
     "text": [
      "Added batch of 100 documents\n"
     ]
    },
    {
     "name": "stderr",
     "output_type": "stream",
     "text": [
      " 12%|█▏        | 3756/31102 [00:54<05:31, 82.46it/s]"
     ]
    },
    {
     "name": "stdout",
     "output_type": "stream",
     "text": [
      "Added batch of 100 documents\n"
     ]
    },
    {
     "name": "stderr",
     "output_type": "stream",
     "text": [
      " 12%|█▏        | 3842/31102 [00:56<06:07, 74.11it/s]"
     ]
    },
    {
     "name": "stdout",
     "output_type": "stream",
     "text": [
      "Added batch of 100 documents\n"
     ]
    },
    {
     "name": "stderr",
     "output_type": "stream",
     "text": [
      " 13%|█▎        | 3969/31102 [00:57<05:40, 79.76it/s]"
     ]
    },
    {
     "name": "stdout",
     "output_type": "stream",
     "text": [
      "Added batch of 100 documents\n"
     ]
    },
    {
     "name": "stderr",
     "output_type": "stream",
     "text": [
      " 13%|█▎        | 4052/31102 [00:59<05:49, 77.29it/s]"
     ]
    },
    {
     "name": "stdout",
     "output_type": "stream",
     "text": [
      "Added batch of 100 documents\n"
     ]
    },
    {
     "name": "stderr",
     "output_type": "stream",
     "text": [
      " 13%|█▎        | 4156/31102 [01:00<05:15, 85.51it/s]"
     ]
    },
    {
     "name": "stdout",
     "output_type": "stream",
     "text": [
      "Added batch of 100 documents\n"
     ]
    },
    {
     "name": "stderr",
     "output_type": "stream",
     "text": [
      " 14%|█▎        | 4248/31102 [01:02<05:21, 83.44it/s]"
     ]
    },
    {
     "name": "stdout",
     "output_type": "stream",
     "text": [
      "Added batch of 100 documents\n"
     ]
    },
    {
     "name": "stderr",
     "output_type": "stream",
     "text": [
      " 14%|█▍        | 4356/31102 [01:03<04:55, 90.51it/s]"
     ]
    },
    {
     "name": "stdout",
     "output_type": "stream",
     "text": [
      "Added batch of 100 documents\n"
     ]
    },
    {
     "name": "stderr",
     "output_type": "stream",
     "text": [
      " 14%|█▍        | 4455/31102 [01:04<04:55, 90.25it/s]"
     ]
    },
    {
     "name": "stdout",
     "output_type": "stream",
     "text": [
      "Added batch of 100 documents\n"
     ]
    },
    {
     "name": "stderr",
     "output_type": "stream",
     "text": [
      " 15%|█▍        | 4554/31102 [01:06<05:07, 86.22it/s]"
     ]
    },
    {
     "name": "stdout",
     "output_type": "stream",
     "text": [
      "Added batch of 100 documents\n"
     ]
    },
    {
     "name": "stderr",
     "output_type": "stream",
     "text": [
      " 15%|█▍        | 4660/31102 [01:07<05:00, 88.09it/s]"
     ]
    },
    {
     "name": "stdout",
     "output_type": "stream",
     "text": [
      "Added batch of 100 documents\n"
     ]
    },
    {
     "name": "stderr",
     "output_type": "stream",
     "text": [
      " 15%|█▌        | 4741/31102 [01:08<05:36, 78.23it/s]"
     ]
    },
    {
     "name": "stdout",
     "output_type": "stream",
     "text": [
      "Added batch of 100 documents\n"
     ]
    },
    {
     "name": "stderr",
     "output_type": "stream",
     "text": [
      " 16%|█▌        | 4887/31102 [01:10<04:07, 105.74it/s]"
     ]
    },
    {
     "name": "stdout",
     "output_type": "stream",
     "text": [
      "Added batch of 100 documents\n"
     ]
    },
    {
     "name": "stderr",
     "output_type": "stream",
     "text": [
      " 16%|█▌        | 4961/31102 [01:11<05:26, 80.05it/s] "
     ]
    },
    {
     "name": "stdout",
     "output_type": "stream",
     "text": [
      "Added batch of 100 documents\n"
     ]
    },
    {
     "name": "stderr",
     "output_type": "stream",
     "text": [
      " 16%|█▋        | 5076/31102 [01:13<05:16, 82.36it/s]"
     ]
    },
    {
     "name": "stdout",
     "output_type": "stream",
     "text": [
      "Added batch of 100 documents\n"
     ]
    },
    {
     "name": "stderr",
     "output_type": "stream",
     "text": [
      " 17%|█▋        | 5136/31102 [01:14<06:45, 64.04it/s]"
     ]
    },
    {
     "name": "stdout",
     "output_type": "stream",
     "text": [
      "Added batch of 100 documents\n"
     ]
    },
    {
     "name": "stderr",
     "output_type": "stream",
     "text": [
      " 17%|█▋        | 5244/31102 [01:16<06:37, 65.09it/s]"
     ]
    },
    {
     "name": "stdout",
     "output_type": "stream",
     "text": [
      "Added batch of 100 documents\n"
     ]
    },
    {
     "name": "stderr",
     "output_type": "stream",
     "text": [
      " 17%|█▋        | 5371/31102 [01:17<05:07, 83.63it/s]"
     ]
    },
    {
     "name": "stdout",
     "output_type": "stream",
     "text": [
      "Added batch of 100 documents\n"
     ]
    },
    {
     "name": "stderr",
     "output_type": "stream",
     "text": [
      " 18%|█▊        | 5443/31102 [01:19<05:57, 71.74it/s]"
     ]
    },
    {
     "name": "stdout",
     "output_type": "stream",
     "text": [
      "Added batch of 100 documents\n"
     ]
    },
    {
     "name": "stderr",
     "output_type": "stream",
     "text": [
      " 18%|█▊        | 5552/31102 [01:20<05:09, 82.44it/s]"
     ]
    },
    {
     "name": "stdout",
     "output_type": "stream",
     "text": [
      "Added batch of 100 documents\n"
     ]
    },
    {
     "name": "stderr",
     "output_type": "stream",
     "text": [
      " 18%|█▊        | 5650/31102 [01:22<05:14, 80.91it/s]"
     ]
    },
    {
     "name": "stdout",
     "output_type": "stream",
     "text": [
      "Added batch of 100 documents\n"
     ]
    },
    {
     "name": "stderr",
     "output_type": "stream",
     "text": [
      " 18%|█▊        | 5727/31102 [01:23<05:53, 71.81it/s]"
     ]
    },
    {
     "name": "stdout",
     "output_type": "stream",
     "text": [
      "Added batch of 100 documents\n"
     ]
    },
    {
     "name": "stderr",
     "output_type": "stream",
     "text": [
      " 19%|█▉        | 5856/31102 [01:25<05:13, 80.61it/s]"
     ]
    },
    {
     "name": "stdout",
     "output_type": "stream",
     "text": [
      "Added batch of 100 documents\n"
     ]
    },
    {
     "name": "stderr",
     "output_type": "stream",
     "text": [
      " 19%|█▉        | 5959/31102 [01:26<05:03, 82.84it/s]"
     ]
    },
    {
     "name": "stdout",
     "output_type": "stream",
     "text": [
      "Added batch of 100 documents\n"
     ]
    },
    {
     "name": "stderr",
     "output_type": "stream",
     "text": [
      " 19%|█▉        | 6037/31102 [01:27<05:41, 73.41it/s]"
     ]
    },
    {
     "name": "stdout",
     "output_type": "stream",
     "text": [
      "Added batch of 100 documents\n"
     ]
    },
    {
     "name": "stderr",
     "output_type": "stream",
     "text": [
      " 20%|█▉        | 6191/31102 [01:29<04:19, 95.84it/s] "
     ]
    },
    {
     "name": "stdout",
     "output_type": "stream",
     "text": [
      "Added batch of 100 documents\n"
     ]
    },
    {
     "name": "stderr",
     "output_type": "stream",
     "text": [
      " 20%|██        | 6283/31102 [01:30<04:46, 86.69it/s]"
     ]
    },
    {
     "name": "stdout",
     "output_type": "stream",
     "text": [
      "Added batch of 100 documents\n"
     ]
    },
    {
     "name": "stderr",
     "output_type": "stream",
     "text": [
      " 21%|██        | 6378/31102 [01:32<04:57, 83.18it/s]"
     ]
    },
    {
     "name": "stdout",
     "output_type": "stream",
     "text": [
      "Added batch of 100 documents\n"
     ]
    },
    {
     "name": "stderr",
     "output_type": "stream",
     "text": [
      " 21%|██        | 6468/31102 [01:33<04:58, 82.44it/s]"
     ]
    },
    {
     "name": "stdout",
     "output_type": "stream",
     "text": [
      "Added batch of 100 documents\n"
     ]
    },
    {
     "name": "stderr",
     "output_type": "stream",
     "text": [
      " 21%|██        | 6564/31102 [01:35<04:59, 81.84it/s]"
     ]
    },
    {
     "name": "stdout",
     "output_type": "stream",
     "text": [
      "Added batch of 100 documents\n"
     ]
    },
    {
     "name": "stderr",
     "output_type": "stream",
     "text": [
      " 21%|██▏       | 6641/31102 [01:36<05:26, 74.96it/s]"
     ]
    },
    {
     "name": "stdout",
     "output_type": "stream",
     "text": [
      "Added batch of 100 documents\n"
     ]
    },
    {
     "name": "stderr",
     "output_type": "stream",
     "text": [
      " 22%|██▏       | 6745/31102 [01:37<05:07, 79.16it/s]"
     ]
    },
    {
     "name": "stdout",
     "output_type": "stream",
     "text": [
      "Added batch of 100 documents\n"
     ]
    },
    {
     "name": "stderr",
     "output_type": "stream",
     "text": [
      " 22%|██▏       | 6845/31102 [01:39<04:57, 81.58it/s]"
     ]
    },
    {
     "name": "stdout",
     "output_type": "stream",
     "text": [
      "Added batch of 100 documents\n"
     ]
    },
    {
     "name": "stderr",
     "output_type": "stream",
     "text": [
      " 22%|██▏       | 6950/31102 [01:40<04:53, 82.38it/s]"
     ]
    },
    {
     "name": "stdout",
     "output_type": "stream",
     "text": [
      "Added batch of 100 documents\n"
     ]
    },
    {
     "name": "stderr",
     "output_type": "stream",
     "text": [
      " 23%|██▎       | 7052/31102 [01:42<04:52, 82.22it/s]"
     ]
    },
    {
     "name": "stdout",
     "output_type": "stream",
     "text": [
      "Added batch of 100 documents\n"
     ]
    },
    {
     "name": "stderr",
     "output_type": "stream",
     "text": [
      " 23%|██▎       | 7151/31102 [01:43<04:47, 83.39it/s]"
     ]
    },
    {
     "name": "stdout",
     "output_type": "stream",
     "text": [
      "Added batch of 100 documents\n"
     ]
    },
    {
     "name": "stderr",
     "output_type": "stream",
     "text": [
      " 23%|██▎       | 7239/31102 [01:45<05:07, 77.67it/s]"
     ]
    },
    {
     "name": "stdout",
     "output_type": "stream",
     "text": [
      "Added batch of 100 documents\n"
     ]
    },
    {
     "name": "stderr",
     "output_type": "stream",
     "text": [
      " 24%|██▎       | 7346/31102 [01:46<04:45, 83.24it/s]"
     ]
    },
    {
     "name": "stdout",
     "output_type": "stream",
     "text": [
      "Added batch of 100 documents\n"
     ]
    },
    {
     "name": "stderr",
     "output_type": "stream",
     "text": [
      " 24%|██▍       | 7455/31102 [01:47<04:38, 84.79it/s]"
     ]
    },
    {
     "name": "stdout",
     "output_type": "stream",
     "text": [
      "Added batch of 100 documents\n"
     ]
    },
    {
     "name": "stderr",
     "output_type": "stream",
     "text": [
      " 24%|██▍       | 7562/31102 [01:49<04:32, 86.34it/s]"
     ]
    },
    {
     "name": "stdout",
     "output_type": "stream",
     "text": [
      "Added batch of 100 documents\n"
     ]
    },
    {
     "name": "stderr",
     "output_type": "stream",
     "text": [
      " 25%|██▍       | 7659/31102 [01:50<04:27, 87.75it/s]"
     ]
    },
    {
     "name": "stdout",
     "output_type": "stream",
     "text": [
      "Added batch of 100 documents\n"
     ]
    },
    {
     "name": "stderr",
     "output_type": "stream",
     "text": [
      " 25%|██▍       | 7749/31102 [01:52<04:36, 84.36it/s]"
     ]
    },
    {
     "name": "stdout",
     "output_type": "stream",
     "text": [
      "Added batch of 100 documents\n"
     ]
    },
    {
     "name": "stderr",
     "output_type": "stream",
     "text": [
      " 25%|██▌       | 7857/31102 [01:53<04:22, 88.48it/s]"
     ]
    },
    {
     "name": "stdout",
     "output_type": "stream",
     "text": [
      "Added batch of 100 documents\n"
     ]
    },
    {
     "name": "stderr",
     "output_type": "stream",
     "text": [
      " 25%|██▌       | 7925/31102 [01:54<05:38, 68.55it/s]"
     ]
    },
    {
     "name": "stdout",
     "output_type": "stream",
     "text": [
      "Added batch of 100 documents\n"
     ]
    },
    {
     "name": "stderr",
     "output_type": "stream",
     "text": [
      " 26%|██▌       | 8046/31102 [01:56<04:54, 78.32it/s]"
     ]
    },
    {
     "name": "stdout",
     "output_type": "stream",
     "text": [
      "Added batch of 100 documents\n"
     ]
    },
    {
     "name": "stderr",
     "output_type": "stream",
     "text": [
      " 26%|██▌       | 8154/31102 [01:57<04:36, 83.02it/s]"
     ]
    },
    {
     "name": "stdout",
     "output_type": "stream",
     "text": [
      "Added batch of 100 documents\n"
     ]
    },
    {
     "name": "stderr",
     "output_type": "stream",
     "text": [
      " 26%|██▋       | 8223/31102 [01:59<05:45, 66.24it/s]"
     ]
    },
    {
     "name": "stdout",
     "output_type": "stream",
     "text": [
      "Added batch of 100 documents\n"
     ]
    },
    {
     "name": "stderr",
     "output_type": "stream",
     "text": [
      " 27%|██▋       | 8359/31102 [02:00<04:27, 85.13it/s]"
     ]
    },
    {
     "name": "stdout",
     "output_type": "stream",
     "text": [
      "Added batch of 100 documents\n"
     ]
    },
    {
     "name": "stderr",
     "output_type": "stream",
     "text": [
      " 27%|██▋       | 8454/31102 [02:02<04:22, 86.12it/s]"
     ]
    },
    {
     "name": "stdout",
     "output_type": "stream",
     "text": [
      "Added batch of 100 documents\n"
     ]
    },
    {
     "name": "stderr",
     "output_type": "stream",
     "text": [
      " 28%|██▊       | 8557/31102 [02:03<04:15, 88.22it/s]"
     ]
    },
    {
     "name": "stdout",
     "output_type": "stream",
     "text": [
      "Added batch of 100 documents\n"
     ]
    },
    {
     "name": "stderr",
     "output_type": "stream",
     "text": [
      " 28%|██▊       | 8647/31102 [02:04<04:25, 84.59it/s]"
     ]
    },
    {
     "name": "stdout",
     "output_type": "stream",
     "text": [
      "Added batch of 100 documents\n"
     ]
    },
    {
     "name": "stderr",
     "output_type": "stream",
     "text": [
      " 28%|██▊       | 8752/31102 [02:06<04:33, 81.85it/s]"
     ]
    },
    {
     "name": "stdout",
     "output_type": "stream",
     "text": [
      "Added batch of 100 documents\n"
     ]
    },
    {
     "name": "stderr",
     "output_type": "stream",
     "text": [
      " 28%|██▊       | 8844/31102 [02:08<04:50, 76.63it/s]"
     ]
    },
    {
     "name": "stdout",
     "output_type": "stream",
     "text": [
      "Added batch of 100 documents\n"
     ]
    },
    {
     "name": "stderr",
     "output_type": "stream",
     "text": [
      " 29%|██▉       | 8961/31102 [02:09<04:13, 87.27it/s]"
     ]
    },
    {
     "name": "stdout",
     "output_type": "stream",
     "text": [
      "Added batch of 100 documents\n"
     ]
    },
    {
     "name": "stderr",
     "output_type": "stream",
     "text": [
      " 29%|██▉       | 9040/31102 [02:10<04:52, 75.45it/s]"
     ]
    },
    {
     "name": "stdout",
     "output_type": "stream",
     "text": [
      "Added batch of 100 documents\n"
     ]
    },
    {
     "name": "stderr",
     "output_type": "stream",
     "text": [
      " 29%|██▉       | 9148/31102 [02:12<04:31, 80.79it/s]"
     ]
    },
    {
     "name": "stdout",
     "output_type": "stream",
     "text": [
      "Added batch of 100 documents\n"
     ]
    },
    {
     "name": "stderr",
     "output_type": "stream",
     "text": [
      " 30%|██▉       | 9275/31102 [02:14<04:35, 79.26it/s] "
     ]
    },
    {
     "name": "stdout",
     "output_type": "stream",
     "text": [
      "Added batch of 100 documents\n"
     ]
    },
    {
     "name": "stderr",
     "output_type": "stream",
     "text": [
      " 30%|███       | 9362/31102 [02:15<04:44, 76.50it/s]"
     ]
    },
    {
     "name": "stdout",
     "output_type": "stream",
     "text": [
      "Added batch of 100 documents\n"
     ]
    },
    {
     "name": "stderr",
     "output_type": "stream",
     "text": [
      " 30%|███       | 9427/31102 [02:17<05:58, 60.40it/s]"
     ]
    },
    {
     "name": "stdout",
     "output_type": "stream",
     "text": [
      "Added batch of 100 documents\n"
     ]
    },
    {
     "name": "stderr",
     "output_type": "stream",
     "text": [
      " 31%|███       | 9581/31102 [02:18<03:49, 93.66it/s]"
     ]
    },
    {
     "name": "stdout",
     "output_type": "stream",
     "text": [
      "Added batch of 100 documents\n"
     ]
    },
    {
     "name": "stderr",
     "output_type": "stream",
     "text": [
      " 31%|███       | 9649/31102 [02:20<05:07, 69.72it/s]"
     ]
    },
    {
     "name": "stdout",
     "output_type": "stream",
     "text": [
      "Added batch of 100 documents\n"
     ]
    },
    {
     "name": "stderr",
     "output_type": "stream",
     "text": [
      " 31%|███▏      | 9791/31102 [02:21<04:05, 86.79it/s]"
     ]
    },
    {
     "name": "stdout",
     "output_type": "stream",
     "text": [
      "Added batch of 100 documents\n"
     ]
    },
    {
     "name": "stderr",
     "output_type": "stream",
     "text": [
      " 32%|███▏      | 9885/31102 [02:23<04:08, 85.25it/s]"
     ]
    },
    {
     "name": "stdout",
     "output_type": "stream",
     "text": [
      "Added batch of 100 documents\n"
     ]
    },
    {
     "name": "stderr",
     "output_type": "stream",
     "text": [
      " 32%|███▏      | 9981/31102 [02:24<04:05, 85.95it/s]"
     ]
    },
    {
     "name": "stdout",
     "output_type": "stream",
     "text": [
      "Added batch of 100 documents\n"
     ]
    },
    {
     "name": "stderr",
     "output_type": "stream",
     "text": [
      " 32%|███▏      | 10066/31102 [02:26<04:39, 75.24it/s]"
     ]
    },
    {
     "name": "stdout",
     "output_type": "stream",
     "text": [
      "Added batch of 100 documents\n"
     ]
    },
    {
     "name": "stderr",
     "output_type": "stream",
     "text": [
      " 33%|███▎      | 10182/31102 [02:27<03:46, 92.45it/s]"
     ]
    },
    {
     "name": "stdout",
     "output_type": "stream",
     "text": [
      "Added batch of 100 documents\n"
     ]
    },
    {
     "name": "stderr",
     "output_type": "stream",
     "text": [
      " 33%|███▎      | 10277/31102 [02:28<03:49, 90.61it/s]"
     ]
    },
    {
     "name": "stdout",
     "output_type": "stream",
     "text": [
      "Added batch of 100 documents\n"
     ]
    },
    {
     "name": "stderr",
     "output_type": "stream",
     "text": [
      " 33%|███▎      | 10377/31102 [02:30<03:49, 90.40it/s]"
     ]
    },
    {
     "name": "stdout",
     "output_type": "stream",
     "text": [
      "Added batch of 100 documents\n"
     ]
    },
    {
     "name": "stderr",
     "output_type": "stream",
     "text": [
      " 34%|███▎      | 10446/31102 [02:31<04:40, 73.69it/s]"
     ]
    },
    {
     "name": "stdout",
     "output_type": "stream",
     "text": [
      "Added batch of 100 documents\n"
     ]
    },
    {
     "name": "stderr",
     "output_type": "stream",
     "text": [
      " 34%|███▍      | 10556/31102 [02:33<05:00, 68.37it/s]"
     ]
    },
    {
     "name": "stdout",
     "output_type": "stream",
     "text": [
      "Added batch of 100 documents\n"
     ]
    },
    {
     "name": "stderr",
     "output_type": "stream",
     "text": [
      " 34%|███▍      | 10646/31102 [02:34<04:39, 73.10it/s]"
     ]
    },
    {
     "name": "stdout",
     "output_type": "stream",
     "text": [
      "Added batch of 100 documents\n"
     ]
    },
    {
     "name": "stderr",
     "output_type": "stream",
     "text": [
      " 35%|███▍      | 10749/31102 [02:36<04:18, 78.77it/s]"
     ]
    },
    {
     "name": "stdout",
     "output_type": "stream",
     "text": [
      "Added batch of 100 documents\n"
     ]
    },
    {
     "name": "stderr",
     "output_type": "stream",
     "text": [
      " 35%|███▍      | 10851/31102 [02:37<04:02, 83.52it/s]"
     ]
    },
    {
     "name": "stdout",
     "output_type": "stream",
     "text": [
      "Added batch of 100 documents\n"
     ]
    },
    {
     "name": "stderr",
     "output_type": "stream",
     "text": [
      " 35%|███▌      | 10923/31102 [02:39<05:13, 64.29it/s]"
     ]
    },
    {
     "name": "stdout",
     "output_type": "stream",
     "text": [
      "Added batch of 100 documents\n"
     ]
    },
    {
     "name": "stderr",
     "output_type": "stream",
     "text": [
      " 36%|███▌      | 11050/31102 [02:40<04:17, 77.83it/s]"
     ]
    },
    {
     "name": "stdout",
     "output_type": "stream",
     "text": [
      "Added batch of 100 documents\n"
     ]
    },
    {
     "name": "stderr",
     "output_type": "stream",
     "text": [
      " 36%|███▌      | 11130/31102 [02:42<04:39, 71.33it/s]"
     ]
    },
    {
     "name": "stdout",
     "output_type": "stream",
     "text": [
      "Added batch of 100 documents\n"
     ]
    },
    {
     "name": "stderr",
     "output_type": "stream",
     "text": [
      " 36%|███▋      | 11283/31102 [02:43<03:29, 94.45it/s] "
     ]
    },
    {
     "name": "stdout",
     "output_type": "stream",
     "text": [
      "Added batch of 100 documents\n"
     ]
    },
    {
     "name": "stderr",
     "output_type": "stream",
     "text": [
      " 37%|███▋      | 11359/31102 [02:44<04:14, 77.63it/s]"
     ]
    },
    {
     "name": "stdout",
     "output_type": "stream",
     "text": [
      "Added batch of 100 documents\n"
     ]
    },
    {
     "name": "stderr",
     "output_type": "stream",
     "text": [
      " 37%|███▋      | 11427/31102 [02:46<04:59, 65.61it/s]"
     ]
    },
    {
     "name": "stdout",
     "output_type": "stream",
     "text": [
      "Added batch of 100 documents\n"
     ]
    },
    {
     "name": "stderr",
     "output_type": "stream",
     "text": [
      " 37%|███▋      | 11563/31102 [02:48<04:10, 77.86it/s]"
     ]
    },
    {
     "name": "stdout",
     "output_type": "stream",
     "text": [
      "Added batch of 100 documents\n"
     ]
    },
    {
     "name": "stderr",
     "output_type": "stream",
     "text": [
      " 37%|███▋      | 11653/31102 [02:49<04:20, 74.77it/s]"
     ]
    },
    {
     "name": "stdout",
     "output_type": "stream",
     "text": [
      "Added batch of 100 documents\n"
     ]
    },
    {
     "name": "stderr",
     "output_type": "stream",
     "text": [
      " 38%|███▊      | 11791/31102 [02:51<03:19, 96.76it/s]"
     ]
    },
    {
     "name": "stdout",
     "output_type": "stream",
     "text": [
      "Added batch of 100 documents\n"
     ]
    },
    {
     "name": "stderr",
     "output_type": "stream",
     "text": [
      " 38%|███▊      | 11889/31102 [02:52<03:37, 88.17it/s]"
     ]
    },
    {
     "name": "stdout",
     "output_type": "stream",
     "text": [
      "Added batch of 100 documents\n"
     ]
    },
    {
     "name": "stderr",
     "output_type": "stream",
     "text": [
      " 38%|███▊      | 11958/31102 [02:54<04:40, 68.18it/s]"
     ]
    },
    {
     "name": "stdout",
     "output_type": "stream",
     "text": [
      "Added batch of 100 documents\n"
     ]
    },
    {
     "name": "stderr",
     "output_type": "stream",
     "text": [
      " 39%|███▉      | 12066/31102 [02:55<04:17, 74.03it/s]"
     ]
    },
    {
     "name": "stdout",
     "output_type": "stream",
     "text": [
      "Added batch of 100 documents\n"
     ]
    },
    {
     "name": "stderr",
     "output_type": "stream",
     "text": [
      " 39%|███▉      | 12143/31102 [02:57<04:24, 71.65it/s]"
     ]
    },
    {
     "name": "stdout",
     "output_type": "stream",
     "text": [
      "Added batch of 100 documents\n"
     ]
    },
    {
     "name": "stderr",
     "output_type": "stream",
     "text": [
      " 39%|███▉      | 12245/31102 [02:58<03:52, 81.25it/s]"
     ]
    },
    {
     "name": "stdout",
     "output_type": "stream",
     "text": [
      "Added batch of 100 documents\n"
     ]
    },
    {
     "name": "stderr",
     "output_type": "stream",
     "text": [
      " 40%|███▉      | 12367/31102 [03:00<04:12, 74.12it/s] "
     ]
    },
    {
     "name": "stdout",
     "output_type": "stream",
     "text": [
      "Added batch of 100 documents\n"
     ]
    },
    {
     "name": "stderr",
     "output_type": "stream",
     "text": [
      " 40%|████      | 12442/31102 [03:01<04:23, 70.91it/s]"
     ]
    },
    {
     "name": "stdout",
     "output_type": "stream",
     "text": [
      "Added batch of 100 documents\n"
     ]
    },
    {
     "name": "stderr",
     "output_type": "stream",
     "text": [
      " 40%|████      | 12550/31102 [03:02<03:48, 81.17it/s]"
     ]
    },
    {
     "name": "stdout",
     "output_type": "stream",
     "text": [
      "Added batch of 100 documents\n"
     ]
    },
    {
     "name": "stderr",
     "output_type": "stream",
     "text": [
      " 41%|████      | 12688/31102 [03:04<03:26, 89.31it/s] "
     ]
    },
    {
     "name": "stdout",
     "output_type": "stream",
     "text": [
      "Added batch of 100 documents\n"
     ]
    },
    {
     "name": "stderr",
     "output_type": "stream",
     "text": [
      " 41%|████      | 12780/31102 [03:05<03:31, 86.60it/s]"
     ]
    },
    {
     "name": "stdout",
     "output_type": "stream",
     "text": [
      "Added batch of 100 documents\n"
     ]
    },
    {
     "name": "stderr",
     "output_type": "stream",
     "text": [
      " 41%|████▏     | 12861/31102 [03:07<03:54, 77.68it/s]"
     ]
    },
    {
     "name": "stdout",
     "output_type": "stream",
     "text": [
      "Added batch of 100 documents\n"
     ]
    },
    {
     "name": "stderr",
     "output_type": "stream",
     "text": [
      " 42%|████▏     | 12946/31102 [03:08<04:12, 71.94it/s]"
     ]
    },
    {
     "name": "stdout",
     "output_type": "stream",
     "text": [
      "Added batch of 100 documents\n"
     ]
    },
    {
     "name": "stderr",
     "output_type": "stream",
     "text": [
      " 42%|████▏     | 13093/31102 [03:10<03:23, 88.61it/s]"
     ]
    },
    {
     "name": "stdout",
     "output_type": "stream",
     "text": [
      "Added batch of 100 documents\n"
     ]
    },
    {
     "name": "stderr",
     "output_type": "stream",
     "text": [
      " 42%|████▏     | 13174/31102 [03:11<03:42, 80.50it/s]"
     ]
    },
    {
     "name": "stdout",
     "output_type": "stream",
     "text": [
      "Added batch of 100 documents\n"
     ]
    },
    {
     "name": "stderr",
     "output_type": "stream",
     "text": [
      " 43%|████▎     | 13255/31102 [03:12<03:48, 78.21it/s]"
     ]
    },
    {
     "name": "stdout",
     "output_type": "stream",
     "text": [
      "Added batch of 100 documents\n"
     ]
    },
    {
     "name": "stderr",
     "output_type": "stream",
     "text": [
      " 43%|████▎     | 13348/31102 [03:14<03:44, 79.20it/s]"
     ]
    },
    {
     "name": "stdout",
     "output_type": "stream",
     "text": [
      "Added batch of 100 documents\n"
     ]
    },
    {
     "name": "stderr",
     "output_type": "stream",
     "text": [
      " 43%|████▎     | 13441/31102 [03:15<03:58, 73.93it/s]"
     ]
    },
    {
     "name": "stdout",
     "output_type": "stream",
     "text": [
      "Added batch of 100 documents\n"
     ]
    },
    {
     "name": "stderr",
     "output_type": "stream",
     "text": [
      " 44%|████▎     | 13536/31102 [03:17<03:53, 75.11it/s]"
     ]
    },
    {
     "name": "stdout",
     "output_type": "stream",
     "text": [
      "Added batch of 100 documents\n"
     ]
    },
    {
     "name": "stderr",
     "output_type": "stream",
     "text": [
      " 44%|████▍     | 13683/31102 [03:19<03:23, 85.68it/s] "
     ]
    },
    {
     "name": "stdout",
     "output_type": "stream",
     "text": [
      "Added batch of 100 documents\n"
     ]
    },
    {
     "name": "stderr",
     "output_type": "stream",
     "text": [
      " 44%|████▍     | 13769/31102 [03:20<03:31, 81.89it/s]"
     ]
    },
    {
     "name": "stdout",
     "output_type": "stream",
     "text": [
      "Added batch of 100 documents\n"
     ]
    },
    {
     "name": "stderr",
     "output_type": "stream",
     "text": [
      " 45%|████▍     | 13847/31102 [03:21<03:47, 75.84it/s]"
     ]
    },
    {
     "name": "stdout",
     "output_type": "stream",
     "text": [
      "Added batch of 100 documents\n"
     ]
    },
    {
     "name": "stderr",
     "output_type": "stream",
     "text": [
      " 45%|████▍     | 13944/31102 [03:23<03:34, 79.97it/s]"
     ]
    },
    {
     "name": "stdout",
     "output_type": "stream",
     "text": [
      "Added batch of 100 documents\n"
     ]
    },
    {
     "name": "stderr",
     "output_type": "stream",
     "text": [
      " 45%|████▌     | 14047/31102 [03:24<03:41, 76.88it/s]"
     ]
    },
    {
     "name": "stdout",
     "output_type": "stream",
     "text": [
      "Added batch of 100 documents\n"
     ]
    },
    {
     "name": "stderr",
     "output_type": "stream",
     "text": [
      " 45%|████▌     | 14146/31102 [03:26<03:36, 78.15it/s]"
     ]
    },
    {
     "name": "stdout",
     "output_type": "stream",
     "text": [
      "Added batch of 100 documents\n"
     ]
    },
    {
     "name": "stderr",
     "output_type": "stream",
     "text": [
      " 46%|████▌     | 14253/31102 [03:27<03:17, 85.28it/s]"
     ]
    },
    {
     "name": "stdout",
     "output_type": "stream",
     "text": [
      "Added batch of 100 documents\n"
     ]
    },
    {
     "name": "stderr",
     "output_type": "stream",
     "text": [
      " 46%|████▌     | 14346/31102 [03:28<03:26, 81.18it/s]"
     ]
    },
    {
     "name": "stdout",
     "output_type": "stream",
     "text": [
      "Added batch of 100 documents\n"
     ]
    },
    {
     "name": "stderr",
     "output_type": "stream",
     "text": [
      " 46%|████▋     | 14449/31102 [03:30<03:30, 79.28it/s]"
     ]
    },
    {
     "name": "stdout",
     "output_type": "stream",
     "text": [
      "Added batch of 100 documents\n"
     ]
    },
    {
     "name": "stderr",
     "output_type": "stream",
     "text": [
      " 47%|████▋     | 14543/31102 [03:31<03:34, 77.02it/s]"
     ]
    },
    {
     "name": "stdout",
     "output_type": "stream",
     "text": [
      "Added batch of 100 documents\n"
     ]
    },
    {
     "name": "stderr",
     "output_type": "stream",
     "text": [
      " 47%|████▋     | 14642/31102 [03:33<03:31, 77.89it/s]"
     ]
    },
    {
     "name": "stdout",
     "output_type": "stream",
     "text": [
      "Added batch of 100 documents\n"
     ]
    },
    {
     "name": "stderr",
     "output_type": "stream",
     "text": [
      " 47%|████▋     | 14751/31102 [03:34<03:12, 85.00it/s]"
     ]
    },
    {
     "name": "stdout",
     "output_type": "stream",
     "text": [
      "Added batch of 100 documents\n"
     ]
    },
    {
     "name": "stderr",
     "output_type": "stream",
     "text": [
      " 48%|████▊     | 14845/31102 [03:36<03:19, 81.59it/s]"
     ]
    },
    {
     "name": "stdout",
     "output_type": "stream",
     "text": [
      "Added batch of 100 documents\n"
     ]
    },
    {
     "name": "stderr",
     "output_type": "stream",
     "text": [
      " 48%|████▊     | 14951/31102 [03:37<03:10, 84.89it/s]"
     ]
    },
    {
     "name": "stdout",
     "output_type": "stream",
     "text": [
      "Added batch of 100 documents\n"
     ]
    },
    {
     "name": "stderr",
     "output_type": "stream",
     "text": [
      " 48%|████▊     | 15023/31102 [03:39<03:58, 67.33it/s]"
     ]
    },
    {
     "name": "stdout",
     "output_type": "stream",
     "text": [
      "Added batch of 100 documents\n"
     ]
    },
    {
     "name": "stderr",
     "output_type": "stream",
     "text": [
      " 49%|████▉     | 15167/31102 [03:40<03:01, 87.72it/s]"
     ]
    },
    {
     "name": "stdout",
     "output_type": "stream",
     "text": [
      "Added batch of 100 documents\n"
     ]
    },
    {
     "name": "stderr",
     "output_type": "stream",
     "text": [
      " 49%|████▉     | 15250/31102 [03:41<03:19, 79.57it/s]"
     ]
    },
    {
     "name": "stdout",
     "output_type": "stream",
     "text": [
      "Added batch of 100 documents\n"
     ]
    },
    {
     "name": "stderr",
     "output_type": "stream",
     "text": [
      " 49%|████▉     | 15340/31102 [03:43<03:19, 79.00it/s]"
     ]
    },
    {
     "name": "stdout",
     "output_type": "stream",
     "text": [
      "Added batch of 100 documents\n"
     ]
    },
    {
     "name": "stderr",
     "output_type": "stream",
     "text": [
      " 50%|████▉     | 15440/31102 [03:44<03:13, 80.99it/s]"
     ]
    },
    {
     "name": "stdout",
     "output_type": "stream",
     "text": [
      "Added batch of 100 documents\n"
     ]
    },
    {
     "name": "stderr",
     "output_type": "stream",
     "text": [
      " 50%|████▉     | 15520/31102 [03:46<03:56, 66.00it/s]"
     ]
    },
    {
     "name": "stdout",
     "output_type": "stream",
     "text": [
      "Added batch of 100 documents\n"
     ]
    },
    {
     "name": "stderr",
     "output_type": "stream",
     "text": [
      " 50%|█████     | 15643/31102 [03:47<03:14, 79.55it/s]"
     ]
    },
    {
     "name": "stdout",
     "output_type": "stream",
     "text": [
      "Added batch of 100 documents\n"
     ]
    },
    {
     "name": "stderr",
     "output_type": "stream",
     "text": [
      " 51%|█████     | 15783/31102 [03:49<02:45, 92.42it/s] "
     ]
    },
    {
     "name": "stdout",
     "output_type": "stream",
     "text": [
      "Added batch of 100 documents\n"
     ]
    },
    {
     "name": "stderr",
     "output_type": "stream",
     "text": [
      " 51%|█████     | 15870/31102 [03:50<03:01, 83.95it/s]"
     ]
    },
    {
     "name": "stdout",
     "output_type": "stream",
     "text": [
      "Added batch of 100 documents\n"
     ]
    },
    {
     "name": "stderr",
     "output_type": "stream",
     "text": [
      " 51%|█████▏    | 15967/31102 [03:52<03:11, 79.00it/s]"
     ]
    },
    {
     "name": "stdout",
     "output_type": "stream",
     "text": [
      "Added batch of 100 documents\n"
     ]
    },
    {
     "name": "stderr",
     "output_type": "stream",
     "text": [
      " 52%|█████▏    | 16055/31102 [03:53<03:19, 75.46it/s]"
     ]
    },
    {
     "name": "stdout",
     "output_type": "stream",
     "text": [
      "Added batch of 100 documents\n"
     ]
    },
    {
     "name": "stderr",
     "output_type": "stream",
     "text": [
      " 52%|█████▏    | 16154/31102 [03:55<03:03, 81.24it/s]"
     ]
    },
    {
     "name": "stdout",
     "output_type": "stream",
     "text": [
      "Added batch of 100 documents\n"
     ]
    },
    {
     "name": "stderr",
     "output_type": "stream",
     "text": [
      " 52%|█████▏    | 16254/31102 [03:56<03:01, 81.78it/s]"
     ]
    },
    {
     "name": "stdout",
     "output_type": "stream",
     "text": [
      "Added batch of 100 documents\n"
     ]
    },
    {
     "name": "stderr",
     "output_type": "stream",
     "text": [
      " 53%|█████▎    | 16346/31102 [03:57<03:04, 79.85it/s]"
     ]
    },
    {
     "name": "stdout",
     "output_type": "stream",
     "text": [
      "Added batch of 100 documents\n"
     ]
    },
    {
     "name": "stderr",
     "output_type": "stream",
     "text": [
      " 53%|█████▎    | 16450/31102 [03:59<02:59, 81.61it/s]"
     ]
    },
    {
     "name": "stdout",
     "output_type": "stream",
     "text": [
      "Added batch of 100 documents\n"
     ]
    },
    {
     "name": "stderr",
     "output_type": "stream",
     "text": [
      " 53%|█████▎    | 16547/31102 [04:00<02:57, 81.83it/s]"
     ]
    },
    {
     "name": "stdout",
     "output_type": "stream",
     "text": [
      "Added batch of 100 documents\n"
     ]
    },
    {
     "name": "stderr",
     "output_type": "stream",
     "text": [
      " 54%|█████▎    | 16652/31102 [04:02<02:49, 85.16it/s]"
     ]
    },
    {
     "name": "stdout",
     "output_type": "stream",
     "text": [
      "Added batch of 100 documents\n"
     ]
    },
    {
     "name": "stderr",
     "output_type": "stream",
     "text": [
      " 54%|█████▍    | 16743/31102 [04:03<02:56, 81.35it/s]"
     ]
    },
    {
     "name": "stdout",
     "output_type": "stream",
     "text": [
      "Added batch of 100 documents\n"
     ]
    },
    {
     "name": "stderr",
     "output_type": "stream",
     "text": [
      " 54%|█████▍    | 16849/31102 [04:04<02:50, 83.81it/s]"
     ]
    },
    {
     "name": "stdout",
     "output_type": "stream",
     "text": [
      "Added batch of 100 documents\n"
     ]
    },
    {
     "name": "stderr",
     "output_type": "stream",
     "text": [
      " 54%|█████▍    | 16922/31102 [04:06<03:22, 70.06it/s]"
     ]
    },
    {
     "name": "stdout",
     "output_type": "stream",
     "text": [
      "Added batch of 100 documents\n"
     ]
    },
    {
     "name": "stderr",
     "output_type": "stream",
     "text": [
      " 55%|█████▍    | 17044/31102 [04:07<03:00, 77.73it/s]"
     ]
    },
    {
     "name": "stdout",
     "output_type": "stream",
     "text": [
      "Added batch of 100 documents\n"
     ]
    },
    {
     "name": "stderr",
     "output_type": "stream",
     "text": [
      " 55%|█████▌    | 17145/31102 [04:09<02:54, 79.82it/s]"
     ]
    },
    {
     "name": "stdout",
     "output_type": "stream",
     "text": [
      "Added batch of 100 documents\n"
     ]
    },
    {
     "name": "stderr",
     "output_type": "stream",
     "text": [
      " 55%|█████▌    | 17242/31102 [04:10<02:47, 82.73it/s]"
     ]
    },
    {
     "name": "stdout",
     "output_type": "stream",
     "text": [
      "Added batch of 100 documents\n"
     ]
    },
    {
     "name": "stderr",
     "output_type": "stream",
     "text": [
      " 56%|█████▌    | 17347/31102 [04:11<02:40, 85.85it/s]"
     ]
    },
    {
     "name": "stdout",
     "output_type": "stream",
     "text": [
      "Added batch of 100 documents\n"
     ]
    },
    {
     "name": "stderr",
     "output_type": "stream",
     "text": [
      " 56%|█████▌    | 17436/31102 [04:13<02:52, 79.23it/s]"
     ]
    },
    {
     "name": "stdout",
     "output_type": "stream",
     "text": [
      "Added batch of 100 documents\n"
     ]
    },
    {
     "name": "stderr",
     "output_type": "stream",
     "text": [
      " 56%|█████▋    | 17565/31102 [04:14<02:47, 80.74it/s] "
     ]
    },
    {
     "name": "stdout",
     "output_type": "stream",
     "text": [
      "Added batch of 100 documents\n"
     ]
    },
    {
     "name": "stderr",
     "output_type": "stream",
     "text": [
      " 57%|█████▋    | 17652/31102 [04:16<02:54, 77.03it/s]"
     ]
    },
    {
     "name": "stdout",
     "output_type": "stream",
     "text": [
      "Added batch of 100 documents\n"
     ]
    },
    {
     "name": "stderr",
     "output_type": "stream",
     "text": [
      " 57%|█████▋    | 17741/31102 [04:17<02:56, 75.64it/s]"
     ]
    },
    {
     "name": "stdout",
     "output_type": "stream",
     "text": [
      "Added batch of 100 documents\n"
     ]
    },
    {
     "name": "stderr",
     "output_type": "stream",
     "text": [
      " 57%|█████▋    | 17846/31102 [04:19<02:44, 80.61it/s]"
     ]
    },
    {
     "name": "stdout",
     "output_type": "stream",
     "text": [
      "Added batch of 100 documents\n"
     ]
    },
    {
     "name": "stderr",
     "output_type": "stream",
     "text": [
      " 58%|█████▊    | 17948/31102 [04:20<02:49, 77.64it/s]"
     ]
    },
    {
     "name": "stdout",
     "output_type": "stream",
     "text": [
      "Added batch of 100 documents\n"
     ]
    },
    {
     "name": "stderr",
     "output_type": "stream",
     "text": [
      " 58%|█████▊    | 18057/31102 [04:22<02:44, 79.37it/s]"
     ]
    },
    {
     "name": "stdout",
     "output_type": "stream",
     "text": [
      "Added batch of 100 documents\n"
     ]
    },
    {
     "name": "stderr",
     "output_type": "stream",
     "text": [
      " 58%|█████▊    | 18145/31102 [04:23<02:51, 75.57it/s]"
     ]
    },
    {
     "name": "stdout",
     "output_type": "stream",
     "text": [
      "Added batch of 100 documents\n"
     ]
    },
    {
     "name": "stderr",
     "output_type": "stream",
     "text": [
      " 59%|█████▉    | 18288/31102 [04:25<02:06, 101.19it/s]"
     ]
    },
    {
     "name": "stdout",
     "output_type": "stream",
     "text": [
      "Added batch of 100 documents\n"
     ]
    },
    {
     "name": "stderr",
     "output_type": "stream",
     "text": [
      " 59%|█████▉    | 18368/31102 [04:26<02:43, 77.85it/s] "
     ]
    },
    {
     "name": "stdout",
     "output_type": "stream",
     "text": [
      "Added batch of 100 documents\n"
     ]
    },
    {
     "name": "stderr",
     "output_type": "stream",
     "text": [
      " 59%|█████▉    | 18446/31102 [04:28<03:08, 67.26it/s]"
     ]
    },
    {
     "name": "stdout",
     "output_type": "stream",
     "text": [
      "Added batch of 100 documents\n"
     ]
    },
    {
     "name": "stderr",
     "output_type": "stream",
     "text": [
      " 60%|█████▉    | 18554/31102 [04:30<02:44, 76.28it/s]"
     ]
    },
    {
     "name": "stdout",
     "output_type": "stream",
     "text": [
      "Added batch of 100 documents\n"
     ]
    },
    {
     "name": "stderr",
     "output_type": "stream",
     "text": [
      " 60%|█████▉    | 18648/31102 [04:31<02:39, 77.97it/s]"
     ]
    },
    {
     "name": "stdout",
     "output_type": "stream",
     "text": [
      "Added batch of 100 documents\n"
     ]
    },
    {
     "name": "stderr",
     "output_type": "stream",
     "text": [
      " 60%|██████    | 18749/31102 [04:32<02:33, 80.30it/s]"
     ]
    },
    {
     "name": "stdout",
     "output_type": "stream",
     "text": [
      "Added batch of 100 documents\n"
     ]
    },
    {
     "name": "stderr",
     "output_type": "stream",
     "text": [
      " 61%|██████    | 18844/31102 [04:34<02:35, 78.70it/s]"
     ]
    },
    {
     "name": "stdout",
     "output_type": "stream",
     "text": [
      "Added batch of 100 documents\n"
     ]
    },
    {
     "name": "stderr",
     "output_type": "stream",
     "text": [
      " 61%|██████    | 18951/31102 [04:35<02:25, 83.58it/s]"
     ]
    },
    {
     "name": "stdout",
     "output_type": "stream",
     "text": [
      "Added batch of 100 documents\n"
     ]
    },
    {
     "name": "stderr",
     "output_type": "stream",
     "text": [
      " 61%|██████    | 19047/31102 [04:37<02:34, 78.16it/s]"
     ]
    },
    {
     "name": "stdout",
     "output_type": "stream",
     "text": [
      "Added batch of 100 documents\n"
     ]
    },
    {
     "name": "stderr",
     "output_type": "stream",
     "text": [
      " 62%|██████▏   | 19143/31102 [04:38<02:31, 78.71it/s]"
     ]
    },
    {
     "name": "stdout",
     "output_type": "stream",
     "text": [
      "Added batch of 100 documents\n"
     ]
    },
    {
     "name": "stderr",
     "output_type": "stream",
     "text": [
      " 62%|██████▏   | 19295/31102 [04:40<02:01, 97.12it/s] "
     ]
    },
    {
     "name": "stdout",
     "output_type": "stream",
     "text": [
      "Added batch of 100 documents\n"
     ]
    },
    {
     "name": "stderr",
     "output_type": "stream",
     "text": [
      " 62%|██████▏   | 19394/31102 [04:41<02:07, 92.13it/s]"
     ]
    },
    {
     "name": "stdout",
     "output_type": "stream",
     "text": [
      "Added batch of 100 documents\n"
     ]
    },
    {
     "name": "stderr",
     "output_type": "stream",
     "text": [
      " 63%|██████▎   | 19492/31102 [04:42<02:08, 90.31it/s]"
     ]
    },
    {
     "name": "stdout",
     "output_type": "stream",
     "text": [
      "Added batch of 100 documents\n"
     ]
    },
    {
     "name": "stderr",
     "output_type": "stream",
     "text": [
      " 63%|██████▎   | 19592/31102 [04:44<02:07, 90.46it/s]"
     ]
    },
    {
     "name": "stdout",
     "output_type": "stream",
     "text": [
      "Added batch of 100 documents\n"
     ]
    },
    {
     "name": "stderr",
     "output_type": "stream",
     "text": [
      " 63%|██████▎   | 19678/31102 [04:45<02:20, 81.07it/s]"
     ]
    },
    {
     "name": "stdout",
     "output_type": "stream",
     "text": [
      "Added batch of 100 documents\n"
     ]
    },
    {
     "name": "stderr",
     "output_type": "stream",
     "text": [
      " 64%|██████▎   | 19768/31102 [04:46<02:19, 81.19it/s]"
     ]
    },
    {
     "name": "stdout",
     "output_type": "stream",
     "text": [
      "Added batch of 100 documents\n"
     ]
    },
    {
     "name": "stderr",
     "output_type": "stream",
     "text": [
      " 64%|██████▍   | 19828/31102 [04:48<03:14, 57.86it/s]"
     ]
    },
    {
     "name": "stdout",
     "output_type": "stream",
     "text": [
      "Added batch of 100 documents\n"
     ]
    },
    {
     "name": "stderr",
     "output_type": "stream",
     "text": [
      " 64%|██████▍   | 19948/31102 [04:50<03:30, 53.06it/s]"
     ]
    },
    {
     "name": "stdout",
     "output_type": "stream",
     "text": [
      "Added batch of 100 documents\n"
     ]
    },
    {
     "name": "stderr",
     "output_type": "stream",
     "text": [
      " 65%|██████▍   | 20070/31102 [04:52<02:45, 66.70it/s]"
     ]
    },
    {
     "name": "stdout",
     "output_type": "stream",
     "text": [
      "Added batch of 100 documents\n"
     ]
    },
    {
     "name": "stderr",
     "output_type": "stream",
     "text": [
      " 65%|██████▍   | 20137/31102 [04:54<03:00, 60.71it/s]"
     ]
    },
    {
     "name": "stdout",
     "output_type": "stream",
     "text": [
      "Added batch of 100 documents\n"
     ]
    },
    {
     "name": "stderr",
     "output_type": "stream",
     "text": [
      " 65%|██████▌   | 20266/31102 [04:55<02:21, 76.68it/s]"
     ]
    },
    {
     "name": "stdout",
     "output_type": "stream",
     "text": [
      "Added batch of 100 documents\n"
     ]
    },
    {
     "name": "stderr",
     "output_type": "stream",
     "text": [
      " 65%|██████▌   | 20347/31102 [04:57<02:47, 64.33it/s]"
     ]
    },
    {
     "name": "stdout",
     "output_type": "stream",
     "text": [
      "Added batch of 100 documents\n"
     ]
    },
    {
     "name": "stderr",
     "output_type": "stream",
     "text": [
      " 66%|██████▌   | 20450/31102 [04:59<02:32, 69.62it/s]"
     ]
    },
    {
     "name": "stdout",
     "output_type": "stream",
     "text": [
      "Added batch of 100 documents\n"
     ]
    },
    {
     "name": "stderr",
     "output_type": "stream",
     "text": [
      " 66%|██████▌   | 20541/31102 [05:00<02:26, 71.91it/s]"
     ]
    },
    {
     "name": "stdout",
     "output_type": "stream",
     "text": [
      "Added batch of 100 documents\n"
     ]
    },
    {
     "name": "stderr",
     "output_type": "stream",
     "text": [
      " 67%|██████▋   | 20695/31102 [05:02<01:39, 104.49it/s]"
     ]
    },
    {
     "name": "stdout",
     "output_type": "stream",
     "text": [
      "Added batch of 100 documents\n"
     ]
    },
    {
     "name": "stderr",
     "output_type": "stream",
     "text": [
      " 67%|██████▋   | 20785/31102 [05:03<01:55, 89.02it/s] "
     ]
    },
    {
     "name": "stdout",
     "output_type": "stream",
     "text": [
      "Added batch of 100 documents\n"
     ]
    },
    {
     "name": "stderr",
     "output_type": "stream",
     "text": [
      " 67%|██████▋   | 20874/31102 [05:05<02:12, 77.19it/s]"
     ]
    },
    {
     "name": "stdout",
     "output_type": "stream",
     "text": [
      "Added batch of 100 documents\n"
     ]
    },
    {
     "name": "stderr",
     "output_type": "stream",
     "text": [
      " 67%|██████▋   | 20962/31102 [05:06<02:16, 74.24it/s]"
     ]
    },
    {
     "name": "stdout",
     "output_type": "stream",
     "text": [
      "Added batch of 100 documents\n"
     ]
    },
    {
     "name": "stderr",
     "output_type": "stream",
     "text": [
      " 68%|██████▊   | 21026/31102 [05:08<03:20, 50.21it/s]"
     ]
    },
    {
     "name": "stdout",
     "output_type": "stream",
     "text": [
      "Added batch of 100 documents\n"
     ]
    },
    {
     "name": "stderr",
     "output_type": "stream",
     "text": [
      " 68%|██████▊   | 21166/31102 [05:10<02:34, 64.18it/s]"
     ]
    },
    {
     "name": "stdout",
     "output_type": "stream",
     "text": [
      "Added batch of 100 documents\n"
     ]
    },
    {
     "name": "stderr",
     "output_type": "stream",
     "text": [
      " 68%|██████▊   | 21246/31102 [05:12<02:30, 65.42it/s]"
     ]
    },
    {
     "name": "stdout",
     "output_type": "stream",
     "text": [
      "Added batch of 100 documents\n"
     ]
    },
    {
     "name": "stderr",
     "output_type": "stream",
     "text": [
      " 69%|██████▊   | 21349/31102 [05:13<02:06, 76.80it/s]"
     ]
    },
    {
     "name": "stdout",
     "output_type": "stream",
     "text": [
      "Added batch of 100 documents\n"
     ]
    },
    {
     "name": "stderr",
     "output_type": "stream",
     "text": [
      " 69%|██████▉   | 21423/31102 [05:15<02:30, 64.48it/s]"
     ]
    },
    {
     "name": "stdout",
     "output_type": "stream",
     "text": [
      "Added batch of 100 documents\n"
     ]
    },
    {
     "name": "stderr",
     "output_type": "stream",
     "text": [
      " 69%|██████▉   | 21552/31102 [05:16<01:58, 80.91it/s]"
     ]
    },
    {
     "name": "stdout",
     "output_type": "stream",
     "text": [
      "Added batch of 100 documents\n"
     ]
    },
    {
     "name": "stderr",
     "output_type": "stream",
     "text": [
      " 70%|██████▉   | 21648/31102 [05:18<02:00, 78.21it/s]"
     ]
    },
    {
     "name": "stdout",
     "output_type": "stream",
     "text": [
      "Added batch of 100 documents\n"
     ]
    },
    {
     "name": "stderr",
     "output_type": "stream",
     "text": [
      " 70%|██████▉   | 21746/31102 [05:19<02:00, 77.71it/s]"
     ]
    },
    {
     "name": "stdout",
     "output_type": "stream",
     "text": [
      "Added batch of 100 documents\n"
     ]
    },
    {
     "name": "stderr",
     "output_type": "stream",
     "text": [
      " 70%|███████   | 21843/31102 [05:20<01:56, 79.66it/s]"
     ]
    },
    {
     "name": "stdout",
     "output_type": "stream",
     "text": [
      "Added batch of 100 documents\n"
     ]
    },
    {
     "name": "stderr",
     "output_type": "stream",
     "text": [
      " 71%|███████   | 21934/31102 [05:22<02:00, 75.91it/s]"
     ]
    },
    {
     "name": "stdout",
     "output_type": "stream",
     "text": [
      "Added batch of 100 documents\n"
     ]
    },
    {
     "name": "stderr",
     "output_type": "stream",
     "text": [
      " 71%|███████   | 22050/31102 [05:24<02:00, 75.36it/s]"
     ]
    },
    {
     "name": "stdout",
     "output_type": "stream",
     "text": [
      "Added batch of 100 documents\n"
     ]
    },
    {
     "name": "stderr",
     "output_type": "stream",
     "text": [
      " 71%|███████   | 22145/31102 [05:25<01:54, 78.11it/s]"
     ]
    },
    {
     "name": "stdout",
     "output_type": "stream",
     "text": [
      "Added batch of 100 documents\n"
     ]
    },
    {
     "name": "stderr",
     "output_type": "stream",
     "text": [
      " 71%|███████▏  | 22236/31102 [05:26<02:00, 73.37it/s]"
     ]
    },
    {
     "name": "stdout",
     "output_type": "stream",
     "text": [
      "Added batch of 100 documents\n"
     ]
    },
    {
     "name": "stderr",
     "output_type": "stream",
     "text": [
      " 72%|███████▏  | 22386/31102 [05:28<01:32, 93.92it/s] "
     ]
    },
    {
     "name": "stdout",
     "output_type": "stream",
     "text": [
      "Added batch of 100 documents\n"
     ]
    },
    {
     "name": "stderr",
     "output_type": "stream",
     "text": [
      " 72%|███████▏  | 22465/31102 [05:29<01:45, 81.62it/s]"
     ]
    },
    {
     "name": "stdout",
     "output_type": "stream",
     "text": [
      "Added batch of 100 documents\n"
     ]
    },
    {
     "name": "stderr",
     "output_type": "stream",
     "text": [
      " 73%|███████▎  | 22549/31102 [05:31<02:02, 70.04it/s]"
     ]
    },
    {
     "name": "stdout",
     "output_type": "stream",
     "text": [
      "Added batch of 100 documents\n"
     ]
    },
    {
     "name": "stderr",
     "output_type": "stream",
     "text": [
      " 73%|███████▎  | 22648/31102 [05:32<01:50, 76.27it/s]"
     ]
    },
    {
     "name": "stdout",
     "output_type": "stream",
     "text": [
      "Added batch of 100 documents\n"
     ]
    },
    {
     "name": "stderr",
     "output_type": "stream",
     "text": [
      " 73%|███████▎  | 22745/31102 [05:34<01:48, 77.21it/s]"
     ]
    },
    {
     "name": "stdout",
     "output_type": "stream",
     "text": [
      "Added batch of 100 documents\n"
     ]
    },
    {
     "name": "stderr",
     "output_type": "stream",
     "text": [
      " 73%|███████▎  | 22851/31102 [05:35<01:40, 82.26it/s]"
     ]
    },
    {
     "name": "stdout",
     "output_type": "stream",
     "text": [
      "Added batch of 100 documents\n"
     ]
    },
    {
     "name": "stderr",
     "output_type": "stream",
     "text": [
      " 74%|███████▍  | 22946/31102 [05:37<01:44, 78.07it/s]"
     ]
    },
    {
     "name": "stdout",
     "output_type": "stream",
     "text": [
      "Added batch of 100 documents\n"
     ]
    },
    {
     "name": "stderr",
     "output_type": "stream",
     "text": [
      " 74%|███████▍  | 23052/31102 [05:38<01:41, 78.99it/s]"
     ]
    },
    {
     "name": "stdout",
     "output_type": "stream",
     "text": [
      "Added batch of 100 documents\n"
     ]
    },
    {
     "name": "stderr",
     "output_type": "stream",
     "text": [
      " 74%|███████▍  | 23146/31102 [05:40<01:41, 78.39it/s]"
     ]
    },
    {
     "name": "stdout",
     "output_type": "stream",
     "text": [
      "Added batch of 100 documents\n"
     ]
    },
    {
     "name": "stderr",
     "output_type": "stream",
     "text": [
      " 75%|███████▍  | 23244/31102 [05:41<01:36, 81.32it/s]"
     ]
    },
    {
     "name": "stdout",
     "output_type": "stream",
     "text": [
      "Added batch of 100 documents\n"
     ]
    },
    {
     "name": "stderr",
     "output_type": "stream",
     "text": [
      " 75%|███████▌  | 23344/31102 [05:42<01:36, 80.45it/s]"
     ]
    },
    {
     "name": "stdout",
     "output_type": "stream",
     "text": [
      "Added batch of 100 documents\n"
     ]
    },
    {
     "name": "stderr",
     "output_type": "stream",
     "text": [
      " 75%|███████▌  | 23426/31102 [05:44<01:45, 72.75it/s]"
     ]
    },
    {
     "name": "stdout",
     "output_type": "stream",
     "text": [
      "Added batch of 100 documents\n"
     ]
    },
    {
     "name": "stderr",
     "output_type": "stream",
     "text": [
      " 76%|███████▌  | 23569/31102 [05:45<01:23, 90.08it/s] "
     ]
    },
    {
     "name": "stdout",
     "output_type": "stream",
     "text": [
      "Added batch of 100 documents\n"
     ]
    },
    {
     "name": "stderr",
     "output_type": "stream",
     "text": [
      " 76%|███████▌  | 23643/31102 [05:47<01:41, 73.69it/s]"
     ]
    },
    {
     "name": "stdout",
     "output_type": "stream",
     "text": [
      "Added batch of 100 documents\n"
     ]
    },
    {
     "name": "stderr",
     "output_type": "stream",
     "text": [
      " 76%|███████▋  | 23791/31102 [05:48<01:26, 84.46it/s] "
     ]
    },
    {
     "name": "stdout",
     "output_type": "stream",
     "text": [
      "Added batch of 100 documents\n"
     ]
    },
    {
     "name": "stderr",
     "output_type": "stream",
     "text": [
      " 77%|███████▋  | 23884/31102 [05:50<01:29, 80.44it/s]"
     ]
    },
    {
     "name": "stdout",
     "output_type": "stream",
     "text": [
      "Added batch of 100 documents\n"
     ]
    },
    {
     "name": "stderr",
     "output_type": "stream",
     "text": [
      " 77%|███████▋  | 23972/31102 [05:52<01:44, 68.28it/s]"
     ]
    },
    {
     "name": "stdout",
     "output_type": "stream",
     "text": [
      "Added batch of 100 documents\n"
     ]
    },
    {
     "name": "stderr",
     "output_type": "stream",
     "text": [
      " 77%|███████▋  | 24059/31102 [05:54<01:49, 64.11it/s]"
     ]
    },
    {
     "name": "stdout",
     "output_type": "stream",
     "text": [
      "Added batch of 100 documents\n"
     ]
    },
    {
     "name": "stderr",
     "output_type": "stream",
     "text": [
      " 78%|███████▊  | 24140/31102 [05:55<01:49, 63.32it/s]"
     ]
    },
    {
     "name": "stdout",
     "output_type": "stream",
     "text": [
      "Added batch of 100 documents\n"
     ]
    },
    {
     "name": "stderr",
     "output_type": "stream",
     "text": [
      " 78%|███████▊  | 24286/31102 [05:57<01:32, 73.72it/s]"
     ]
    },
    {
     "name": "stdout",
     "output_type": "stream",
     "text": [
      "Added batch of 100 documents\n"
     ]
    },
    {
     "name": "stderr",
     "output_type": "stream",
     "text": [
      " 78%|███████▊  | 24380/31102 [05:58<01:26, 77.77it/s]"
     ]
    },
    {
     "name": "stdout",
     "output_type": "stream",
     "text": [
      "Added batch of 100 documents\n"
     ]
    },
    {
     "name": "stderr",
     "output_type": "stream",
     "text": [
      " 79%|███████▊  | 24470/31102 [06:00<01:24, 78.22it/s]"
     ]
    },
    {
     "name": "stdout",
     "output_type": "stream",
     "text": [
      "Added batch of 100 documents\n"
     ]
    },
    {
     "name": "stderr",
     "output_type": "stream",
     "text": [
      " 79%|███████▉  | 24550/31102 [06:01<01:25, 76.24it/s]"
     ]
    },
    {
     "name": "stdout",
     "output_type": "stream",
     "text": [
      "Added batch of 100 documents\n"
     ]
    },
    {
     "name": "stderr",
     "output_type": "stream",
     "text": [
      " 79%|███████▉  | 24641/31102 [06:02<01:23, 77.70it/s]"
     ]
    },
    {
     "name": "stdout",
     "output_type": "stream",
     "text": [
      "Added batch of 100 documents\n"
     ]
    },
    {
     "name": "stderr",
     "output_type": "stream",
     "text": [
      " 80%|███████▉  | 24738/31102 [06:04<01:23, 76.01it/s]"
     ]
    },
    {
     "name": "stdout",
     "output_type": "stream",
     "text": [
      "Added batch of 100 documents\n"
     ]
    },
    {
     "name": "stderr",
     "output_type": "stream",
     "text": [
      " 80%|███████▉  | 24870/31102 [06:06<01:19, 78.25it/s] "
     ]
    },
    {
     "name": "stdout",
     "output_type": "stream",
     "text": [
      "Added batch of 100 documents\n"
     ]
    },
    {
     "name": "stderr",
     "output_type": "stream",
     "text": [
      " 80%|████████  | 24951/31102 [06:07<01:22, 74.24it/s]"
     ]
    },
    {
     "name": "stdout",
     "output_type": "stream",
     "text": [
      "Added batch of 100 documents\n"
     ]
    },
    {
     "name": "stderr",
     "output_type": "stream",
     "text": [
      " 81%|████████  | 25057/31102 [06:09<01:16, 79.36it/s]"
     ]
    },
    {
     "name": "stdout",
     "output_type": "stream",
     "text": [
      "Added batch of 100 documents\n"
     ]
    },
    {
     "name": "stderr",
     "output_type": "stream",
     "text": [
      " 81%|████████  | 25156/31102 [06:10<01:13, 80.79it/s]"
     ]
    },
    {
     "name": "stdout",
     "output_type": "stream",
     "text": [
      "Added batch of 100 documents\n"
     ]
    },
    {
     "name": "stderr",
     "output_type": "stream",
     "text": [
      " 81%|████████  | 25243/31102 [06:11<01:14, 78.13it/s]"
     ]
    },
    {
     "name": "stdout",
     "output_type": "stream",
     "text": [
      "Added batch of 100 documents\n"
     ]
    },
    {
     "name": "stderr",
     "output_type": "stream",
     "text": [
      " 82%|████████▏ | 25368/31102 [06:13<01:01, 93.52it/s]"
     ]
    },
    {
     "name": "stdout",
     "output_type": "stream",
     "text": [
      "Added batch of 100 documents\n"
     ]
    },
    {
     "name": "stderr",
     "output_type": "stream",
     "text": [
      " 82%|████████▏ | 25447/31102 [06:14<01:12, 77.77it/s]"
     ]
    },
    {
     "name": "stdout",
     "output_type": "stream",
     "text": [
      "Added batch of 100 documents\n"
     ]
    },
    {
     "name": "stderr",
     "output_type": "stream",
     "text": [
      " 82%|████████▏ | 25545/31102 [06:16<01:09, 79.64it/s]"
     ]
    },
    {
     "name": "stdout",
     "output_type": "stream",
     "text": [
      "Added batch of 100 documents\n"
     ]
    },
    {
     "name": "stderr",
     "output_type": "stream",
     "text": [
      " 83%|████████▎ | 25674/31102 [06:17<00:59, 91.42it/s] "
     ]
    },
    {
     "name": "stdout",
     "output_type": "stream",
     "text": [
      "Added batch of 100 documents\n"
     ]
    },
    {
     "name": "stderr",
     "output_type": "stream",
     "text": [
      " 83%|████████▎ | 25764/31102 [06:18<01:02, 85.17it/s]"
     ]
    },
    {
     "name": "stdout",
     "output_type": "stream",
     "text": [
      "Added batch of 100 documents\n"
     ]
    },
    {
     "name": "stderr",
     "output_type": "stream",
     "text": [
      " 83%|████████▎ | 25850/31102 [06:20<01:07, 78.39it/s]"
     ]
    },
    {
     "name": "stdout",
     "output_type": "stream",
     "text": [
      "Added batch of 100 documents\n"
     ]
    },
    {
     "name": "stderr",
     "output_type": "stream",
     "text": [
      " 83%|████████▎ | 25946/31102 [06:21<01:03, 81.67it/s]"
     ]
    },
    {
     "name": "stdout",
     "output_type": "stream",
     "text": [
      "Added batch of 100 documents\n"
     ]
    },
    {
     "name": "stderr",
     "output_type": "stream",
     "text": [
      " 84%|████████▍ | 26048/31102 [06:23<01:08, 74.07it/s]"
     ]
    },
    {
     "name": "stdout",
     "output_type": "stream",
     "text": [
      "Added batch of 100 documents\n"
     ]
    },
    {
     "name": "stderr",
     "output_type": "stream",
     "text": [
      " 84%|████████▍ | 26141/31102 [06:24<01:05, 75.47it/s]"
     ]
    },
    {
     "name": "stdout",
     "output_type": "stream",
     "text": [
      "Added batch of 100 documents\n"
     ]
    },
    {
     "name": "stderr",
     "output_type": "stream",
     "text": [
      " 84%|████████▍ | 26277/31102 [06:26<00:56, 85.76it/s] "
     ]
    },
    {
     "name": "stdout",
     "output_type": "stream",
     "text": [
      "Added batch of 100 documents\n"
     ]
    },
    {
     "name": "stderr",
     "output_type": "stream",
     "text": [
      " 85%|████████▍ | 26334/31102 [06:27<01:18, 60.55it/s]"
     ]
    },
    {
     "name": "stdout",
     "output_type": "stream",
     "text": [
      "Added batch of 100 documents\n"
     ]
    },
    {
     "name": "stderr",
     "output_type": "stream",
     "text": [
      " 85%|████████▌ | 26490/31102 [06:29<00:52, 88.03it/s]"
     ]
    },
    {
     "name": "stdout",
     "output_type": "stream",
     "text": [
      "Added batch of 100 documents\n"
     ]
    },
    {
     "name": "stderr",
     "output_type": "stream",
     "text": [
      " 85%|████████▌ | 26583/31102 [06:30<00:54, 82.45it/s]"
     ]
    },
    {
     "name": "stdout",
     "output_type": "stream",
     "text": [
      "Added batch of 100 documents\n"
     ]
    },
    {
     "name": "stderr",
     "output_type": "stream",
     "text": [
      " 86%|████████▌ | 26670/31102 [06:32<00:56, 78.52it/s]"
     ]
    },
    {
     "name": "stdout",
     "output_type": "stream",
     "text": [
      "Added batch of 100 documents\n"
     ]
    },
    {
     "name": "stderr",
     "output_type": "stream",
     "text": [
      " 86%|████████▌ | 26761/31102 [06:33<00:53, 81.20it/s]"
     ]
    },
    {
     "name": "stdout",
     "output_type": "stream",
     "text": [
      "Added batch of 100 documents\n"
     ]
    },
    {
     "name": "stderr",
     "output_type": "stream",
     "text": [
      " 86%|████████▋ | 26850/31102 [06:35<00:55, 76.26it/s]"
     ]
    },
    {
     "name": "stdout",
     "output_type": "stream",
     "text": [
      "Added batch of 100 documents\n"
     ]
    },
    {
     "name": "stderr",
     "output_type": "stream",
     "text": [
      " 87%|████████▋ | 26936/31102 [06:36<01:04, 64.43it/s]"
     ]
    },
    {
     "name": "stdout",
     "output_type": "stream",
     "text": [
      "Added batch of 100 documents\n"
     ]
    },
    {
     "name": "stderr",
     "output_type": "stream",
     "text": [
      " 87%|████████▋ | 27084/31102 [06:38<00:50, 80.20it/s]"
     ]
    },
    {
     "name": "stdout",
     "output_type": "stream",
     "text": [
      "Added batch of 100 documents\n"
     ]
    },
    {
     "name": "stderr",
     "output_type": "stream",
     "text": [
      " 87%|████████▋ | 27179/31102 [06:40<00:47, 83.16it/s]"
     ]
    },
    {
     "name": "stdout",
     "output_type": "stream",
     "text": [
      "Added batch of 100 documents\n"
     ]
    },
    {
     "name": "stderr",
     "output_type": "stream",
     "text": [
      " 88%|████████▊ | 27275/31102 [06:41<00:46, 81.72it/s]"
     ]
    },
    {
     "name": "stdout",
     "output_type": "stream",
     "text": [
      "Added batch of 100 documents\n"
     ]
    },
    {
     "name": "stderr",
     "output_type": "stream",
     "text": [
      " 88%|████████▊ | 27378/31102 [06:42<00:43, 85.39it/s]"
     ]
    },
    {
     "name": "stdout",
     "output_type": "stream",
     "text": [
      "Added batch of 100 documents\n"
     ]
    },
    {
     "name": "stderr",
     "output_type": "stream",
     "text": [
      " 88%|████████▊ | 27479/31102 [06:44<00:41, 86.44it/s]"
     ]
    },
    {
     "name": "stdout",
     "output_type": "stream",
     "text": [
      "Added batch of 100 documents\n"
     ]
    },
    {
     "name": "stderr",
     "output_type": "stream",
     "text": [
      " 89%|████████▊ | 27575/31102 [06:46<00:46, 75.95it/s]"
     ]
    },
    {
     "name": "stdout",
     "output_type": "stream",
     "text": [
      "Added batch of 100 documents\n"
     ]
    },
    {
     "name": "stderr",
     "output_type": "stream",
     "text": [
      " 89%|████████▉ | 27674/31102 [06:47<00:41, 82.14it/s]"
     ]
    },
    {
     "name": "stdout",
     "output_type": "stream",
     "text": [
      "Added batch of 100 documents\n"
     ]
    },
    {
     "name": "stderr",
     "output_type": "stream",
     "text": [
      " 89%|████████▉ | 27754/31102 [06:49<00:49, 68.26it/s]"
     ]
    },
    {
     "name": "stdout",
     "output_type": "stream",
     "text": [
      "Added batch of 100 documents\n"
     ]
    },
    {
     "name": "stderr",
     "output_type": "stream",
     "text": [
      " 90%|████████▉ | 27851/31102 [06:50<00:45, 71.69it/s]"
     ]
    },
    {
     "name": "stdout",
     "output_type": "stream",
     "text": [
      "Added batch of 100 documents\n"
     ]
    },
    {
     "name": "stderr",
     "output_type": "stream",
     "text": [
      " 90%|████████▉ | 27950/31102 [06:52<00:42, 74.76it/s]"
     ]
    },
    {
     "name": "stdout",
     "output_type": "stream",
     "text": [
      "Added batch of 100 documents\n"
     ]
    },
    {
     "name": "stderr",
     "output_type": "stream",
     "text": [
      " 90%|█████████ | 28039/31102 [06:54<00:46, 66.21it/s]"
     ]
    },
    {
     "name": "stdout",
     "output_type": "stream",
     "text": [
      "Added batch of 100 documents\n"
     ]
    },
    {
     "name": "stderr",
     "output_type": "stream",
     "text": [
      " 91%|█████████ | 28186/31102 [06:55<00:33, 87.92it/s]"
     ]
    },
    {
     "name": "stdout",
     "output_type": "stream",
     "text": [
      "Added batch of 100 documents\n"
     ]
    },
    {
     "name": "stderr",
     "output_type": "stream",
     "text": [
      " 91%|█████████ | 28276/31102 [06:56<00:33, 84.22it/s]"
     ]
    },
    {
     "name": "stdout",
     "output_type": "stream",
     "text": [
      "Added batch of 100 documents\n"
     ]
    },
    {
     "name": "stderr",
     "output_type": "stream",
     "text": [
      " 91%|█████████ | 28360/31102 [06:58<00:34, 79.65it/s]"
     ]
    },
    {
     "name": "stdout",
     "output_type": "stream",
     "text": [
      "Added batch of 100 documents\n"
     ]
    },
    {
     "name": "stderr",
     "output_type": "stream",
     "text": [
      " 91%|█████████▏| 28454/31102 [06:59<00:33, 79.66it/s]"
     ]
    },
    {
     "name": "stdout",
     "output_type": "stream",
     "text": [
      "Added batch of 100 documents\n"
     ]
    },
    {
     "name": "stderr",
     "output_type": "stream",
     "text": [
      " 92%|█████████▏| 28545/31102 [07:01<00:33, 75.82it/s]"
     ]
    },
    {
     "name": "stdout",
     "output_type": "stream",
     "text": [
      "Added batch of 100 documents\n"
     ]
    },
    {
     "name": "stderr",
     "output_type": "stream",
     "text": [
      " 92%|█████████▏| 28679/31102 [07:02<00:28, 83.83it/s] "
     ]
    },
    {
     "name": "stdout",
     "output_type": "stream",
     "text": [
      "Added batch of 100 documents\n"
     ]
    },
    {
     "name": "stderr",
     "output_type": "stream",
     "text": [
      " 92%|█████████▏| 28762/31102 [07:04<00:31, 74.51it/s]"
     ]
    },
    {
     "name": "stdout",
     "output_type": "stream",
     "text": [
      "Added batch of 100 documents\n"
     ]
    },
    {
     "name": "stderr",
     "output_type": "stream",
     "text": [
      " 93%|█████████▎| 28840/31102 [07:05<00:31, 72.09it/s]"
     ]
    },
    {
     "name": "stdout",
     "output_type": "stream",
     "text": [
      "Added batch of 100 documents\n"
     ]
    },
    {
     "name": "stderr",
     "output_type": "stream",
     "text": [
      " 93%|█████████▎| 28936/31102 [07:06<00:34, 62.66it/s] "
     ]
    },
    {
     "name": "stdout",
     "output_type": "stream",
     "text": [
      "Added batch of 100 documents\n"
     ]
    },
    {
     "name": "stderr",
     "output_type": "stream",
     "text": [
      " 93%|█████████▎| 29022/31102 [07:08<00:34, 60.34it/s]"
     ]
    },
    {
     "name": "stdout",
     "output_type": "stream",
     "text": [
      "Added batch of 100 documents\n"
     ]
    },
    {
     "name": "stderr",
     "output_type": "stream",
     "text": [
      " 94%|█████████▎| 29146/31102 [07:10<00:26, 74.17it/s]"
     ]
    },
    {
     "name": "stdout",
     "output_type": "stream",
     "text": [
      "Added batch of 100 documents\n"
     ]
    },
    {
     "name": "stderr",
     "output_type": "stream",
     "text": [
      " 94%|█████████▍| 29244/31102 [07:11<00:25, 73.79it/s]"
     ]
    },
    {
     "name": "stdout",
     "output_type": "stream",
     "text": [
      "Added batch of 100 documents\n"
     ]
    },
    {
     "name": "stderr",
     "output_type": "stream",
     "text": [
      " 95%|█████████▍| 29393/31102 [07:13<00:18, 91.72it/s] "
     ]
    },
    {
     "name": "stdout",
     "output_type": "stream",
     "text": [
      "Added batch of 100 documents\n"
     ]
    },
    {
     "name": "stderr",
     "output_type": "stream",
     "text": [
      " 95%|█████████▍| 29489/31102 [07:14<00:17, 90.77it/s]"
     ]
    },
    {
     "name": "stdout",
     "output_type": "stream",
     "text": [
      "Added batch of 100 documents\n"
     ]
    },
    {
     "name": "stderr",
     "output_type": "stream",
     "text": [
      " 95%|█████████▌| 29584/31102 [07:15<00:17, 87.16it/s]"
     ]
    },
    {
     "name": "stdout",
     "output_type": "stream",
     "text": [
      "Added batch of 100 documents\n"
     ]
    },
    {
     "name": "stderr",
     "output_type": "stream",
     "text": [
      " 95%|█████████▌| 29665/31102 [07:17<00:19, 73.55it/s]"
     ]
    },
    {
     "name": "stdout",
     "output_type": "stream",
     "text": [
      "Added batch of 100 documents\n"
     ]
    },
    {
     "name": "stderr",
     "output_type": "stream",
     "text": [
      " 96%|█████████▌| 29752/31102 [07:18<00:18, 74.98it/s]"
     ]
    },
    {
     "name": "stdout",
     "output_type": "stream",
     "text": [
      "Added batch of 100 documents\n"
     ]
    },
    {
     "name": "stderr",
     "output_type": "stream",
     "text": [
      " 96%|█████████▌| 29855/31102 [07:20<00:16, 77.38it/s]"
     ]
    },
    {
     "name": "stdout",
     "output_type": "stream",
     "text": [
      "Added batch of 100 documents\n"
     ]
    },
    {
     "name": "stderr",
     "output_type": "stream",
     "text": [
      " 96%|█████████▋| 29950/31102 [07:21<00:14, 78.59it/s]"
     ]
    },
    {
     "name": "stdout",
     "output_type": "stream",
     "text": [
      "Added batch of 100 documents\n"
     ]
    },
    {
     "name": "stderr",
     "output_type": "stream",
     "text": [
      " 97%|█████████▋| 30043/31102 [07:23<00:13, 77.40it/s]"
     ]
    },
    {
     "name": "stdout",
     "output_type": "stream",
     "text": [
      "Added batch of 100 documents\n"
     ]
    },
    {
     "name": "stderr",
     "output_type": "stream",
     "text": [
      " 97%|█████████▋| 30146/31102 [07:24<00:11, 80.65it/s]"
     ]
    },
    {
     "name": "stdout",
     "output_type": "stream",
     "text": [
      "Added batch of 100 documents\n"
     ]
    },
    {
     "name": "stderr",
     "output_type": "stream",
     "text": [
      " 97%|█████████▋| 30251/31102 [07:26<00:10, 82.18it/s]"
     ]
    },
    {
     "name": "stdout",
     "output_type": "stream",
     "text": [
      "Added batch of 100 documents\n"
     ]
    },
    {
     "name": "stderr",
     "output_type": "stream",
     "text": [
      " 98%|█████████▊| 30387/31102 [07:27<00:07, 100.96it/s]"
     ]
    },
    {
     "name": "stdout",
     "output_type": "stream",
     "text": [
      "Added batch of 100 documents\n"
     ]
    },
    {
     "name": "stderr",
     "output_type": "stream",
     "text": [
      " 98%|█████████▊| 30473/31102 [07:29<00:07, 79.30it/s] "
     ]
    },
    {
     "name": "stdout",
     "output_type": "stream",
     "text": [
      "Added batch of 100 documents\n"
     ]
    },
    {
     "name": "stderr",
     "output_type": "stream",
     "text": [
      " 98%|█████████▊| 30557/31102 [07:30<00:06, 78.69it/s]"
     ]
    },
    {
     "name": "stdout",
     "output_type": "stream",
     "text": [
      "Added batch of 100 documents\n"
     ]
    },
    {
     "name": "stderr",
     "output_type": "stream",
     "text": [
      " 99%|█████████▊| 30649/31102 [07:31<00:05, 79.26it/s]"
     ]
    },
    {
     "name": "stdout",
     "output_type": "stream",
     "text": [
      "Added batch of 100 documents\n"
     ]
    },
    {
     "name": "stderr",
     "output_type": "stream",
     "text": [
      " 99%|█████████▉| 30754/31102 [07:33<00:04, 80.52it/s]"
     ]
    },
    {
     "name": "stdout",
     "output_type": "stream",
     "text": [
      "Added batch of 100 documents\n"
     ]
    },
    {
     "name": "stderr",
     "output_type": "stream",
     "text": [
      " 99%|█████████▉| 30857/31102 [07:35<00:03, 77.27it/s]"
     ]
    },
    {
     "name": "stdout",
     "output_type": "stream",
     "text": [
      "Added batch of 100 documents\n"
     ]
    },
    {
     "name": "stderr",
     "output_type": "stream",
     "text": [
      " 99%|█████████▉| 30946/31102 [07:36<00:02, 75.07it/s]"
     ]
    },
    {
     "name": "stdout",
     "output_type": "stream",
     "text": [
      "Added batch of 100 documents\n"
     ]
    },
    {
     "name": "stderr",
     "output_type": "stream",
     "text": [
      "100%|█████████▉| 31046/31102 [07:38<00:00, 74.68it/s]"
     ]
    },
    {
     "name": "stdout",
     "output_type": "stream",
     "text": [
      "Added batch of 100 documents\n"
     ]
    },
    {
     "name": "stderr",
     "output_type": "stream",
     "text": [
      "100%|█████████▉| 31100/31102 [07:39<00:00, 57.46it/s]"
     ]
    },
    {
     "name": "stdout",
     "output_type": "stream",
     "text": [
      "Added batch of 100 documents\n"
     ]
    },
    {
     "name": "stderr",
     "output_type": "stream",
     "text": [
      "100%|██████████| 31102/31102 [07:39<00:00, 67.63it/s]"
     ]
    },
    {
     "name": "stdout",
     "output_type": "stream",
     "text": [
      "Added batch of 2 documents\n"
     ]
    },
    {
     "name": "stderr",
     "output_type": "stream",
     "text": [
      "\n"
     ]
    }
   ],
   "source": [
    "batch_size = 100\n",
    "documents_batch = []\n",
    "ids_batch = []\n",
    "metadatas_batch = []\n",
    "\n",
    "current_index = 0\n",
    "for idx, v in tqdm(enumerate(bible_df.to_numpy()), total=bible_df.shape[0]):\n",
    "    book = v[-1]\n",
    "    chapter = v[2]\n",
    "    verse = v[3]\n",
    "    text = v[4]\n",
    "    \n",
    "    # Get the current verse index within the chapter\n",
    "    chapter_verses = bible_df[(bible_df['n'] == book) & (bible_df['c'] == chapter)].reset_index(drop=True)\n",
    "    current_verse_idx = chapter_verses[chapter_verses['v'] == verse].index[0]\n",
    "    \n",
    "    # Get previous and next verse text\n",
    "    previous_verse = chapter_verses.iloc[current_verse_idx - 1]['t'] if current_verse_idx > 0 else None\n",
    "    next_verse = chapter_verses.iloc[current_verse_idx + 1]['t'] if current_verse_idx < len(chapter_verses) - 1 else None\n",
    "    \n",
    "    summary = book_summary_df[(book_summary_df['book'] == book) & \n",
    "                                           (book_summary_df['chapter'] == chapter)]\n",
    "    \n",
    "    chapter_summary = summary['summary'].values[0] if not summary.empty else \"No summary available\"\n",
    "    \n",
    "    metadata = {\n",
    "        'book': book,\n",
    "        'chapter': chapter,\n",
    "        'verse': verse,\n",
    "        'text': text,\n",
    "        'previous_verse': f\"{book} {chapter}:{verse-1} - {previous_verse}\" if previous_verse else 'None',\n",
    "        'next_verse': f\"{book} {chapter}:{verse+1} - {next_verse}\" if next_verse else 'None',\n",
    "        'chapter_summary': chapter_summary\n",
    "    }\n",
    "    \n",
    "    # Add to batch\n",
    "    documents_batch.append(text)\n",
    "    ids_batch.append(f\"{v[0]}\")\n",
    "    metadatas_batch.append(metadata)\n",
    "    \n",
    "    current_index = idx\n",
    "    \n",
    "    # When batch is full or it's the last item, add to collection\n",
    "    if len(documents_batch) == batch_size or idx == len(bible_df) - 1:\n",
    "        result = client_ai.models.embed_content(\n",
    "            model=\"models/text-embedding-004\",\n",
    "            contents=documents_batch,\n",
    "            config=types.EmbedContentConfig(task_type=\"RETRIEVAL_DOCUMENT\")\n",
    "        )\n",
    "        \n",
    "        if not result.embeddings:\n",
    "            print(\"No embeddings returned for the batch.\")\n",
    "            continue\n",
    "    \n",
    "        valid_embeddings = []\n",
    "        valid_documents = []\n",
    "        valid_ids = []\n",
    "        valid_metadatas = []\n",
    "\n",
    "        for i, embedding in enumerate(result.embeddings):\n",
    "            if embedding.values is not None:\n",
    "                valid_embeddings.append(embedding.values)\n",
    "                valid_documents.append(documents_batch[i])\n",
    "                valid_ids.append(ids_batch[i])\n",
    "                valid_metadatas.append(metadatas_batch[i])\n",
    "            else:\n",
    "                print(f\"Warning: Embedding for document {ids_batch[i]} is None, skipping\")\n",
    "    \n",
    "        if valid_embeddings:  # Only add if we have valid embeddings\n",
    "            collection.add(\n",
    "                documents=valid_documents,\n",
    "                ids=valid_ids,\n",
    "                metadatas=valid_metadatas,\n",
    "                embeddings=valid_embeddings\n",
    "        )\n",
    "        \n",
    "        print(f\"Added batch of {len(documents_batch)} documents\")\n",
    "        \n",
    "        # Clear batches for next iteration\n",
    "        documents_batch = []\n",
    "        ids_batch = []\n",
    "        metadatas_batch = []\n"
   ]
  },
  {
   "cell_type": "code",
   "execution_count": 60,
   "id": "f40bb192",
   "metadata": {},
   "outputs": [
    {
     "data": {
      "text/plain": [
       "{'ids': [['9031012', '9031009', '13010009', '9023027', '9017038']],\n",
       " 'distances': [[1.8080245, 1.8217556, 1.8232312, 1.8242537, 1.8303963]],\n",
       " 'embeddings': None,\n",
       " 'metadatas': [[{'chapter_summary': \"This chapter describes the defeat of the Israelites by the Philistines in a battle on Mount Gilboa. King Saul's sons, Jonathan, Abinadab, and Malchi-shua, were killed. Saul himself was severely wounded by archers. He asked his armor-bearer to kill him to prevent capture and abuse by the Philistines, but the armor-bearer refused out of fear. Saul then took his own sword and fell upon it, killing himself. His armor-bearer followed suit and died with him. Saul and his three sons died that same day.\\n\\nThe Philistines stripped the slain and found Saul and his sons on Mount Gilboa. They cut off Saul's head, stripped off his armor, and sent these trophies to their land to be displayed in their temples and among their people. Saul's armor was placed in the house of Ashtaroth, and his body was fastened to the wall of Beth-shan.\\n\\nUpon hearing about the fate of Saul and his sons, the valiant men of Jabesh-gilead arose, traveled through the night, and took their bodies from the wall of Beth-shan. They brought them back to Jabesh, burned them, and then buried the bones under a tree. The inhabitants of Jabesh-gilead then fasted for seven days.\",\n",
       "    'chapter': 31,\n",
       "    'book': '1 Samuel',\n",
       "    'previous_verse': '1 Samuel 31:11 - When the inhabitants of Jabesh Gilead heard concerning him that which the Philistines had done to Saul,',\n",
       "    'verse': 12,\n",
       "    'next_verse': '1 Samuel 31:13 - They took their bones, and buried them under the tamarisk tree in Jabesh, and fasted seven days.',\n",
       "    'text': 'all the valiant men arose, and went all night, and took the body of Saul and the bodies of his sons from the wall of Beth-shan; and they came to Jabesh, and burnt them there.'},\n",
       "   {'book': '1 Samuel',\n",
       "    'chapter_summary': \"This chapter describes the defeat of the Israelites by the Philistines in a battle on Mount Gilboa. King Saul's sons, Jonathan, Abinadab, and Malchi-shua, were killed. Saul himself was severely wounded by archers. He asked his armor-bearer to kill him to prevent capture and abuse by the Philistines, but the armor-bearer refused out of fear. Saul then took his own sword and fell upon it, killing himself. His armor-bearer followed suit and died with him. Saul and his three sons died that same day.\\n\\nThe Philistines stripped the slain and found Saul and his sons on Mount Gilboa. They cut off Saul's head, stripped off his armor, and sent these trophies to their land to be displayed in their temples and among their people. Saul's armor was placed in the house of Ashtaroth, and his body was fastened to the wall of Beth-shan.\\n\\nUpon hearing about the fate of Saul and his sons, the valiant men of Jabesh-gilead arose, traveled through the night, and took their bodies from the wall of Beth-shan. They brought them back to Jabesh, burned them, and then buried the bones under a tree. The inhabitants of Jabesh-gilead then fasted for seven days.\",\n",
       "    'text': 'They cut off his head, and stripped off his armor, and sent into the land of the Philistines round about, to carry the news to the house of their idols, and to the people.',\n",
       "    'verse': 9,\n",
       "    'next_verse': '1 Samuel 31:10 - They put his armor in the house of the Ashtaroth; and they fastened his body to the wall of Beth-shan.',\n",
       "    'chapter': 31,\n",
       "    'previous_verse': '1 Samuel 31:8 - It happened on the next day, when the Philistines came to strip the slain, that they found Saul and his three sons fallen on Mount Gilboa.'},\n",
       "   {'previous_verse': '1 Chronicles 10:8 - It happened on the next day, when the Philistines came to strip the slain, that they found Saul and his sons fallen on Mount Gilboa.',\n",
       "    'book': '1 Chronicles',\n",
       "    'text': 'They stripped him, and took his head, and his armor, and sent into the land of the Philistines round about, to carry the news to their idols, and to the people.',\n",
       "    'next_verse': '1 Chronicles 10:10 - They put his armor in the house of their gods, and fastened his head in the house of Dagon.',\n",
       "    'verse': 9,\n",
       "    'chapter_summary': 'Here is a summary of the provided Bible chapter, preserving the specified details:\\n\\nThe Philistines fought against Israel, causing the men of Israel to flee and fall slain on Mount Gilboa. The Philistines pursued Saul and his sons, killing Jonathan, Abinadab, and Malchi-shua, the sons of Saul. The battle turned against Saul, and archers wounded him. Saul asked his armor-bearer to kill him to prevent abuse by the \"uncircumcised,\" but the armor-bearer refused out of fear. Saul then fell on his own sword and died. Upon seeing Saul dead, his armor-bearer also fell on his sword and died. Thus, Saul and his three sons, and their entire household, died. The men of Israel in the valley, witnessing the flight and the deaths of Saul and his sons, abandoned their cities, which the Philistines then occupied.\\n\\nThe next day, when the Philistines came to strip the slain, they found Saul and his sons dead on Mount Gilboa. After stripping Saul, they took his head and armor, sending them throughout the Philistine land to report to their idols and people. Saul\\'s armor was placed in the house of their gods, and his head was fastened in the temple of Dagon.\\n\\nWhen the inhabitants of Jabesh-gilead heard what the Philistines had done to Saul, all the valiant men rose up. They took the bodies of Saul and his sons and brought them to Jabesh. There, they buried their bones under the oak tree and fasted for seven days.\\n\\nThe chapter concludes by stating that Saul died for his transgressions against the LORD, specifically for not keeping the word of the LORD and for seeking counsel from a medium instead of inquiring of the LORD. Because of this, the LORD slew him and turned the kingdom to David, the son of Jesse.',\n",
       "    'chapter': 10},\n",
       "   {'verse': 27,\n",
       "    'book': '1 Samuel',\n",
       "    'text': 'But there came a messenger to Saul, saying, Haste you, and come; for the Philistines have made a raid on the land.',\n",
       "    'previous_verse': '1 Samuel 23:26 - Saul went on this side of the mountain, and David and his men on that side of the mountain: and David made haste to get away for fear of Saul; for Saul and his men compassed David and his men round about to take them.',\n",
       "    'next_verse': '1 Samuel 23:28 - So Saul returned from pursuing after David, and went against the Philistines: therefore they called that place Sela Hammahlekoth.',\n",
       "    'chapter': 23,\n",
       "    'chapter_summary': \"This chapter details David's actions in response to the Philistines attacking Keilah and robbing threshing-floors. David inquired of the Lord, who instructed him to go and save Keilah. Despite his men's initial fear, David obeyed, fought the Philistines, and brought away their cattle, causing a great slaughter and saving the inhabitants of Keilah.\\n\\nAbiathar, son of Ahimelech, joined David in Keilah with an ephod. News of David's presence in Keilah reached Saul, who saw it as an opportunity to capture David, believing he was trapped within the fortified town. Saul gathered his army to besiege David and his men.\\n\\nDavid, knowing Saul's intentions, consulted Abiathar and used the ephod to inquire of the Lord again. He asked if Saul would come to Keilah and if the men of Keilah would betray him. The Lord confirmed that Saul would come and that the men of Keilah would deliver David and his approximately six hundred men into Saul's hand. Consequently, David and his men left Keilah.\\n\\nUpon hearing of David's escape, Saul abandoned his pursuit. David then took refuge in strongholds and a mountain in the wilderness of Ziph. Saul continued to seek David daily, but God protected him.\\n\\nJonathan, Saul's son, found David in the wood in the wilderness of Ziph and strengthened his faith, assuring him that Saul would not find him and that David would become king. They made a covenant before the Lord, after which Jonathan returned home.\\n\\nThe Ziphites then informed Saul of David's hiding place in the strongholds in the wood on the hill of Hachilah, south of Jeshimon, offering to deliver him to Saul. Saul, pleased with their report, instructed them to gather more information about David's whereabouts and lurking places before he would join them.\\n\\nSaul and his men went to search for David. David and his men were in the wilderness of Maon, south of Jeshimon. When Saul learned of David's location, he pursued him, with Saul on one side of the mountain and David and his men on the other. As Saul and his men were closing in to capture David, a messenger alerted Saul to a Philistine invasion. Saul immediately returned from pursuing David to confront the Philistines, and this event led the place to be called Sela-hammah-lekoth.\"},\n",
       "   {'book': '1 Samuel',\n",
       "    'chapter_summary': 'The Philistines assembled their armies at Shochoh, in the territory of Judah, encamping between Shochoh and Azekah in Ephes-dammim. The Israelites, led by Saul, gathered and camped by the valley of Elah, facing the Philistines across the valley.\\n\\nA champion named Goliath, from Gath, emerged from the Philistine camp. He was of extraordinary size, described as six cubits and a span tall, wearing brass armor weighing five thousand shekels. His spear shaft was like a weaver\\'s beam, and its iron head weighed six hundred shekels. A shield-bearer walked before him. Goliath challenged the Israelite army, demanding they send a man to fight him, proposing that if Israel\\'s champion defeated him, the Philistines would serve Israel, but if Goliath prevailed, Israel would serve the Philistines. This challenge terrified Saul and all the men of Israel.\\n\\nDavid, the youngest son of Jesse, an Ephrathite from Beth-lehem-judah, who was an old man in Saul\\'s time, had his three eldest sons – Eliab, Abinadab, and Shammah – serving with Saul in the battle. David had returned to Beth-lehem to tend his father\\'s sheep.\\n\\nJesse instructed David to take an ephah of parched corn and ten loaves to his brothers in the camp, and ten cheeses for their captain of a thousand. David was to check on his brethren and bring back proof of their well-being. David rose early, left his sheep with a keeper, and went to the camp as commanded. As the host was preparing for battle, David reached the trench and shouted for the battle. He left his belongings with the keeper of the vessels, ran into the army, and greeted his brothers.\\n\\nWhile David was speaking with his brothers, Goliath emerged from the Philistine armies and repeated his challenge. David heard this. The Israelite soldiers, seeing Goliath, fled from him in great fear. They discussed the reward for defeating Goliath: great riches, the king\\'s daughter, and exemption from taxes for his father\\'s house. David questioned what would be done for the man who killed the Philistine and removed the reproach from Israel, asking who this uncircumcised Philistine was to defy the armies of the living God. The people reiterated the reward.\\n\\nEliab, David\\'s eldest brother, heard David speaking and became angry, questioning why David had come and who he had left to care for the few sheep in the wilderness, accusing David of pride and coming only to see the battle. David replied, \"What have I now done? Is there not a cause?\" He then spoke to others in the same manner, and they responded as before.\\n\\nWord of David\\'s words reached Saul, who sent for him. David told Saul that he would go and fight the Philistine, assuring him that no one\\'s heart should fail. Saul doubted David\\'s ability, stating he was a youth and Goliath a man of war from his youth. David recounted how he had killed both a lion and a bear that had taken a lamb from his father\\'s flock, rescuing the lamb and killing the beasts. He declared that this uncircumcised Philistine would be like one of them, as he had defied the armies of the living God. David expressed confidence that the LORD who delivered him from the lion and the bear would deliver him from the hand of Goliath. Saul agreed, saying, \"Go, and the LORD be with thee.\"\\n\\nSaul armed David with his own armor, including a brass helmet and a coat of mail, and David girded his sword. However, David, not having tried them, found he could not go with Saul\\'s armor. He removed it and took his staff, chose five smooth stones from the brook, put them in his shepherd\\'s bag, with his sling in his hand. He then approached the Philistine.\\n\\nGoliath advanced towards David, with his shield-bearer before him. Goliath, seeing David, a youth who was ruddy and fair, disdained him. Goliath cursed David by his gods and threatened to give his flesh to the birds of the air and beasts of the field. David responded, stating that he came to Goliath in the name of the LORD of hosts, the God of the armies of Israel, whom Goliath had defied. David declared that the LORD would deliver Goliath into his hand that day, and he would strike him and take his head, giving the carcasses of the Philistines to the birds and beasts, so that all the earth might know that there is a God in Israel. He also proclaimed that the assembly would know that the LORD saves not with sword and spear, for the battle is the LORD\\'s, and He would give them into Israel\\'s hands.\\n\\nAs Goliath moved to meet David, David hastened towards the Philistine. David put his hand in his bag, took a stone, and hurled it with his sling, hitting Goliath in the forehead. The stone sank into his forehead, and he fell face down to the earth. David prevailed over Goliath with a sling and a stone, killing him without a sword in his hand. David then ran, stood on Goliath, drew out Goliath\\'s sword from its sheath, slew him, and cut off his head.\\n\\nWhen the Philistines saw their champion was dead, they fled. The men of Israel and Judah rose up, shouted, and pursued the Philistines to the entrance of the valley and the gates of Ekron. The wounded Philistines fell along the way to Shaaraim, Gath, and Ekron. The Israelites returned from pursuing the Philistines and plundered their tents. David took Goliath\\'s head to Jerusalem and placed his armor in his tent.\\n\\nSaul, upon seeing David go forth to fight the Philistine, asked Abner, the captain of the host, whose son the youth was. Abner replied that he did not know. Saul ordered an inquiry into the youth\\'s parentage. As David returned from the slaughter of the Philistine, Abner took him and brought him before Saul with Goliath\\'s head in his hand. Saul asked David whose son he was, and David answered, \"I am the son of thy servant Jesse the Beth-lehemite.\"',\n",
       "    'chapter': 17,\n",
       "    'next_verse': \"1 Samuel 17:39 - David girded his sword on his clothing, and he tried to go; for he had not proved it. David said to Saul, I can't go with these; for I have not proved them. David put them off him.\",\n",
       "    'previous_verse': '1 Samuel 17:37 - David said, Yahweh who delivered me out of the paw of the lion, and out of the paw of the bear, he will deliver me out of the hand of this Philistine. Saul said to David, Go, and Yahweh shall be with you.',\n",
       "    'verse': 38,\n",
       "    'text': 'Saul clad David with his clothing, and he put a helmet of brass on his head, and he clad him with a coat of mail.'}]],\n",
       " 'documents': [['all the valiant men arose, and went all night, and took the body of Saul and the bodies of his sons from the wall of Beth-shan; and they came to Jabesh, and burnt them there.',\n",
       "   'They cut off his head, and stripped off his armor, and sent into the land of the Philistines round about, to carry the news to the house of their idols, and to the people.',\n",
       "   'They stripped him, and took his head, and his armor, and sent into the land of the Philistines round about, to carry the news to their idols, and to the people.',\n",
       "   'But there came a messenger to Saul, saying, Haste you, and come; for the Philistines have made a raid on the land.',\n",
       "   'Saul clad David with his clothing, and he put a helmet of brass on his head, and he clad him with a coat of mail.']],\n",
       " 'uris': None,\n",
       " 'data': None,\n",
       " 'included': ['metadatas', 'documents', 'distances']}"
      ]
     },
     "execution_count": 60,
     "metadata": {},
     "output_type": "execute_result"
    }
   ],
   "source": [
    "collection = client_db.get_collection(name=\"bible_wbt\", embedding_function=google_ef)\n",
    "collection.query(\n",
    "    query_texts=[\"Who made the world?\"],\n",
    "    n_results=5\n",
    ")"
   ]
  },
  {
   "cell_type": "code",
   "execution_count": null,
   "id": "f5f519ae",
   "metadata": {},
   "outputs": [],
   "source": []
  }
 ],
 "metadata": {
  "kernelspec": {
   "display_name": ".venv",
   "language": "python",
   "name": "python3"
  },
  "language_info": {
   "codemirror_mode": {
    "name": "ipython",
    "version": 3
   },
   "file_extension": ".py",
   "mimetype": "text/x-python",
   "name": "python",
   "nbconvert_exporter": "python",
   "pygments_lexer": "ipython3",
   "version": "3.12.3"
  }
 },
 "nbformat": 4,
 "nbformat_minor": 5
}
